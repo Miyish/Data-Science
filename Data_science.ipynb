{
  "cells": [
    {
      "cell_type": "code",
      "execution_count": null,
      "metadata": {
        "id": "9DmQLwrAmMpc"
      },
      "outputs": [],
      "source": [
        "import numpy as np"
      ]
    },
    {
      "cell_type": "code",
      "execution_count": null,
      "metadata": {
        "id": "ejBfVM2DmRd7"
      },
      "outputs": [],
      "source": [
        "#numpy:maths,stats,\n",
        "#pandas:data related tasks,cleaning,processing"
      ]
    },
    {
      "cell_type": "code",
      "execution_count": null,
      "metadata": {
        "id": "u3qq3Ul2mVR4"
      },
      "outputs": [],
      "source": [
        "#numpy array\n",
        "a = np.array([1,2,3,4,5])"
      ]
    },
    {
      "cell_type": "code",
      "execution_count": null,
      "metadata": {
        "colab": {
          "base_uri": "https://localhost:8080/"
        },
        "id": "wPKydCWvmoEP",
        "outputId": "e9d22cf8-9550-4f34-860c-01d8011e8cbb"
      },
      "outputs": [
        {
          "data": {
            "text/plain": [
              "(5,)"
            ]
          },
          "execution_count": 9,
          "metadata": {},
          "output_type": "execute_result"
        }
      ],
      "source": [
        "a.shape#row,column prints"
      ]
    },
    {
      "cell_type": "code",
      "execution_count": null,
      "metadata": {
        "colab": {
          "base_uri": "https://localhost:8080/"
        },
        "id": "oDYu2Juom0u_",
        "outputId": "c5cff74d-63ae-4db9-e7ca-302b328b6704"
      },
      "outputs": [
        {
          "data": {
            "text/plain": [
              "5"
            ]
          },
          "execution_count": 11,
          "metadata": {},
          "output_type": "execute_result"
        }
      ],
      "source": [
        "a.size#total no. of elements"
      ]
    },
    {
      "cell_type": "code",
      "execution_count": null,
      "metadata": {
        "colab": {
          "base_uri": "https://localhost:8080/"
        },
        "id": "V5_12bc9m-vQ",
        "outputId": "6c651de6-15c9-4c2a-bb39-d6c537a15717"
      },
      "outputs": [
        {
          "data": {
            "text/plain": [
              "dtype('int64')"
            ]
          },
          "execution_count": 12,
          "metadata": {},
          "output_type": "execute_result"
        }
      ],
      "source": [
        "a.dtype"
      ]
    },
    {
      "cell_type": "code",
      "execution_count": null,
      "metadata": {
        "colab": {
          "base_uri": "https://localhost:8080/"
        },
        "id": "vwaFSsPunM5e",
        "outputId": "c8a26759-e8c7-4b9e-b409-59422e4fde51"
      },
      "outputs": [
        {
          "data": {
            "text/plain": [
              "1"
            ]
          },
          "execution_count": 13,
          "metadata": {},
          "output_type": "execute_result"
        }
      ],
      "source": [
        "a.ndim"
      ]
    },
    {
      "cell_type": "code",
      "execution_count": null,
      "metadata": {
        "colab": {
          "base_uri": "https://localhost:8080/"
        },
        "id": "N5aJVEhJnPP3",
        "outputId": "4443d04f-bb99-4b8f-91cf-4b70ecd5a11d"
      },
      "outputs": [
        {
          "data": {
            "text/plain": [
              "array([[1, 2],\n",
              "       [3, 4]])"
            ]
          },
          "execution_count": 20,
          "metadata": {},
          "output_type": "execute_result"
        }
      ],
      "source": [
        "a = np.array([1,2,3,4]).reshape(2,2)#2d because row column\n",
        "a"
      ]
    },
    {
      "cell_type": "code",
      "execution_count": null,
      "metadata": {
        "colab": {
          "base_uri": "https://localhost:8080/"
        },
        "id": "OAK0zEAfC9qi",
        "outputId": "fead3fde-d07d-4269-d32f-0f0096b9c8fc"
      },
      "outputs": [
        {
          "data": {
            "text/plain": [
              "array([[1, 2],\n",
              "       [3, 4],\n",
              "       [5, 6],\n",
              "       [6, 6],\n",
              "       [6, 6],\n",
              "       [6, 6]])"
            ]
          },
          "execution_count": 8,
          "metadata": {},
          "output_type": "execute_result"
        }
      ],
      "source": [
        "z = np.array([1,2,3,4,5,6,6,6,6,6,6,6]).reshape(6,2)\n",
        "z"
      ]
    },
    {
      "cell_type": "code",
      "execution_count": null,
      "metadata": {
        "colab": {
          "base_uri": "https://localhost:8080/"
        },
        "id": "TM-xi4MHDUbs",
        "outputId": "dfc5ac18-d29d-42ee-c0e9-38db44eabda6"
      },
      "outputs": [
        {
          "data": {
            "text/plain": [
              "array([[1, 2],\n",
              "       [3, 4],\n",
              "       [5, 6]])"
            ]
          },
          "execution_count": 4,
          "metadata": {},
          "output_type": "execute_result"
        }
      ],
      "source": [
        "z.reshape(3,2)"
      ]
    },
    {
      "cell_type": "code",
      "execution_count": null,
      "metadata": {
        "colab": {
          "base_uri": "https://localhost:8080/"
        },
        "id": "z3Fat4Xjn5wH",
        "outputId": "c670530f-0c16-4a3c-c591-8d3e43b5dc7b"
      },
      "outputs": [
        {
          "data": {
            "text/plain": [
              "array([[ 1,  2,  3,  4],\n",
              "       [ 5,  6,  7,  8],\n",
              "       [ 9, 10, 11, 12],\n",
              "       [13, 14, 15, 16],\n",
              "       [17, 18, 19, 20]])"
            ]
          },
          "execution_count": 19,
          "metadata": {},
          "output_type": "execute_result"
        }
      ],
      "source": [
        "a = np.array(range(1,21)).reshape(5,4)\n",
        "a"
      ]
    },
    {
      "cell_type": "code",
      "execution_count": null,
      "metadata": {
        "colab": {
          "base_uri": "https://localhost:8080/"
        },
        "id": "BoOCOM0uHoV3",
        "outputId": "64b224f0-3126-4e18-9d15-e34eb2a4ce44"
      },
      "outputs": [
        {
          "data": {
            "text/plain": [
              "array([[[  1,   2,   3,   4],\n",
              "        [  5,   6,   7,   8],\n",
              "        [  9,  10,  11,  12],\n",
              "        [ 13,  14,  15,  16],\n",
              "        [ 17,  18,  19,  20]],\n",
              "\n",
              "       [[ 21,  22,  23,  24],\n",
              "        [ 25,  26,  27,  28],\n",
              "        [ 29,  30,  31,  32],\n",
              "        [ 33,  34,  35,  36],\n",
              "        [ 37,  38,  39,  40]],\n",
              "\n",
              "       [[ 41,  42,  43,  44],\n",
              "        [ 45,  46,  47,  48],\n",
              "        [ 49,  50,  51,  52],\n",
              "        [ 53,  54,  55,  56],\n",
              "        [ 57,  58,  59,  60]],\n",
              "\n",
              "       [[ 61,  62,  63,  64],\n",
              "        [ 65,  66,  67,  68],\n",
              "        [ 69,  70,  71,  72],\n",
              "        [ 73,  74,  75,  76],\n",
              "        [ 77,  78,  79,  80]],\n",
              "\n",
              "       [[ 81,  82,  83,  84],\n",
              "        [ 85,  86,  87,  88],\n",
              "        [ 89,  90,  91,  92],\n",
              "        [ 93,  94,  95,  96],\n",
              "        [ 97,  98,  99, 100]]])"
            ]
          },
          "execution_count": 10,
          "metadata": {},
          "output_type": "execute_result"
        }
      ],
      "source": [
        "a = np.array(range(1,101)).reshape(5,5,4)\n",
        "a"
      ]
    },
    {
      "cell_type": "code",
      "execution_count": null,
      "metadata": {
        "colab": {
          "base_uri": "https://localhost:8080/"
        },
        "id": "cyV8oTRpogGw",
        "outputId": "b62c75a9-8c48-4bca-a3ff-1666bb49744d"
      },
      "outputs": [
        {
          "data": {
            "text/plain": [
              "array([[[ 1,  2,  3],\n",
              "        [ 4,  5,  6]],\n",
              "\n",
              "       [[ 7,  8,  9],\n",
              "        [10, 11, 12]]])"
            ]
          },
          "execution_count": 24,
          "metadata": {},
          "output_type": "execute_result"
        }
      ],
      "source": [
        "np.array([1,2,3,4,5,6,7,8,9,10,11,12]).reshape(2,2,3)#3d because 2 times 2 rows 3 column"
      ]
    },
    {
      "cell_type": "code",
      "execution_count": null,
      "metadata": {
        "colab": {
          "base_uri": "https://localhost:8080/"
        },
        "id": "M5bcWfcDo-M_",
        "outputId": "f797915b-7928-448a-d29a-dd38ee3d7cb3"
      },
      "outputs": [
        {
          "data": {
            "text/plain": [
              "array([[[ 1,  2],\n",
              "        [ 3,  4],\n",
              "        [ 5,  6],\n",
              "        [ 7,  8]],\n",
              "\n",
              "       [[ 9, 10],\n",
              "        [11, 12],\n",
              "        [13, 14],\n",
              "        [15, 16]]])"
            ]
          },
          "execution_count": 25,
          "metadata": {},
          "output_type": "execute_result"
        }
      ],
      "source": [
        "np.array([1,2,3,4,5,6,7,8,9,10,11,12,13,14,15,16]).reshape(2,4,2)"
      ]
    },
    {
      "cell_type": "code",
      "execution_count": null,
      "metadata": {
        "colab": {
          "base_uri": "https://localhost:8080/"
        },
        "id": "8tCtZpxlpc1h",
        "outputId": "8ef25bb1-f30e-469f-c375-5715020cd7d3"
      },
      "outputs": [
        {
          "data": {
            "text/plain": [
              "array([  1.,  34.,  67., 100.])"
            ]
          },
          "execution_count": 26,
          "metadata": {},
          "output_type": "execute_result"
        }
      ],
      "source": [
        "#np array creation\n",
        "#1. np.array()\n",
        "np.linspace(1,100,4)#equal width"
      ]
    },
    {
      "cell_type": "code",
      "execution_count": null,
      "metadata": {
        "colab": {
          "base_uri": "https://localhost:8080/"
        },
        "id": "qG4cHc8BqV6v",
        "outputId": "442b6174-fe8f-434b-c9c8-89a2ba9806be"
      },
      "outputs": [
        {
          "data": {
            "text/plain": [
              "array([[[  1.        ,   2.6779661 ,   4.3559322 ],\n",
              "        [  6.03389831,   7.71186441,   9.38983051],\n",
              "        [ 11.06779661,  12.74576271,  14.42372881],\n",
              "        [ 16.10169492,  17.77966102,  19.45762712]],\n",
              "\n",
              "       [[ 21.13559322,  22.81355932,  24.49152542],\n",
              "        [ 26.16949153,  27.84745763,  29.52542373],\n",
              "        [ 31.20338983,  32.88135593,  34.55932203],\n",
              "        [ 36.23728814,  37.91525424,  39.59322034]],\n",
              "\n",
              "       [[ 41.27118644,  42.94915254,  44.62711864],\n",
              "        [ 46.30508475,  47.98305085,  49.66101695],\n",
              "        [ 51.33898305,  53.01694915,  54.69491525],\n",
              "        [ 56.37288136,  58.05084746,  59.72881356]],\n",
              "\n",
              "       [[ 61.40677966,  63.08474576,  64.76271186],\n",
              "        [ 66.44067797,  68.11864407,  69.79661017],\n",
              "        [ 71.47457627,  73.15254237,  74.83050847],\n",
              "        [ 76.50847458,  78.18644068,  79.86440678]],\n",
              "\n",
              "       [[ 81.54237288,  83.22033898,  84.89830508],\n",
              "        [ 86.57627119,  88.25423729,  89.93220339],\n",
              "        [ 91.61016949,  93.28813559,  94.96610169],\n",
              "        [ 96.6440678 ,  98.3220339 , 100.        ]]])"
            ]
          },
          "execution_count": 11,
          "metadata": {},
          "output_type": "execute_result"
        }
      ],
      "source": [
        "np.linspace(1,100,60).reshape(5,4,3)#5ota,4 rorows,3 columns"
      ]
    },
    {
      "cell_type": "code",
      "execution_count": null,
      "metadata": {
        "colab": {
          "base_uri": "https://localhost:8080/"
        },
        "id": "nMXX7bHXqeFf",
        "outputId": "e39a5c73-32bf-4e51-ceaa-fde8fe202409"
      },
      "outputs": [
        {
          "data": {
            "text/plain": [
              "array([[[[  1.        ,   2.04210526,   3.08421053,   4.12631579],\n",
              "         [  5.16842105,   6.21052632,   7.25263158,   8.29473684]],\n",
              "\n",
              "        [[  9.33684211,  10.37894737,  11.42105263,  12.46315789],\n",
              "         [ 13.50526316,  14.54736842,  15.58947368,  16.63157895]],\n",
              "\n",
              "        [[ 17.67368421,  18.71578947,  19.75789474,  20.8       ],\n",
              "         [ 21.84210526,  22.88421053,  23.92631579,  24.96842105]],\n",
              "\n",
              "        [[ 26.01052632,  27.05263158,  28.09473684,  29.13684211],\n",
              "         [ 30.17894737,  31.22105263,  32.26315789,  33.30526316]]],\n",
              "\n",
              "\n",
              "       [[[ 34.34736842,  35.38947368,  36.43157895,  37.47368421],\n",
              "         [ 38.51578947,  39.55789474,  40.6       ,  41.64210526]],\n",
              "\n",
              "        [[ 42.68421053,  43.72631579,  44.76842105,  45.81052632],\n",
              "         [ 46.85263158,  47.89473684,  48.93684211,  49.97894737]],\n",
              "\n",
              "        [[ 51.02105263,  52.06315789,  53.10526316,  54.14736842],\n",
              "         [ 55.18947368,  56.23157895,  57.27368421,  58.31578947]],\n",
              "\n",
              "        [[ 59.35789474,  60.4       ,  61.44210526,  62.48421053],\n",
              "         [ 63.52631579,  64.56842105,  65.61052632,  66.65263158]]],\n",
              "\n",
              "\n",
              "       [[[ 67.69473684,  68.73684211,  69.77894737,  70.82105263],\n",
              "         [ 71.86315789,  72.90526316,  73.94736842,  74.98947368]],\n",
              "\n",
              "        [[ 76.03157895,  77.07368421,  78.11578947,  79.15789474],\n",
              "         [ 80.2       ,  81.24210526,  82.28421053,  83.32631579]],\n",
              "\n",
              "        [[ 84.36842105,  85.41052632,  86.45263158,  87.49473684],\n",
              "         [ 88.53684211,  89.57894737,  90.62105263,  91.66315789]],\n",
              "\n",
              "        [[ 92.70526316,  93.74736842,  94.78947368,  95.83157895],\n",
              "         [ 96.87368421,  97.91578947,  98.95789474, 100.        ]]]])"
            ]
          },
          "execution_count": 32,
          "metadata": {},
          "output_type": "execute_result"
        }
      ],
      "source": [
        "np.linspace(1,100,96).reshape(3,4,2,4)#4d 3 times 4 times 2 rows 4 column"
      ]
    },
    {
      "cell_type": "code",
      "execution_count": null,
      "metadata": {
        "colab": {
          "base_uri": "https://localhost:8080/"
        },
        "id": "iktOb3HjdW55",
        "outputId": "221838df-713b-4f7a-d144-a36cb8f3a55b"
      },
      "outputs": [
        {
          "data": {
            "text/plain": [
              "array([  1.        ,   2.04210526,   3.08421053,   4.12631579,\n",
              "         5.16842105,   6.21052632,   7.25263158,   8.29473684,\n",
              "         9.33684211,  10.37894737,  11.42105263,  12.46315789,\n",
              "        13.50526316,  14.54736842,  15.58947368,  16.63157895,\n",
              "        17.67368421,  18.71578947,  19.75789474,  20.8       ,\n",
              "        21.84210526,  22.88421053,  23.92631579,  24.96842105,\n",
              "        26.01052632,  27.05263158,  28.09473684,  29.13684211,\n",
              "        30.17894737,  31.22105263,  32.26315789,  33.30526316,\n",
              "        34.34736842,  35.38947368,  36.43157895,  37.47368421,\n",
              "        38.51578947,  39.55789474,  40.6       ,  41.64210526,\n",
              "        42.68421053,  43.72631579,  44.76842105,  45.81052632,\n",
              "        46.85263158,  47.89473684,  48.93684211,  49.97894737,\n",
              "        51.02105263,  52.06315789,  53.10526316,  54.14736842,\n",
              "        55.18947368,  56.23157895,  57.27368421,  58.31578947,\n",
              "        59.35789474,  60.4       ,  61.44210526,  62.48421053,\n",
              "        63.52631579,  64.56842105,  65.61052632,  66.65263158,\n",
              "        67.69473684,  68.73684211,  69.77894737,  70.82105263,\n",
              "        71.86315789,  72.90526316,  73.94736842,  74.98947368,\n",
              "        76.03157895,  77.07368421,  78.11578947,  79.15789474,\n",
              "        80.2       ,  81.24210526,  82.28421053,  83.32631579,\n",
              "        84.36842105,  85.41052632,  86.45263158,  87.49473684,\n",
              "        88.53684211,  89.57894737,  90.62105263,  91.66315789,\n",
              "        92.70526316,  93.74736842,  94.78947368,  95.83157895,\n",
              "        96.87368421,  97.91578947,  98.95789474, 100.        ])"
            ]
          },
          "execution_count": 35,
          "metadata": {},
          "output_type": "execute_result"
        }
      ],
      "source": [
        "np.linspace(1,100,96)#1 to 100 96 char chaiyo"
      ]
    },
    {
      "cell_type": "code",
      "execution_count": null,
      "metadata": {
        "colab": {
          "base_uri": "https://localhost:8080/"
        },
        "id": "9UHaSy01sXFh",
        "outputId": "3424a7be-b399-4310-96ad-345ea591c4fe"
      },
      "outputs": [
        {
          "data": {
            "text/plain": [
              "array([[[[  1.        ,   3.10638298,   5.21276596,   7.31914894],\n",
              "         [  9.42553191,  11.53191489,  13.63829787,  15.74468085]],\n",
              "\n",
              "        [[ 17.85106383,  19.95744681,  22.06382979,  24.17021277],\n",
              "         [ 26.27659574,  28.38297872,  30.4893617 ,  32.59574468]],\n",
              "\n",
              "        [[ 34.70212766,  36.80851064,  38.91489362,  41.0212766 ],\n",
              "         [ 43.12765957,  45.23404255,  47.34042553,  49.44680851]]],\n",
              "\n",
              "\n",
              "       [[[ 51.55319149,  53.65957447,  55.76595745,  57.87234043],\n",
              "         [ 59.9787234 ,  62.08510638,  64.19148936,  66.29787234]],\n",
              "\n",
              "        [[ 68.40425532,  70.5106383 ,  72.61702128,  74.72340426],\n",
              "         [ 76.82978723,  78.93617021,  81.04255319,  83.14893617]],\n",
              "\n",
              "        [[ 85.25531915,  87.36170213,  89.46808511,  91.57446809],\n",
              "         [ 93.68085106,  95.78723404,  97.89361702, 100.        ]]]])"
            ]
          },
          "execution_count": 31,
          "metadata": {},
          "output_type": "execute_result"
        }
      ],
      "source": [
        "np.linspace(1,100,48).reshape(2,3,2,4)"
      ]
    },
    {
      "cell_type": "code",
      "execution_count": null,
      "metadata": {
        "id": "9A5LrXsgsfQd"
      },
      "outputs": [],
      "source": [
        "#arithmetic operator"
      ]
    },
    {
      "cell_type": "code",
      "execution_count": null,
      "metadata": {
        "colab": {
          "base_uri": "https://localhost:8080/"
        },
        "id": "TveWpGads65G",
        "outputId": "eb429bc8-e526-4c7f-9981-c09a59124a3c"
      },
      "outputs": [
        {
          "data": {
            "text/plain": [
              "array([ 6,  7,  8,  9, 10])"
            ]
          },
          "execution_count": 38,
          "metadata": {},
          "output_type": "execute_result"
        }
      ],
      "source": [
        "a = np.array([1,2,3,4,5])\n",
        "a+5#cant do in python this is possible in numpy cuz it taes to c programming"
      ]
    },
    {
      "cell_type": "code",
      "execution_count": null,
      "metadata": {
        "colab": {
          "base_uri": "https://localhost:8080/"
        },
        "id": "n1yLJV7ltOlF",
        "outputId": "44ad4f59-9f2a-4c2f-cb62-fdaeec1a03e9"
      },
      "outputs": [
        {
          "data": {
            "text/plain": [
              "array([1, 0, 1, 0, 1])"
            ]
          },
          "execution_count": 5,
          "metadata": {},
          "output_type": "execute_result"
        }
      ],
      "source": [
        "a = np.array([1,2,3,4,5])#1 bhaneko False and 0 bhaneko True\n",
        "a%2#remainder nikalcha"
      ]
    },
    {
      "cell_type": "code",
      "execution_count": null,
      "metadata": {
        "colab": {
          "base_uri": "https://localhost:8080/"
        },
        "id": "uOyaF9Q0tZ4M",
        "outputId": "03521739-3f48-44d3-c20a-f6fffb34a57a"
      },
      "outputs": [
        {
          "data": {
            "text/plain": [
              "array([1, 2, 3, 4, 5])"
            ]
          },
          "execution_count": 7,
          "metadata": {},
          "output_type": "execute_result"
        }
      ],
      "source": [
        "a=np.array([2,4,6,8,10])\n",
        "a//2#pure division nikalcha no decimal points"
      ]
    },
    {
      "cell_type": "code",
      "execution_count": null,
      "metadata": {
        "colab": {
          "base_uri": "https://localhost:8080/"
        },
        "id": "CM692MNXtsFG",
        "outputId": "9f531843-e7ed-42c1-a583-6812b1b8b775"
      },
      "outputs": [
        {
          "name": "stdout",
          "output_type": "stream",
          "text": [
            "[ 1.  4.  7. 10.]\n"
          ]
        },
        {
          "data": {
            "text/plain": [
              "array([False, False,  True,  True])"
            ]
          },
          "execution_count": 12,
          "metadata": {},
          "output_type": "execute_result"
        }
      ],
      "source": [
        "#comparison operator: >,=!,True\n",
        "b=np.linspace(1,10,4)#from 1 to 10 range with 4 ota suitably spaced numbers.\n",
        "print(b)\n",
        "b>4"
      ]
    },
    {
      "cell_type": "code",
      "execution_count": null,
      "metadata": {
        "colab": {
          "base_uri": "https://localhost:8080/"
        },
        "id": "zFegz9q9IZP2",
        "outputId": "ffb5cb35-8442-4b31-9d09-a67eaab315ff"
      },
      "outputs": [
        {
          "name": "stdout",
          "output_type": "stream",
          "text": [
            "[ 1.  4.  7. 10.]\n"
          ]
        },
        {
          "data": {
            "text/plain": [
              "array([ 7., 10.])"
            ]
          },
          "execution_count": 9,
          "metadata": {},
          "output_type": "execute_result"
        }
      ],
      "source": [
        "#comparison operator: >,=!,True\n",
        "b=np.linspace(1,10,4)\n",
        "print(b)\n",
        "b[b>4]#filter"
      ]
    },
    {
      "cell_type": "code",
      "execution_count": null,
      "metadata": {
        "colab": {
          "base_uri": "https://localhost:8080/"
        },
        "id": "matSgD11uI7g",
        "outputId": "4b55eca9-ceb5-4650-a6ea-f482570b604d"
      },
      "outputs": [
        {
          "name": "stdout",
          "output_type": "stream",
          "text": [
            "[ 1.  4.  7. 10.]\n"
          ]
        },
        {
          "data": {
            "text/plain": [
              "array([ True, False,  True,  True])"
            ]
          },
          "execution_count": 45,
          "metadata": {},
          "output_type": "execute_result"
        }
      ],
      "source": [
        "b=np.linspace(1,10,4)\n",
        "print(b)\n",
        "b !=4"
      ]
    },
    {
      "cell_type": "code",
      "execution_count": null,
      "metadata": {
        "colab": {
          "base_uri": "https://localhost:8080/"
        },
        "id": "ViJINk3rJe1_",
        "outputId": "835c4e7f-f855-4445-d633-2862122ff456"
      },
      "outputs": [
        {
          "name": "stdout",
          "output_type": "stream",
          "text": [
            "[ 1.  4.  7. 10.]\n"
          ]
        },
        {
          "data": {
            "text/plain": [
              "array([ 1.,  7., 10.])"
            ]
          },
          "execution_count": 13,
          "metadata": {},
          "output_type": "execute_result"
        }
      ],
      "source": [
        "b=np.linspace(1,10,4)\n",
        "print(b)\n",
        "b[b !=4]"
      ]
    },
    {
      "cell_type": "code",
      "execution_count": null,
      "metadata": {
        "colab": {
          "base_uri": "https://localhost:8080/"
        },
        "id": "-U4DBTc6uivd",
        "outputId": "0f349be5-a838-4620-d29e-e39f15ab9e65"
      },
      "outputs": [
        {
          "name": "stdout",
          "output_type": "stream",
          "text": [
            "[ 1.  4.  7. 10.]\n",
            "[False  True False False]\n"
          ]
        },
        {
          "data": {
            "text/plain": [
              "array([4.])"
            ]
          },
          "execution_count": 14,
          "metadata": {},
          "output_type": "execute_result"
        }
      ],
      "source": [
        "b=np.linspace(1,10,4)\n",
        "print(b)\n",
        "print(b==4)\n",
        "b[b==4]"
      ]
    },
    {
      "cell_type": "code",
      "execution_count": null,
      "metadata": {
        "id": "woAc916Lu_Su"
      },
      "outputs": [],
      "source": [
        "#logical operators and or not\n",
        "#& = and\n",
        "#| = or\n",
        "#always inside bracket"
      ]
    },
    {
      "cell_type": "code",
      "execution_count": null,
      "metadata": {
        "colab": {
          "base_uri": "https://localhost:8080/"
        },
        "id": "z53bYf-YvMBt",
        "outputId": "d7ffb23c-eb70-4b98-80e4-5bcfc762118f"
      },
      "outputs": [
        {
          "name": "stdout",
          "output_type": "stream",
          "text": [
            "[ 1.  4.  7. 10.]\n"
          ]
        },
        {
          "data": {
            "text/plain": [
              "array([False,  True, False, False])"
            ]
          },
          "execution_count": 16,
          "metadata": {},
          "output_type": "execute_result"
        }
      ],
      "source": [
        "b=np.linspace(1,10,4)\n",
        "print(b)\n",
        "(b>3) & (b<5) #[1,4,7,10]"
      ]
    },
    {
      "cell_type": "code",
      "execution_count": null,
      "metadata": {
        "colab": {
          "base_uri": "https://localhost:8080/"
        },
        "id": "BWJGn5elvvB1",
        "outputId": "e768766b-36fd-4467-d1fd-c23780c95cf8"
      },
      "outputs": [
        {
          "data": {
            "text/plain": [
              "array([4.])"
            ]
          },
          "execution_count": 49,
          "metadata": {},
          "output_type": "execute_result"
        }
      ],
      "source": [
        "b[(b>3) & (b<5)] #[1,4,7,10]"
      ]
    },
    {
      "cell_type": "code",
      "execution_count": null,
      "metadata": {
        "colab": {
          "base_uri": "https://localhost:8080/"
        },
        "id": "TgsqtXPjv3Ds",
        "outputId": "d715b038-dd3a-407f-f4cd-0d299b683541"
      },
      "outputs": [
        {
          "name": "stdout",
          "output_type": "stream",
          "text": [
            "[ 1.  4.  7. 10.]\n"
          ]
        },
        {
          "data": {
            "text/plain": [
              "array([ True, False, False,  True])"
            ]
          },
          "execution_count": 21,
          "metadata": {},
          "output_type": "execute_result"
        }
      ],
      "source": [
        "print(b)                                   #extract elements either greter than 7 or less than 2\n",
        "(b>7)|(b<2)#chatgpt bata pipe ko icon khojnu"
      ]
    },
    {
      "cell_type": "code",
      "execution_count": null,
      "metadata": {
        "colab": {
          "base_uri": "https://localhost:8080/"
        },
        "id": "LlU8MwZxKzsG",
        "outputId": "2e6ad05f-72e1-4aa3-cf96-4826478858a5"
      },
      "outputs": [
        {
          "data": {
            "text/plain": [
              "array([ 1., 10.])"
            ]
          },
          "execution_count": 22,
          "metadata": {},
          "output_type": "execute_result"
        }
      ],
      "source": [
        "b[(b>7)|(b<2)]"
      ]
    },
    {
      "cell_type": "code",
      "execution_count": null,
      "metadata": {
        "colab": {
          "base_uri": "https://localhost:8080/"
        },
        "id": "P_VNhUHUwSmQ",
        "outputId": "0bc6f4e7-3ed4-4df5-a12a-6217e8621ed9"
      },
      "outputs": [
        {
          "name": "stdout",
          "output_type": "stream",
          "text": [
            "[ 1.  4.  7. 10.]\n"
          ]
        },
        {
          "data": {
            "text/plain": [
              "array([False,  True, False,  True])"
            ]
          },
          "execution_count": 24,
          "metadata": {},
          "output_type": "execute_result"
        }
      ],
      "source": [
        "#extract even no.\n",
        "print(b)\n",
        "(b%2==0)"
      ]
    },
    {
      "cell_type": "code",
      "execution_count": null,
      "metadata": {
        "colab": {
          "base_uri": "https://localhost:8080/"
        },
        "id": "3ZQxiZnFwYol",
        "outputId": "4dd6bd86-811e-4cf4-c344-4ef8086365e0"
      },
      "outputs": [
        {
          "data": {
            "text/plain": [
              "array([ 4., 10.])"
            ]
          },
          "execution_count": 51,
          "metadata": {},
          "output_type": "execute_result"
        }
      ],
      "source": [
        "b[(b%2==0)]"
      ]
    },
    {
      "cell_type": "code",
      "execution_count": null,
      "metadata": {
        "colab": {
          "base_uri": "https://localhost:8080/"
        },
        "id": "j7v04SyXwc_s",
        "outputId": "ccf9f39a-a633-41e4-e53e-1f0ce060dfeb"
      },
      "outputs": [
        {
          "data": {
            "text/plain": [
              "array([ True, False,  True, False])"
            ]
          },
          "execution_count": 52,
          "metadata": {},
          "output_type": "execute_result"
        }
      ],
      "source": [
        "#odd\n",
        "(b%2==1)"
      ]
    },
    {
      "cell_type": "code",
      "execution_count": null,
      "metadata": {
        "colab": {
          "base_uri": "https://localhost:8080/"
        },
        "id": "s3Zg3OXILYbT",
        "outputId": "b9f23e69-f969-4891-8ab2-1b2b3e0238cf"
      },
      "outputs": [
        {
          "data": {
            "text/plain": [
              "array([1., 7.])"
            ]
          },
          "execution_count": 23,
          "metadata": {},
          "output_type": "execute_result"
        }
      ],
      "source": [
        "b[(b%2==1)]"
      ]
    },
    {
      "cell_type": "code",
      "execution_count": null,
      "metadata": {
        "id": "F3Y4MKdkwomV"
      },
      "outputs": [],
      "source": [
        "#np where , np vectorize\n",
        "#numpy if else"
      ]
    },
    {
      "cell_type": "code",
      "execution_count": null,
      "metadata": {
        "colab": {
          "base_uri": "https://localhost:8080/"
        },
        "id": "-BNIf1qxw_PE",
        "outputId": "d39e9d13-cb49-4ca2-9b61-bf99494748b2"
      },
      "outputs": [
        {
          "name": "stdout",
          "output_type": "stream",
          "text": [
            "2 positive\n",
            "3 positive\n",
            "4 positive\n",
            "0 positive\n",
            "-1 thikai negative\n",
            "2 positive\n",
            "3 positive\n",
            "-100 thikai negative\n",
            "-100 extreme negative\n"
          ]
        }
      ],
      "source": [
        "num = ([2,3,4,0,-1,2,3,-100])\n",
        "for item in num:\n",
        "    if item >= 0:\n",
        "        print(item,'positive')\n",
        "    elif item < 0:#wronggggggggggggggggggggggggggggggggg\n",
        "        print(item,'thikai negative')\n",
        "        if item <-10:\n",
        "            print(item,'extreme negative')\n"
      ]
    },
    {
      "cell_type": "code",
      "execution_count": null,
      "metadata": {
        "colab": {
          "base_uri": "https://localhost:8080/"
        },
        "id": "bHN7oBWqRWBr",
        "outputId": "8da3d31c-794f-47f1-ac14-e9f9e8c2ab2f"
      },
      "outputs": [
        {
          "name": "stdout",
          "output_type": "stream",
          "text": [
            "2 positive\n",
            "3 positive\n",
            "4 positive\n",
            "0 positive\n",
            "-1 thikai negative\n",
            "2 positive\n",
            "3 positive\n",
            "-100 extreme negative\n"
          ]
        }
      ],
      "source": [
        "num = [2, 3, 4, 0, -1, 2, 3, -100]\n",
        "\n",
        "for item in num:\n",
        "    if item >= 0:\n",
        "        print(item, 'positive')\n",
        "    elif item < 0:\n",
        "        if item < -10:\n",
        "            print(item, 'extreme negative')\n",
        "        else:\n",
        "            print(item, 'thikai negative')"
      ]
    },
    {
      "cell_type": "code",
      "execution_count": null,
      "metadata": {
        "id": "NbFcJWOguyRD"
      },
      "outputs": [],
      "source": [
        "import numpy as np\n"
      ]
    },
    {
      "cell_type": "code",
      "execution_count": null,
      "metadata": {
        "colab": {
          "base_uri": "https://localhost:8080/"
        },
        "id": "G4Gccnv-xbak",
        "outputId": "a3f6e0aa-99a8-4929-9e89-8ec18879c217"
      },
      "outputs": [
        {
          "data": {
            "text/plain": [
              "array([   2,    3,    4,    0,   -1,    2,    3, -100])"
            ]
          },
          "execution_count": 18,
          "metadata": {},
          "output_type": "execute_result"
        }
      ],
      "source": [
        "a= np.array([2,3,4,0,-1,2,3,-100])\n",
        "a"
      ]
    },
    {
      "cell_type": "code",
      "execution_count": null,
      "metadata": {
        "colab": {
          "base_uri": "https://localhost:8080/"
        },
        "id": "ldzhW0XjxjId",
        "outputId": "f263b07c-5fb2-4a8e-84ee-d6e526cfe8e9"
      },
      "outputs": [
        {
          "name": "stdout",
          "output_type": "stream",
          "text": [
            "['positive' 'positive' 'positive' 'positive' 'negative' 'positive'\n",
            " 'positive' 'negative']\n"
          ]
        }
      ],
      "source": [
        "print(np.where(a>=0,'positive','negative'))#loop jastai kam garcha np.where le"
      ]
    },
    {
      "cell_type": "code",
      "execution_count": null,
      "metadata": {
        "colab": {
          "base_uri": "https://localhost:8080/"
        },
        "id": "qfj6HN1yx_a8",
        "outputId": "dd808345-de7e-4511-827d-a6048a8a704c"
      },
      "outputs": [
        {
          "data": {
            "text/plain": [
              "array(['positive', 'positive', 'positive', 'positive', 'thikainegative',\n",
              "       'positive', 'positive', 'extreme negative'], dtype='<U16')"
            ]
          },
          "execution_count": 59,
          "metadata": {},
          "output_type": "execute_result"
        }
      ],
      "source": [
        "np.where(a>=0,'positive', np.where(a<-10, 'extreme negative','thikainegative'))#not nice method"
      ]
    },
    {
      "cell_type": "code",
      "execution_count": null,
      "metadata": {
        "colab": {
          "base_uri": "https://localhost:8080/"
        },
        "id": "LMU_1OdRy7SH",
        "outputId": "d83b6969-b71a-4b12-bada-126b6d82a2ac"
      },
      "outputs": [
        {
          "data": {
            "text/plain": [
              "array(['even', 'odd', 'even', 'even', 'odd', 'even', 'odd', 'even'],\n",
              "      dtype='<U4')"
            ]
          },
          "execution_count": 62,
          "metadata": {},
          "output_type": "execute_result"
        }
      ],
      "source": [
        "#even odd\n",
        "np.where(a%2==0,'even','odd')"
      ]
    },
    {
      "cell_type": "code",
      "execution_count": null,
      "metadata": {
        "colab": {
          "base_uri": "https://localhost:8080/"
        },
        "id": "kiQaWbFTzKKM",
        "outputId": "493d36e1-098f-43ea-e474-618e5e44850b"
      },
      "outputs": [
        {
          "data": {
            "text/plain": [
              "array(['even', 'odd', 'even', 'even', 'odd', 'even', 'odd', 'even'],\n",
              "      dtype='<U4')"
            ]
          },
          "execution_count": 63,
          "metadata": {},
          "output_type": "execute_result"
        }
      ],
      "source": [
        "#np.vectorize()\n",
        "#array([   2,    3,    4,    0,   -1,    2,    3, -100])\n",
        "\n",
        "\n",
        "def func(value):\n",
        "    if value%2 == 0:\n",
        "        return 'even'\n",
        "    else:\n",
        "        return 'odd'\n",
        "\n",
        "vectorizer = np.vectorize(func)\n",
        "vectorizer(a)"
      ]
    },
    {
      "cell_type": "code",
      "execution_count": null,
      "metadata": {
        "colab": {
          "base_uri": "https://localhost:8080/"
        },
        "id": "8FkXCf9DNLel",
        "outputId": "175e7ff7-f1c0-45e1-f542-c3958725f051"
      },
      "outputs": [
        {
          "data": {
            "text/plain": [
              "array(['even', 'odd', 'even', 'even', 'odd', 'even', 'odd', 'even'],\n",
              "      dtype='<U4')"
            ]
          },
          "execution_count": 25,
          "metadata": {},
          "output_type": "execute_result"
        }
      ],
      "source": [
        "def func(value):\n",
        "    if value%2 == 0:\n",
        "        return 'even'\n",
        "    else:\n",
        "        return 'odd'\n",
        "\n",
        "vectorizer = np.vectorize(func)\n",
        "vectorizer(a)"
      ]
    },
    {
      "cell_type": "code",
      "execution_count": null,
      "metadata": {
        "id": "xoQ6UtyI0wsj"
      },
      "outputs": [],
      "source": [
        "purchase = np.array([34,56,100,24,34,99,98,97,96,55])\n",
        "#if purchase >= 80:20%disc==>value*0.80\n",
        "#if purchase<80 and purchase >=60:10%disc==>value*0.90\n",
        "#else:nodiscount:value"
      ]
    },
    {
      "cell_type": "code",
      "execution_count": null,
      "metadata": {
        "id": "D8nI9qB0NzwA"
      },
      "outputs": [],
      "source": [
        "def discount(value):\n",
        "    if value >=80:\n",
        "        return value*0.80\n",
        "    elif value <80 and value>=60:\n",
        "        return value*0.90\n",
        "    else:\n",
        "        return value\n"
      ]
    },
    {
      "cell_type": "code",
      "execution_count": null,
      "metadata": {
        "id": "xM0vEL9QOVBS"
      },
      "outputs": [],
      "source": [
        "vectorizer = np.vectorize(discount)"
      ]
    },
    {
      "cell_type": "code",
      "execution_count": null,
      "metadata": {
        "colab": {
          "base_uri": "https://localhost:8080/"
        },
        "id": "cq-GZtkLOdJ5",
        "outputId": "791bdb1c-b5f5-4f06-e6eb-d7c4b77de1ed"
      },
      "outputs": [
        {
          "data": {
            "text/plain": [
              "array([34, 56, 80, 24, 34, 79, 78, 77, 76, 55])"
            ]
          },
          "execution_count": 33,
          "metadata": {},
          "output_type": "execute_result"
        }
      ],
      "source": [
        "vectorizer(purchase)"
      ]
    },
    {
      "cell_type": "code",
      "execution_count": null,
      "metadata": {
        "colab": {
          "base_uri": "https://localhost:8080/"
        },
        "id": "FjvIN1Gi1gTD",
        "outputId": "ff6986d6-0542-4958-dc07-526096ad13d0"
      },
      "outputs": [
        {
          "data": {
            "text/plain": [
              "array([34, 56, 80, 24, 34, 55])"
            ]
          },
          "execution_count": 69,
          "metadata": {},
          "output_type": "execute_result"
        }
      ],
      "source": [
        "def discount(value):\n",
        "    if value >= 80:\n",
        "        return value*0.80\n",
        "    elif value <80 and value>=60:\n",
        "        return value * 0.90\n",
        "    else:\n",
        "        return value\n",
        "\n",
        "vectorizer = np.vectorize(discount)\n",
        "vectorizer(purchase)                    #its working hai amount after disc"
      ]
    },
    {
      "cell_type": "markdown",
      "metadata": {
        "id": "DeCp7X8rvcb_"
      },
      "source": [
        "# 2nd class"
      ]
    },
    {
      "cell_type": "code",
      "execution_count": null,
      "metadata": {
        "colab": {
          "base_uri": "https://localhost:8080/"
        },
        "id": "DGiWarPf1-G0",
        "outputId": "cb77e254-e9e4-44ad-e590-2ad70ef3907f"
      },
      "outputs": [
        {
          "data": {
            "text/plain": [
              "array([1, 2, 3, 4, 5])"
            ]
          },
          "execution_count": 7,
          "metadata": {},
          "output_type": "execute_result"
        }
      ],
      "source": [
        "np. array([1,2,3,4,5])"
      ]
    },
    {
      "cell_type": "code",
      "execution_count": null,
      "metadata": {
        "colab": {
          "base_uri": "https://localhost:8080/"
        },
        "id": "Hv9pNUC9vUR2",
        "outputId": "e54d36fd-a305-4124-89f2-efe08d0155e7"
      },
      "outputs": [
        {
          "data": {
            "text/plain": [
              "array(['even', 'odd', 'even', 'even', 'odd', 'even', 'odd', 'even'],\n",
              "      dtype='<U4')"
            ]
          },
          "execution_count": 8,
          "metadata": {},
          "output_type": "execute_result"
        }
      ],
      "source": [
        "np.where(a%2==0,'even','odd')#if else in numpy\n",
        "#np.vectorize()"
      ]
    },
    {
      "cell_type": "code",
      "execution_count": null,
      "metadata": {
        "colab": {
          "base_uri": "https://localhost:8080/"
        },
        "id": "oOivkJ2Hv7js",
        "outputId": "3a39a342-9102-4e70-d1d0-d090c93ec83e"
      },
      "outputs": [
        {
          "data": {
            "text/plain": [
              "array(['even', 'odd', 'even', 'even', 'odd', 'even', 'odd', 'even'],\n",
              "      dtype='<U4')"
            ]
          },
          "execution_count": 9,
          "metadata": {},
          "output_type": "execute_result"
        }
      ],
      "source": [
        "def func(value):\n",
        "    if value %2==0:\n",
        "        return 'even'\n",
        "    else:\n",
        "        return 'odd'\n",
        "\n",
        "v= np.vectorize(func)\n",
        "v(a)"
      ]
    },
    {
      "cell_type": "markdown",
      "metadata": {
        "id": "F66t6sFVxBEG"
      },
      "source": [
        "# broadcasting\n",
        "\n",
        "\n",
        "1.   broadcasting garna rows ra column either equal,0 or 1 hunuparcha\n",
        "\n",
        "\n"
      ]
    },
    {
      "cell_type": "code",
      "execution_count": null,
      "metadata": {
        "id": "aNDP2AxKyIL-"
      },
      "outputs": [],
      "source": [
        "import numpy as np"
      ]
    },
    {
      "cell_type": "code",
      "execution_count": null,
      "metadata": {
        "id": "ieKa0L_iwpjk"
      },
      "outputs": [],
      "source": [
        "b  =np.linspace(1,10,20).reshape(4,5,1)"
      ]
    },
    {
      "cell_type": "code",
      "execution_count": null,
      "metadata": {
        "id": "eKtTubbtw8i_"
      },
      "outputs": [],
      "source": [
        "c= np.linspace(1,10,5).reshape(5,1)"
      ]
    },
    {
      "cell_type": "code",
      "execution_count": null,
      "metadata": {
        "colab": {
          "base_uri": "https://localhost:8080/"
        },
        "id": "odXGoxOJxTGb",
        "outputId": "bf08d0c8-7f3e-4402-ae50-794adadb61e3"
      },
      "outputs": [
        {
          "data": {
            "text/plain": [
              "array([[[ 2.        ],\n",
              "        [ 4.72368421],\n",
              "        [ 7.44736842],\n",
              "        [10.17105263],\n",
              "        [12.89473684]],\n",
              "\n",
              "       [[ 4.36842105],\n",
              "        [ 7.09210526],\n",
              "        [ 9.81578947],\n",
              "        [12.53947368],\n",
              "        [15.26315789]],\n",
              "\n",
              "       [[ 6.73684211],\n",
              "        [ 9.46052632],\n",
              "        [12.18421053],\n",
              "        [14.90789474],\n",
              "        [17.63157895]],\n",
              "\n",
              "       [[ 9.10526316],\n",
              "        [11.82894737],\n",
              "        [14.55263158],\n",
              "        [17.27631579],\n",
              "        [20.        ]]])"
            ]
          },
          "execution_count": 19,
          "metadata": {},
          "output_type": "execute_result"
        }
      ],
      "source": [
        "c+b#internally converted to (4,5,1)"
      ]
    },
    {
      "cell_type": "markdown",
      "metadata": {
        "id": "OTLbBvzey-uk"
      },
      "source": [
        "#statistical function\n",
        "\n",
        "\n",
        "1.   positively skewed / right tailed data lai median is good\n",
        "2.   negatively skewed / left tailed data lai usually mean tar subject expert lai sodna parcha\n",
        "\n"
      ]
    },
    {
      "cell_type": "code",
      "execution_count": null,
      "metadata": {
        "id": "HBqdOYtkyVKd"
      },
      "outputs": [],
      "source": [
        "num =np.array([34,33,45,100,3])"
      ]
    },
    {
      "cell_type": "code",
      "execution_count": null,
      "metadata": {
        "colab": {
          "base_uri": "https://localhost:8080/"
        },
        "id": "T4axNnDkzJAT",
        "outputId": "c0431dc5-1662-4e43-e0e5-8c89e6c09cab"
      },
      "outputs": [
        {
          "data": {
            "text/plain": [
              "43.0"
            ]
          },
          "execution_count": 23,
          "metadata": {},
          "output_type": "execute_result"
        }
      ],
      "source": [
        "np.mean(num)#avg"
      ]
    },
    {
      "cell_type": "code",
      "execution_count": null,
      "metadata": {
        "colab": {
          "base_uri": "https://localhost:8080/"
        },
        "id": "hWnml6ozzOPZ",
        "outputId": "afe8d8ff-c41f-4435-cf97-35ec63553306"
      },
      "outputs": [
        {
          "data": {
            "text/plain": [
              "34.0"
            ]
          },
          "execution_count": 25,
          "metadata": {},
          "output_type": "execute_result"
        }
      ],
      "source": [
        "np.median(num)#middle value"
      ]
    },
    {
      "cell_type": "code",
      "execution_count": null,
      "metadata": {
        "id": "D9OK3UZe12Uz"
      },
      "outputs": [],
      "source": [
        "import numpy as np\n",
        "from numpy import r\n",
        "import seaborn as sns"
      ]
    },
    {
      "cell_type": "code",
      "execution_count": null,
      "metadata": {
        "id": "1kAnFYP1zTRK"
      },
      "outputs": [],
      "source": [
        "#Symmetric distribution\n",
        "#import warning remove warning\n",
        "from numpy import random"
      ]
    },
    {
      "cell_type": "code",
      "execution_count": null,
      "metadata": {
        "colab": {
          "background_save": true,
          "base_uri": "https://localhost:8080/",
          "height": 523
        },
        "id": "3WY7ndUC10E0",
        "outputId": "cd88df8d-b3fb-4ab7-81a4-c0089158cbf4"
      },
      "outputs": [
        {
          "ename": "TypeError",
          "evalue": "'module' object is not callable",
          "output_type": "error",
          "traceback": [
            "\u001b[0;31m---------------------------------------------------------------------------\u001b[0m",
            "\u001b[0;31mTypeError\u001b[0m                                 Traceback (most recent call last)",
            "\u001b[0;32m<ipython-input-31-8dc8ffa7ed63>\u001b[0m in \u001b[0;36m<cell line: 1>\u001b[0;34m()\u001b[0m\n\u001b[0;32m----> 1\u001b[0;31m \u001b[0ma\u001b[0m \u001b[0;34m=\u001b[0m \u001b[0mnp\u001b[0m\u001b[0;34m.\u001b[0m\u001b[0mrandom\u001b[0m\u001b[0;34m(\u001b[0m\u001b[0;36m1\u001b[0m\u001b[0;34m,\u001b[0m\u001b[0;36m1000\u001b[0m\u001b[0;34m,\u001b[0m\u001b[0;36m50\u001b[0m\u001b[0;34m)\u001b[0m\u001b[0;34m.\u001b[0m\u001b[0mreshape\u001b[0m\u001b[0;34m(\u001b[0m\u001b[0;36m5\u001b[0m\u001b[0;34m,\u001b[0m\u001b[0;36m10\u001b[0m\u001b[0;34m)\u001b[0m\u001b[0;34m\u001b[0m\u001b[0;34m\u001b[0m\u001b[0m\n\u001b[0m\u001b[1;32m      2\u001b[0m \u001b[0;32mimport\u001b[0m \u001b[0mmatplotlib\u001b[0m\u001b[0;34m.\u001b[0m\u001b[0mpyplot\u001b[0m \u001b[0;32mas\u001b[0m \u001b[0mplt\u001b[0m\u001b[0;34m\u001b[0m\u001b[0;34m\u001b[0m\u001b[0m\n\u001b[1;32m      3\u001b[0m \u001b[0msns\u001b[0m\u001b[0;34m.\u001b[0m\u001b[0mdisplot\u001b[0m\u001b[0;34m(\u001b[0m\u001b[0ma\u001b[0m\u001b[0;34m)\u001b[0m\u001b[0;34m\u001b[0m\u001b[0;34m\u001b[0m\u001b[0m\n",
            "\u001b[0;31mTypeError\u001b[0m: 'module' object is not callable"
          ]
        }
      ],
      "source": [
        "a = np.linspace(1,1000,50).reshape(5,10)\n",
        "import matplotlib.pyplot as plt\n",
        "sns.displot(a)"
      ]
    },
    {
      "cell_type": "code",
      "execution_count": null,
      "metadata": {
        "colab": {
          "base_uri": "https://localhost:8080/",
          "height": 506
        },
        "id": "RWR6RXMA2KXS",
        "outputId": "e6f0093a-70e8-4ae9-8df6-9359e866b847"
      },
      "outputs": [
        {
          "data": {
            "image/png": "[encoded data removed]",
            "text/plain": [
              "<Figure size 500x500 with 1 Axes>"
            ]
          },
          "metadata": {},
          "output_type": "display_data"
        }
      ],
      "source": [
        "sns.displot(a);"
      ]
    },
    {
      "cell_type": "code",
      "execution_count": null,
      "metadata": {
        "colab": {
          "base_uri": "https://localhost:8080/"
        },
        "id": "oritrLQp2Nrj",
        "outputId": "2f5e21d1-3e03-4b5f-a67d-22b351d8fb50"
      },
      "outputs": [
        {
          "name": "stdout",
          "output_type": "stream",
          "text": [
            "0.9987185538499656\n",
            "0.985971618232571\n"
          ]
        }
      ],
      "source": [
        "print (np.mean(a))\n",
        "print(np.median(a))\n",
        "#central tendency==>mean,median\n",
        "#outlier:1 lakh, 2 lakh, 3 lakh, 10000 lakh(fillna)"
      ]
    },
    {
      "cell_type": "markdown",
      "metadata": {
        "id": "vqjlOjhI3H3A"
      },
      "source": [
        "#Positively skewed distribution\n",
        "\n",
        "\n",
        "1.   Poisson distribution\n",
        "2.   Pareto\n",
        "\n"
      ]
    },
    {
      "cell_type": "code",
      "execution_count": null,
      "metadata": {
        "colab": {
          "base_uri": "https://localhost:8080/",
          "height": 506
        },
        "id": "C6cq7WEA2yEZ",
        "outputId": "3b28b4a3-1c3b-4edf-ff08-c0f2c9645dd4"
      },
      "outputs": [
        {
          "data": {
            "image/png": "[encoded data removed]",
            "text/plain": [
              "<Figure size 500x500 with 1 Axes>"
            ]
          },
          "metadata": {},
          "output_type": "display_data"
        }
      ],
      "source": [
        "a =random.exponential(0.5,1000)\n",
        "sns.displot(a);#;le extra nachaine fal6"
      ]
    },
    {
      "cell_type": "code",
      "execution_count": null,
      "metadata": {
        "colab": {
          "base_uri": "https://localhost:8080/"
        },
        "id": "oJoGz36F3dzD",
        "outputId": "05cd2dc5-2cb0-4b7b-b3fe-09f771a2ee2c"
      },
      "outputs": [
        {
          "name": "stdout",
          "output_type": "stream",
          "text": [
            "0.4891021354167407\n",
            "0.34577937250442525\n"
          ]
        }
      ],
      "source": [
        "print(np.mean(a))\n",
        "print(np.median(a))"
      ]
    },
    {
      "cell_type": "markdown",
      "metadata": {
        "id": "XA8jP_iZ3-I4"
      },
      "source": [
        "#Negativly skewed"
      ]
    },
    {
      "cell_type": "code",
      "execution_count": null,
      "metadata": {
        "id": "i4lRF_Q44TjU"
      },
      "outputs": [],
      "source": [
        "#import matplotlib.pyplot as plt        #afai"
      ]
    },
    {
      "cell_type": "code",
      "execution_count": null,
      "metadata": {
        "colab": {
          "base_uri": "https://localhost:8080/",
          "height": 523
        },
        "id": "W-tWSfI931pp",
        "outputId": "9e0f81b5-d034-49f1-a305-447d1e388f92"
      },
      "outputs": [
        {
          "data": {
            "text/plain": [
              "<seaborn.axisgrid.FacetGrid at 0x79b377c5a440>"
            ]
          },
          "execution_count": 39,
          "metadata": {},
          "output_type": "execute_result"
        },
        {
          "data": {
            "image/png": "[encoded data removed]",
            "text/plain": [
              "<Figure size 500x500 with 1 Axes>"
            ]
          },
          "metadata": {},
          "output_type": "display_data"
        }
      ],
      "source": [
        "b = - random.lognormal(1,0.5,1000)\n",
        "sns.displot(b)"
      ]
    },
    {
      "cell_type": "code",
      "execution_count": null,
      "metadata": {
        "colab": {
          "base_uri": "https://localhost:8080/"
        },
        "id": "79Pa3sjk4Mch",
        "outputId": "b8393510-a3e3-4e16-c103-20d54d7a23dd"
      },
      "outputs": [
        {
          "name": "stdout",
          "output_type": "stream",
          "text": [
            "-3.0758675960943545\n",
            "-2.7673444631040693\n"
          ]
        }
      ],
      "source": [
        "print(np.mean(b))\n",
        "print(np.median(b))"
      ]
    },
    {
      "cell_type": "markdown",
      "metadata": {
        "id": "9BLMEENI46i3"
      },
      "source": [
        "#Boxplot\n",
        "\n",
        "\n",
        "1.   descriptive statistics\n",
        "\n",
        "\n",
        "\n",
        "1.   box bhitra ko line median\n",
        "2.   triangle is mean\n",
        "\n",
        "\n",
        "*   box ja thulo cha tyo skewed ho\n",
        "*   whisker jun thulo tyo skewed\n",
        "#first box then whisker\n",
        "\n"
      ]
    },
    {
      "cell_type": "code",
      "execution_count": null,
      "metadata": {
        "colab": {
          "base_uri": "https://localhost:8080/"
        },
        "id": "24qnVimo4nTJ",
        "outputId": "de139038-bf36-4810-c764-10f7e5bae4b6"
      },
      "outputs": [
        {
          "name": "stdout",
          "output_type": "stream",
          "text": [
            "62.2\n",
            "56.0\n",
            "44.0\n",
            "56.0\n",
            "88.0\n"
          ]
        }
      ],
      "source": [
        "num = np.array([23,44,56,88,100])\n",
        "print (np.mean(num))\n",
        "print (np.median(num))\n",
        "print (np.percentile(num,25))#q1\n",
        "print (np.percentile(num,50))#q2\n",
        "print (np.percentile(num,75))#q3"
      ]
    },
    {
      "cell_type": "code",
      "execution_count": null,
      "metadata": {
        "id": "4VzUPYXV542T"
      },
      "outputs": [],
      "source": [
        "num = np.array([23,44,56,88,100])\n",
        "import matplotlib.pyplot as plt"
      ]
    },
    {
      "cell_type": "code",
      "execution_count": null,
      "metadata": {
        "colab": {
          "base_uri": "https://localhost:8080/",
          "height": 430
        },
        "id": "eXcJx51G6B7R",
        "outputId": "d0674146-429c-4c71-9ff1-719bff0781a3"
      },
      "outputs": [
        {
          "data": {
            "image/png": "[encoded data removed]",
            "text/plain": [
              "<Figure size 640x480 with 1 Axes>"
            ]
          },
          "metadata": {},
          "output_type": "display_data"
        }
      ],
      "source": [
        "plt.boxplot(num);#;le extrafalcha"
      ]
    },
    {
      "cell_type": "code",
      "execution_count": null,
      "metadata": {
        "colab": {
          "base_uri": "https://localhost:8080/",
          "height": 569
        },
        "id": "PpVQFeqR6GZJ",
        "outputId": "fdff9a63-3fe4-403f-8be7-a1f1cbca0503"
      },
      "outputs": [
        {
          "data": {
            "text/plain": [
              "{'whiskers': [<matplotlib.lines.Line2D at 0x7827a607d9f0>,\n",
              "  <matplotlib.lines.Line2D at 0x7827a6098820>],\n",
              " 'caps': [<matplotlib.lines.Line2D at 0x7827a6098580>,\n",
              "  <matplotlib.lines.Line2D at 0x7827a60982e0>],\n",
              " 'boxes': [<matplotlib.lines.Line2D at 0x7827a607d7b0>],\n",
              " 'medians': [<matplotlib.lines.Line2D at 0x7827a6098040>],\n",
              " 'fliers': [<matplotlib.lines.Line2D at 0x7827a609a110>],\n",
              " 'means': [<matplotlib.lines.Line2D at 0x7827a6099e70>]}"
            ]
          },
          "execution_count": 7,
          "metadata": {},
          "output_type": "execute_result"
        },
        {
          "data": {
            "image/png": "[encoded data removed]",
            "text/plain": [
              "<Figure size 640x480 with 1 Axes>"
            ]
          },
          "metadata": {},
          "output_type": "display_data"
        }
      ],
      "source": [
        "a = plt.boxplot(num,vert = False,showmeans = True);\n",
        "a"
      ]
    },
    {
      "cell_type": "markdown",
      "metadata": {
        "id": "N4hWX3HB8Zp6"
      },
      "source": [
        "#variance,Std"
      ]
    },
    {
      "cell_type": "code",
      "execution_count": null,
      "metadata": {
        "colab": {
          "base_uri": "https://localhost:8080/"
        },
        "id": "ZXtwqqoO71dI",
        "outputId": "103d7d70-3272-41f4-9223-ddb1c6c4d534"
      },
      "outputs": [
        {
          "data": {
            "text/plain": [
              "800.1600000000001"
            ]
          },
          "execution_count": 51,
          "metadata": {},
          "output_type": "execute_result"
        }
      ],
      "source": [
        "np.var(num)"
      ]
    },
    {
      "cell_type": "code",
      "execution_count": null,
      "metadata": {
        "colab": {
          "base_uri": "https://localhost:8080/"
        },
        "id": "vUEamO2j8eSK",
        "outputId": "31e2dc2b-85b3-49a3-dc22-634ea0b7e9f1"
      },
      "outputs": [
        {
          "name": "stdout",
          "output_type": "stream",
          "text": [
            "28.287099533179433\n"
          ]
        },
        {
          "data": {
            "text/plain": [
              "28.287099533179433"
            ]
          },
          "execution_count": 53,
          "metadata": {},
          "output_type": "execute_result"
        }
      ],
      "source": [
        "print(np.sqrt(np.var(num)))#std\n",
        "np.std(num)#std\n"
      ]
    },
    {
      "cell_type": "code",
      "execution_count": null,
      "metadata": {
        "id": "FSBrRggg-u8n"
      },
      "outputs": [],
      "source": [
        "#learn outlier\n",
        "#degree of freedom in advanced stats::in sample popn n-1;;;in popn n"
      ]
    },
    {
      "cell_type": "code",
      "execution_count": null,
      "metadata": {
        "colab": {
          "base_uri": "https://localhost:8080/"
        },
        "id": "d9WpQ76p_Clf",
        "outputId": "28c1ef5c-ef80-48ae-8051-0f21b560aee3"
      },
      "outputs": [
        {
          "name": "stdout",
          "output_type": "stream",
          "text": [
            "['__class__', '__class_getitem__', '__contains__', '__delattr__', '__delitem__', '__dir__', '__doc__', '__eq__', '__format__', '__ge__', '__getattribute__', '__getitem__', '__gt__', '__hash__', '__init__', '__init_subclass__', '__ior__', '__iter__', '__le__', '__len__', '__lt__', '__ne__', '__new__', '__or__', '__reduce__', '__reduce_ex__', '__repr__', '__reversed__', '__ror__', '__setattr__', '__setitem__', '__sizeof__', '__str__', '__subclasshook__', 'clear', 'copy', 'fromkeys', 'get', 'items', 'keys', 'pop', 'popitem', 'setdefault', 'update', 'values']\n"
          ]
        }
      ],
      "source": [
        "print(dir(a))#print directory"
      ]
    },
    {
      "cell_type": "code",
      "execution_count": null,
      "metadata": {
        "id": "GaN00oBVVzO8"
      },
      "outputs": [],
      "source": [
        "import numpy as np"
      ]
    },
    {
      "cell_type": "code",
      "execution_count": null,
      "metadata": {
        "id": "SVpJEXcZ4MZE"
      },
      "outputs": [],
      "source": [
        "a = np.linspace(10,100,9).reshape(1,3,1,3)\n",
        "b = np.linspace(10,100,90).reshape(5,3,2,3)"
      ]
    },
    {
      "cell_type": "code",
      "execution_count": null,
      "metadata": {
        "colab": {
          "base_uri": "https://localhost:8080/"
        },
        "id": "bB5MbKQF5bjP",
        "outputId": "6175b6ec-0234-43af-e0cd-b34f4ad8334e"
      },
      "outputs": [
        {
          "data": {
            "text/plain": [
              "array([[[[ 20.        ,  32.26123596,  44.52247191],\n",
              "         [ 23.03370787,  35.29494382,  47.55617978]],\n",
              "\n",
              "        [[ 59.81741573,  72.07865169,  84.33988764],\n",
              "         [ 62.8511236 ,  75.11235955,  87.37359551]],\n",
              "\n",
              "        [[ 99.63483146, 111.89606742, 124.15730337],\n",
              "         [102.66853933, 114.92977528, 127.19101124]]],\n",
              "\n",
              "\n",
              "       [[[ 38.20224719,  50.46348315,  62.7247191 ],\n",
              "         [ 41.23595506,  53.49719101,  65.75842697]],\n",
              "\n",
              "        [[ 78.01966292,  90.28089888, 102.54213483],\n",
              "         [ 81.05337079,  93.31460674, 105.5758427 ]],\n",
              "\n",
              "        [[117.83707865, 130.09831461, 142.35955056],\n",
              "         [120.87078652, 133.13202247, 145.39325843]]],\n",
              "\n",
              "\n",
              "       [[[ 56.40449438,  68.66573034,  80.92696629],\n",
              "         [ 59.43820225,  71.6994382 ,  83.96067416]],\n",
              "\n",
              "        [[ 96.22191011, 108.48314607, 120.74438202],\n",
              "         [ 99.25561798, 111.51685393, 123.77808989]],\n",
              "\n",
              "        [[136.03932584, 148.3005618 , 160.56179775],\n",
              "         [139.07303371, 151.33426966, 163.59550562]]],\n",
              "\n",
              "\n",
              "       [[[ 74.60674157,  86.86797753,  99.12921348],\n",
              "         [ 77.64044944,  89.90168539, 102.16292135]],\n",
              "\n",
              "        [[114.4241573 , 126.68539326, 138.94662921],\n",
              "         [117.45786517, 129.71910112, 141.98033708]],\n",
              "\n",
              "        [[154.24157303, 166.50280899, 178.76404494],\n",
              "         [157.2752809 , 169.53651685, 181.79775281]]],\n",
              "\n",
              "\n",
              "       [[[ 92.80898876, 105.07022472, 117.33146067],\n",
              "         [ 95.84269663, 108.10393258, 120.36516854]],\n",
              "\n",
              "        [[132.62640449, 144.88764045, 157.1488764 ],\n",
              "         [135.66011236, 147.92134831, 160.18258427]],\n",
              "\n",
              "        [[172.44382022, 184.70505618, 196.96629213],\n",
              "         [175.47752809, 187.73876404, 200.        ]]]])"
            ]
          },
          "execution_count": 15,
          "metadata": {},
          "output_type": "execute_result"
        }
      ],
      "source": [
        "a+b"
      ]
    },
    {
      "cell_type": "markdown",
      "metadata": {
        "id": "wY-pVsZm7161"
      },
      "source": [
        "#Maths\n",
        "\n",
        "1.   Log\n",
        "2.   Exponential\n",
        "\n"
      ]
    },
    {
      "cell_type": "code",
      "execution_count": null,
      "metadata": {
        "colab": {
          "base_uri": "https://localhost:8080/"
        },
        "id": "xc0L0wFB5h-K",
        "outputId": "ac6b2304-12ae-4462-f01d-1d5ab611b8fe"
      },
      "outputs": [
        {
          "data": {
            "text/plain": [
              "2.6390573296152584"
            ]
          },
          "execution_count": 17,
          "metadata": {},
          "output_type": "execute_result"
        }
      ],
      "source": [
        "np.log(14)#base e huncha afai#natural log"
      ]
    },
    {
      "cell_type": "code",
      "execution_count": null,
      "metadata": {
        "colab": {
          "base_uri": "https://localhost:8080/"
        },
        "id": "yZ8mOoWd88ug",
        "outputId": "4d747932-436f-4c68-c883-191e5c521932"
      },
      "outputs": [
        {
          "data": {
            "text/plain": [
              "3.0"
            ]
          },
          "execution_count": 18,
          "metadata": {},
          "output_type": "execute_result"
        }
      ],
      "source": [
        "np.log2(8)"
      ]
    },
    {
      "cell_type": "code",
      "execution_count": null,
      "metadata": {
        "colab": {
          "base_uri": "https://localhost:8080/"
        },
        "id": "3gaAwGFp9Irw",
        "outputId": "de36a9ff-be3d-49e5-e4c1-b15083153e16"
      },
      "outputs": [
        {
          "data": {
            "text/plain": [
              "0.7781512503836436"
            ]
          },
          "execution_count": 19,
          "metadata": {},
          "output_type": "execute_result"
        }
      ],
      "source": [
        "np.log10(6)"
      ]
    },
    {
      "cell_type": "code",
      "execution_count": null,
      "metadata": {
        "colab": {
          "base_uri": "https://localhost:8080/"
        },
        "id": "JwAW5JBm9L2w",
        "outputId": "dd3f9e71-716d-4d8b-b6e9-7371a3d8f7a0"
      },
      "outputs": [
        {
          "data": {
            "text/plain": [
              "0.0"
            ]
          },
          "execution_count": 20,
          "metadata": {},
          "output_type": "execute_result"
        }
      ],
      "source": [
        "np.log1p(0) #log(0)=1p=0log(1)=0"
      ]
    },
    {
      "cell_type": "code",
      "execution_count": null,
      "metadata": {
        "colab": {
          "base_uri": "https://localhost:8080/"
        },
        "id": "2gO1v1tW9QYw",
        "outputId": "478a0014-2df0-44f8-e950-13885eb2a23c"
      },
      "outputs": [
        {
          "data": {
            "text/plain": [
              "20.085536923187668"
            ]
          },
          "execution_count": 21,
          "metadata": {},
          "output_type": "execute_result"
        }
      ],
      "source": [
        "np.exp(3)"
      ]
    },
    {
      "cell_type": "code",
      "execution_count": null,
      "metadata": {
        "id": "ArpnkWJc-V7G"
      },
      "outputs": [],
      "source": [
        "#exercise"
      ]
    },
    {
      "cell_type": "code",
      "execution_count": null,
      "metadata": {
        "id": "gTp8U9ZY9cMY"
      },
      "outputs": [],
      "source": [
        "from numpy import random\n",
        "random.seed(444)#reproducability\n",
        "a = random.lognormal(1,0.5,1000)"
      ]
    },
    {
      "cell_type": "code",
      "execution_count": null,
      "metadata": {
        "colab": {
          "base_uri": "https://localhost:8080/",
          "height": 506
        },
        "id": "tzczKJNV9q-n",
        "outputId": "ea5a245d-ece0-4768-de05-87f86c76c6b3"
      },
      "outputs": [
        {
          "data": {
            "image/png": "[encoded data removed]",
            "text/plain": [
              "<Figure size 500x500 with 1 Axes>"
            ]
          },
          "metadata": {},
          "output_type": "display_data"
        }
      ],
      "source": [
        "import seaborn as sns#disploted from seaborn\n",
        "sns.displot(a);"
      ]
    },
    {
      "cell_type": "code",
      "execution_count": null,
      "metadata": {
        "colab": {
          "base_uri": "https://localhost:8080/",
          "height": 430
        },
        "id": "0Ca9LrfAAFNI",
        "outputId": "e5a007e0-2441-436f-9f42-1d9a8d23a906"
      },
      "outputs": [
        {
          "data": {
            "image/png": "[encoded data removed]",
            "text/plain": [
              "<Figure size 640x480 with 1 Axes>"
            ]
          },
          "metadata": {},
          "output_type": "display_data"
        }
      ],
      "source": [
        "import matplotlib.pyplot as plt#boxplot\n",
        "plt.boxplot(a, vert =False, showmeans = True);"
      ]
    },
    {
      "cell_type": "code",
      "execution_count": null,
      "metadata": {
        "id": "A7GygTmi-RLQ"
      },
      "outputs": [],
      "source": [
        "b = np.log2(a)#log transformation"
      ]
    },
    {
      "cell_type": "code",
      "execution_count": null,
      "metadata": {
        "colab": {
          "base_uri": "https://localhost:8080/",
          "height": 506
        },
        "id": "5uHvRrph-mVo",
        "outputId": "1d4deb74-925c-46d7-d37c-2df17a5389f4"
      },
      "outputs": [
        {
          "data": {
            "image/png": "[encoded data removed]",
            "text/plain": [
              "<Figure size 500x500 with 1 Axes>"
            ]
          },
          "metadata": {},
          "output_type": "display_data"
        }
      ],
      "source": [
        "sns.displot(b);#plotted after log transformed"
      ]
    },
    {
      "cell_type": "code",
      "execution_count": null,
      "metadata": {
        "colab": {
          "base_uri": "https://localhost:8080/"
        },
        "id": "lRhd4Kfr-uLI",
        "outputId": "b133f0d3-7078-45d0-e01f-965693ea8479"
      },
      "outputs": [
        {
          "data": {
            "text/plain": [
              "1.4438609551495392"
            ]
          },
          "execution_count": 36,
          "metadata": {},
          "output_type": "execute_result"
        }
      ],
      "source": [
        "np.mean(b)"
      ]
    },
    {
      "cell_type": "code",
      "execution_count": null,
      "metadata": {
        "colab": {
          "base_uri": "https://localhost:8080/"
        },
        "id": "8Jn4mWix_Nbv",
        "outputId": "e8873bfb-7e41-4694-c0c0-eabd5c460dc2"
      },
      "outputs": [
        {
          "data": {
            "text/plain": [
              "1.4536559725659655"
            ]
          },
          "execution_count": 37,
          "metadata": {},
          "output_type": "execute_result"
        }
      ],
      "source": [
        "np.median(b)"
      ]
    },
    {
      "cell_type": "code",
      "execution_count": null,
      "metadata": {
        "id": "_rgYuEJvCIGq"
      },
      "outputs": [],
      "source": [
        "import matplotlib.pyplot as plt\n",
        "matplotlib.pyplot"
      ]
    },
    {
      "cell_type": "code",
      "execution_count": null,
      "metadata": {
        "colab": {
          "base_uri": "https://localhost:8080/",
          "height": 430
        },
        "id": "ppH0AIX3_P_v",
        "outputId": "aaafbcdf-77a7-4fb0-d338-e553829b4f1a"
      },
      "outputs": [
        {
          "data": {
            "image/png": "[encoded data removed]",
            "text/plain": [
              "<Figure size 640x480 with 1 Axes>"
            ]
          },
          "metadata": {},
          "output_type": "display_data"
        }
      ],
      "source": [
        "import matplotlib.pyplot as plt#boxplot\n",
        "plt.boxplot(b, vert =False, showmeans = True);"
      ]
    },
    {
      "cell_type": "markdown",
      "metadata": {
        "id": "1ns5jFkgAubC"
      },
      "source": [
        "#outlier detection"
      ]
    },
    {
      "cell_type": "code",
      "execution_count": null,
      "metadata": {
        "colab": {
          "base_uri": "https://localhost:8080/",
          "height": 447
        },
        "id": "kdCEQzxE_cjn",
        "outputId": "6bac2889-07d2-4c12-b861-f7cfaddba80a"
      },
      "outputs": [
        {
          "data": {
            "text/plain": [
              "array([ 1.,  2.,  3.,  4.,  5.,  6.,  9., 10., nan, nan, 40.])"
            ]
          },
          "execution_count": 45,
          "metadata": {},
          "output_type": "execute_result"
        },
        {
          "data": {
            "image/png": "[encoded data removed]",
            "text/plain": [
              "<Figure size 640x480 with 1 Axes>"
            ]
          },
          "metadata": {},
          "output_type": "display_data"
        }
      ],
      "source": [
        "a = np.array([1,2,3,4,5,6,9,10,100,200,40])\n",
        "import matplotlib.pyplot as plt\n",
        "plt.boxplot(a, vert = False);\n",
        "\n",
        "#[q1 -1.5* IQR, q3 + 1.5* IQR]\n",
        "\n",
        "q1 = np.percentile(a,25)\n",
        "q2 = np.percentile(a,50)#median np.median(a)\n",
        "q3 = np.percentile(a,75)\n",
        "\n",
        "IQR = q3-q1 #mean,median\n",
        "lower_range = q1-1.5*IQR\n",
        "upper_range = q3+1.5*IQR\n",
        "\n",
        "def func(value):\n",
        "    if value > lower_range and value < upper_range:\n",
        "        return float(value)\n",
        "    else:\n",
        "        return np.nan#nan is not a number,it is a float so\n",
        "a = np.array([1,2,3,4,5,6,9,10,100,200,40])\n",
        "v = np.vectorize(func)\n",
        "v(a)"
      ]
    },
    {
      "cell_type": "code",
      "execution_count": null,
      "metadata": {
        "colab": {
          "base_uri": "https://localhost:8080/",
          "height": 447
        },
        "collapsed": true,
        "id": "jHDE9_2orDr8",
        "outputId": "318669e9-4608-495b-e44d-cbfd9c888302"
      },
      "outputs": [
        {
          "data": {
            "text/plain": [
              "array([ 1.,  2.,  3.,  4.,  5.,  6.,  7.,  8.,  9., 15., nan])"
            ]
          },
          "execution_count": 17,
          "metadata": {},
          "output_type": "execute_result"
        },
        {
          "data": {
            "image/png": "[encoded data removed]",
            "text/plain": [
              "<Figure size 640x480 with 1 Axes>"
            ]
          },
          "metadata": {},
          "output_type": "display_data"
        }
      ],
      "source": [
        "import numpy as np\n",
        "a = np.array([1,2,3,4,5,6,7,8,9,15,20])#20 is outlier\n",
        "import matplotlib.pyplot as plt\n",
        "plt.boxplot(a,showmeans = True, vert = False)\n",
        "\n",
        "q1 = np.percentile(a,25)\n",
        "q2 = np.percentile(a,50)\n",
        "q3 = np. percentile(a,75)\n",
        "\n",
        "IQR = q3 - q1\n",
        "\n",
        "lower_range = q1-1.5*IQR\n",
        "upper_range = q3+1.5*IQR\n",
        "\n",
        "def func(value):\n",
        "    if value > lower_range and value < upper_range:\n",
        "        return float(value)\n",
        "    else:\n",
        "        return np.nan\n",
        "\n",
        "vectorizer = np.vectorize(func)\n",
        "vectorizer(a)\n",
        "\n",
        "\n"
      ]
    },
    {
      "cell_type": "code",
      "execution_count": null,
      "metadata": {
        "colab": {
          "base_uri": "https://localhost:8080/",
          "height": 465
        },
        "id": "iOhefHdrtKeo",
        "outputId": "9e371ba6-7992-480d-b165-7dffccb43b10"
      },
      "outputs": [
        {
          "data": {
            "text/plain": [
              "array([ 1.,  2.,  3.,  4.,  5.,  6.,  7.,  8.,  9., 10., 11., 12., 13.,\n",
              "       15., nan])"
            ]
          },
          "execution_count": 14,
          "metadata": {},
          "output_type": "execute_result"
        },
        {
          "data": {
            "image/png": "[encoded data removed]",
            "text/plain": [
              "<Figure size 640x480 with 1 Axes>"
            ]
          },
          "metadata": {},
          "output_type": "display_data"
        }
      ],
      "source": [
        "import numpy as np\n",
        "a = np.array([1,2,3,4,5,6,7,8,9,10,11,12,13,15,50])#50 is outlier\n",
        "import matplotlib.pyplot as plt\n",
        "plt.boxplot(a,showmeans = True, vert = False)#horizontal aucha\n",
        "\n",
        "q1 = np.percentile(a,25)\n",
        "q2 = np.percentile(a,50)\n",
        "q3 = np.percentile(a,75)\n",
        "\n",
        "\n",
        "IQR = q3-q1\n",
        "lower_range = q1-1.5*IQR\n",
        "upper_range = q3+1.5*IQR\n",
        "\n",
        "def func(value):\n",
        "    if value > lower_range and value <upper_range:\n",
        "        return float(value)\n",
        "    else:\n",
        "        return np.nan\n",
        "\n",
        "vectorizer = np.vectorize(func)\n",
        "vectorizer(a)"
      ]
    },
    {
      "cell_type": "code",
      "execution_count": null,
      "metadata": {
        "colab": {
          "base_uri": "https://localhost:8080/"
        },
        "id": "rtqZ8NK2E2tO",
        "outputId": "6358455c-d7a1-4fe6-a564-26336d705e05"
      },
      "outputs": [
        {
          "data": {
            "text/plain": [
              "array([ 1.,  2.,  3.,  4.,  5.,  6.,  9., 10., nan, nan, 40.])"
            ]
          },
          "execution_count": 46,
          "metadata": {},
          "output_type": "execute_result"
        }
      ],
      "source": [
        "#[q1 -1.5* IQR, q3 + 1.5* IQR]\n",
        "\n",
        "q1 = np.percentile(a,25)\n",
        "q2 = np.percentile(a,50)#median np.median(a)\n",
        "q3 = np.percentile(a,75)\n",
        "\n",
        "IQR = q3-q1 #mean,median\n",
        "lower_range = q1-1.5*IQR\n",
        "upper_range = q3+1.5*IQR\n",
        "\n",
        "def func(value):\n",
        "    if value > lower_range and value < upper_range:\n",
        "        return float(value)\n",
        "    else:\n",
        "        return np.nan#nan is not a number,it is a float so\n",
        "a = np.array([1,2,3,4,5,6,9,10,100,200,40])\n",
        "v = np.vectorize(func)\n",
        "v(a)"
      ]
    },
    {
      "cell_type": "markdown",
      "metadata": {
        "id": "AISxPGP5HtvX"
      },
      "source": [
        "#Mathematical function\n",
        "\n",
        "1.   np.log()\n",
        "2.   np.exp()\n",
        "\n"
      ]
    },
    {
      "cell_type": "code",
      "execution_count": null,
      "metadata": {
        "colab": {
          "base_uri": "https://localhost:8080/"
        },
        "id": "n7NzGOnmGzW_",
        "outputId": "05ebc2e3-2c26-4f8f-ad20-aca46fb66fd5"
      },
      "outputs": [
        {
          "data": {
            "text/plain": [
              "EigResult(eigenvalues=array([-1.44622199, 12.44622199]), eigenvectors=array([[-0.85311311, -0.32989649],\n",
              "       [ 0.52172601, -0.94401711]]))"
            ]
          },
          "execution_count": 48,
          "metadata": {},
          "output_type": "execute_result"
        }
      ],
      "source": [
        "a = np.linspace(1,10,4).reshape(2,2)\n",
        "b = np.linspace(1,10,4).reshape(2,2)#shape=(2,2),size = 2*2 = 4\n",
        "\n",
        "np.matmul(a,b)#only for matrix\n",
        "np.dot(a,b) #matrix ra vector dubailai huncha\n",
        "a @ b #github ma sabse badi use huncha  #same answer dincha matmul dot @\n",
        "\n",
        "np.linalg.det(a)\n",
        "np.linalg.inv(a)\n",
        "np.linalg.eig(a)#PCA\n"
      ]
    },
    {
      "cell_type": "code",
      "execution_count": null,
      "metadata": {
        "id": "vZavjUZBTrY9"
      },
      "outputs": [],
      "source": [
        "import pandas as pd"
      ]
    },
    {
      "cell_type": "markdown",
      "metadata": {
        "id": "HbMlkGLNTjjQ"
      },
      "source": [
        "#pandas.series\n",
        "\n",
        "\n",
        "1.  a.shape\n",
        "2.   List item\n",
        "\n"
      ]
    },
    {
      "cell_type": "code",
      "execution_count": null,
      "metadata": {
        "colab": {
          "base_uri": "https://localhost:8080/",
          "height": 209
        },
        "id": "NYqFr2I5Ihxg",
        "outputId": "d6371764-e076-4753-d00b-0f639562c97e"
      },
      "outputs": [
        {
          "output_type": "execute_result",
          "data": {
            "text/plain": [
              "apple       45\n",
              "ball     hrllo\n",
              "cat         44\n",
              "dog         56\n",
              "dtype: object"
            ],
            "text/html": [
              "<div>\n",
              "<style scoped>\n",
              "    .dataframe tbody tr th:only-of-type {\n",
              "        vertical-align: middle;\n",
              "    }\n",
              "\n",
              "    .dataframe tbody tr th {\n",
              "        vertical-align: top;\n",
              "    }\n",
              "\n",
              "    .dataframe thead th {\n",
              "        text-align: right;\n",
              "    }\n",
              "</style>\n",
              "<table border=\"1\" class=\"dataframe\">\n",
              "  <thead>\n",
              "    <tr style=\"text-align: right;\">\n",
              "      <th></th>\n",
              "      <th>0</th>\n",
              "    </tr>\n",
              "  </thead>\n",
              "  <tbody>\n",
              "    <tr>\n",
              "      <th>apple</th>\n",
              "      <td>45</td>\n",
              "    </tr>\n",
              "    <tr>\n",
              "      <th>ball</th>\n",
              "      <td>hrllo</td>\n",
              "    </tr>\n",
              "    <tr>\n",
              "      <th>cat</th>\n",
              "      <td>44</td>\n",
              "    </tr>\n",
              "    <tr>\n",
              "      <th>dog</th>\n",
              "      <td>56</td>\n",
              "    </tr>\n",
              "  </tbody>\n",
              "</table>\n",
              "</div><br><label><b>dtype:</b> object</label>"
            ]
          },
          "metadata": {},
          "execution_count": 4
        }
      ],
      "source": [
        "a = pd.Series(['name','hrllo','name',56],index = ['apple','ball','cat','dog'])#name = ['sales'])\n",
        "a"
      ]
    },
    {
      "cell_type": "code",
      "execution_count": null,
      "metadata": {
        "colab": {
          "base_uri": "https://localhost:8080/",
          "height": 233
        },
        "id": "D0SK82QxT9lA",
        "outputId": "45f23189-f1eb-43cd-ac31-bfadb6804c42"
      },
      "outputs": [
        {
          "output_type": "stream",
          "name": "stderr",
          "text": [
            "<ipython-input-10-4aa3af62dddd>:2: FutureWarning: Series.__getitem__ treating keys as positions is deprecated. In a future version, integer keys will always be treated as labels (consistent with DataFrame behavior). To access a value by position, use `ser.iloc[pos]`\n",
            "  b=a[[0,2,3]]\n"
          ]
        },
        {
          "output_type": "execute_result",
          "data": {
            "text/plain": [
              "0    45\n",
              "1    44\n",
              "2    56\n",
              "dtype: object"
            ],
            "text/html": [
              "<div>\n",
              "<style scoped>\n",
              "    .dataframe tbody tr th:only-of-type {\n",
              "        vertical-align: middle;\n",
              "    }\n",
              "\n",
              "    .dataframe tbody tr th {\n",
              "        vertical-align: top;\n",
              "    }\n",
              "\n",
              "    .dataframe thead th {\n",
              "        text-align: right;\n",
              "    }\n",
              "</style>\n",
              "<table border=\"1\" class=\"dataframe\">\n",
              "  <thead>\n",
              "    <tr style=\"text-align: right;\">\n",
              "      <th></th>\n",
              "      <th>0</th>\n",
              "    </tr>\n",
              "  </thead>\n",
              "  <tbody>\n",
              "    <tr>\n",
              "      <th>0</th>\n",
              "      <td>45</td>\n",
              "    </tr>\n",
              "    <tr>\n",
              "      <th>1</th>\n",
              "      <td>44</td>\n",
              "    </tr>\n",
              "    <tr>\n",
              "      <th>2</th>\n",
              "      <td>56</td>\n",
              "    </tr>\n",
              "  </tbody>\n",
              "</table>\n",
              "</div><br><label><b>dtype:</b> object</label>"
            ]
          },
          "metadata": {},
          "execution_count": 10
        }
      ],
      "source": [
        "#a.reset_index\n",
        "b=a[[0,2,3]]\n",
        "b.reset_index(drop = True)\n"
      ]
    },
    {
      "cell_type": "code",
      "execution_count": null,
      "metadata": {
        "colab": {
          "base_uri": "https://localhost:8080/"
        },
        "id": "gk-g-9UtWWKI",
        "outputId": "d8aac0da-d2e7-4ef6-d421-c2a132821856"
      },
      "outputs": [
        {
          "name": "stderr",
          "output_type": "stream",
          "text": [
            "<ipython-input-28-bf5dc521c950>:2: FutureWarning: Series.__getitem__ treating keys as positions is deprecated. In a future version, integer keys will always be treated as labels (consistent with DataFrame behavior). To access a value by position, use `ser.iloc[pos]`\n",
            "  b=a[[0,2,3]]\n"
          ]
        }
      ],
      "source": [
        "#a.reset_index\n",
        "b=a[[0,2,3]]\n",
        "b = b.reset_index(drop = True)"
      ]
    },
    {
      "cell_type": "code",
      "execution_count": null,
      "metadata": {
        "id": "k6h1wnYNWdaY"
      },
      "outputs": [],
      "source": [
        "b = pd.Series([1,2,3,4,5,6], index = ['apple','ball','cat','al','aa','ccc'])"
      ]
    },
    {
      "cell_type": "code",
      "execution_count": null,
      "metadata": {
        "id": "YkBXuzVHWssj"
      },
      "outputs": [],
      "source": [
        "#b+4\n",
        "#b-4\n",
        "#b*4\n",
        "#b/4\n",
        "#b//4\n",
        "#b%4\n",
        "#b**4"
      ]
    },
    {
      "cell_type": "code",
      "execution_count": null,
      "metadata": {
        "colab": {
          "base_uri": "https://localhost:8080/",
          "height": 293
        },
        "id": "cETHHza7W1xS",
        "outputId": "a12f3a2a-2c2a-44b3-e317-b550cd89fa61"
      },
      "outputs": [
        {
          "output_type": "stream",
          "name": "stdout",
          "text": [
            "aa     5\n",
            "ccc    6\n",
            "dtype: int64\n"
          ]
        },
        {
          "output_type": "execute_result",
          "data": {
            "text/plain": [
              "apple    1\n",
              "ball     2\n",
              "cat      3\n",
              "aa       5\n",
              "ccc      6\n",
              "dtype: int64"
            ],
            "text/html": [
              "<div>\n",
              "<style scoped>\n",
              "    .dataframe tbody tr th:only-of-type {\n",
              "        vertical-align: middle;\n",
              "    }\n",
              "\n",
              "    .dataframe tbody tr th {\n",
              "        vertical-align: top;\n",
              "    }\n",
              "\n",
              "    .dataframe thead th {\n",
              "        text-align: right;\n",
              "    }\n",
              "</style>\n",
              "<table border=\"1\" class=\"dataframe\">\n",
              "  <thead>\n",
              "    <tr style=\"text-align: right;\">\n",
              "      <th></th>\n",
              "      <th>0</th>\n",
              "    </tr>\n",
              "  </thead>\n",
              "  <tbody>\n",
              "    <tr>\n",
              "      <th>apple</th>\n",
              "      <td>1</td>\n",
              "    </tr>\n",
              "    <tr>\n",
              "      <th>ball</th>\n",
              "      <td>2</td>\n",
              "    </tr>\n",
              "    <tr>\n",
              "      <th>cat</th>\n",
              "      <td>3</td>\n",
              "    </tr>\n",
              "    <tr>\n",
              "      <th>aa</th>\n",
              "      <td>5</td>\n",
              "    </tr>\n",
              "    <tr>\n",
              "      <th>ccc</th>\n",
              "      <td>6</td>\n",
              "    </tr>\n",
              "  </tbody>\n",
              "</table>\n",
              "</div><br><label><b>dtype:</b> int64</label>"
            ]
          },
          "metadata": {},
          "execution_count": 19
        }
      ],
      "source": [
        "print(b.loc[b>4])#loc=location\n",
        "b.loc[b<4]\n",
        "b.loc[b==4]\n",
        "b.loc[b!=4]"
      ]
    },
    {
      "cell_type": "code",
      "execution_count": null,
      "metadata": {
        "colab": {
          "base_uri": "https://localhost:8080/",
          "height": 132
        },
        "id": "6cVg21PgXL5i",
        "outputId": "52751fdb-53d1-4e77-8281-3220b0452b49"
      },
      "outputs": [
        {
          "output_type": "stream",
          "name": "stdout",
          "text": [
            "4\n"
          ]
        },
        {
          "output_type": "execute_result",
          "data": {
            "text/plain": [
              "4    5\n",
              "dtype: int64"
            ],
            "text/html": [
              "<div>\n",
              "<style scoped>\n",
              "    .dataframe tbody tr th:only-of-type {\n",
              "        vertical-align: middle;\n",
              "    }\n",
              "\n",
              "    .dataframe tbody tr th {\n",
              "        vertical-align: top;\n",
              "    }\n",
              "\n",
              "    .dataframe thead th {\n",
              "        text-align: right;\n",
              "    }\n",
              "</style>\n",
              "<table border=\"1\" class=\"dataframe\">\n",
              "  <thead>\n",
              "    <tr style=\"text-align: right;\">\n",
              "      <th></th>\n",
              "      <th>0</th>\n",
              "    </tr>\n",
              "  </thead>\n",
              "  <tbody>\n",
              "    <tr>\n",
              "      <th>4</th>\n",
              "      <td>5</td>\n",
              "    </tr>\n",
              "  </tbody>\n",
              "</table>\n",
              "</div><br><label><b>dtype:</b> int64</label>"
            ]
          },
          "metadata": {},
          "execution_count": 20
        }
      ],
      "source": [
        "b = pd.Series([1,2,3,4,5])\n",
        "print(b.iloc[3])\n",
        "#integer loc\n",
        "b.loc[b>4]\n",
        "\n",
        "#integer based\n",
        "#b.iloc[3]\n",
        "#b.loc[3]\n",
        "#loc can use filter\n",
        "#iloc no filter"
      ]
    },
    {
      "cell_type": "markdown",
      "source": [
        "#4th class"
      ],
      "metadata": {
        "id": "PQJq9ddwosV5"
      }
    },
    {
      "cell_type": "code",
      "execution_count": null,
      "metadata": {
        "id": "wn12l9JRX8jC"
      },
      "outputs": [],
      "source": [
        "import pandas as pd\n",
        "import numpy as np"
      ]
    },
    {
      "cell_type": "code",
      "source": [
        "pip install notebook"
      ],
      "metadata": {
        "colab": {
          "base_uri": "https://localhost:8080/"
        },
        "id": "o_Pb8mWokiXc",
        "outputId": "8916ee17-e29f-444d-8126-7d8204862cf4"
      },
      "execution_count": null,
      "outputs": [
        {
          "output_type": "stream",
          "name": "stdout",
          "text": [
            "Requirement already satisfied: notebook in /usr/local/lib/python3.10/dist-packages (6.5.5)\n",
            "Requirement already satisfied: jinja2 in /usr/local/lib/python3.10/dist-packages (from notebook) (3.1.4)\n",
            "Requirement already satisfied: tornado>=6.1 in /usr/local/lib/python3.10/dist-packages (from notebook) (6.3.3)\n",
            "Requirement already satisfied: pyzmq<25,>=17 in /usr/local/lib/python3.10/dist-packages (from notebook) (24.0.1)\n",
            "Requirement already satisfied: argon2-cffi in /usr/local/lib/python3.10/dist-packages (from notebook) (23.1.0)\n",
            "Requirement already satisfied: traitlets>=4.2.1 in /usr/local/lib/python3.10/dist-packages (from notebook) (5.7.1)\n",
            "Requirement already satisfied: jupyter-core>=4.6.1 in /usr/local/lib/python3.10/dist-packages (from notebook) (5.7.2)\n",
            "Requirement already satisfied: jupyter-client<8,>=5.3.4 in /usr/local/lib/python3.10/dist-packages (from notebook) (6.1.12)\n",
            "Requirement already satisfied: ipython-genutils in /usr/local/lib/python3.10/dist-packages (from notebook) (0.2.0)\n",
            "Requirement already satisfied: nbformat in /usr/local/lib/python3.10/dist-packages (from notebook) (5.10.4)\n",
            "Requirement already satisfied: nbconvert>=5 in /usr/local/lib/python3.10/dist-packages (from notebook) (6.5.4)\n",
            "Requirement already satisfied: nest-asyncio>=1.5 in /usr/local/lib/python3.10/dist-packages (from notebook) (1.6.0)\n",
            "Requirement already satisfied: ipykernel in /usr/local/lib/python3.10/dist-packages (from notebook) (5.5.6)\n",
            "Requirement already satisfied: Send2Trash>=1.8.0 in /usr/local/lib/python3.10/dist-packages (from notebook) (1.8.3)\n",
            "Requirement already satisfied: terminado>=0.8.3 in /usr/local/lib/python3.10/dist-packages (from notebook) (0.18.1)\n",
            "Requirement already satisfied: prometheus-client in /usr/local/lib/python3.10/dist-packages (from notebook) (0.20.0)\n",
            "Requirement already satisfied: nbclassic>=0.4.7 in /usr/local/lib/python3.10/dist-packages (from notebook) (1.1.0)\n",
            "Requirement already satisfied: python-dateutil>=2.1 in /usr/local/lib/python3.10/dist-packages (from jupyter-client<8,>=5.3.4->notebook) (2.8.2)\n",
            "Requirement already satisfied: platformdirs>=2.5 in /usr/local/lib/python3.10/dist-packages (from jupyter-core>=4.6.1->notebook) (4.3.2)\n",
            "Requirement already satisfied: notebook-shim>=0.2.3 in /usr/local/lib/python3.10/dist-packages (from nbclassic>=0.4.7->notebook) (0.2.4)\n",
            "Requirement already satisfied: lxml in /usr/local/lib/python3.10/dist-packages (from nbconvert>=5->notebook) (4.9.4)\n",
            "Requirement already satisfied: beautifulsoup4 in /usr/local/lib/python3.10/dist-packages (from nbconvert>=5->notebook) (4.12.3)\n",
            "Requirement already satisfied: bleach in /usr/local/lib/python3.10/dist-packages (from nbconvert>=5->notebook) (6.1.0)\n",
            "Requirement already satisfied: defusedxml in /usr/local/lib/python3.10/dist-packages (from nbconvert>=5->notebook) (0.7.1)\n",
            "Requirement already satisfied: entrypoints>=0.2.2 in /usr/local/lib/python3.10/dist-packages (from nbconvert>=5->notebook) (0.4)\n",
            "Requirement already satisfied: jupyterlab-pygments in /usr/local/lib/python3.10/dist-packages (from nbconvert>=5->notebook) (0.3.0)\n",
            "Requirement already satisfied: MarkupSafe>=2.0 in /usr/local/lib/python3.10/dist-packages (from nbconvert>=5->notebook) (2.1.5)\n",
            "Requirement already satisfied: mistune<2,>=0.8.1 in /usr/local/lib/python3.10/dist-packages (from nbconvert>=5->notebook) (0.8.4)\n",
            "Requirement already satisfied: nbclient>=0.5.0 in /usr/local/lib/python3.10/dist-packages (from nbconvert>=5->notebook) (0.10.0)\n",
            "Requirement already satisfied: packaging in /usr/local/lib/python3.10/dist-packages (from nbconvert>=5->notebook) (24.1)\n",
            "Requirement already satisfied: pandocfilters>=1.4.1 in /usr/local/lib/python3.10/dist-packages (from nbconvert>=5->notebook) (1.5.1)\n",
            "Requirement already satisfied: pygments>=2.4.1 in /usr/local/lib/python3.10/dist-packages (from nbconvert>=5->notebook) (2.16.1)\n",
            "Requirement already satisfied: tinycss2 in /usr/local/lib/python3.10/dist-packages (from nbconvert>=5->notebook) (1.3.0)\n",
            "Requirement already satisfied: fastjsonschema>=2.15 in /usr/local/lib/python3.10/dist-packages (from nbformat->notebook) (2.20.0)\n",
            "Requirement already satisfied: jsonschema>=2.6 in /usr/local/lib/python3.10/dist-packages (from nbformat->notebook) (4.23.0)\n",
            "Requirement already satisfied: ptyprocess in /usr/local/lib/python3.10/dist-packages (from terminado>=0.8.3->notebook) (0.7.0)\n",
            "Requirement already satisfied: argon2-cffi-bindings in /usr/local/lib/python3.10/dist-packages (from argon2-cffi->notebook) (21.2.0)\n",
            "Requirement already satisfied: ipython>=5.0.0 in /usr/local/lib/python3.10/dist-packages (from ipykernel->notebook) (7.34.0)\n",
            "Requirement already satisfied: setuptools>=18.5 in /usr/local/lib/python3.10/dist-packages (from ipython>=5.0.0->ipykernel->notebook) (71.0.4)\n",
            "Collecting jedi>=0.16 (from ipython>=5.0.0->ipykernel->notebook)\n",
            "  Using cached jedi-0.19.1-py2.py3-none-any.whl.metadata (22 kB)\n",
            "Requirement already satisfied: decorator in /usr/local/lib/python3.10/dist-packages (from ipython>=5.0.0->ipykernel->notebook) (4.4.2)\n",
            "Requirement already satisfied: pickleshare in /usr/local/lib/python3.10/dist-packages (from ipython>=5.0.0->ipykernel->notebook) (0.7.5)\n",
            "Requirement already satisfied: prompt-toolkit!=3.0.0,!=3.0.1,<3.1.0,>=2.0.0 in /usr/local/lib/python3.10/dist-packages (from ipython>=5.0.0->ipykernel->notebook) (3.0.47)\n",
            "Requirement already satisfied: backcall in /usr/local/lib/python3.10/dist-packages (from ipython>=5.0.0->ipykernel->notebook) (0.2.0)\n",
            "Requirement already satisfied: matplotlib-inline in /usr/local/lib/python3.10/dist-packages (from ipython>=5.0.0->ipykernel->notebook) (0.1.7)\n",
            "Requirement already satisfied: pexpect>4.3 in /usr/local/lib/python3.10/dist-packages (from ipython>=5.0.0->ipykernel->notebook) (4.9.0)\n",
            "Requirement already satisfied: attrs>=22.2.0 in /usr/local/lib/python3.10/dist-packages (from jsonschema>=2.6->nbformat->notebook) (24.2.0)\n",
            "Requirement already satisfied: jsonschema-specifications>=2023.03.6 in /usr/local/lib/python3.10/dist-packages (from jsonschema>=2.6->nbformat->notebook) (2023.12.1)\n",
            "Requirement already satisfied: referencing>=0.28.4 in /usr/local/lib/python3.10/dist-packages (from jsonschema>=2.6->nbformat->notebook) (0.35.1)\n",
            "Requirement already satisfied: rpds-py>=0.7.1 in /usr/local/lib/python3.10/dist-packages (from jsonschema>=2.6->nbformat->notebook) (0.20.0)\n",
            "Requirement already satisfied: jupyter-server<3,>=1.8 in /usr/local/lib/python3.10/dist-packages (from notebook-shim>=0.2.3->nbclassic>=0.4.7->notebook) (1.24.0)\n",
            "Requirement already satisfied: six>=1.5 in /usr/local/lib/python3.10/dist-packages (from python-dateutil>=2.1->jupyter-client<8,>=5.3.4->notebook) (1.16.0)\n",
            "Requirement already satisfied: cffi>=1.0.1 in /usr/local/lib/python3.10/dist-packages (from argon2-cffi-bindings->argon2-cffi->notebook) (1.17.1)\n",
            "Requirement already satisfied: soupsieve>1.2 in /usr/local/lib/python3.10/dist-packages (from beautifulsoup4->nbconvert>=5->notebook) (2.6)\n",
            "Requirement already satisfied: webencodings in /usr/local/lib/python3.10/dist-packages (from bleach->nbconvert>=5->notebook) (0.5.1)\n",
            "Requirement already satisfied: pycparser in /usr/local/lib/python3.10/dist-packages (from cffi>=1.0.1->argon2-cffi-bindings->argon2-cffi->notebook) (2.22)\n",
            "Requirement already satisfied: parso<0.9.0,>=0.8.3 in /usr/local/lib/python3.10/dist-packages (from jedi>=0.16->ipython>=5.0.0->ipykernel->notebook) (0.8.4)\n",
            "Requirement already satisfied: anyio<4,>=3.1.0 in /usr/local/lib/python3.10/dist-packages (from jupyter-server<3,>=1.8->notebook-shim>=0.2.3->nbclassic>=0.4.7->notebook) (3.7.1)\n",
            "Requirement already satisfied: websocket-client in /usr/local/lib/python3.10/dist-packages (from jupyter-server<3,>=1.8->notebook-shim>=0.2.3->nbclassic>=0.4.7->notebook) (1.8.0)\n",
            "Requirement already satisfied: wcwidth in /usr/local/lib/python3.10/dist-packages (from prompt-toolkit!=3.0.0,!=3.0.1,<3.1.0,>=2.0.0->ipython>=5.0.0->ipykernel->notebook) (0.2.13)\n",
            "Requirement already satisfied: idna>=2.8 in /usr/local/lib/python3.10/dist-packages (from anyio<4,>=3.1.0->jupyter-server<3,>=1.8->notebook-shim>=0.2.3->nbclassic>=0.4.7->notebook) (3.8)\n",
            "Requirement already satisfied: sniffio>=1.1 in /usr/local/lib/python3.10/dist-packages (from anyio<4,>=3.1.0->jupyter-server<3,>=1.8->notebook-shim>=0.2.3->nbclassic>=0.4.7->notebook) (1.3.1)\n",
            "Requirement already satisfied: exceptiongroup in /usr/local/lib/python3.10/dist-packages (from anyio<4,>=3.1.0->jupyter-server<3,>=1.8->notebook-shim>=0.2.3->nbclassic>=0.4.7->notebook) (1.2.2)\n",
            "Using cached jedi-0.19.1-py2.py3-none-any.whl (1.6 MB)\n",
            "Installing collected packages: jedi\n",
            "Successfully installed jedi-0.19.1\n"
          ]
        }
      ]
    },
    {
      "cell_type": "code",
      "source": [
        "pip install jupyterlab\n"
      ],
      "metadata": {
        "colab": {
          "base_uri": "https://localhost:8080/"
        },
        "id": "CL4-qoJRk3BM",
        "outputId": "02dbb2b1-df5a-4126-daf1-16ce8fb3564e"
      },
      "execution_count": null,
      "outputs": [
        {
          "output_type": "stream",
          "name": "stdout",
          "text": [
            "Collecting jupyterlab\n",
            "  Downloading jupyterlab-4.2.5-py3-none-any.whl.metadata (16 kB)\n",
            "Collecting async-lru>=1.0.0 (from jupyterlab)\n",
            "  Downloading async_lru-2.0.4-py3-none-any.whl.metadata (4.5 kB)\n",
            "Collecting httpx>=0.25.0 (from jupyterlab)\n",
            "  Downloading httpx-0.27.2-py3-none-any.whl.metadata (7.1 kB)\n",
            "Collecting ipykernel>=6.5.0 (from jupyterlab)\n",
            "  Downloading ipykernel-6.29.5-py3-none-any.whl.metadata (6.3 kB)\n",
            "Requirement already satisfied: jinja2>=3.0.3 in /usr/local/lib/python3.10/dist-packages (from jupyterlab) (3.1.4)\n",
            "Requirement already satisfied: jupyter-core in /usr/local/lib/python3.10/dist-packages (from jupyterlab) (5.7.2)\n",
            "Collecting jupyter-lsp>=2.0.0 (from jupyterlab)\n",
            "  Downloading jupyter_lsp-2.2.5-py3-none-any.whl.metadata (1.8 kB)\n",
            "Collecting jupyter-server<3,>=2.4.0 (from jupyterlab)\n",
            "  Downloading jupyter_server-2.14.2-py3-none-any.whl.metadata (8.4 kB)\n",
            "Collecting jupyterlab-server<3,>=2.27.1 (from jupyterlab)\n",
            "  Downloading jupyterlab_server-2.27.3-py3-none-any.whl.metadata (5.9 kB)\n",
            "Requirement already satisfied: notebook-shim>=0.2 in /usr/local/lib/python3.10/dist-packages (from jupyterlab) (0.2.4)\n",
            "Requirement already satisfied: packaging in /usr/local/lib/python3.10/dist-packages (from jupyterlab) (24.1)\n",
            "Requirement already satisfied: setuptools>=40.1.0 in /usr/local/lib/python3.10/dist-packages (from jupyterlab) (71.0.4)\n",
            "Requirement already satisfied: tomli>=1.2.2 in /usr/local/lib/python3.10/dist-packages (from jupyterlab) (2.0.1)\n",
            "Requirement already satisfied: tornado>=6.2.0 in /usr/local/lib/python3.10/dist-packages (from jupyterlab) (6.3.3)\n",
            "Requirement already satisfied: traitlets in /usr/local/lib/python3.10/dist-packages (from jupyterlab) (5.7.1)\n",
            "Requirement already satisfied: typing-extensions>=4.0.0 in /usr/local/lib/python3.10/dist-packages (from async-lru>=1.0.0->jupyterlab) (4.12.2)\n",
            "Requirement already satisfied: anyio in /usr/local/lib/python3.10/dist-packages (from httpx>=0.25.0->jupyterlab) (3.7.1)\n",
            "Requirement already satisfied: certifi in /usr/local/lib/python3.10/dist-packages (from httpx>=0.25.0->jupyterlab) (2024.8.30)\n",
            "Collecting httpcore==1.* (from httpx>=0.25.0->jupyterlab)\n",
            "  Downloading httpcore-1.0.5-py3-none-any.whl.metadata (20 kB)\n",
            "Requirement already satisfied: idna in /usr/local/lib/python3.10/dist-packages (from httpx>=0.25.0->jupyterlab) (3.8)\n",
            "Requirement already satisfied: sniffio in /usr/local/lib/python3.10/dist-packages (from httpx>=0.25.0->jupyterlab) (1.3.1)\n",
            "Collecting h11<0.15,>=0.13 (from httpcore==1.*->httpx>=0.25.0->jupyterlab)\n",
            "  Downloading h11-0.14.0-py3-none-any.whl.metadata (8.2 kB)\n",
            "Collecting comm>=0.1.1 (from ipykernel>=6.5.0->jupyterlab)\n",
            "  Downloading comm-0.2.2-py3-none-any.whl.metadata (3.7 kB)\n",
            "Requirement already satisfied: debugpy>=1.6.5 in /usr/local/lib/python3.10/dist-packages (from ipykernel>=6.5.0->jupyterlab) (1.6.6)\n",
            "Requirement already satisfied: ipython>=7.23.1 in /usr/local/lib/python3.10/dist-packages (from ipykernel>=6.5.0->jupyterlab) (7.34.0)\n",
            "Requirement already satisfied: jupyter-client>=6.1.12 in /usr/local/lib/python3.10/dist-packages (from ipykernel>=6.5.0->jupyterlab) (6.1.12)\n",
            "Requirement already satisfied: matplotlib-inline>=0.1 in /usr/local/lib/python3.10/dist-packages (from ipykernel>=6.5.0->jupyterlab) (0.1.7)\n",
            "Requirement already satisfied: nest-asyncio in /usr/local/lib/python3.10/dist-packages (from ipykernel>=6.5.0->jupyterlab) (1.6.0)\n",
            "Requirement already satisfied: psutil in /usr/local/lib/python3.10/dist-packages (from ipykernel>=6.5.0->jupyterlab) (5.9.5)\n",
            "Requirement already satisfied: pyzmq>=24 in /usr/local/lib/python3.10/dist-packages (from ipykernel>=6.5.0->jupyterlab) (24.0.1)\n",
            "Requirement already satisfied: MarkupSafe>=2.0 in /usr/local/lib/python3.10/dist-packages (from jinja2>=3.0.3->jupyterlab) (2.1.5)\n",
            "Requirement already satisfied: platformdirs>=2.5 in /usr/local/lib/python3.10/dist-packages (from jupyter-core->jupyterlab) (4.3.2)\n",
            "Requirement already satisfied: argon2-cffi>=21.1 in /usr/local/lib/python3.10/dist-packages (from jupyter-server<3,>=2.4.0->jupyterlab) (23.1.0)\n",
            "Collecting jupyter-client>=6.1.12 (from ipykernel>=6.5.0->jupyterlab)\n",
            "  Downloading jupyter_client-8.6.3-py3-none-any.whl.metadata (8.3 kB)\n",
            "Collecting jupyter-events>=0.9.0 (from jupyter-server<3,>=2.4.0->jupyterlab)\n",
            "  Downloading jupyter_events-0.10.0-py3-none-any.whl.metadata (5.9 kB)\n",
            "Collecting jupyter-server-terminals>=0.4.4 (from jupyter-server<3,>=2.4.0->jupyterlab)\n",
            "  Downloading jupyter_server_terminals-0.5.3-py3-none-any.whl.metadata (5.6 kB)\n",
            "Requirement already satisfied: nbconvert>=6.4.4 in /usr/local/lib/python3.10/dist-packages (from jupyter-server<3,>=2.4.0->jupyterlab) (6.5.4)\n",
            "Requirement already satisfied: nbformat>=5.3.0 in /usr/local/lib/python3.10/dist-packages (from jupyter-server<3,>=2.4.0->jupyterlab) (5.10.4)\n",
            "Collecting overrides>=5.0 (from jupyter-server<3,>=2.4.0->jupyterlab)\n",
            "  Downloading overrides-7.7.0-py3-none-any.whl.metadata (5.8 kB)\n",
            "Requirement already satisfied: prometheus-client>=0.9 in /usr/local/lib/python3.10/dist-packages (from jupyter-server<3,>=2.4.0->jupyterlab) (0.20.0)\n",
            "Requirement already satisfied: send2trash>=1.8.2 in /usr/local/lib/python3.10/dist-packages (from jupyter-server<3,>=2.4.0->jupyterlab) (1.8.3)\n",
            "Requirement already satisfied: terminado>=0.8.3 in /usr/local/lib/python3.10/dist-packages (from jupyter-server<3,>=2.4.0->jupyterlab) (0.18.1)\n",
            "Requirement already satisfied: websocket-client>=1.7 in /usr/local/lib/python3.10/dist-packages (from jupyter-server<3,>=2.4.0->jupyterlab) (1.8.0)\n",
            "Requirement already satisfied: babel>=2.10 in /usr/local/lib/python3.10/dist-packages (from jupyterlab-server<3,>=2.27.1->jupyterlab) (2.16.0)\n",
            "Collecting json5>=0.9.0 (from jupyterlab-server<3,>=2.27.1->jupyterlab)\n",
            "  Downloading json5-0.9.25-py3-none-any.whl.metadata (30 kB)\n",
            "Requirement already satisfied: jsonschema>=4.18.0 in /usr/local/lib/python3.10/dist-packages (from jupyterlab-server<3,>=2.27.1->jupyterlab) (4.23.0)\n",
            "Requirement already satisfied: requests>=2.31 in /usr/local/lib/python3.10/dist-packages (from jupyterlab-server<3,>=2.27.1->jupyterlab) (2.32.3)\n",
            "Requirement already satisfied: exceptiongroup in /usr/local/lib/python3.10/dist-packages (from anyio->httpx>=0.25.0->jupyterlab) (1.2.2)\n",
            "Requirement already satisfied: argon2-cffi-bindings in /usr/local/lib/python3.10/dist-packages (from argon2-cffi>=21.1->jupyter-server<3,>=2.4.0->jupyterlab) (21.2.0)\n",
            "Requirement already satisfied: jedi>=0.16 in /usr/local/lib/python3.10/dist-packages (from ipython>=7.23.1->ipykernel>=6.5.0->jupyterlab) (0.19.1)\n",
            "Requirement already satisfied: decorator in /usr/local/lib/python3.10/dist-packages (from ipython>=7.23.1->ipykernel>=6.5.0->jupyterlab) (4.4.2)\n",
            "Requirement already satisfied: pickleshare in /usr/local/lib/python3.10/dist-packages (from ipython>=7.23.1->ipykernel>=6.5.0->jupyterlab) (0.7.5)\n",
            "Requirement already satisfied: prompt-toolkit!=3.0.0,!=3.0.1,<3.1.0,>=2.0.0 in /usr/local/lib/python3.10/dist-packages (from ipython>=7.23.1->ipykernel>=6.5.0->jupyterlab) (3.0.47)\n",
            "Requirement already satisfied: pygments in /usr/local/lib/python3.10/dist-packages (from ipython>=7.23.1->ipykernel>=6.5.0->jupyterlab) (2.16.1)\n",
            "Requirement already satisfied: backcall in /usr/local/lib/python3.10/dist-packages (from ipython>=7.23.1->ipykernel>=6.5.0->jupyterlab) (0.2.0)\n",
            "Requirement already satisfied: pexpect>4.3 in /usr/local/lib/python3.10/dist-packages (from ipython>=7.23.1->ipykernel>=6.5.0->jupyterlab) (4.9.0)\n",
            "Requirement already satisfied: attrs>=22.2.0 in /usr/local/lib/python3.10/dist-packages (from jsonschema>=4.18.0->jupyterlab-server<3,>=2.27.1->jupyterlab) (24.2.0)\n",
            "Requirement already satisfied: jsonschema-specifications>=2023.03.6 in /usr/local/lib/python3.10/dist-packages (from jsonschema>=4.18.0->jupyterlab-server<3,>=2.27.1->jupyterlab) (2023.12.1)\n",
            "Requirement already satisfied: referencing>=0.28.4 in /usr/local/lib/python3.10/dist-packages (from jsonschema>=4.18.0->jupyterlab-server<3,>=2.27.1->jupyterlab) (0.35.1)\n",
            "Requirement already satisfied: rpds-py>=0.7.1 in /usr/local/lib/python3.10/dist-packages (from jsonschema>=4.18.0->jupyterlab-server<3,>=2.27.1->jupyterlab) (0.20.0)\n",
            "Requirement already satisfied: python-dateutil>=2.8.2 in /usr/local/lib/python3.10/dist-packages (from jupyter-client>=6.1.12->ipykernel>=6.5.0->jupyterlab) (2.8.2)\n",
            "Collecting python-json-logger>=2.0.4 (from jupyter-events>=0.9.0->jupyter-server<3,>=2.4.0->jupyterlab)\n",
            "  Downloading python_json_logger-2.0.7-py3-none-any.whl.metadata (6.5 kB)\n",
            "Requirement already satisfied: pyyaml>=5.3 in /usr/local/lib/python3.10/dist-packages (from jupyter-events>=0.9.0->jupyter-server<3,>=2.4.0->jupyterlab) (6.0.2)\n",
            "Collecting rfc3339-validator (from jupyter-events>=0.9.0->jupyter-server<3,>=2.4.0->jupyterlab)\n",
            "  Downloading rfc3339_validator-0.1.4-py2.py3-none-any.whl.metadata (1.5 kB)\n",
            "Collecting rfc3986-validator>=0.1.1 (from jupyter-events>=0.9.0->jupyter-server<3,>=2.4.0->jupyterlab)\n",
            "  Downloading rfc3986_validator-0.1.1-py2.py3-none-any.whl.metadata (1.7 kB)\n",
            "Requirement already satisfied: lxml in /usr/local/lib/python3.10/dist-packages (from nbconvert>=6.4.4->jupyter-server<3,>=2.4.0->jupyterlab) (4.9.4)\n",
            "Requirement already satisfied: beautifulsoup4 in /usr/local/lib/python3.10/dist-packages (from nbconvert>=6.4.4->jupyter-server<3,>=2.4.0->jupyterlab) (4.12.3)\n",
            "Requirement already satisfied: bleach in /usr/local/lib/python3.10/dist-packages (from nbconvert>=6.4.4->jupyter-server<3,>=2.4.0->jupyterlab) (6.1.0)\n",
            "Requirement already satisfied: defusedxml in /usr/local/lib/python3.10/dist-packages (from nbconvert>=6.4.4->jupyter-server<3,>=2.4.0->jupyterlab) (0.7.1)\n",
            "Requirement already satisfied: entrypoints>=0.2.2 in /usr/local/lib/python3.10/dist-packages (from nbconvert>=6.4.4->jupyter-server<3,>=2.4.0->jupyterlab) (0.4)\n",
            "Requirement already satisfied: jupyterlab-pygments in /usr/local/lib/python3.10/dist-packages (from nbconvert>=6.4.4->jupyter-server<3,>=2.4.0->jupyterlab) (0.3.0)\n",
            "Requirement already satisfied: mistune<2,>=0.8.1 in /usr/local/lib/python3.10/dist-packages (from nbconvert>=6.4.4->jupyter-server<3,>=2.4.0->jupyterlab) (0.8.4)\n",
            "Requirement already satisfied: nbclient>=0.5.0 in /usr/local/lib/python3.10/dist-packages (from nbconvert>=6.4.4->jupyter-server<3,>=2.4.0->jupyterlab) (0.10.0)\n",
            "Requirement already satisfied: pandocfilters>=1.4.1 in /usr/local/lib/python3.10/dist-packages (from nbconvert>=6.4.4->jupyter-server<3,>=2.4.0->jupyterlab) (1.5.1)\n",
            "Requirement already satisfied: tinycss2 in /usr/local/lib/python3.10/dist-packages (from nbconvert>=6.4.4->jupyter-server<3,>=2.4.0->jupyterlab) (1.3.0)\n",
            "Requirement already satisfied: fastjsonschema>=2.15 in /usr/local/lib/python3.10/dist-packages (from nbformat>=5.3.0->jupyter-server<3,>=2.4.0->jupyterlab) (2.20.0)\n",
            "Requirement already satisfied: charset-normalizer<4,>=2 in /usr/local/lib/python3.10/dist-packages (from requests>=2.31->jupyterlab-server<3,>=2.27.1->jupyterlab) (3.3.2)\n",
            "Requirement already satisfied: urllib3<3,>=1.21.1 in /usr/local/lib/python3.10/dist-packages (from requests>=2.31->jupyterlab-server<3,>=2.27.1->jupyterlab) (2.0.7)\n",
            "Requirement already satisfied: ptyprocess in /usr/local/lib/python3.10/dist-packages (from terminado>=0.8.3->jupyter-server<3,>=2.4.0->jupyterlab) (0.7.0)\n",
            "Requirement already satisfied: parso<0.9.0,>=0.8.3 in /usr/local/lib/python3.10/dist-packages (from jedi>=0.16->ipython>=7.23.1->ipykernel>=6.5.0->jupyterlab) (0.8.4)\n",
            "Collecting fqdn (from jsonschema[format-nongpl]>=4.18.0->jupyter-events>=0.9.0->jupyter-server<3,>=2.4.0->jupyterlab)\n",
            "  Downloading fqdn-1.5.1-py3-none-any.whl.metadata (1.4 kB)\n",
            "Collecting isoduration (from jsonschema[format-nongpl]>=4.18.0->jupyter-events>=0.9.0->jupyter-server<3,>=2.4.0->jupyterlab)\n",
            "  Downloading isoduration-20.11.0-py3-none-any.whl.metadata (5.7 kB)\n",
            "Collecting jsonpointer>1.13 (from jsonschema[format-nongpl]>=4.18.0->jupyter-events>=0.9.0->jupyter-server<3,>=2.4.0->jupyterlab)\n",
            "  Downloading jsonpointer-3.0.0-py2.py3-none-any.whl.metadata (2.3 kB)\n",
            "Collecting uri-template (from jsonschema[format-nongpl]>=4.18.0->jupyter-events>=0.9.0->jupyter-server<3,>=2.4.0->jupyterlab)\n",
            "  Downloading uri_template-1.3.0-py3-none-any.whl.metadata (8.8 kB)\n",
            "Requirement already satisfied: webcolors>=24.6.0 in /usr/local/lib/python3.10/dist-packages (from jsonschema[format-nongpl]>=4.18.0->jupyter-events>=0.9.0->jupyter-server<3,>=2.4.0->jupyterlab) (24.8.0)\n",
            "Requirement already satisfied: wcwidth in /usr/local/lib/python3.10/dist-packages (from prompt-toolkit!=3.0.0,!=3.0.1,<3.1.0,>=2.0.0->ipython>=7.23.1->ipykernel>=6.5.0->jupyterlab) (0.2.13)\n",
            "Requirement already satisfied: six>=1.5 in /usr/local/lib/python3.10/dist-packages (from python-dateutil>=2.8.2->jupyter-client>=6.1.12->ipykernel>=6.5.0->jupyterlab) (1.16.0)\n",
            "Requirement already satisfied: cffi>=1.0.1 in /usr/local/lib/python3.10/dist-packages (from argon2-cffi-bindings->argon2-cffi>=21.1->jupyter-server<3,>=2.4.0->jupyterlab) (1.17.1)\n",
            "Requirement already satisfied: soupsieve>1.2 in /usr/local/lib/python3.10/dist-packages (from beautifulsoup4->nbconvert>=6.4.4->jupyter-server<3,>=2.4.0->jupyterlab) (2.6)\n",
            "Requirement already satisfied: webencodings in /usr/local/lib/python3.10/dist-packages (from bleach->nbconvert>=6.4.4->jupyter-server<3,>=2.4.0->jupyterlab) (0.5.1)\n",
            "Requirement already satisfied: pycparser in /usr/local/lib/python3.10/dist-packages (from cffi>=1.0.1->argon2-cffi-bindings->argon2-cffi>=21.1->jupyter-server<3,>=2.4.0->jupyterlab) (2.22)\n",
            "Collecting arrow>=0.15.0 (from isoduration->jsonschema[format-nongpl]>=4.18.0->jupyter-events>=0.9.0->jupyter-server<3,>=2.4.0->jupyterlab)\n",
            "  Downloading arrow-1.3.0-py3-none-any.whl.metadata (7.5 kB)\n",
            "Collecting types-python-dateutil>=2.8.10 (from arrow>=0.15.0->isoduration->jsonschema[format-nongpl]>=4.18.0->jupyter-events>=0.9.0->jupyter-server<3,>=2.4.0->jupyterlab)\n",
            "  Downloading types_python_dateutil-2.9.0.20240906-py3-none-any.whl.metadata (1.9 kB)\n",
            "Downloading jupyterlab-4.2.5-py3-none-any.whl (11.6 MB)\n",
            "\u001b[2K   \u001b[90m━━━━━━━━━━━━━━━━━━━━━━━━━━━━━━━━━━━━━━━━\u001b[0m \u001b[32m11.6/11.6 MB\u001b[0m \u001b[31m57.1 MB/s\u001b[0m eta \u001b[36m0:00:00\u001b[0m\n",
            "\u001b[?25hDownloading async_lru-2.0.4-py3-none-any.whl (6.1 kB)\n",
            "Downloading httpx-0.27.2-py3-none-any.whl (76 kB)\n",
            "\u001b[2K   \u001b[90m━━━━━━━━━━━━━━━━━━━━━━━━━━━━━━━━━━━━━━━━\u001b[0m \u001b[32m76.4/76.4 kB\u001b[0m \u001b[31m6.1 MB/s\u001b[0m eta \u001b[36m0:00:00\u001b[0m\n",
            "\u001b[?25hDownloading httpcore-1.0.5-py3-none-any.whl (77 kB)\n",
            "\u001b[2K   \u001b[90m━━━━━━━━━━━━━━━━━━━━━━━━━━━━━━━━━━━━━━━━\u001b[0m \u001b[32m77.9/77.9 kB\u001b[0m \u001b[31m5.7 MB/s\u001b[0m eta \u001b[36m0:00:00\u001b[0m\n",
            "\u001b[?25hDownloading ipykernel-6.29.5-py3-none-any.whl (117 kB)\n",
            "\u001b[2K   \u001b[90m━━━━━━━━━━━━━━━━━━━━━━━━━━━━━━━━━━━━━━━━\u001b[0m \u001b[32m117.2/117.2 kB\u001b[0m \u001b[31m9.6 MB/s\u001b[0m eta \u001b[36m0:00:00\u001b[0m\n",
            "\u001b[?25hDownloading jupyter_lsp-2.2.5-py3-none-any.whl (69 kB)\n",
            "\u001b[2K   \u001b[90m━━━━━━━━━━━━━━━━━━━━━━━━━━━━━━━━━━━━━━━━\u001b[0m \u001b[32m69.1/69.1 kB\u001b[0m \u001b[31m5.6 MB/s\u001b[0m eta \u001b[36m0:00:00\u001b[0m\n",
            "\u001b[?25hDownloading jupyter_server-2.14.2-py3-none-any.whl (383 kB)\n",
            "\u001b[2K   \u001b[90m━━━━━━━━━━━━━━━━━━━━━━━━━━━━━━━━━━━━━━━━\u001b[0m \u001b[32m383.6/383.6 kB\u001b[0m \u001b[31m27.3 MB/s\u001b[0m eta \u001b[36m0:00:00\u001b[0m\n",
            "\u001b[?25hDownloading jupyterlab_server-2.27.3-py3-none-any.whl (59 kB)\n",
            "\u001b[2K   \u001b[90m━━━━━━━━━━━━━━━━━━━━━━━━━━━━━━━━━━━━━━━━\u001b[0m \u001b[32m59.7/59.7 kB\u001b[0m \u001b[31m4.9 MB/s\u001b[0m eta \u001b[36m0:00:00\u001b[0m\n",
            "\u001b[?25hDownloading comm-0.2.2-py3-none-any.whl (7.2 kB)\n",
            "Downloading json5-0.9.25-py3-none-any.whl (30 kB)\n",
            "Downloading jupyter_client-8.6.3-py3-none-any.whl (106 kB)\n",
            "\u001b[2K   \u001b[90m━━━━━━━━━━━━━━━━━━━━━━━━━━━━━━━━━━━━━━━━\u001b[0m \u001b[32m106.1/106.1 kB\u001b[0m \u001b[31m9.1 MB/s\u001b[0m eta \u001b[36m0:00:00\u001b[0m\n",
            "\u001b[?25hDownloading jupyter_events-0.10.0-py3-none-any.whl (18 kB)\n",
            "Downloading jupyter_server_terminals-0.5.3-py3-none-any.whl (13 kB)\n",
            "Downloading overrides-7.7.0-py3-none-any.whl (17 kB)\n",
            "Downloading h11-0.14.0-py3-none-any.whl (58 kB)\n",
            "\u001b[2K   \u001b[90m━━━━━━━━━━━━━━━━━━━━━━━━━━━━━━━━━━━━━━━━\u001b[0m \u001b[32m58.3/58.3 kB\u001b[0m \u001b[31m5.4 MB/s\u001b[0m eta \u001b[36m0:00:00\u001b[0m\n",
            "\u001b[?25hDownloading python_json_logger-2.0.7-py3-none-any.whl (8.1 kB)\n",
            "Downloading rfc3986_validator-0.1.1-py2.py3-none-any.whl (4.2 kB)\n",
            "Downloading rfc3339_validator-0.1.4-py2.py3-none-any.whl (3.5 kB)\n",
            "Downloading jsonpointer-3.0.0-py2.py3-none-any.whl (7.6 kB)\n",
            "Downloading fqdn-1.5.1-py3-none-any.whl (9.1 kB)\n",
            "Downloading isoduration-20.11.0-py3-none-any.whl (11 kB)\n",
            "Downloading uri_template-1.3.0-py3-none-any.whl (11 kB)\n",
            "Downloading arrow-1.3.0-py3-none-any.whl (66 kB)\n",
            "\u001b[2K   \u001b[90m━━━━━━━━━━━━━━━━━━━━━━━━━━━━━━━━━━━━━━━━\u001b[0m \u001b[32m66.4/66.4 kB\u001b[0m \u001b[31m5.8 MB/s\u001b[0m eta \u001b[36m0:00:00\u001b[0m\n",
            "\u001b[?25hDownloading types_python_dateutil-2.9.0.20240906-py3-none-any.whl (9.7 kB)\n",
            "Installing collected packages: uri-template, types-python-dateutil, rfc3986-validator, rfc3339-validator, python-json-logger, overrides, jsonpointer, json5, h11, fqdn, comm, async-lru, jupyter-server-terminals, jupyter-client, httpcore, arrow, isoduration, ipykernel, httpx, jupyter-events, jupyter-server, jupyterlab-server, jupyter-lsp, jupyterlab\n",
            "  Attempting uninstall: jupyter-client\n",
            "    Found existing installation: jupyter-client 6.1.12\n",
            "    Uninstalling jupyter-client-6.1.12:\n",
            "      Successfully uninstalled jupyter-client-6.1.12\n",
            "  Attempting uninstall: ipykernel\n",
            "    Found existing installation: ipykernel 5.5.6\n",
            "    Uninstalling ipykernel-5.5.6:\n",
            "      Successfully uninstalled ipykernel-5.5.6\n",
            "  Attempting uninstall: jupyter-server\n",
            "    Found existing installation: jupyter-server 1.24.0\n",
            "    Uninstalling jupyter-server-1.24.0:\n",
            "      Successfully uninstalled jupyter-server-1.24.0\n",
            "\u001b[31mERROR: pip's dependency resolver does not currently take into account all the packages that are installed. This behaviour is the source of the following dependency conflicts.\n",
            "google-colab 1.0.0 requires ipykernel==5.5.6, but you have ipykernel 6.29.5 which is incompatible.\n",
            "notebook 6.5.5 requires jupyter-client<8,>=5.3.4, but you have jupyter-client 8.6.3 which is incompatible.\u001b[0m\u001b[31m\n",
            "\u001b[0mSuccessfully installed arrow-1.3.0 async-lru-2.0.4 comm-0.2.2 fqdn-1.5.1 h11-0.14.0 httpcore-1.0.5 httpx-0.27.2 ipykernel-6.29.5 isoduration-20.11.0 json5-0.9.25 jsonpointer-3.0.0 jupyter-client-8.6.3 jupyter-events-0.10.0 jupyter-lsp-2.2.5 jupyter-server-2.14.2 jupyter-server-terminals-0.5.3 jupyterlab-4.2.5 jupyterlab-server-2.27.3 overrides-7.7.0 python-json-logger-2.0.7 rfc3339-validator-0.1.4 rfc3986-validator-0.1.1 types-python-dateutil-2.9.0.20240906 uri-template-1.3.0\n"
          ]
        }
      ]
    },
    {
      "cell_type": "code",
      "source": [
        "pwd"
      ],
      "metadata": {
        "colab": {
          "base_uri": "https://localhost:8080/",
          "height": 35
        },
        "id": "5eoMS_K9rbEf",
        "outputId": "be07848f-98a2-4a31-fe30-080679d15ac0"
      },
      "execution_count": null,
      "outputs": [
        {
          "output_type": "execute_result",
          "data": {
            "text/plain": [
              "'/content'"
            ],
            "application/vnd.google.colaboratory.intrinsic+json": {
              "type": "string"
            }
          },
          "metadata": {},
          "execution_count": 22
        }
      ]
    },
    {
      "cell_type": "code",
      "source": [
        "df = pd.read_csv('/retail (2).csv')"
      ],
      "metadata": {
        "id": "tLhxr8ZPdckz"
      },
      "execution_count": null,
      "outputs": []
    },
    {
      "cell_type": "code",
      "source": [
        "print(df.shape)\n",
        "print(df.size)     #these are attributes so no bracket\n",
        "print(df.columns)\n",
        "print(df.dtypes)\n",
        "\n",
        "\n",
        "print(df.head())   #functions so bracket\n",
        "print(df.tail())\n",
        "df.family.nunique()"
      ],
      "metadata": {
        "colab": {
          "base_uri": "https://localhost:8080/"
        },
        "id": "lHY6tKguo8Sz",
        "outputId": "53791317-1204-433f-b7d7-cc14ecf54d4d"
      },
      "execution_count": null,
      "outputs": [
        {
          "output_type": "stream",
          "name": "stdout",
          "text": [
            "(1054944, 6)\n",
            "6329664\n",
            "Index(['id', 'date', 'store_nbr', 'family', 'sales', 'onpromotion'], dtype='object')\n",
            "id               int64\n",
            "date            object\n",
            "store_nbr        int64\n",
            "family          object\n",
            "sales          float64\n",
            "onpromotion      int64\n",
            "dtype: object\n",
            "        id        date  store_nbr      family  sales  onpromotion\n",
            "0  1945944  2016-01-01          1  AUTOMOTIVE    0.0            0\n",
            "1  1945945  2016-01-01          1   BABY CARE    0.0            0\n",
            "2  1945946  2016-01-01          1      BEAUTY    0.0            0\n",
            "3  1945947  2016-01-01          1   BEVERAGES    0.0            0\n",
            "4  1945948  2016-01-01          1       BOOKS    0.0            0\n",
            "              id        date  store_nbr                      family     sales  \\\n",
            "1054939  3000883  2017-08-15          9                     POULTRY   438.133   \n",
            "1054940  3000884  2017-08-15          9              PREPARED FOODS   154.553   \n",
            "1054941  3000885  2017-08-15          9                     PRODUCE  2419.729   \n",
            "1054942  3000886  2017-08-15          9  SCHOOL AND OFFICE SUPPLIES   121.000   \n",
            "1054943  3000887  2017-08-15          9                     SEAFOOD    16.000   \n",
            "\n",
            "         onpromotion  \n",
            "1054939            0  \n",
            "1054940            1  \n",
            "1054941          148  \n",
            "1054942            8  \n",
            "1054943            0  \n"
          ]
        },
        {
          "output_type": "execute_result",
          "data": {
            "text/plain": [
              "33"
            ]
          },
          "metadata": {},
          "execution_count": 30
        }
      ]
    },
    {
      "cell_type": "markdown",
      "source": [
        "#groupby::: very important"
      ],
      "metadata": {
        "id": "m8kbJgCvp9pz"
      }
    },
    {
      "cell_type": "code",
      "source": [
        "df.columns"
      ],
      "metadata": {
        "id": "7zyY66nxpO2D",
        "colab": {
          "base_uri": "https://localhost:8080/"
        },
        "outputId": "8e531ce9-af68-4c24-e7c7-bbcb2a468732"
      },
      "execution_count": null,
      "outputs": [
        {
          "output_type": "execute_result",
          "data": {
            "text/plain": [
              "Index(['id', 'date', 'store_nbr', 'family', 'sales', 'onpromotion'], dtype='object')"
            ]
          },
          "metadata": {},
          "execution_count": 85
        }
      ]
    },
    {
      "cell_type": "code",
      "source": [
        "#family vs sales->\n",
        "df.family.unique()\n",
        "#dimesnsion->family->category\n",
        "#fact->sales->#jun ma add subtract garera faida/sense hunncha"
      ],
      "metadata": {
        "colab": {
          "base_uri": "https://localhost:8080/"
        },
        "id": "qP7vYiTOqNNj",
        "outputId": "b0bdbc9a-5b5f-46f8-a1bd-eb1650951e4d"
      },
      "execution_count": null,
      "outputs": [
        {
          "output_type": "execute_result",
          "data": {
            "text/plain": [
              "array(['AUTOMOTIVE', 'BABY CARE', 'BEAUTY', 'BEVERAGES', 'BOOKS',\n",
              "       'BREAD/BAKERY', 'CELEBRATION', 'CLEANING', 'DAIRY', 'DELI', 'EGGS',\n",
              "       'FROZEN FOODS', 'GROCERY I', 'GROCERY II', 'HARDWARE',\n",
              "       'HOME AND KITCHEN I', 'HOME AND KITCHEN II', 'HOME APPLIANCES',\n",
              "       'HOME CARE', 'LADIESWEAR', 'LAWN AND GARDEN', 'LINGERIE',\n",
              "       'LIQUOR,WINE,BEER', 'MAGAZINES', 'MEATS', 'PERSONAL CARE',\n",
              "       'PET SUPPLIES', 'PLAYERS AND ELECTRONICS', 'POULTRY',\n",
              "       'PREPARED FOODS', 'PRODUCE', 'SCHOOL AND OFFICE SUPPLIES',\n",
              "       'SEAFOOD'], dtype=object)"
            ]
          },
          "metadata": {},
          "execution_count": 32
        }
      ]
    },
    {
      "cell_type": "code",
      "source": [
        "df.groupby('family')['sales'].mean()"
      ],
      "metadata": {
        "id": "9mHyH2ylqlD6",
        "colab": {
          "base_uri": "https://localhost:8080/",
          "height": 1000
        },
        "outputId": "42c654de-937c-4f3d-b1e6-4562943687ff"
      },
      "execution_count": null,
      "outputs": [
        {
          "output_type": "execute_result",
          "data": {
            "text/plain": [
              "family\n",
              "AUTOMOTIVE                       7.073918\n",
              "BABY CARE                        0.247216\n",
              "BEAUTY                           5.198605\n",
              "BEVERAGES                     3306.440159\n",
              "BOOKS                            0.201389\n",
              "BREAD/BAKERY                   534.690257\n",
              "CELEBRATION                     13.917073\n",
              "CLEANING                      1192.684653\n",
              "DAIRY                          889.104511\n",
              "DELI                           300.856381\n",
              "EGGS                           189.385729\n",
              "FROZEN FOODS                   161.930166\n",
              "GROCERY I                     4480.338968\n",
              "GROCERY II                      22.714120\n",
              "HARDWARE                         1.292668\n",
              "HOME AND KITCHEN I              30.963338\n",
              "HOME AND KITCHEN II             27.721784\n",
              "HOME APPLIANCES                  0.423111\n",
              "HOME CARE                      293.847472\n",
              "LADIESWEAR                      11.531657\n",
              "LAWN AND GARDEN                 10.120026\n",
              "LINGERIE                         6.121747\n",
              "LIQUOR,WINE,BEER                94.052271\n",
              "MAGAZINES                        6.351258\n",
              "MEATS                          361.343401\n",
              "PERSONAL CARE                  318.871778\n",
              "PET SUPPLIES                     7.407752\n",
              "PLAYERS AND ELECTRONICS         10.608515\n",
              "POULTRY                        387.135622\n",
              "PREPARED FOODS                 103.479924\n",
              "PRODUCE                       2299.909514\n",
              "SCHOOL AND OFFICE SUPPLIES       6.068381\n",
              "SEAFOOD                         22.808709\n",
              "Name: sales, dtype: float64"
            ],
            "text/html": [
              "<div>\n",
              "<style scoped>\n",
              "    .dataframe tbody tr th:only-of-type {\n",
              "        vertical-align: middle;\n",
              "    }\n",
              "\n",
              "    .dataframe tbody tr th {\n",
              "        vertical-align: top;\n",
              "    }\n",
              "\n",
              "    .dataframe thead th {\n",
              "        text-align: right;\n",
              "    }\n",
              "</style>\n",
              "<table border=\"1\" class=\"dataframe\">\n",
              "  <thead>\n",
              "    <tr style=\"text-align: right;\">\n",
              "      <th></th>\n",
              "      <th>sales</th>\n",
              "    </tr>\n",
              "    <tr>\n",
              "      <th>family</th>\n",
              "      <th></th>\n",
              "    </tr>\n",
              "  </thead>\n",
              "  <tbody>\n",
              "    <tr>\n",
              "      <th>AUTOMOTIVE</th>\n",
              "      <td>7.073918</td>\n",
              "    </tr>\n",
              "    <tr>\n",
              "      <th>BABY CARE</th>\n",
              "      <td>0.247216</td>\n",
              "    </tr>\n",
              "    <tr>\n",
              "      <th>BEAUTY</th>\n",
              "      <td>5.198605</td>\n",
              "    </tr>\n",
              "    <tr>\n",
              "      <th>BEVERAGES</th>\n",
              "      <td>3306.440159</td>\n",
              "    </tr>\n",
              "    <tr>\n",
              "      <th>BOOKS</th>\n",
              "      <td>0.201389</td>\n",
              "    </tr>\n",
              "    <tr>\n",
              "      <th>BREAD/BAKERY</th>\n",
              "      <td>534.690257</td>\n",
              "    </tr>\n",
              "    <tr>\n",
              "      <th>CELEBRATION</th>\n",
              "      <td>13.917073</td>\n",
              "    </tr>\n",
              "    <tr>\n",
              "      <th>CLEANING</th>\n",
              "      <td>1192.684653</td>\n",
              "    </tr>\n",
              "    <tr>\n",
              "      <th>DAIRY</th>\n",
              "      <td>889.104511</td>\n",
              "    </tr>\n",
              "    <tr>\n",
              "      <th>DELI</th>\n",
              "      <td>300.856381</td>\n",
              "    </tr>\n",
              "    <tr>\n",
              "      <th>EGGS</th>\n",
              "      <td>189.385729</td>\n",
              "    </tr>\n",
              "    <tr>\n",
              "      <th>FROZEN FOODS</th>\n",
              "      <td>161.930166</td>\n",
              "    </tr>\n",
              "    <tr>\n",
              "      <th>GROCERY I</th>\n",
              "      <td>4480.338968</td>\n",
              "    </tr>\n",
              "    <tr>\n",
              "      <th>GROCERY II</th>\n",
              "      <td>22.714120</td>\n",
              "    </tr>\n",
              "    <tr>\n",
              "      <th>HARDWARE</th>\n",
              "      <td>1.292668</td>\n",
              "    </tr>\n",
              "    <tr>\n",
              "      <th>HOME AND KITCHEN I</th>\n",
              "      <td>30.963338</td>\n",
              "    </tr>\n",
              "    <tr>\n",
              "      <th>HOME AND KITCHEN II</th>\n",
              "      <td>27.721784</td>\n",
              "    </tr>\n",
              "    <tr>\n",
              "      <th>HOME APPLIANCES</th>\n",
              "      <td>0.423111</td>\n",
              "    </tr>\n",
              "    <tr>\n",
              "      <th>HOME CARE</th>\n",
              "      <td>293.847472</td>\n",
              "    </tr>\n",
              "    <tr>\n",
              "      <th>LADIESWEAR</th>\n",
              "      <td>11.531657</td>\n",
              "    </tr>\n",
              "    <tr>\n",
              "      <th>LAWN AND GARDEN</th>\n",
              "      <td>10.120026</td>\n",
              "    </tr>\n",
              "    <tr>\n",
              "      <th>LINGERIE</th>\n",
              "      <td>6.121747</td>\n",
              "    </tr>\n",
              "    <tr>\n",
              "      <th>LIQUOR,WINE,BEER</th>\n",
              "      <td>94.052271</td>\n",
              "    </tr>\n",
              "    <tr>\n",
              "      <th>MAGAZINES</th>\n",
              "      <td>6.351258</td>\n",
              "    </tr>\n",
              "    <tr>\n",
              "      <th>MEATS</th>\n",
              "      <td>361.343401</td>\n",
              "    </tr>\n",
              "    <tr>\n",
              "      <th>PERSONAL CARE</th>\n",
              "      <td>318.871778</td>\n",
              "    </tr>\n",
              "    <tr>\n",
              "      <th>PET SUPPLIES</th>\n",
              "      <td>7.407752</td>\n",
              "    </tr>\n",
              "    <tr>\n",
              "      <th>PLAYERS AND ELECTRONICS</th>\n",
              "      <td>10.608515</td>\n",
              "    </tr>\n",
              "    <tr>\n",
              "      <th>POULTRY</th>\n",
              "      <td>387.135622</td>\n",
              "    </tr>\n",
              "    <tr>\n",
              "      <th>PREPARED FOODS</th>\n",
              "      <td>103.479924</td>\n",
              "    </tr>\n",
              "    <tr>\n",
              "      <th>PRODUCE</th>\n",
              "      <td>2299.909514</td>\n",
              "    </tr>\n",
              "    <tr>\n",
              "      <th>SCHOOL AND OFFICE SUPPLIES</th>\n",
              "      <td>6.068381</td>\n",
              "    </tr>\n",
              "    <tr>\n",
              "      <th>SEAFOOD</th>\n",
              "      <td>22.808709</td>\n",
              "    </tr>\n",
              "  </tbody>\n",
              "</table>\n",
              "</div><br><label><b>dtype:</b> float64</label>"
            ]
          },
          "metadata": {},
          "execution_count": 35
        }
      ]
    },
    {
      "cell_type": "code",
      "source": [
        "type(df.groupby('family')['sales'].mean())"
      ],
      "metadata": {
        "id": "jMv2LB4Fq6A1",
        "colab": {
          "base_uri": "https://localhost:8080/",
          "height": 203
        },
        "outputId": "be9e6833-2532-41ac-83ef-092999a69034"
      },
      "execution_count": null,
      "outputs": [
        {
          "output_type": "execute_result",
          "data": {
            "text/plain": [
              "pandas.core.series.Series"
            ],
            "text/html": [
              "<div style=\"max-width:800px; border: 1px solid var(--colab-border-color);\"><style>\n",
              "      pre.function-repr-contents {\n",
              "        overflow-x: auto;\n",
              "        padding: 8px 12px;\n",
              "        max-height: 500px;\n",
              "      }\n",
              "\n",
              "      pre.function-repr-contents.function-repr-contents-collapsed {\n",
              "        cursor: pointer;\n",
              "        max-height: 100px;\n",
              "      }\n",
              "    </style>\n",
              "    <pre style=\"white-space: initial; background:\n",
              "         var(--colab-secondary-surface-color); padding: 8px 12px;\n",
              "         border-bottom: 1px solid var(--colab-border-color);\"><b>pandas.core.series.Series</b><br/>def __init__(data=None, index=None, dtype: Dtype | None=None, name=None, copy: bool | None=None, fastpath: bool=False) -&gt; None</pre><pre class=\"function-repr-contents function-repr-contents-collapsed\" style=\"\"><a class=\"filepath\" style=\"display:none\" href=\"#\">/usr/local/lib/python3.10/dist-packages/pandas/core/series.py</a>One-dimensional ndarray with axis labels (including time series).\n",
              "\n",
              "Labels need not be unique but must be a hashable type. The object\n",
              "supports both integer- and label-based indexing and provides a host of\n",
              "methods for performing operations involving the index. Statistical\n",
              "methods from ndarray have been overridden to automatically exclude\n",
              "missing data (currently represented as NaN).\n",
              "\n",
              "Operations between Series (+, -, /, \\*, \\*\\*) align values based on their\n",
              "associated index values-- they need not be the same length. The result\n",
              "index will be the sorted union of the two indexes.\n",
              "\n",
              "Parameters\n",
              "----------\n",
              "data : array-like, Iterable, dict, or scalar value\n",
              "    Contains data stored in Series. If data is a dict, argument order is\n",
              "    maintained.\n",
              "index : array-like or Index (1d)\n",
              "    Values must be hashable and have the same length as `data`.\n",
              "    Non-unique index values are allowed. Will default to\n",
              "    RangeIndex (0, 1, 2, ..., n) if not provided. If data is dict-like\n",
              "    and index is None, then the keys in the data are used as the index. If the\n",
              "    index is not None, the resulting Series is reindexed with the index values.\n",
              "dtype : str, numpy.dtype, or ExtensionDtype, optional\n",
              "    Data type for the output Series. If not specified, this will be\n",
              "    inferred from `data`.\n",
              "    See the :ref:`user guide &lt;basics.dtypes&gt;` for more usages.\n",
              "name : Hashable, default None\n",
              "    The name to give to the Series.\n",
              "copy : bool, default False\n",
              "    Copy input data. Only affects Series or 1d ndarray input. See examples.\n",
              "\n",
              "Notes\n",
              "-----\n",
              "Please reference the :ref:`User Guide &lt;basics.series&gt;` for more information.\n",
              "\n",
              "Examples\n",
              "--------\n",
              "Constructing Series from a dictionary with an Index specified\n",
              "\n",
              "&gt;&gt;&gt; d = {&#x27;a&#x27;: 1, &#x27;b&#x27;: 2, &#x27;c&#x27;: 3}\n",
              "&gt;&gt;&gt; ser = pd.Series(data=d, index=[&#x27;a&#x27;, &#x27;b&#x27;, &#x27;c&#x27;])\n",
              "&gt;&gt;&gt; ser\n",
              "a   1\n",
              "b   2\n",
              "c   3\n",
              "dtype: int64\n",
              "\n",
              "The keys of the dictionary match with the Index values, hence the Index\n",
              "values have no effect.\n",
              "\n",
              "&gt;&gt;&gt; d = {&#x27;a&#x27;: 1, &#x27;b&#x27;: 2, &#x27;c&#x27;: 3}\n",
              "&gt;&gt;&gt; ser = pd.Series(data=d, index=[&#x27;x&#x27;, &#x27;y&#x27;, &#x27;z&#x27;])\n",
              "&gt;&gt;&gt; ser\n",
              "x   NaN\n",
              "y   NaN\n",
              "z   NaN\n",
              "dtype: float64\n",
              "\n",
              "Note that the Index is first build with the keys from the dictionary.\n",
              "After this the Series is reindexed with the given Index values, hence we\n",
              "get all NaN as a result.\n",
              "\n",
              "Constructing Series from a list with `copy=False`.\n",
              "\n",
              "&gt;&gt;&gt; r = [1, 2]\n",
              "&gt;&gt;&gt; ser = pd.Series(r, copy=False)\n",
              "&gt;&gt;&gt; ser.iloc[0] = 999\n",
              "&gt;&gt;&gt; r\n",
              "[1, 2]\n",
              "&gt;&gt;&gt; ser\n",
              "0    999\n",
              "1      2\n",
              "dtype: int64\n",
              "\n",
              "Due to input data type the Series has a `copy` of\n",
              "the original data even though `copy=False`, so\n",
              "the data is unchanged.\n",
              "\n",
              "Constructing Series from a 1d ndarray with `copy=False`.\n",
              "\n",
              "&gt;&gt;&gt; r = np.array([1, 2])\n",
              "&gt;&gt;&gt; ser = pd.Series(r, copy=False)\n",
              "&gt;&gt;&gt; ser.iloc[0] = 999\n",
              "&gt;&gt;&gt; r\n",
              "array([999,   2])\n",
              "&gt;&gt;&gt; ser\n",
              "0    999\n",
              "1      2\n",
              "dtype: int64\n",
              "\n",
              "Due to input data type the Series has a `view` on\n",
              "the original data, so\n",
              "the data is changed as well.</pre>\n",
              "      <script>\n",
              "      if (google.colab.kernel.accessAllowed && google.colab.files && google.colab.files.view) {\n",
              "        for (const element of document.querySelectorAll('.filepath')) {\n",
              "          element.style.display = 'block'\n",
              "          element.onclick = (event) => {\n",
              "            event.preventDefault();\n",
              "            event.stopPropagation();\n",
              "            google.colab.files.view(element.textContent, 245);\n",
              "          };\n",
              "        }\n",
              "      }\n",
              "      for (const element of document.querySelectorAll('.function-repr-contents')) {\n",
              "        element.onclick = (event) => {\n",
              "          event.preventDefault();\n",
              "          event.stopPropagation();\n",
              "          element.classList.toggle('function-repr-contents-collapsed');\n",
              "        };\n",
              "      }\n",
              "      </script>\n",
              "      </div>"
            ]
          },
          "metadata": {},
          "execution_count": 36
        }
      ]
    },
    {
      "cell_type": "code",
      "source": [
        "df.groupby('family')['sales'].mean().sort_values(ascending = False)"
      ],
      "metadata": {
        "colab": {
          "base_uri": "https://localhost:8080/",
          "height": 1000
        },
        "id": "zD-eFi1aXwWm",
        "outputId": "fcd248f1-e815-4652-c0ba-dca2d2abee28"
      },
      "execution_count": null,
      "outputs": [
        {
          "output_type": "execute_result",
          "data": {
            "text/plain": [
              "family\n",
              "GROCERY I                     4480.338968\n",
              "BEVERAGES                     3306.440159\n",
              "PRODUCE                       2299.909514\n",
              "CLEANING                      1192.684653\n",
              "DAIRY                          889.104511\n",
              "BREAD/BAKERY                   534.690257\n",
              "POULTRY                        387.135622\n",
              "MEATS                          361.343401\n",
              "PERSONAL CARE                  318.871778\n",
              "DELI                           300.856381\n",
              "HOME CARE                      293.847472\n",
              "EGGS                           189.385729\n",
              "FROZEN FOODS                   161.930166\n",
              "PREPARED FOODS                 103.479924\n",
              "LIQUOR,WINE,BEER                94.052271\n",
              "HOME AND KITCHEN I              30.963338\n",
              "HOME AND KITCHEN II             27.721784\n",
              "SEAFOOD                         22.808709\n",
              "GROCERY II                      22.714120\n",
              "CELEBRATION                     13.917073\n",
              "LADIESWEAR                      11.531657\n",
              "PLAYERS AND ELECTRONICS         10.608515\n",
              "LAWN AND GARDEN                 10.120026\n",
              "PET SUPPLIES                     7.407752\n",
              "AUTOMOTIVE                       7.073918\n",
              "MAGAZINES                        6.351258\n",
              "LINGERIE                         6.121747\n",
              "SCHOOL AND OFFICE SUPPLIES       6.068381\n",
              "BEAUTY                           5.198605\n",
              "HARDWARE                         1.292668\n",
              "HOME APPLIANCES                  0.423111\n",
              "BABY CARE                        0.247216\n",
              "BOOKS                            0.201389\n",
              "Name: sales, dtype: float64"
            ],
            "text/html": [
              "<div>\n",
              "<style scoped>\n",
              "    .dataframe tbody tr th:only-of-type {\n",
              "        vertical-align: middle;\n",
              "    }\n",
              "\n",
              "    .dataframe tbody tr th {\n",
              "        vertical-align: top;\n",
              "    }\n",
              "\n",
              "    .dataframe thead th {\n",
              "        text-align: right;\n",
              "    }\n",
              "</style>\n",
              "<table border=\"1\" class=\"dataframe\">\n",
              "  <thead>\n",
              "    <tr style=\"text-align: right;\">\n",
              "      <th></th>\n",
              "      <th>sales</th>\n",
              "    </tr>\n",
              "    <tr>\n",
              "      <th>family</th>\n",
              "      <th></th>\n",
              "    </tr>\n",
              "  </thead>\n",
              "  <tbody>\n",
              "    <tr>\n",
              "      <th>GROCERY I</th>\n",
              "      <td>4480.338968</td>\n",
              "    </tr>\n",
              "    <tr>\n",
              "      <th>BEVERAGES</th>\n",
              "      <td>3306.440159</td>\n",
              "    </tr>\n",
              "    <tr>\n",
              "      <th>PRODUCE</th>\n",
              "      <td>2299.909514</td>\n",
              "    </tr>\n",
              "    <tr>\n",
              "      <th>CLEANING</th>\n",
              "      <td>1192.684653</td>\n",
              "    </tr>\n",
              "    <tr>\n",
              "      <th>DAIRY</th>\n",
              "      <td>889.104511</td>\n",
              "    </tr>\n",
              "    <tr>\n",
              "      <th>BREAD/BAKERY</th>\n",
              "      <td>534.690257</td>\n",
              "    </tr>\n",
              "    <tr>\n",
              "      <th>POULTRY</th>\n",
              "      <td>387.135622</td>\n",
              "    </tr>\n",
              "    <tr>\n",
              "      <th>MEATS</th>\n",
              "      <td>361.343401</td>\n",
              "    </tr>\n",
              "    <tr>\n",
              "      <th>PERSONAL CARE</th>\n",
              "      <td>318.871778</td>\n",
              "    </tr>\n",
              "    <tr>\n",
              "      <th>DELI</th>\n",
              "      <td>300.856381</td>\n",
              "    </tr>\n",
              "    <tr>\n",
              "      <th>HOME CARE</th>\n",
              "      <td>293.847472</td>\n",
              "    </tr>\n",
              "    <tr>\n",
              "      <th>EGGS</th>\n",
              "      <td>189.385729</td>\n",
              "    </tr>\n",
              "    <tr>\n",
              "      <th>FROZEN FOODS</th>\n",
              "      <td>161.930166</td>\n",
              "    </tr>\n",
              "    <tr>\n",
              "      <th>PREPARED FOODS</th>\n",
              "      <td>103.479924</td>\n",
              "    </tr>\n",
              "    <tr>\n",
              "      <th>LIQUOR,WINE,BEER</th>\n",
              "      <td>94.052271</td>\n",
              "    </tr>\n",
              "    <tr>\n",
              "      <th>HOME AND KITCHEN I</th>\n",
              "      <td>30.963338</td>\n",
              "    </tr>\n",
              "    <tr>\n",
              "      <th>HOME AND KITCHEN II</th>\n",
              "      <td>27.721784</td>\n",
              "    </tr>\n",
              "    <tr>\n",
              "      <th>SEAFOOD</th>\n",
              "      <td>22.808709</td>\n",
              "    </tr>\n",
              "    <tr>\n",
              "      <th>GROCERY II</th>\n",
              "      <td>22.714120</td>\n",
              "    </tr>\n",
              "    <tr>\n",
              "      <th>CELEBRATION</th>\n",
              "      <td>13.917073</td>\n",
              "    </tr>\n",
              "    <tr>\n",
              "      <th>LADIESWEAR</th>\n",
              "      <td>11.531657</td>\n",
              "    </tr>\n",
              "    <tr>\n",
              "      <th>PLAYERS AND ELECTRONICS</th>\n",
              "      <td>10.608515</td>\n",
              "    </tr>\n",
              "    <tr>\n",
              "      <th>LAWN AND GARDEN</th>\n",
              "      <td>10.120026</td>\n",
              "    </tr>\n",
              "    <tr>\n",
              "      <th>PET SUPPLIES</th>\n",
              "      <td>7.407752</td>\n",
              "    </tr>\n",
              "    <tr>\n",
              "      <th>AUTOMOTIVE</th>\n",
              "      <td>7.073918</td>\n",
              "    </tr>\n",
              "    <tr>\n",
              "      <th>MAGAZINES</th>\n",
              "      <td>6.351258</td>\n",
              "    </tr>\n",
              "    <tr>\n",
              "      <th>LINGERIE</th>\n",
              "      <td>6.121747</td>\n",
              "    </tr>\n",
              "    <tr>\n",
              "      <th>SCHOOL AND OFFICE SUPPLIES</th>\n",
              "      <td>6.068381</td>\n",
              "    </tr>\n",
              "    <tr>\n",
              "      <th>BEAUTY</th>\n",
              "      <td>5.198605</td>\n",
              "    </tr>\n",
              "    <tr>\n",
              "      <th>HARDWARE</th>\n",
              "      <td>1.292668</td>\n",
              "    </tr>\n",
              "    <tr>\n",
              "      <th>HOME APPLIANCES</th>\n",
              "      <td>0.423111</td>\n",
              "    </tr>\n",
              "    <tr>\n",
              "      <th>BABY CARE</th>\n",
              "      <td>0.247216</td>\n",
              "    </tr>\n",
              "    <tr>\n",
              "      <th>BOOKS</th>\n",
              "      <td>0.201389</td>\n",
              "    </tr>\n",
              "  </tbody>\n",
              "</table>\n",
              "</div><br><label><b>dtype:</b> float64</label>"
            ]
          },
          "metadata": {},
          "execution_count": 41
        }
      ]
    },
    {
      "cell_type": "code",
      "source": [
        "df.groupby('family')['sales'].mean().sort_values()"
      ],
      "metadata": {
        "id": "IuEYY3-9q_IG",
        "colab": {
          "base_uri": "https://localhost:8080/",
          "height": 1000
        },
        "outputId": "426c357b-ef32-4572-ebc8-d5ddd542b983"
      },
      "execution_count": null,
      "outputs": [
        {
          "output_type": "execute_result",
          "data": {
            "text/plain": [
              "family\n",
              "BOOKS                            0.201389\n",
              "BABY CARE                        0.247216\n",
              "HOME APPLIANCES                  0.423111\n",
              "HARDWARE                         1.292668\n",
              "BEAUTY                           5.198605\n",
              "SCHOOL AND OFFICE SUPPLIES       6.068381\n",
              "LINGERIE                         6.121747\n",
              "MAGAZINES                        6.351258\n",
              "AUTOMOTIVE                       7.073918\n",
              "PET SUPPLIES                     7.407752\n",
              "LAWN AND GARDEN                 10.120026\n",
              "PLAYERS AND ELECTRONICS         10.608515\n",
              "LADIESWEAR                      11.531657\n",
              "CELEBRATION                     13.917073\n",
              "GROCERY II                      22.714120\n",
              "SEAFOOD                         22.808709\n",
              "HOME AND KITCHEN II             27.721784\n",
              "HOME AND KITCHEN I              30.963338\n",
              "LIQUOR,WINE,BEER                94.052271\n",
              "PREPARED FOODS                 103.479924\n",
              "FROZEN FOODS                   161.930166\n",
              "EGGS                           189.385729\n",
              "HOME CARE                      293.847472\n",
              "DELI                           300.856381\n",
              "PERSONAL CARE                  318.871778\n",
              "MEATS                          361.343401\n",
              "POULTRY                        387.135622\n",
              "BREAD/BAKERY                   534.690257\n",
              "DAIRY                          889.104511\n",
              "CLEANING                      1192.684653\n",
              "PRODUCE                       2299.909514\n",
              "BEVERAGES                     3306.440159\n",
              "GROCERY I                     4480.338968\n",
              "Name: sales, dtype: float64"
            ],
            "text/html": [
              "<div>\n",
              "<style scoped>\n",
              "    .dataframe tbody tr th:only-of-type {\n",
              "        vertical-align: middle;\n",
              "    }\n",
              "\n",
              "    .dataframe tbody tr th {\n",
              "        vertical-align: top;\n",
              "    }\n",
              "\n",
              "    .dataframe thead th {\n",
              "        text-align: right;\n",
              "    }\n",
              "</style>\n",
              "<table border=\"1\" class=\"dataframe\">\n",
              "  <thead>\n",
              "    <tr style=\"text-align: right;\">\n",
              "      <th></th>\n",
              "      <th>sales</th>\n",
              "    </tr>\n",
              "    <tr>\n",
              "      <th>family</th>\n",
              "      <th></th>\n",
              "    </tr>\n",
              "  </thead>\n",
              "  <tbody>\n",
              "    <tr>\n",
              "      <th>BOOKS</th>\n",
              "      <td>0.201389</td>\n",
              "    </tr>\n",
              "    <tr>\n",
              "      <th>BABY CARE</th>\n",
              "      <td>0.247216</td>\n",
              "    </tr>\n",
              "    <tr>\n",
              "      <th>HOME APPLIANCES</th>\n",
              "      <td>0.423111</td>\n",
              "    </tr>\n",
              "    <tr>\n",
              "      <th>HARDWARE</th>\n",
              "      <td>1.292668</td>\n",
              "    </tr>\n",
              "    <tr>\n",
              "      <th>BEAUTY</th>\n",
              "      <td>5.198605</td>\n",
              "    </tr>\n",
              "    <tr>\n",
              "      <th>SCHOOL AND OFFICE SUPPLIES</th>\n",
              "      <td>6.068381</td>\n",
              "    </tr>\n",
              "    <tr>\n",
              "      <th>LINGERIE</th>\n",
              "      <td>6.121747</td>\n",
              "    </tr>\n",
              "    <tr>\n",
              "      <th>MAGAZINES</th>\n",
              "      <td>6.351258</td>\n",
              "    </tr>\n",
              "    <tr>\n",
              "      <th>AUTOMOTIVE</th>\n",
              "      <td>7.073918</td>\n",
              "    </tr>\n",
              "    <tr>\n",
              "      <th>PET SUPPLIES</th>\n",
              "      <td>7.407752</td>\n",
              "    </tr>\n",
              "    <tr>\n",
              "      <th>LAWN AND GARDEN</th>\n",
              "      <td>10.120026</td>\n",
              "    </tr>\n",
              "    <tr>\n",
              "      <th>PLAYERS AND ELECTRONICS</th>\n",
              "      <td>10.608515</td>\n",
              "    </tr>\n",
              "    <tr>\n",
              "      <th>LADIESWEAR</th>\n",
              "      <td>11.531657</td>\n",
              "    </tr>\n",
              "    <tr>\n",
              "      <th>CELEBRATION</th>\n",
              "      <td>13.917073</td>\n",
              "    </tr>\n",
              "    <tr>\n",
              "      <th>GROCERY II</th>\n",
              "      <td>22.714120</td>\n",
              "    </tr>\n",
              "    <tr>\n",
              "      <th>SEAFOOD</th>\n",
              "      <td>22.808709</td>\n",
              "    </tr>\n",
              "    <tr>\n",
              "      <th>HOME AND KITCHEN II</th>\n",
              "      <td>27.721784</td>\n",
              "    </tr>\n",
              "    <tr>\n",
              "      <th>HOME AND KITCHEN I</th>\n",
              "      <td>30.963338</td>\n",
              "    </tr>\n",
              "    <tr>\n",
              "      <th>LIQUOR,WINE,BEER</th>\n",
              "      <td>94.052271</td>\n",
              "    </tr>\n",
              "    <tr>\n",
              "      <th>PREPARED FOODS</th>\n",
              "      <td>103.479924</td>\n",
              "    </tr>\n",
              "    <tr>\n",
              "      <th>FROZEN FOODS</th>\n",
              "      <td>161.930166</td>\n",
              "    </tr>\n",
              "    <tr>\n",
              "      <th>EGGS</th>\n",
              "      <td>189.385729</td>\n",
              "    </tr>\n",
              "    <tr>\n",
              "      <th>HOME CARE</th>\n",
              "      <td>293.847472</td>\n",
              "    </tr>\n",
              "    <tr>\n",
              "      <th>DELI</th>\n",
              "      <td>300.856381</td>\n",
              "    </tr>\n",
              "    <tr>\n",
              "      <th>PERSONAL CARE</th>\n",
              "      <td>318.871778</td>\n",
              "    </tr>\n",
              "    <tr>\n",
              "      <th>MEATS</th>\n",
              "      <td>361.343401</td>\n",
              "    </tr>\n",
              "    <tr>\n",
              "      <th>POULTRY</th>\n",
              "      <td>387.135622</td>\n",
              "    </tr>\n",
              "    <tr>\n",
              "      <th>BREAD/BAKERY</th>\n",
              "      <td>534.690257</td>\n",
              "    </tr>\n",
              "    <tr>\n",
              "      <th>DAIRY</th>\n",
              "      <td>889.104511</td>\n",
              "    </tr>\n",
              "    <tr>\n",
              "      <th>CLEANING</th>\n",
              "      <td>1192.684653</td>\n",
              "    </tr>\n",
              "    <tr>\n",
              "      <th>PRODUCE</th>\n",
              "      <td>2299.909514</td>\n",
              "    </tr>\n",
              "    <tr>\n",
              "      <th>BEVERAGES</th>\n",
              "      <td>3306.440159</td>\n",
              "    </tr>\n",
              "    <tr>\n",
              "      <th>GROCERY I</th>\n",
              "      <td>4480.338968</td>\n",
              "    </tr>\n",
              "  </tbody>\n",
              "</table>\n",
              "</div><br><label><b>dtype:</b> float64</label>"
            ]
          },
          "metadata": {},
          "execution_count": 39
        }
      ]
    },
    {
      "cell_type": "code",
      "source": [
        "df = df.astype\n"
      ],
      "metadata": {
        "id": "HZJGKsjMYxdm"
      },
      "execution_count": null,
      "outputs": []
    },
    {
      "cell_type": "code",
      "source": [
        "#category\n",
        "#which store_nbrfrom 1 to 10 has highest sales total\n",
        "df = df.astype({'store_nbr': 'category'})\n",
        "df.info()\n",
        "\n",
        "#filter extract store nbr 1 to 10 and then apply groupby"
      ],
      "metadata": {
        "id": "CUxxRpoHrHb1",
        "colab": {
          "base_uri": "https://localhost:8080/"
        },
        "outputId": "af18a3b7-7b94-4c6a-8127-bfa441892096"
      },
      "execution_count": null,
      "outputs": [
        {
          "output_type": "stream",
          "name": "stdout",
          "text": [
            "<class 'pandas.core.frame.DataFrame'>\n",
            "RangeIndex: 1054944 entries, 0 to 1054943\n",
            "Data columns (total 6 columns):\n",
            " #   Column       Non-Null Count    Dtype   \n",
            "---  ------       --------------    -----   \n",
            " 0   id           1054944 non-null  int64   \n",
            " 1   date         1054944 non-null  object  \n",
            " 2   store_nbr    1054944 non-null  category\n",
            " 3   family       1054944 non-null  object  \n",
            " 4   sales        1054944 non-null  float64 \n",
            " 5   onpromotion  1054944 non-null  int64   \n",
            "dtypes: category(1), float64(1), int64(2), object(2)\n",
            "memory usage: 41.3+ MB\n"
          ]
        }
      ]
    },
    {
      "cell_type": "code",
      "source": [
        "new_df = df[df.store_nbr.isin(range(1,15))]\n",
        "new_df.groupby('store_nbr')['sales'].median().sort_values(ascending = False)\n",
        "\n",
        "#which store_nbr from 1 to 10 has highst total sales?\n",
        "\n",
        "#highest total sales aggregate functions: sum(),max(),min(),mean(),median(),count()"
      ],
      "metadata": {
        "id": "3n1enPQcr9C1",
        "colab": {
          "base_uri": "https://localhost:8080/",
          "height": 1000
        },
        "outputId": "6fa353c0-e93c-4c24-9971-becb544e7c39"
      },
      "execution_count": null,
      "outputs": [
        {
          "output_type": "stream",
          "name": "stderr",
          "text": [
            "<ipython-input-50-ca8a958a3e8b>:2: FutureWarning: The default of observed=False is deprecated and will be changed to True in a future version of pandas. Pass observed=False to retain current behavior or observed=True to adopt the future default and silence this warning.\n",
            "  new_df.groupby('store_nbr')['sales'].median().sort_values(ascending = False)\n"
          ]
        },
        {
          "output_type": "execute_result",
          "data": {
            "text/plain": [
              "store_nbr\n",
              "3     85.000\n",
              "8     50.804\n",
              "6     43.730\n",
              "7     43.000\n",
              "2     32.956\n",
              "9     27.000\n",
              "1     26.000\n",
              "4     26.000\n",
              "5     25.000\n",
              "11    22.000\n",
              "12    12.000\n",
              "14    12.000\n",
              "13    10.000\n",
              "10     7.000\n",
              "15       NaN\n",
              "16       NaN\n",
              "17       NaN\n",
              "18       NaN\n",
              "19       NaN\n",
              "20       NaN\n",
              "21       NaN\n",
              "22       NaN\n",
              "23       NaN\n",
              "24       NaN\n",
              "25       NaN\n",
              "26       NaN\n",
              "27       NaN\n",
              "28       NaN\n",
              "29       NaN\n",
              "30       NaN\n",
              "31       NaN\n",
              "32       NaN\n",
              "33       NaN\n",
              "34       NaN\n",
              "35       NaN\n",
              "36       NaN\n",
              "37       NaN\n",
              "38       NaN\n",
              "39       NaN\n",
              "40       NaN\n",
              "41       NaN\n",
              "42       NaN\n",
              "43       NaN\n",
              "44       NaN\n",
              "45       NaN\n",
              "46       NaN\n",
              "47       NaN\n",
              "48       NaN\n",
              "49       NaN\n",
              "50       NaN\n",
              "51       NaN\n",
              "52       NaN\n",
              "53       NaN\n",
              "54       NaN\n",
              "Name: sales, dtype: float64"
            ],
            "text/html": [
              "<div>\n",
              "<style scoped>\n",
              "    .dataframe tbody tr th:only-of-type {\n",
              "        vertical-align: middle;\n",
              "    }\n",
              "\n",
              "    .dataframe tbody tr th {\n",
              "        vertical-align: top;\n",
              "    }\n",
              "\n",
              "    .dataframe thead th {\n",
              "        text-align: right;\n",
              "    }\n",
              "</style>\n",
              "<table border=\"1\" class=\"dataframe\">\n",
              "  <thead>\n",
              "    <tr style=\"text-align: right;\">\n",
              "      <th></th>\n",
              "      <th>sales</th>\n",
              "    </tr>\n",
              "    <tr>\n",
              "      <th>store_nbr</th>\n",
              "      <th></th>\n",
              "    </tr>\n",
              "  </thead>\n",
              "  <tbody>\n",
              "    <tr>\n",
              "      <th>3</th>\n",
              "      <td>85.000</td>\n",
              "    </tr>\n",
              "    <tr>\n",
              "      <th>8</th>\n",
              "      <td>50.804</td>\n",
              "    </tr>\n",
              "    <tr>\n",
              "      <th>6</th>\n",
              "      <td>43.730</td>\n",
              "    </tr>\n",
              "    <tr>\n",
              "      <th>7</th>\n",
              "      <td>43.000</td>\n",
              "    </tr>\n",
              "    <tr>\n",
              "      <th>2</th>\n",
              "      <td>32.956</td>\n",
              "    </tr>\n",
              "    <tr>\n",
              "      <th>9</th>\n",
              "      <td>27.000</td>\n",
              "    </tr>\n",
              "    <tr>\n",
              "      <th>1</th>\n",
              "      <td>26.000</td>\n",
              "    </tr>\n",
              "    <tr>\n",
              "      <th>4</th>\n",
              "      <td>26.000</td>\n",
              "    </tr>\n",
              "    <tr>\n",
              "      <th>5</th>\n",
              "      <td>25.000</td>\n",
              "    </tr>\n",
              "    <tr>\n",
              "      <th>11</th>\n",
              "      <td>22.000</td>\n",
              "    </tr>\n",
              "    <tr>\n",
              "      <th>12</th>\n",
              "      <td>12.000</td>\n",
              "    </tr>\n",
              "    <tr>\n",
              "      <th>14</th>\n",
              "      <td>12.000</td>\n",
              "    </tr>\n",
              "    <tr>\n",
              "      <th>13</th>\n",
              "      <td>10.000</td>\n",
              "    </tr>\n",
              "    <tr>\n",
              "      <th>10</th>\n",
              "      <td>7.000</td>\n",
              "    </tr>\n",
              "    <tr>\n",
              "      <th>15</th>\n",
              "      <td>NaN</td>\n",
              "    </tr>\n",
              "    <tr>\n",
              "      <th>16</th>\n",
              "      <td>NaN</td>\n",
              "    </tr>\n",
              "    <tr>\n",
              "      <th>17</th>\n",
              "      <td>NaN</td>\n",
              "    </tr>\n",
              "    <tr>\n",
              "      <th>18</th>\n",
              "      <td>NaN</td>\n",
              "    </tr>\n",
              "    <tr>\n",
              "      <th>19</th>\n",
              "      <td>NaN</td>\n",
              "    </tr>\n",
              "    <tr>\n",
              "      <th>20</th>\n",
              "      <td>NaN</td>\n",
              "    </tr>\n",
              "    <tr>\n",
              "      <th>21</th>\n",
              "      <td>NaN</td>\n",
              "    </tr>\n",
              "    <tr>\n",
              "      <th>22</th>\n",
              "      <td>NaN</td>\n",
              "    </tr>\n",
              "    <tr>\n",
              "      <th>23</th>\n",
              "      <td>NaN</td>\n",
              "    </tr>\n",
              "    <tr>\n",
              "      <th>24</th>\n",
              "      <td>NaN</td>\n",
              "    </tr>\n",
              "    <tr>\n",
              "      <th>25</th>\n",
              "      <td>NaN</td>\n",
              "    </tr>\n",
              "    <tr>\n",
              "      <th>26</th>\n",
              "      <td>NaN</td>\n",
              "    </tr>\n",
              "    <tr>\n",
              "      <th>27</th>\n",
              "      <td>NaN</td>\n",
              "    </tr>\n",
              "    <tr>\n",
              "      <th>28</th>\n",
              "      <td>NaN</td>\n",
              "    </tr>\n",
              "    <tr>\n",
              "      <th>29</th>\n",
              "      <td>NaN</td>\n",
              "    </tr>\n",
              "    <tr>\n",
              "      <th>30</th>\n",
              "      <td>NaN</td>\n",
              "    </tr>\n",
              "    <tr>\n",
              "      <th>31</th>\n",
              "      <td>NaN</td>\n",
              "    </tr>\n",
              "    <tr>\n",
              "      <th>32</th>\n",
              "      <td>NaN</td>\n",
              "    </tr>\n",
              "    <tr>\n",
              "      <th>33</th>\n",
              "      <td>NaN</td>\n",
              "    </tr>\n",
              "    <tr>\n",
              "      <th>34</th>\n",
              "      <td>NaN</td>\n",
              "    </tr>\n",
              "    <tr>\n",
              "      <th>35</th>\n",
              "      <td>NaN</td>\n",
              "    </tr>\n",
              "    <tr>\n",
              "      <th>36</th>\n",
              "      <td>NaN</td>\n",
              "    </tr>\n",
              "    <tr>\n",
              "      <th>37</th>\n",
              "      <td>NaN</td>\n",
              "    </tr>\n",
              "    <tr>\n",
              "      <th>38</th>\n",
              "      <td>NaN</td>\n",
              "    </tr>\n",
              "    <tr>\n",
              "      <th>39</th>\n",
              "      <td>NaN</td>\n",
              "    </tr>\n",
              "    <tr>\n",
              "      <th>40</th>\n",
              "      <td>NaN</td>\n",
              "    </tr>\n",
              "    <tr>\n",
              "      <th>41</th>\n",
              "      <td>NaN</td>\n",
              "    </tr>\n",
              "    <tr>\n",
              "      <th>42</th>\n",
              "      <td>NaN</td>\n",
              "    </tr>\n",
              "    <tr>\n",
              "      <th>43</th>\n",
              "      <td>NaN</td>\n",
              "    </tr>\n",
              "    <tr>\n",
              "      <th>44</th>\n",
              "      <td>NaN</td>\n",
              "    </tr>\n",
              "    <tr>\n",
              "      <th>45</th>\n",
              "      <td>NaN</td>\n",
              "    </tr>\n",
              "    <tr>\n",
              "      <th>46</th>\n",
              "      <td>NaN</td>\n",
              "    </tr>\n",
              "    <tr>\n",
              "      <th>47</th>\n",
              "      <td>NaN</td>\n",
              "    </tr>\n",
              "    <tr>\n",
              "      <th>48</th>\n",
              "      <td>NaN</td>\n",
              "    </tr>\n",
              "    <tr>\n",
              "      <th>49</th>\n",
              "      <td>NaN</td>\n",
              "    </tr>\n",
              "    <tr>\n",
              "      <th>50</th>\n",
              "      <td>NaN</td>\n",
              "    </tr>\n",
              "    <tr>\n",
              "      <th>51</th>\n",
              "      <td>NaN</td>\n",
              "    </tr>\n",
              "    <tr>\n",
              "      <th>52</th>\n",
              "      <td>NaN</td>\n",
              "    </tr>\n",
              "    <tr>\n",
              "      <th>53</th>\n",
              "      <td>NaN</td>\n",
              "    </tr>\n",
              "    <tr>\n",
              "      <th>54</th>\n",
              "      <td>NaN</td>\n",
              "    </tr>\n",
              "  </tbody>\n",
              "</table>\n",
              "</div><br><label><b>dtype:</b> float64</label>"
            ]
          },
          "metadata": {},
          "execution_count": 50
        }
      ]
    },
    {
      "cell_type": "code",
      "source": [
        "new_df.groupby('family')[['sales']].sum()"
      ],
      "metadata": {
        "id": "bpeAFeRDtF3g",
        "colab": {
          "base_uri": "https://localhost:8080/",
          "height": 1000
        },
        "outputId": "c7c95cb8-f908-4352-edb3-50a53adc8636"
      },
      "execution_count": null,
      "outputs": [
        {
          "output_type": "execute_result",
          "data": {
            "text/plain": [
              "                                   sales\n",
              "family                                  \n",
              "AUTOMOTIVE                  5.288000e+04\n",
              "BABY CARE                   2.049000e+03\n",
              "BEAUTY                      4.512100e+04\n",
              "BEVERAGES                   2.769231e+07\n",
              "BOOKS                       2.090000e+03\n",
              "BREAD/BAKERY                4.343142e+06\n",
              "CELEBRATION                 1.375350e+05\n",
              "CLEANING                    9.893161e+06\n",
              "DAIRY                       7.656192e+06\n",
              "DELI                        2.442791e+06\n",
              "EGGS                        1.465844e+06\n",
              "FROZEN FOODS                1.278035e+06\n",
              "GROCERY I                   3.746255e+07\n",
              "GROCERY II                  2.007820e+05\n",
              "HARDWARE                    1.230100e+04\n",
              "HOME AND KITCHEN I          2.341070e+05\n",
              "HOME AND KITCHEN II         2.278330e+05\n",
              "HOME APPLIANCES             3.770000e+03\n",
              "HOME CARE                   2.473397e+06\n",
              "LADIESWEAR                  1.448470e+05\n",
              "LAWN AND GARDEN             9.390000e+04\n",
              "LINGERIE                    6.388000e+04\n",
              "LIQUOR,WINE,BEER            7.165020e+05\n",
              "MAGAZINES                   6.473500e+04\n",
              "MEATS                       3.306169e+06\n",
              "PERSONAL CARE               2.576592e+06\n",
              "PET SUPPLIES                5.598200e+04\n",
              "PLAYERS AND ELECTRONICS     8.941400e+04\n",
              "POULTRY                     3.690859e+06\n",
              "PREPARED FOODS              9.719016e+05\n",
              "PRODUCE                     2.101057e+07\n",
              "SCHOOL AND OFFICE SUPPLIES  1.522300e+04\n",
              "SEAFOOD                     2.410340e+05"
            ],
            "text/html": [
              "\n",
              "  <div id=\"df-f5cccb06-5acd-4364-bce2-33f655e84810\" class=\"colab-df-container\">\n",
              "    <div>\n",
              "<style scoped>\n",
              "    .dataframe tbody tr th:only-of-type {\n",
              "        vertical-align: middle;\n",
              "    }\n",
              "\n",
              "    .dataframe tbody tr th {\n",
              "        vertical-align: top;\n",
              "    }\n",
              "\n",
              "    .dataframe thead th {\n",
              "        text-align: right;\n",
              "    }\n",
              "</style>\n",
              "<table border=\"1\" class=\"dataframe\">\n",
              "  <thead>\n",
              "    <tr style=\"text-align: right;\">\n",
              "      <th></th>\n",
              "      <th>sales</th>\n",
              "    </tr>\n",
              "    <tr>\n",
              "      <th>family</th>\n",
              "      <th></th>\n",
              "    </tr>\n",
              "  </thead>\n",
              "  <tbody>\n",
              "    <tr>\n",
              "      <th>AUTOMOTIVE</th>\n",
              "      <td>5.288000e+04</td>\n",
              "    </tr>\n",
              "    <tr>\n",
              "      <th>BABY CARE</th>\n",
              "      <td>2.049000e+03</td>\n",
              "    </tr>\n",
              "    <tr>\n",
              "      <th>BEAUTY</th>\n",
              "      <td>4.512100e+04</td>\n",
              "    </tr>\n",
              "    <tr>\n",
              "      <th>BEVERAGES</th>\n",
              "      <td>2.769231e+07</td>\n",
              "    </tr>\n",
              "    <tr>\n",
              "      <th>BOOKS</th>\n",
              "      <td>2.090000e+03</td>\n",
              "    </tr>\n",
              "    <tr>\n",
              "      <th>BREAD/BAKERY</th>\n",
              "      <td>4.343142e+06</td>\n",
              "    </tr>\n",
              "    <tr>\n",
              "      <th>CELEBRATION</th>\n",
              "      <td>1.375350e+05</td>\n",
              "    </tr>\n",
              "    <tr>\n",
              "      <th>CLEANING</th>\n",
              "      <td>9.893161e+06</td>\n",
              "    </tr>\n",
              "    <tr>\n",
              "      <th>DAIRY</th>\n",
              "      <td>7.656192e+06</td>\n",
              "    </tr>\n",
              "    <tr>\n",
              "      <th>DELI</th>\n",
              "      <td>2.442791e+06</td>\n",
              "    </tr>\n",
              "    <tr>\n",
              "      <th>EGGS</th>\n",
              "      <td>1.465844e+06</td>\n",
              "    </tr>\n",
              "    <tr>\n",
              "      <th>FROZEN FOODS</th>\n",
              "      <td>1.278035e+06</td>\n",
              "    </tr>\n",
              "    <tr>\n",
              "      <th>GROCERY I</th>\n",
              "      <td>3.746255e+07</td>\n",
              "    </tr>\n",
              "    <tr>\n",
              "      <th>GROCERY II</th>\n",
              "      <td>2.007820e+05</td>\n",
              "    </tr>\n",
              "    <tr>\n",
              "      <th>HARDWARE</th>\n",
              "      <td>1.230100e+04</td>\n",
              "    </tr>\n",
              "    <tr>\n",
              "      <th>HOME AND KITCHEN I</th>\n",
              "      <td>2.341070e+05</td>\n",
              "    </tr>\n",
              "    <tr>\n",
              "      <th>HOME AND KITCHEN II</th>\n",
              "      <td>2.278330e+05</td>\n",
              "    </tr>\n",
              "    <tr>\n",
              "      <th>HOME APPLIANCES</th>\n",
              "      <td>3.770000e+03</td>\n",
              "    </tr>\n",
              "    <tr>\n",
              "      <th>HOME CARE</th>\n",
              "      <td>2.473397e+06</td>\n",
              "    </tr>\n",
              "    <tr>\n",
              "      <th>LADIESWEAR</th>\n",
              "      <td>1.448470e+05</td>\n",
              "    </tr>\n",
              "    <tr>\n",
              "      <th>LAWN AND GARDEN</th>\n",
              "      <td>9.390000e+04</td>\n",
              "    </tr>\n",
              "    <tr>\n",
              "      <th>LINGERIE</th>\n",
              "      <td>6.388000e+04</td>\n",
              "    </tr>\n",
              "    <tr>\n",
              "      <th>LIQUOR,WINE,BEER</th>\n",
              "      <td>7.165020e+05</td>\n",
              "    </tr>\n",
              "    <tr>\n",
              "      <th>MAGAZINES</th>\n",
              "      <td>6.473500e+04</td>\n",
              "    </tr>\n",
              "    <tr>\n",
              "      <th>MEATS</th>\n",
              "      <td>3.306169e+06</td>\n",
              "    </tr>\n",
              "    <tr>\n",
              "      <th>PERSONAL CARE</th>\n",
              "      <td>2.576592e+06</td>\n",
              "    </tr>\n",
              "    <tr>\n",
              "      <th>PET SUPPLIES</th>\n",
              "      <td>5.598200e+04</td>\n",
              "    </tr>\n",
              "    <tr>\n",
              "      <th>PLAYERS AND ELECTRONICS</th>\n",
              "      <td>8.941400e+04</td>\n",
              "    </tr>\n",
              "    <tr>\n",
              "      <th>POULTRY</th>\n",
              "      <td>3.690859e+06</td>\n",
              "    </tr>\n",
              "    <tr>\n",
              "      <th>PREPARED FOODS</th>\n",
              "      <td>9.719016e+05</td>\n",
              "    </tr>\n",
              "    <tr>\n",
              "      <th>PRODUCE</th>\n",
              "      <td>2.101057e+07</td>\n",
              "    </tr>\n",
              "    <tr>\n",
              "      <th>SCHOOL AND OFFICE SUPPLIES</th>\n",
              "      <td>1.522300e+04</td>\n",
              "    </tr>\n",
              "    <tr>\n",
              "      <th>SEAFOOD</th>\n",
              "      <td>2.410340e+05</td>\n",
              "    </tr>\n",
              "  </tbody>\n",
              "</table>\n",
              "</div>\n",
              "    <div class=\"colab-df-buttons\">\n",
              "\n",
              "  <div class=\"colab-df-container\">\n",
              "    <button class=\"colab-df-convert\" onclick=\"convertToInteractive('df-f5cccb06-5acd-4364-bce2-33f655e84810')\"\n",
              "            title=\"Convert this dataframe to an interactive table.\"\n",
              "            style=\"display:none;\">\n",
              "\n",
              "  <svg xmlns=\"http://www.w3.org/2000/svg\" height=\"24px\" viewBox=\"0 -960 960 960\">\n",
              "    <path d=\"M120-120v-720h720v720H120Zm60-500h600v-160H180v160Zm220 220h160v-160H400v160Zm0 220h160v-160H400v160ZM180-400h160v-160H180v160Zm440 0h160v-160H620v160ZM180-180h160v-160H180v160Zm440 0h160v-160H620v160Z\"/>\n",
              "  </svg>\n",
              "    </button>\n",
              "\n",
              "  <style>\n",
              "    .colab-df-container {\n",
              "      display:flex;\n",
              "      gap: 12px;\n",
              "    }\n",
              "\n",
              "    .colab-df-convert {\n",
              "      background-color: #E8F0FE;\n",
              "      border: none;\n",
              "      border-radius: 50%;\n",
              "      cursor: pointer;\n",
              "      display: none;\n",
              "      fill: #1967D2;\n",
              "      height: 32px;\n",
              "      padding: 0 0 0 0;\n",
              "      width: 32px;\n",
              "    }\n",
              "\n",
              "    .colab-df-convert:hover {\n",
              "      background-color: #E2EBFA;\n",
              "      box-shadow: 0px 1px 2px rgba(60, 64, 67, 0.3), 0px 1px 3px 1px rgba(60, 64, 67, 0.15);\n",
              "      fill: #174EA6;\n",
              "    }\n",
              "\n",
              "    .colab-df-buttons div {\n",
              "      margin-bottom: 4px;\n",
              "    }\n",
              "\n",
              "    [theme=dark] .colab-df-convert {\n",
              "      background-color: #3B4455;\n",
              "      fill: #D2E3FC;\n",
              "    }\n",
              "\n",
              "    [theme=dark] .colab-df-convert:hover {\n",
              "      background-color: #434B5C;\n",
              "      box-shadow: 0px 1px 3px 1px rgba(0, 0, 0, 0.15);\n",
              "      filter: drop-shadow(0px 1px 2px rgba(0, 0, 0, 0.3));\n",
              "      fill: #FFFFFF;\n",
              "    }\n",
              "  </style>\n",
              "\n",
              "    <script>\n",
              "      const buttonEl =\n",
              "        document.querySelector('#df-f5cccb06-5acd-4364-bce2-33f655e84810 button.colab-df-convert');\n",
              "      buttonEl.style.display =\n",
              "        google.colab.kernel.accessAllowed ? 'block' : 'none';\n",
              "\n",
              "      async function convertToInteractive(key) {\n",
              "        const element = document.querySelector('#df-f5cccb06-5acd-4364-bce2-33f655e84810');\n",
              "        const dataTable =\n",
              "          await google.colab.kernel.invokeFunction('convertToInteractive',\n",
              "                                                    [key], {});\n",
              "        if (!dataTable) return;\n",
              "\n",
              "        const docLinkHtml = 'Like what you see? Visit the ' +\n",
              "          '<a target=\"_blank\" href=https://colab.research.google.com/notebooks/data_table.ipynb>data table notebook</a>'\n",
              "          + ' to learn more about interactive tables.';\n",
              "        element.innerHTML = '';\n",
              "        dataTable['output_type'] = 'display_data';\n",
              "        await google.colab.output.renderOutput(dataTable, element);\n",
              "        const docLink = document.createElement('div');\n",
              "        docLink.innerHTML = docLinkHtml;\n",
              "        element.appendChild(docLink);\n",
              "      }\n",
              "    </script>\n",
              "  </div>\n",
              "\n",
              "\n",
              "<div id=\"df-ca3562fe-708b-4b03-b7ab-7ff4aa8fd12a\">\n",
              "  <button class=\"colab-df-quickchart\" onclick=\"quickchart('df-ca3562fe-708b-4b03-b7ab-7ff4aa8fd12a')\"\n",
              "            title=\"Suggest charts\"\n",
              "            style=\"display:none;\">\n",
              "\n",
              "<svg xmlns=\"http://www.w3.org/2000/svg\" height=\"24px\"viewBox=\"0 0 24 24\"\n",
              "     width=\"24px\">\n",
              "    <g>\n",
              "        <path d=\"M19 3H5c-1.1 0-2 .9-2 2v14c0 1.1.9 2 2 2h14c1.1 0 2-.9 2-2V5c0-1.1-.9-2-2-2zM9 17H7v-7h2v7zm4 0h-2V7h2v10zm4 0h-2v-4h2v4z\"/>\n",
              "    </g>\n",
              "</svg>\n",
              "  </button>\n",
              "\n",
              "<style>\n",
              "  .colab-df-quickchart {\n",
              "      --bg-color: #E8F0FE;\n",
              "      --fill-color: #1967D2;\n",
              "      --hover-bg-color: #E2EBFA;\n",
              "      --hover-fill-color: #174EA6;\n",
              "      --disabled-fill-color: #AAA;\n",
              "      --disabled-bg-color: #DDD;\n",
              "  }\n",
              "\n",
              "  [theme=dark] .colab-df-quickchart {\n",
              "      --bg-color: #3B4455;\n",
              "      --fill-color: #D2E3FC;\n",
              "      --hover-bg-color: #434B5C;\n",
              "      --hover-fill-color: #FFFFFF;\n",
              "      --disabled-bg-color: #3B4455;\n",
              "      --disabled-fill-color: #666;\n",
              "  }\n",
              "\n",
              "  .colab-df-quickchart {\n",
              "    background-color: var(--bg-color);\n",
              "    border: none;\n",
              "    border-radius: 50%;\n",
              "    cursor: pointer;\n",
              "    display: none;\n",
              "    fill: var(--fill-color);\n",
              "    height: 32px;\n",
              "    padding: 0;\n",
              "    width: 32px;\n",
              "  }\n",
              "\n",
              "  .colab-df-quickchart:hover {\n",
              "    background-color: var(--hover-bg-color);\n",
              "    box-shadow: 0 1px 2px rgba(60, 64, 67, 0.3), 0 1px 3px 1px rgba(60, 64, 67, 0.15);\n",
              "    fill: var(--button-hover-fill-color);\n",
              "  }\n",
              "\n",
              "  .colab-df-quickchart-complete:disabled,\n",
              "  .colab-df-quickchart-complete:disabled:hover {\n",
              "    background-color: var(--disabled-bg-color);\n",
              "    fill: var(--disabled-fill-color);\n",
              "    box-shadow: none;\n",
              "  }\n",
              "\n",
              "  .colab-df-spinner {\n",
              "    border: 2px solid var(--fill-color);\n",
              "    border-color: transparent;\n",
              "    border-bottom-color: var(--fill-color);\n",
              "    animation:\n",
              "      spin 1s steps(1) infinite;\n",
              "  }\n",
              "\n",
              "  @keyframes spin {\n",
              "    0% {\n",
              "      border-color: transparent;\n",
              "      border-bottom-color: var(--fill-color);\n",
              "      border-left-color: var(--fill-color);\n",
              "    }\n",
              "    20% {\n",
              "      border-color: transparent;\n",
              "      border-left-color: var(--fill-color);\n",
              "      border-top-color: var(--fill-color);\n",
              "    }\n",
              "    30% {\n",
              "      border-color: transparent;\n",
              "      border-left-color: var(--fill-color);\n",
              "      border-top-color: var(--fill-color);\n",
              "      border-right-color: var(--fill-color);\n",
              "    }\n",
              "    40% {\n",
              "      border-color: transparent;\n",
              "      border-right-color: var(--fill-color);\n",
              "      border-top-color: var(--fill-color);\n",
              "    }\n",
              "    60% {\n",
              "      border-color: transparent;\n",
              "      border-right-color: var(--fill-color);\n",
              "    }\n",
              "    80% {\n",
              "      border-color: transparent;\n",
              "      border-right-color: var(--fill-color);\n",
              "      border-bottom-color: var(--fill-color);\n",
              "    }\n",
              "    90% {\n",
              "      border-color: transparent;\n",
              "      border-bottom-color: var(--fill-color);\n",
              "    }\n",
              "  }\n",
              "</style>\n",
              "\n",
              "  <script>\n",
              "    async function quickchart(key) {\n",
              "      const quickchartButtonEl =\n",
              "        document.querySelector('#' + key + ' button');\n",
              "      quickchartButtonEl.disabled = true;  // To prevent multiple clicks.\n",
              "      quickchartButtonEl.classList.add('colab-df-spinner');\n",
              "      try {\n",
              "        const charts = await google.colab.kernel.invokeFunction(\n",
              "            'suggestCharts', [key], {});\n",
              "      } catch (error) {\n",
              "        console.error('Error during call to suggestCharts:', error);\n",
              "      }\n",
              "      quickchartButtonEl.classList.remove('colab-df-spinner');\n",
              "      quickchartButtonEl.classList.add('colab-df-quickchart-complete');\n",
              "    }\n",
              "    (() => {\n",
              "      let quickchartButtonEl =\n",
              "        document.querySelector('#df-ca3562fe-708b-4b03-b7ab-7ff4aa8fd12a button');\n",
              "      quickchartButtonEl.style.display =\n",
              "        google.colab.kernel.accessAllowed ? 'block' : 'none';\n",
              "    })();\n",
              "  </script>\n",
              "</div>\n",
              "\n",
              "    </div>\n",
              "  </div>\n"
            ],
            "application/vnd.google.colaboratory.intrinsic+json": {
              "type": "dataframe",
              "summary": "{\n  \"name\": \"new_df\",\n  \"rows\": 33,\n  \"fields\": [\n    {\n      \"column\": \"family\",\n      \"properties\": {\n        \"dtype\": \"string\",\n        \"num_unique_values\": 33,\n        \"samples\": [\n          \"SCHOOL AND OFFICE SUPPLIES\",\n          \"HOME AND KITCHEN I\",\n          \"PET SUPPLIES\"\n        ],\n        \"semantic_type\": \"\",\n        \"description\": \"\"\n      }\n    },\n    {\n      \"column\": \"sales\",\n      \"properties\": {\n        \"dtype\": \"number\",\n        \"std\": 8540755.84338488,\n        \"min\": 2049.0,\n        \"max\": 37462549.927,\n        \"num_unique_values\": 33,\n        \"samples\": [\n          15223.0,\n          234107.0,\n          55982.0\n        ],\n        \"semantic_type\": \"\",\n        \"description\": \"\"\n      }\n    }\n  ]\n}"
            }
          },
          "metadata": {},
          "execution_count": 74
        }
      ]
    },
    {
      "cell_type": "code",
      "source": [
        "d = pd.DataFrame({'name':['Ram','Shyam']})\n",
        "print(d.loc[0,'name'])\n",
        "d.iloc[0,0]"
      ],
      "metadata": {
        "id": "W5rJr93BxTaA",
        "colab": {
          "base_uri": "https://localhost:8080/",
          "height": 52
        },
        "outputId": "0b27a821-fbbe-4ccc-e016-7b42ece517f7"
      },
      "execution_count": null,
      "outputs": [
        {
          "output_type": "stream",
          "name": "stdout",
          "text": [
            "Ram\n"
          ]
        },
        {
          "output_type": "execute_result",
          "data": {
            "text/plain": [
              "'Ram'"
            ],
            "application/vnd.google.colaboratory.intrinsic+json": {
              "type": "string"
            }
          },
          "metadata": {},
          "execution_count": 88
        }
      ]
    },
    {
      "cell_type": "code",
      "source": [
        "df.groupby('family')['sales'].mean().sort_values(ascending = False)"
      ],
      "metadata": {
        "id": "qZ1xdjN_xGC5",
        "colab": {
          "base_uri": "https://localhost:8080/",
          "height": 1000
        },
        "outputId": "b2750dc7-d2f9-4bfa-a150-8e62fbc3d26b"
      },
      "execution_count": null,
      "outputs": [
        {
          "output_type": "execute_result",
          "data": {
            "text/plain": [
              "family\n",
              "GROCERY I                     4480.338968\n",
              "BEVERAGES                     3306.440159\n",
              "PRODUCE                       2299.909514\n",
              "CLEANING                      1192.684653\n",
              "DAIRY                          889.104511\n",
              "BREAD/BAKERY                   534.690257\n",
              "POULTRY                        387.135622\n",
              "MEATS                          361.343401\n",
              "PERSONAL CARE                  318.871778\n",
              "DELI                           300.856381\n",
              "HOME CARE                      293.847472\n",
              "EGGS                           189.385729\n",
              "FROZEN FOODS                   161.930166\n",
              "PREPARED FOODS                 103.479924\n",
              "LIQUOR,WINE,BEER                94.052271\n",
              "HOME AND KITCHEN I              30.963338\n",
              "HOME AND KITCHEN II             27.721784\n",
              "SEAFOOD                         22.808709\n",
              "GROCERY II                      22.714120\n",
              "CELEBRATION                     13.917073\n",
              "LADIESWEAR                      11.531657\n",
              "PLAYERS AND ELECTRONICS         10.608515\n",
              "LAWN AND GARDEN                 10.120026\n",
              "PET SUPPLIES                     7.407752\n",
              "AUTOMOTIVE                       7.073918\n",
              "MAGAZINES                        6.351258\n",
              "LINGERIE                         6.121747\n",
              "SCHOOL AND OFFICE SUPPLIES       6.068381\n",
              "BEAUTY                           5.198605\n",
              "HARDWARE                         1.292668\n",
              "HOME APPLIANCES                  0.423111\n",
              "BABY CARE                        0.247216\n",
              "BOOKS                            0.201389\n",
              "Name: sales, dtype: float64"
            ],
            "text/html": [
              "<div>\n",
              "<style scoped>\n",
              "    .dataframe tbody tr th:only-of-type {\n",
              "        vertical-align: middle;\n",
              "    }\n",
              "\n",
              "    .dataframe tbody tr th {\n",
              "        vertical-align: top;\n",
              "    }\n",
              "\n",
              "    .dataframe thead th {\n",
              "        text-align: right;\n",
              "    }\n",
              "</style>\n",
              "<table border=\"1\" class=\"dataframe\">\n",
              "  <thead>\n",
              "    <tr style=\"text-align: right;\">\n",
              "      <th></th>\n",
              "      <th>sales</th>\n",
              "    </tr>\n",
              "    <tr>\n",
              "      <th>family</th>\n",
              "      <th></th>\n",
              "    </tr>\n",
              "  </thead>\n",
              "  <tbody>\n",
              "    <tr>\n",
              "      <th>GROCERY I</th>\n",
              "      <td>4480.338968</td>\n",
              "    </tr>\n",
              "    <tr>\n",
              "      <th>BEVERAGES</th>\n",
              "      <td>3306.440159</td>\n",
              "    </tr>\n",
              "    <tr>\n",
              "      <th>PRODUCE</th>\n",
              "      <td>2299.909514</td>\n",
              "    </tr>\n",
              "    <tr>\n",
              "      <th>CLEANING</th>\n",
              "      <td>1192.684653</td>\n",
              "    </tr>\n",
              "    <tr>\n",
              "      <th>DAIRY</th>\n",
              "      <td>889.104511</td>\n",
              "    </tr>\n",
              "    <tr>\n",
              "      <th>BREAD/BAKERY</th>\n",
              "      <td>534.690257</td>\n",
              "    </tr>\n",
              "    <tr>\n",
              "      <th>POULTRY</th>\n",
              "      <td>387.135622</td>\n",
              "    </tr>\n",
              "    <tr>\n",
              "      <th>MEATS</th>\n",
              "      <td>361.343401</td>\n",
              "    </tr>\n",
              "    <tr>\n",
              "      <th>PERSONAL CARE</th>\n",
              "      <td>318.871778</td>\n",
              "    </tr>\n",
              "    <tr>\n",
              "      <th>DELI</th>\n",
              "      <td>300.856381</td>\n",
              "    </tr>\n",
              "    <tr>\n",
              "      <th>HOME CARE</th>\n",
              "      <td>293.847472</td>\n",
              "    </tr>\n",
              "    <tr>\n",
              "      <th>EGGS</th>\n",
              "      <td>189.385729</td>\n",
              "    </tr>\n",
              "    <tr>\n",
              "      <th>FROZEN FOODS</th>\n",
              "      <td>161.930166</td>\n",
              "    </tr>\n",
              "    <tr>\n",
              "      <th>PREPARED FOODS</th>\n",
              "      <td>103.479924</td>\n",
              "    </tr>\n",
              "    <tr>\n",
              "      <th>LIQUOR,WINE,BEER</th>\n",
              "      <td>94.052271</td>\n",
              "    </tr>\n",
              "    <tr>\n",
              "      <th>HOME AND KITCHEN I</th>\n",
              "      <td>30.963338</td>\n",
              "    </tr>\n",
              "    <tr>\n",
              "      <th>HOME AND KITCHEN II</th>\n",
              "      <td>27.721784</td>\n",
              "    </tr>\n",
              "    <tr>\n",
              "      <th>SEAFOOD</th>\n",
              "      <td>22.808709</td>\n",
              "    </tr>\n",
              "    <tr>\n",
              "      <th>GROCERY II</th>\n",
              "      <td>22.714120</td>\n",
              "    </tr>\n",
              "    <tr>\n",
              "      <th>CELEBRATION</th>\n",
              "      <td>13.917073</td>\n",
              "    </tr>\n",
              "    <tr>\n",
              "      <th>LADIESWEAR</th>\n",
              "      <td>11.531657</td>\n",
              "    </tr>\n",
              "    <tr>\n",
              "      <th>PLAYERS AND ELECTRONICS</th>\n",
              "      <td>10.608515</td>\n",
              "    </tr>\n",
              "    <tr>\n",
              "      <th>LAWN AND GARDEN</th>\n",
              "      <td>10.120026</td>\n",
              "    </tr>\n",
              "    <tr>\n",
              "      <th>PET SUPPLIES</th>\n",
              "      <td>7.407752</td>\n",
              "    </tr>\n",
              "    <tr>\n",
              "      <th>AUTOMOTIVE</th>\n",
              "      <td>7.073918</td>\n",
              "    </tr>\n",
              "    <tr>\n",
              "      <th>MAGAZINES</th>\n",
              "      <td>6.351258</td>\n",
              "    </tr>\n",
              "    <tr>\n",
              "      <th>LINGERIE</th>\n",
              "      <td>6.121747</td>\n",
              "    </tr>\n",
              "    <tr>\n",
              "      <th>SCHOOL AND OFFICE SUPPLIES</th>\n",
              "      <td>6.068381</td>\n",
              "    </tr>\n",
              "    <tr>\n",
              "      <th>BEAUTY</th>\n",
              "      <td>5.198605</td>\n",
              "    </tr>\n",
              "    <tr>\n",
              "      <th>HARDWARE</th>\n",
              "      <td>1.292668</td>\n",
              "    </tr>\n",
              "    <tr>\n",
              "      <th>HOME APPLIANCES</th>\n",
              "      <td>0.423111</td>\n",
              "    </tr>\n",
              "    <tr>\n",
              "      <th>BABY CARE</th>\n",
              "      <td>0.247216</td>\n",
              "    </tr>\n",
              "    <tr>\n",
              "      <th>BOOKS</th>\n",
              "      <td>0.201389</td>\n",
              "    </tr>\n",
              "  </tbody>\n",
              "</table>\n",
              "</div><br><label><b>dtype:</b> float64</label>"
            ]
          },
          "metadata": {},
          "execution_count": 77
        }
      ]
    },
    {
      "cell_type": "code",
      "source": [
        "df.groupby('family')[['sales']].mean().iloc[1]"
      ],
      "metadata": {
        "id": "PGxqHNGbxyHJ",
        "colab": {
          "base_uri": "https://localhost:8080/",
          "height": 115
        },
        "outputId": "aa94f3d9-e3ae-4df9-e809-689dd9c8678c"
      },
      "execution_count": null,
      "outputs": [
        {
          "output_type": "execute_result",
          "data": {
            "text/plain": [
              "sales    0.247216\n",
              "Name: BABY CARE, dtype: float64"
            ],
            "text/html": [
              "<div>\n",
              "<style scoped>\n",
              "    .dataframe tbody tr th:only-of-type {\n",
              "        vertical-align: middle;\n",
              "    }\n",
              "\n",
              "    .dataframe tbody tr th {\n",
              "        vertical-align: top;\n",
              "    }\n",
              "\n",
              "    .dataframe thead th {\n",
              "        text-align: right;\n",
              "    }\n",
              "</style>\n",
              "<table border=\"1\" class=\"dataframe\">\n",
              "  <thead>\n",
              "    <tr style=\"text-align: right;\">\n",
              "      <th></th>\n",
              "      <th>BABY CARE</th>\n",
              "    </tr>\n",
              "  </thead>\n",
              "  <tbody>\n",
              "    <tr>\n",
              "      <th>sales</th>\n",
              "      <td>0.247216</td>\n",
              "    </tr>\n",
              "  </tbody>\n",
              "</table>\n",
              "</div><br><label><b>dtype:</b> float64</label>"
            ]
          },
          "metadata": {},
          "execution_count": 79
        }
      ]
    },
    {
      "cell_type": "code",
      "source": [
        "df.groupby('family')[['sales']].mean().loc['BABY CARE']"
      ],
      "metadata": {
        "id": "Do4I9osUx3iI",
        "colab": {
          "base_uri": "https://localhost:8080/",
          "height": 115
        },
        "outputId": "59b79eb2-f0fe-4898-b420-77cedbd34b91"
      },
      "execution_count": null,
      "outputs": [
        {
          "output_type": "execute_result",
          "data": {
            "text/plain": [
              "sales    0.247216\n",
              "Name: BABY CARE, dtype: float64"
            ],
            "text/html": [
              "<div>\n",
              "<style scoped>\n",
              "    .dataframe tbody tr th:only-of-type {\n",
              "        vertical-align: middle;\n",
              "    }\n",
              "\n",
              "    .dataframe tbody tr th {\n",
              "        vertical-align: top;\n",
              "    }\n",
              "\n",
              "    .dataframe thead th {\n",
              "        text-align: right;\n",
              "    }\n",
              "</style>\n",
              "<table border=\"1\" class=\"dataframe\">\n",
              "  <thead>\n",
              "    <tr style=\"text-align: right;\">\n",
              "      <th></th>\n",
              "      <th>BABY CARE</th>\n",
              "    </tr>\n",
              "  </thead>\n",
              "  <tbody>\n",
              "    <tr>\n",
              "      <th>sales</th>\n",
              "      <td>0.247216</td>\n",
              "    </tr>\n",
              "  </tbody>\n",
              "</table>\n",
              "</div><br><label><b>dtype:</b> float64</label>"
            ]
          },
          "metadata": {},
          "execution_count": 78
        }
      ]
    },
    {
      "cell_type": "code",
      "source": [
        "df.column()"
      ],
      "metadata": {
        "colab": {
          "base_uri": "https://localhost:8080/",
          "height": 263
        },
        "id": "BIRjqcf9lmxz",
        "outputId": "287d93ef-1f60-42da-8f5f-0ad2de2a0de8"
      },
      "execution_count": null,
      "outputs": [
        {
          "output_type": "error",
          "ename": "AttributeError",
          "evalue": "'DataFrame' object has no attribute 'column'",
          "traceback": [
            "\u001b[0;31m---------------------------------------------------------------------------\u001b[0m",
            "\u001b[0;31mAttributeError\u001b[0m                            Traceback (most recent call last)",
            "\u001b[0;32m<ipython-input-84-1d60d75b1e24>\u001b[0m in \u001b[0;36m<cell line: 1>\u001b[0;34m()\u001b[0m\n\u001b[0;32m----> 1\u001b[0;31m \u001b[0mdf\u001b[0m\u001b[0;34m.\u001b[0m\u001b[0mcolumn\u001b[0m\u001b[0;34m(\u001b[0m\u001b[0;34m)\u001b[0m\u001b[0;34m\u001b[0m\u001b[0;34m\u001b[0m\u001b[0m\n\u001b[0m",
            "\u001b[0;32m/usr/local/lib/python3.10/dist-packages/pandas/core/generic.py\u001b[0m in \u001b[0;36m__getattr__\u001b[0;34m(self, name)\u001b[0m\n\u001b[1;32m   6202\u001b[0m         ):\n\u001b[1;32m   6203\u001b[0m             \u001b[0;32mreturn\u001b[0m \u001b[0mself\u001b[0m\u001b[0;34m[\u001b[0m\u001b[0mname\u001b[0m\u001b[0;34m]\u001b[0m\u001b[0;34m\u001b[0m\u001b[0;34m\u001b[0m\u001b[0m\n\u001b[0;32m-> 6204\u001b[0;31m         \u001b[0;32mreturn\u001b[0m \u001b[0mobject\u001b[0m\u001b[0;34m.\u001b[0m\u001b[0m__getattribute__\u001b[0m\u001b[0;34m(\u001b[0m\u001b[0mself\u001b[0m\u001b[0;34m,\u001b[0m \u001b[0mname\u001b[0m\u001b[0;34m)\u001b[0m\u001b[0;34m\u001b[0m\u001b[0;34m\u001b[0m\u001b[0m\n\u001b[0m\u001b[1;32m   6205\u001b[0m \u001b[0;34m\u001b[0m\u001b[0m\n\u001b[1;32m   6206\u001b[0m     \u001b[0;34m@\u001b[0m\u001b[0mfinal\u001b[0m\u001b[0;34m\u001b[0m\u001b[0;34m\u001b[0m\u001b[0m\n",
            "\u001b[0;31mAttributeError\u001b[0m: 'DataFrame' object has no attribute 'column'"
          ]
        }
      ]
    },
    {
      "cell_type": "code",
      "source": [
        "df.groupby('family').agg({\n",
        "    'AUTOMOTIVE': 'sum',  # Aggregates 'column1' by sum\n",
        "    'BABY CARE': 'mean',  # Aggregates 'column2' by mean\n",
        "    'BEAUTY': 'max',   # Aggregates 'column3' by max\n",
        "})\n"
      ],
      "metadata": {
        "colab": {
          "base_uri": "https://localhost:8080/",
          "height": 356
        },
        "id": "UZGI04q5ljrS",
        "outputId": "13f71fac-86ca-4b99-a027-b2ff88781edf"
      },
      "execution_count": null,
      "outputs": [
        {
          "output_type": "error",
          "ename": "KeyError",
          "evalue": "\"Column(s) ['AUTOMOTIVE', 'BABY CARE', 'BEAUTY'] do not exist\"",
          "traceback": [
            "\u001b[0;31m---------------------------------------------------------------------------\u001b[0m",
            "\u001b[0;31mKeyError\u001b[0m                                  Traceback (most recent call last)",
            "\u001b[0;32m<ipython-input-86-baaff2af84b3>\u001b[0m in \u001b[0;36m<cell line: 1>\u001b[0;34m()\u001b[0m\n\u001b[0;32m----> 1\u001b[0;31m df.groupby('family').agg({\n\u001b[0m\u001b[1;32m      2\u001b[0m     \u001b[0;34m'AUTOMOTIVE'\u001b[0m\u001b[0;34m:\u001b[0m \u001b[0;34m'sum'\u001b[0m\u001b[0;34m,\u001b[0m  \u001b[0;31m# Aggregates 'column1' by sum\u001b[0m\u001b[0;34m\u001b[0m\u001b[0;34m\u001b[0m\u001b[0m\n\u001b[1;32m      3\u001b[0m     \u001b[0;34m'BABY CARE'\u001b[0m\u001b[0;34m:\u001b[0m \u001b[0;34m'mean'\u001b[0m\u001b[0;34m,\u001b[0m  \u001b[0;31m# Aggregates 'column2' by mean\u001b[0m\u001b[0;34m\u001b[0m\u001b[0;34m\u001b[0m\u001b[0m\n\u001b[1;32m      4\u001b[0m     \u001b[0;34m'BEAUTY'\u001b[0m\u001b[0;34m:\u001b[0m \u001b[0;34m'max'\u001b[0m\u001b[0;34m,\u001b[0m   \u001b[0;31m# Aggregates 'column3' by max\u001b[0m\u001b[0;34m\u001b[0m\u001b[0;34m\u001b[0m\u001b[0m\n\u001b[1;32m      5\u001b[0m })\n",
            "\u001b[0;32m/usr/local/lib/python3.10/dist-packages/pandas/core/groupby/generic.py\u001b[0m in \u001b[0;36maggregate\u001b[0;34m(self, func, engine, engine_kwargs, *args, **kwargs)\u001b[0m\n\u001b[1;32m   1443\u001b[0m \u001b[0;34m\u001b[0m\u001b[0m\n\u001b[1;32m   1444\u001b[0m         \u001b[0mop\u001b[0m \u001b[0;34m=\u001b[0m \u001b[0mGroupByApply\u001b[0m\u001b[0;34m(\u001b[0m\u001b[0mself\u001b[0m\u001b[0;34m,\u001b[0m \u001b[0mfunc\u001b[0m\u001b[0;34m,\u001b[0m \u001b[0margs\u001b[0m\u001b[0;34m=\u001b[0m\u001b[0margs\u001b[0m\u001b[0;34m,\u001b[0m \u001b[0mkwargs\u001b[0m\u001b[0;34m=\u001b[0m\u001b[0mkwargs\u001b[0m\u001b[0;34m)\u001b[0m\u001b[0;34m\u001b[0m\u001b[0;34m\u001b[0m\u001b[0m\n\u001b[0;32m-> 1445\u001b[0;31m         \u001b[0mresult\u001b[0m \u001b[0;34m=\u001b[0m \u001b[0mop\u001b[0m\u001b[0;34m.\u001b[0m\u001b[0magg\u001b[0m\u001b[0;34m(\u001b[0m\u001b[0;34m)\u001b[0m\u001b[0;34m\u001b[0m\u001b[0;34m\u001b[0m\u001b[0m\n\u001b[0m\u001b[1;32m   1446\u001b[0m         \u001b[0;32mif\u001b[0m \u001b[0;32mnot\u001b[0m \u001b[0mis_dict_like\u001b[0m\u001b[0;34m(\u001b[0m\u001b[0mfunc\u001b[0m\u001b[0;34m)\u001b[0m \u001b[0;32mand\u001b[0m \u001b[0mresult\u001b[0m \u001b[0;32mis\u001b[0m \u001b[0;32mnot\u001b[0m \u001b[0;32mNone\u001b[0m\u001b[0;34m:\u001b[0m\u001b[0;34m\u001b[0m\u001b[0;34m\u001b[0m\u001b[0m\n\u001b[1;32m   1447\u001b[0m             \u001b[0;31m# GH #52849\u001b[0m\u001b[0;34m\u001b[0m\u001b[0;34m\u001b[0m\u001b[0m\n",
            "\u001b[0;32m/usr/local/lib/python3.10/dist-packages/pandas/core/apply.py\u001b[0m in \u001b[0;36magg\u001b[0;34m(self)\u001b[0m\n\u001b[1;32m    173\u001b[0m \u001b[0;34m\u001b[0m\u001b[0m\n\u001b[1;32m    174\u001b[0m         \u001b[0;32mif\u001b[0m \u001b[0mis_dict_like\u001b[0m\u001b[0;34m(\u001b[0m\u001b[0mfunc\u001b[0m\u001b[0;34m)\u001b[0m\u001b[0;34m:\u001b[0m\u001b[0;34m\u001b[0m\u001b[0;34m\u001b[0m\u001b[0m\n\u001b[0;32m--> 175\u001b[0;31m             \u001b[0;32mreturn\u001b[0m \u001b[0mself\u001b[0m\u001b[0;34m.\u001b[0m\u001b[0magg_dict_like\u001b[0m\u001b[0;34m(\u001b[0m\u001b[0;34m)\u001b[0m\u001b[0;34m\u001b[0m\u001b[0;34m\u001b[0m\u001b[0m\n\u001b[0m\u001b[1;32m    176\u001b[0m         \u001b[0;32melif\u001b[0m \u001b[0mis_list_like\u001b[0m\u001b[0;34m(\u001b[0m\u001b[0mfunc\u001b[0m\u001b[0;34m)\u001b[0m\u001b[0;34m:\u001b[0m\u001b[0;34m\u001b[0m\u001b[0;34m\u001b[0m\u001b[0m\n\u001b[1;32m    177\u001b[0m             \u001b[0;31m# we require a list, but not a 'str'\u001b[0m\u001b[0;34m\u001b[0m\u001b[0;34m\u001b[0m\u001b[0m\n",
            "\u001b[0;32m/usr/local/lib/python3.10/dist-packages/pandas/core/apply.py\u001b[0m in \u001b[0;36magg_dict_like\u001b[0;34m(self)\u001b[0m\n\u001b[1;32m    404\u001b[0m         \u001b[0mResult\u001b[0m \u001b[0mof\u001b[0m \u001b[0maggregation\u001b[0m\u001b[0;34m.\u001b[0m\u001b[0;34m\u001b[0m\u001b[0;34m\u001b[0m\u001b[0m\n\u001b[1;32m    405\u001b[0m         \"\"\"\n\u001b[0;32m--> 406\u001b[0;31m         \u001b[0;32mreturn\u001b[0m \u001b[0mself\u001b[0m\u001b[0;34m.\u001b[0m\u001b[0magg_or_apply_dict_like\u001b[0m\u001b[0;34m(\u001b[0m\u001b[0mop_name\u001b[0m\u001b[0;34m=\u001b[0m\u001b[0;34m\"agg\"\u001b[0m\u001b[0;34m)\u001b[0m\u001b[0;34m\u001b[0m\u001b[0;34m\u001b[0m\u001b[0m\n\u001b[0m\u001b[1;32m    407\u001b[0m \u001b[0;34m\u001b[0m\u001b[0m\n\u001b[1;32m    408\u001b[0m     def compute_dict_like(\n",
            "\u001b[0;32m/usr/local/lib/python3.10/dist-packages/pandas/core/apply.py\u001b[0m in \u001b[0;36magg_or_apply_dict_like\u001b[0;34m(self, op_name)\u001b[0m\n\u001b[1;32m   1388\u001b[0m             \u001b[0mobj\u001b[0m\u001b[0;34m,\u001b[0m \u001b[0;34m\"as_index\"\u001b[0m\u001b[0;34m,\u001b[0m \u001b[0;32mTrue\u001b[0m\u001b[0;34m,\u001b[0m \u001b[0mcondition\u001b[0m\u001b[0;34m=\u001b[0m\u001b[0mhasattr\u001b[0m\u001b[0;34m(\u001b[0m\u001b[0mobj\u001b[0m\u001b[0;34m,\u001b[0m \u001b[0;34m\"as_index\"\u001b[0m\u001b[0;34m)\u001b[0m\u001b[0;34m\u001b[0m\u001b[0;34m\u001b[0m\u001b[0m\n\u001b[1;32m   1389\u001b[0m         ):\n\u001b[0;32m-> 1390\u001b[0;31m             result_index, result_data = self.compute_dict_like(\n\u001b[0m\u001b[1;32m   1391\u001b[0m                 \u001b[0mop_name\u001b[0m\u001b[0;34m,\u001b[0m \u001b[0mselected_obj\u001b[0m\u001b[0;34m,\u001b[0m \u001b[0mselection\u001b[0m\u001b[0;34m,\u001b[0m \u001b[0mkwargs\u001b[0m\u001b[0;34m\u001b[0m\u001b[0;34m\u001b[0m\u001b[0m\n\u001b[1;32m   1392\u001b[0m             )\n",
            "\u001b[0;32m/usr/local/lib/python3.10/dist-packages/pandas/core/apply.py\u001b[0m in \u001b[0;36mcompute_dict_like\u001b[0;34m(self, op_name, selected_obj, selection, kwargs)\u001b[0m\n\u001b[1;32m    443\u001b[0m         \u001b[0mis_groupby\u001b[0m \u001b[0;34m=\u001b[0m \u001b[0misinstance\u001b[0m\u001b[0;34m(\u001b[0m\u001b[0mobj\u001b[0m\u001b[0;34m,\u001b[0m \u001b[0;34m(\u001b[0m\u001b[0mDataFrameGroupBy\u001b[0m\u001b[0;34m,\u001b[0m \u001b[0mSeriesGroupBy\u001b[0m\u001b[0;34m)\u001b[0m\u001b[0;34m)\u001b[0m\u001b[0;34m\u001b[0m\u001b[0;34m\u001b[0m\u001b[0m\n\u001b[1;32m    444\u001b[0m         \u001b[0mfunc\u001b[0m \u001b[0;34m=\u001b[0m \u001b[0mcast\u001b[0m\u001b[0;34m(\u001b[0m\u001b[0mAggFuncTypeDict\u001b[0m\u001b[0;34m,\u001b[0m \u001b[0mself\u001b[0m\u001b[0;34m.\u001b[0m\u001b[0mfunc\u001b[0m\u001b[0;34m)\u001b[0m\u001b[0;34m\u001b[0m\u001b[0;34m\u001b[0m\u001b[0m\n\u001b[0;32m--> 445\u001b[0;31m         \u001b[0mfunc\u001b[0m \u001b[0;34m=\u001b[0m \u001b[0mself\u001b[0m\u001b[0;34m.\u001b[0m\u001b[0mnormalize_dictlike_arg\u001b[0m\u001b[0;34m(\u001b[0m\u001b[0mop_name\u001b[0m\u001b[0;34m,\u001b[0m \u001b[0mselected_obj\u001b[0m\u001b[0;34m,\u001b[0m \u001b[0mfunc\u001b[0m\u001b[0;34m)\u001b[0m\u001b[0;34m\u001b[0m\u001b[0;34m\u001b[0m\u001b[0m\n\u001b[0m\u001b[1;32m    446\u001b[0m \u001b[0;34m\u001b[0m\u001b[0m\n\u001b[1;32m    447\u001b[0m         is_non_unique_col = (\n",
            "\u001b[0;32m/usr/local/lib/python3.10/dist-packages/pandas/core/apply.py\u001b[0m in \u001b[0;36mnormalize_dictlike_arg\u001b[0;34m(self, how, obj, func)\u001b[0m\n\u001b[1;32m    637\u001b[0m             \u001b[0mcols\u001b[0m \u001b[0;34m=\u001b[0m \u001b[0mIndex\u001b[0m\u001b[0;34m(\u001b[0m\u001b[0mlist\u001b[0m\u001b[0;34m(\u001b[0m\u001b[0mfunc\u001b[0m\u001b[0;34m.\u001b[0m\u001b[0mkeys\u001b[0m\u001b[0;34m(\u001b[0m\u001b[0;34m)\u001b[0m\u001b[0;34m)\u001b[0m\u001b[0;34m)\u001b[0m\u001b[0;34m.\u001b[0m\u001b[0mdifference\u001b[0m\u001b[0;34m(\u001b[0m\u001b[0mobj\u001b[0m\u001b[0;34m.\u001b[0m\u001b[0mcolumns\u001b[0m\u001b[0;34m,\u001b[0m \u001b[0msort\u001b[0m\u001b[0;34m=\u001b[0m\u001b[0;32mTrue\u001b[0m\u001b[0;34m)\u001b[0m\u001b[0;34m\u001b[0m\u001b[0;34m\u001b[0m\u001b[0m\n\u001b[1;32m    638\u001b[0m             \u001b[0;32mif\u001b[0m \u001b[0mlen\u001b[0m\u001b[0;34m(\u001b[0m\u001b[0mcols\u001b[0m\u001b[0;34m)\u001b[0m \u001b[0;34m>\u001b[0m \u001b[0;36m0\u001b[0m\u001b[0;34m:\u001b[0m\u001b[0;34m\u001b[0m\u001b[0;34m\u001b[0m\u001b[0m\n\u001b[0;32m--> 639\u001b[0;31m                 \u001b[0;32mraise\u001b[0m \u001b[0mKeyError\u001b[0m\u001b[0;34m(\u001b[0m\u001b[0;34mf\"Column(s) {list(cols)} do not exist\"\u001b[0m\u001b[0;34m)\u001b[0m\u001b[0;34m\u001b[0m\u001b[0;34m\u001b[0m\u001b[0m\n\u001b[0m\u001b[1;32m    640\u001b[0m \u001b[0;34m\u001b[0m\u001b[0m\n\u001b[1;32m    641\u001b[0m         \u001b[0maggregator_types\u001b[0m \u001b[0;34m=\u001b[0m \u001b[0;34m(\u001b[0m\u001b[0mlist\u001b[0m\u001b[0;34m,\u001b[0m \u001b[0mtuple\u001b[0m\u001b[0;34m,\u001b[0m \u001b[0mdict\u001b[0m\u001b[0;34m)\u001b[0m\u001b[0;34m\u001b[0m\u001b[0;34m\u001b[0m\u001b[0m\n",
            "\u001b[0;31mKeyError\u001b[0m: \"Column(s) ['AUTOMOTIVE', 'BABY CARE', 'BEAUTY'] do not exist\""
          ]
        }
      ]
    },
    {
      "cell_type": "code",
      "source": [
        "df.groupby('family').agg()#faster"
      ],
      "metadata": {
        "id": "Cr5K_Cy-x-FF",
        "colab": {
          "base_uri": "https://localhost:8080/",
          "height": 287
        },
        "outputId": "983b999c-6792-4b1a-f3f8-c926555286c8"
      },
      "execution_count": null,
      "outputs": [
        {
          "output_type": "error",
          "ename": "TypeError",
          "evalue": "Must provide 'func' or tuples of '(column, aggfunc).",
          "traceback": [
            "\u001b[0;31m---------------------------------------------------------------------------\u001b[0m",
            "\u001b[0;31mTypeError\u001b[0m                                 Traceback (most recent call last)",
            "\u001b[0;32m<ipython-input-81-af83502f5791>\u001b[0m in \u001b[0;36m<cell line: 1>\u001b[0;34m()\u001b[0m\n\u001b[0;32m----> 1\u001b[0;31m \u001b[0mdf\u001b[0m\u001b[0;34m.\u001b[0m\u001b[0mgroupby\u001b[0m\u001b[0;34m(\u001b[0m\u001b[0;34m'family'\u001b[0m\u001b[0;34m)\u001b[0m\u001b[0;34m.\u001b[0m\u001b[0magg\u001b[0m\u001b[0;34m(\u001b[0m\u001b[0;34m)\u001b[0m\u001b[0;31m#faster\u001b[0m\u001b[0;34m\u001b[0m\u001b[0;34m\u001b[0m\u001b[0m\n\u001b[0m",
            "\u001b[0;32m/usr/local/lib/python3.10/dist-packages/pandas/core/groupby/generic.py\u001b[0m in \u001b[0;36maggregate\u001b[0;34m(self, func, engine, engine_kwargs, *args, **kwargs)\u001b[0m\n\u001b[1;32m   1433\u001b[0m     \u001b[0;34m@\u001b[0m\u001b[0mdoc\u001b[0m\u001b[0;34m(\u001b[0m\u001b[0m_agg_template_frame\u001b[0m\u001b[0;34m,\u001b[0m \u001b[0mexamples\u001b[0m\u001b[0;34m=\u001b[0m\u001b[0m_agg_examples_doc\u001b[0m\u001b[0;34m,\u001b[0m \u001b[0mklass\u001b[0m\u001b[0;34m=\u001b[0m\u001b[0;34m\"DataFrame\"\u001b[0m\u001b[0;34m)\u001b[0m\u001b[0;34m\u001b[0m\u001b[0;34m\u001b[0m\u001b[0m\n\u001b[1;32m   1434\u001b[0m     \u001b[0;32mdef\u001b[0m \u001b[0maggregate\u001b[0m\u001b[0;34m(\u001b[0m\u001b[0mself\u001b[0m\u001b[0;34m,\u001b[0m \u001b[0mfunc\u001b[0m\u001b[0;34m=\u001b[0m\u001b[0;32mNone\u001b[0m\u001b[0;34m,\u001b[0m \u001b[0;34m*\u001b[0m\u001b[0margs\u001b[0m\u001b[0;34m,\u001b[0m \u001b[0mengine\u001b[0m\u001b[0;34m=\u001b[0m\u001b[0;32mNone\u001b[0m\u001b[0;34m,\u001b[0m \u001b[0mengine_kwargs\u001b[0m\u001b[0;34m=\u001b[0m\u001b[0;32mNone\u001b[0m\u001b[0;34m,\u001b[0m \u001b[0;34m**\u001b[0m\u001b[0mkwargs\u001b[0m\u001b[0;34m)\u001b[0m\u001b[0;34m:\u001b[0m\u001b[0;34m\u001b[0m\u001b[0;34m\u001b[0m\u001b[0m\n\u001b[0;32m-> 1435\u001b[0;31m         \u001b[0mrelabeling\u001b[0m\u001b[0;34m,\u001b[0m \u001b[0mfunc\u001b[0m\u001b[0;34m,\u001b[0m \u001b[0mcolumns\u001b[0m\u001b[0;34m,\u001b[0m \u001b[0morder\u001b[0m \u001b[0;34m=\u001b[0m \u001b[0mreconstruct_func\u001b[0m\u001b[0;34m(\u001b[0m\u001b[0mfunc\u001b[0m\u001b[0;34m,\u001b[0m \u001b[0;34m**\u001b[0m\u001b[0mkwargs\u001b[0m\u001b[0;34m)\u001b[0m\u001b[0;34m\u001b[0m\u001b[0;34m\u001b[0m\u001b[0m\n\u001b[0m\u001b[1;32m   1436\u001b[0m         \u001b[0mfunc\u001b[0m \u001b[0;34m=\u001b[0m \u001b[0mmaybe_mangle_lambdas\u001b[0m\u001b[0;34m(\u001b[0m\u001b[0mfunc\u001b[0m\u001b[0;34m)\u001b[0m\u001b[0;34m\u001b[0m\u001b[0;34m\u001b[0m\u001b[0m\n\u001b[1;32m   1437\u001b[0m \u001b[0;34m\u001b[0m\u001b[0m\n",
            "\u001b[0;32m/usr/local/lib/python3.10/dist-packages/pandas/core/apply.py\u001b[0m in \u001b[0;36mreconstruct_func\u001b[0;34m(func, **kwargs)\u001b[0m\n\u001b[1;32m   1476\u001b[0m         \u001b[0;32mif\u001b[0m \u001b[0mfunc\u001b[0m \u001b[0;32mis\u001b[0m \u001b[0;32mNone\u001b[0m\u001b[0;34m:\u001b[0m\u001b[0;34m\u001b[0m\u001b[0;34m\u001b[0m\u001b[0m\n\u001b[1;32m   1477\u001b[0m             \u001b[0;31m# nicer error message\u001b[0m\u001b[0;34m\u001b[0m\u001b[0;34m\u001b[0m\u001b[0m\n\u001b[0;32m-> 1478\u001b[0;31m             \u001b[0;32mraise\u001b[0m \u001b[0mTypeError\u001b[0m\u001b[0;34m(\u001b[0m\u001b[0;34m\"Must provide 'func' or tuples of '(column, aggfunc).\"\u001b[0m\u001b[0;34m)\u001b[0m\u001b[0;34m\u001b[0m\u001b[0;34m\u001b[0m\u001b[0m\n\u001b[0m\u001b[1;32m   1479\u001b[0m \u001b[0;34m\u001b[0m\u001b[0m\n\u001b[1;32m   1480\u001b[0m     \u001b[0;32mif\u001b[0m \u001b[0mrelabeling\u001b[0m\u001b[0;34m:\u001b[0m\u001b[0;34m\u001b[0m\u001b[0;34m\u001b[0m\u001b[0m\n",
            "\u001b[0;31mTypeError\u001b[0m: Must provide 'func' or tuples of '(column, aggfunc)."
          ]
        }
      ]
    },
    {
      "cell_type": "code",
      "source": [
        "df.groupby('family').agg({'sales': 'mean'})"
      ],
      "metadata": {
        "id": "Dvrrob-MyIgN",
        "colab": {
          "base_uri": "https://localhost:8080/",
          "height": 1000
        },
        "outputId": "d93a2bff-b9ea-45e6-ecfc-dacb58ddb982"
      },
      "execution_count": null,
      "outputs": [
        {
          "output_type": "execute_result",
          "data": {
            "text/plain": [
              "                                  sales\n",
              "family                                 \n",
              "AUTOMOTIVE                     7.073918\n",
              "BABY CARE                      0.247216\n",
              "BEAUTY                         5.198605\n",
              "BEVERAGES                   3306.440159\n",
              "BOOKS                          0.201389\n",
              "BREAD/BAKERY                 534.690257\n",
              "CELEBRATION                   13.917073\n",
              "CLEANING                    1192.684653\n",
              "DAIRY                        889.104511\n",
              "DELI                         300.856381\n",
              "EGGS                         189.385729\n",
              "FROZEN FOODS                 161.930166\n",
              "GROCERY I                   4480.338968\n",
              "GROCERY II                    22.714120\n",
              "HARDWARE                       1.292668\n",
              "HOME AND KITCHEN I            30.963338\n",
              "HOME AND KITCHEN II           27.721784\n",
              "HOME APPLIANCES                0.423111\n",
              "HOME CARE                    293.847472\n",
              "LADIESWEAR                    11.531657\n",
              "LAWN AND GARDEN               10.120026\n",
              "LINGERIE                       6.121747\n",
              "LIQUOR,WINE,BEER              94.052271\n",
              "MAGAZINES                      6.351258\n",
              "MEATS                        361.343401\n",
              "PERSONAL CARE                318.871778\n",
              "PET SUPPLIES                   7.407752\n",
              "PLAYERS AND ELECTRONICS       10.608515\n",
              "POULTRY                      387.135622\n",
              "PREPARED FOODS               103.479924\n",
              "PRODUCE                     2299.909514\n",
              "SCHOOL AND OFFICE SUPPLIES     6.068381\n",
              "SEAFOOD                       22.808709"
            ],
            "text/html": [
              "\n",
              "  <div id=\"df-a7f06f33-b280-4a42-bbb9-2c1b55c311b1\" class=\"colab-df-container\">\n",
              "    <div>\n",
              "<style scoped>\n",
              "    .dataframe tbody tr th:only-of-type {\n",
              "        vertical-align: middle;\n",
              "    }\n",
              "\n",
              "    .dataframe tbody tr th {\n",
              "        vertical-align: top;\n",
              "    }\n",
              "\n",
              "    .dataframe thead th {\n",
              "        text-align: right;\n",
              "    }\n",
              "</style>\n",
              "<table border=\"1\" class=\"dataframe\">\n",
              "  <thead>\n",
              "    <tr style=\"text-align: right;\">\n",
              "      <th></th>\n",
              "      <th>sales</th>\n",
              "    </tr>\n",
              "    <tr>\n",
              "      <th>family</th>\n",
              "      <th></th>\n",
              "    </tr>\n",
              "  </thead>\n",
              "  <tbody>\n",
              "    <tr>\n",
              "      <th>AUTOMOTIVE</th>\n",
              "      <td>7.073918</td>\n",
              "    </tr>\n",
              "    <tr>\n",
              "      <th>BABY CARE</th>\n",
              "      <td>0.247216</td>\n",
              "    </tr>\n",
              "    <tr>\n",
              "      <th>BEAUTY</th>\n",
              "      <td>5.198605</td>\n",
              "    </tr>\n",
              "    <tr>\n",
              "      <th>BEVERAGES</th>\n",
              "      <td>3306.440159</td>\n",
              "    </tr>\n",
              "    <tr>\n",
              "      <th>BOOKS</th>\n",
              "      <td>0.201389</td>\n",
              "    </tr>\n",
              "    <tr>\n",
              "      <th>BREAD/BAKERY</th>\n",
              "      <td>534.690257</td>\n",
              "    </tr>\n",
              "    <tr>\n",
              "      <th>CELEBRATION</th>\n",
              "      <td>13.917073</td>\n",
              "    </tr>\n",
              "    <tr>\n",
              "      <th>CLEANING</th>\n",
              "      <td>1192.684653</td>\n",
              "    </tr>\n",
              "    <tr>\n",
              "      <th>DAIRY</th>\n",
              "      <td>889.104511</td>\n",
              "    </tr>\n",
              "    <tr>\n",
              "      <th>DELI</th>\n",
              "      <td>300.856381</td>\n",
              "    </tr>\n",
              "    <tr>\n",
              "      <th>EGGS</th>\n",
              "      <td>189.385729</td>\n",
              "    </tr>\n",
              "    <tr>\n",
              "      <th>FROZEN FOODS</th>\n",
              "      <td>161.930166</td>\n",
              "    </tr>\n",
              "    <tr>\n",
              "      <th>GROCERY I</th>\n",
              "      <td>4480.338968</td>\n",
              "    </tr>\n",
              "    <tr>\n",
              "      <th>GROCERY II</th>\n",
              "      <td>22.714120</td>\n",
              "    </tr>\n",
              "    <tr>\n",
              "      <th>HARDWARE</th>\n",
              "      <td>1.292668</td>\n",
              "    </tr>\n",
              "    <tr>\n",
              "      <th>HOME AND KITCHEN I</th>\n",
              "      <td>30.963338</td>\n",
              "    </tr>\n",
              "    <tr>\n",
              "      <th>HOME AND KITCHEN II</th>\n",
              "      <td>27.721784</td>\n",
              "    </tr>\n",
              "    <tr>\n",
              "      <th>HOME APPLIANCES</th>\n",
              "      <td>0.423111</td>\n",
              "    </tr>\n",
              "    <tr>\n",
              "      <th>HOME CARE</th>\n",
              "      <td>293.847472</td>\n",
              "    </tr>\n",
              "    <tr>\n",
              "      <th>LADIESWEAR</th>\n",
              "      <td>11.531657</td>\n",
              "    </tr>\n",
              "    <tr>\n",
              "      <th>LAWN AND GARDEN</th>\n",
              "      <td>10.120026</td>\n",
              "    </tr>\n",
              "    <tr>\n",
              "      <th>LINGERIE</th>\n",
              "      <td>6.121747</td>\n",
              "    </tr>\n",
              "    <tr>\n",
              "      <th>LIQUOR,WINE,BEER</th>\n",
              "      <td>94.052271</td>\n",
              "    </tr>\n",
              "    <tr>\n",
              "      <th>MAGAZINES</th>\n",
              "      <td>6.351258</td>\n",
              "    </tr>\n",
              "    <tr>\n",
              "      <th>MEATS</th>\n",
              "      <td>361.343401</td>\n",
              "    </tr>\n",
              "    <tr>\n",
              "      <th>PERSONAL CARE</th>\n",
              "      <td>318.871778</td>\n",
              "    </tr>\n",
              "    <tr>\n",
              "      <th>PET SUPPLIES</th>\n",
              "      <td>7.407752</td>\n",
              "    </tr>\n",
              "    <tr>\n",
              "      <th>PLAYERS AND ELECTRONICS</th>\n",
              "      <td>10.608515</td>\n",
              "    </tr>\n",
              "    <tr>\n",
              "      <th>POULTRY</th>\n",
              "      <td>387.135622</td>\n",
              "    </tr>\n",
              "    <tr>\n",
              "      <th>PREPARED FOODS</th>\n",
              "      <td>103.479924</td>\n",
              "    </tr>\n",
              "    <tr>\n",
              "      <th>PRODUCE</th>\n",
              "      <td>2299.909514</td>\n",
              "    </tr>\n",
              "    <tr>\n",
              "      <th>SCHOOL AND OFFICE SUPPLIES</th>\n",
              "      <td>6.068381</td>\n",
              "    </tr>\n",
              "    <tr>\n",
              "      <th>SEAFOOD</th>\n",
              "      <td>22.808709</td>\n",
              "    </tr>\n",
              "  </tbody>\n",
              "</table>\n",
              "</div>\n",
              "    <div class=\"colab-df-buttons\">\n",
              "\n",
              "  <div class=\"colab-df-container\">\n",
              "    <button class=\"colab-df-convert\" onclick=\"convertToInteractive('df-a7f06f33-b280-4a42-bbb9-2c1b55c311b1')\"\n",
              "            title=\"Convert this dataframe to an interactive table.\"\n",
              "            style=\"display:none;\">\n",
              "\n",
              "  <svg xmlns=\"http://www.w3.org/2000/svg\" height=\"24px\" viewBox=\"0 -960 960 960\">\n",
              "    <path d=\"M120-120v-720h720v720H120Zm60-500h600v-160H180v160Zm220 220h160v-160H400v160Zm0 220h160v-160H400v160ZM180-400h160v-160H180v160Zm440 0h160v-160H620v160ZM180-180h160v-160H180v160Zm440 0h160v-160H620v160Z\"/>\n",
              "  </svg>\n",
              "    </button>\n",
              "\n",
              "  <style>\n",
              "    .colab-df-container {\n",
              "      display:flex;\n",
              "      gap: 12px;\n",
              "    }\n",
              "\n",
              "    .colab-df-convert {\n",
              "      background-color: #E8F0FE;\n",
              "      border: none;\n",
              "      border-radius: 50%;\n",
              "      cursor: pointer;\n",
              "      display: none;\n",
              "      fill: #1967D2;\n",
              "      height: 32px;\n",
              "      padding: 0 0 0 0;\n",
              "      width: 32px;\n",
              "    }\n",
              "\n",
              "    .colab-df-convert:hover {\n",
              "      background-color: #E2EBFA;\n",
              "      box-shadow: 0px 1px 2px rgba(60, 64, 67, 0.3), 0px 1px 3px 1px rgba(60, 64, 67, 0.15);\n",
              "      fill: #174EA6;\n",
              "    }\n",
              "\n",
              "    .colab-df-buttons div {\n",
              "      margin-bottom: 4px;\n",
              "    }\n",
              "\n",
              "    [theme=dark] .colab-df-convert {\n",
              "      background-color: #3B4455;\n",
              "      fill: #D2E3FC;\n",
              "    }\n",
              "\n",
              "    [theme=dark] .colab-df-convert:hover {\n",
              "      background-color: #434B5C;\n",
              "      box-shadow: 0px 1px 3px 1px rgba(0, 0, 0, 0.15);\n",
              "      filter: drop-shadow(0px 1px 2px rgba(0, 0, 0, 0.3));\n",
              "      fill: #FFFFFF;\n",
              "    }\n",
              "  </style>\n",
              "\n",
              "    <script>\n",
              "      const buttonEl =\n",
              "        document.querySelector('#df-a7f06f33-b280-4a42-bbb9-2c1b55c311b1 button.colab-df-convert');\n",
              "      buttonEl.style.display =\n",
              "        google.colab.kernel.accessAllowed ? 'block' : 'none';\n",
              "\n",
              "      async function convertToInteractive(key) {\n",
              "        const element = document.querySelector('#df-a7f06f33-b280-4a42-bbb9-2c1b55c311b1');\n",
              "        const dataTable =\n",
              "          await google.colab.kernel.invokeFunction('convertToInteractive',\n",
              "                                                    [key], {});\n",
              "        if (!dataTable) return;\n",
              "\n",
              "        const docLinkHtml = 'Like what you see? Visit the ' +\n",
              "          '<a target=\"_blank\" href=https://colab.research.google.com/notebooks/data_table.ipynb>data table notebook</a>'\n",
              "          + ' to learn more about interactive tables.';\n",
              "        element.innerHTML = '';\n",
              "        dataTable['output_type'] = 'display_data';\n",
              "        await google.colab.output.renderOutput(dataTable, element);\n",
              "        const docLink = document.createElement('div');\n",
              "        docLink.innerHTML = docLinkHtml;\n",
              "        element.appendChild(docLink);\n",
              "      }\n",
              "    </script>\n",
              "  </div>\n",
              "\n",
              "\n",
              "<div id=\"df-46c6776a-1216-4b68-a6b1-4fecc0f66afa\">\n",
              "  <button class=\"colab-df-quickchart\" onclick=\"quickchart('df-46c6776a-1216-4b68-a6b1-4fecc0f66afa')\"\n",
              "            title=\"Suggest charts\"\n",
              "            style=\"display:none;\">\n",
              "\n",
              "<svg xmlns=\"http://www.w3.org/2000/svg\" height=\"24px\"viewBox=\"0 0 24 24\"\n",
              "     width=\"24px\">\n",
              "    <g>\n",
              "        <path d=\"M19 3H5c-1.1 0-2 .9-2 2v14c0 1.1.9 2 2 2h14c1.1 0 2-.9 2-2V5c0-1.1-.9-2-2-2zM9 17H7v-7h2v7zm4 0h-2V7h2v10zm4 0h-2v-4h2v4z\"/>\n",
              "    </g>\n",
              "</svg>\n",
              "  </button>\n",
              "\n",
              "<style>\n",
              "  .colab-df-quickchart {\n",
              "      --bg-color: #E8F0FE;\n",
              "      --fill-color: #1967D2;\n",
              "      --hover-bg-color: #E2EBFA;\n",
              "      --hover-fill-color: #174EA6;\n",
              "      --disabled-fill-color: #AAA;\n",
              "      --disabled-bg-color: #DDD;\n",
              "  }\n",
              "\n",
              "  [theme=dark] .colab-df-quickchart {\n",
              "      --bg-color: #3B4455;\n",
              "      --fill-color: #D2E3FC;\n",
              "      --hover-bg-color: #434B5C;\n",
              "      --hover-fill-color: #FFFFFF;\n",
              "      --disabled-bg-color: #3B4455;\n",
              "      --disabled-fill-color: #666;\n",
              "  }\n",
              "\n",
              "  .colab-df-quickchart {\n",
              "    background-color: var(--bg-color);\n",
              "    border: none;\n",
              "    border-radius: 50%;\n",
              "    cursor: pointer;\n",
              "    display: none;\n",
              "    fill: var(--fill-color);\n",
              "    height: 32px;\n",
              "    padding: 0;\n",
              "    width: 32px;\n",
              "  }\n",
              "\n",
              "  .colab-df-quickchart:hover {\n",
              "    background-color: var(--hover-bg-color);\n",
              "    box-shadow: 0 1px 2px rgba(60, 64, 67, 0.3), 0 1px 3px 1px rgba(60, 64, 67, 0.15);\n",
              "    fill: var(--button-hover-fill-color);\n",
              "  }\n",
              "\n",
              "  .colab-df-quickchart-complete:disabled,\n",
              "  .colab-df-quickchart-complete:disabled:hover {\n",
              "    background-color: var(--disabled-bg-color);\n",
              "    fill: var(--disabled-fill-color);\n",
              "    box-shadow: none;\n",
              "  }\n",
              "\n",
              "  .colab-df-spinner {\n",
              "    border: 2px solid var(--fill-color);\n",
              "    border-color: transparent;\n",
              "    border-bottom-color: var(--fill-color);\n",
              "    animation:\n",
              "      spin 1s steps(1) infinite;\n",
              "  }\n",
              "\n",
              "  @keyframes spin {\n",
              "    0% {\n",
              "      border-color: transparent;\n",
              "      border-bottom-color: var(--fill-color);\n",
              "      border-left-color: var(--fill-color);\n",
              "    }\n",
              "    20% {\n",
              "      border-color: transparent;\n",
              "      border-left-color: var(--fill-color);\n",
              "      border-top-color: var(--fill-color);\n",
              "    }\n",
              "    30% {\n",
              "      border-color: transparent;\n",
              "      border-left-color: var(--fill-color);\n",
              "      border-top-color: var(--fill-color);\n",
              "      border-right-color: var(--fill-color);\n",
              "    }\n",
              "    40% {\n",
              "      border-color: transparent;\n",
              "      border-right-color: var(--fill-color);\n",
              "      border-top-color: var(--fill-color);\n",
              "    }\n",
              "    60% {\n",
              "      border-color: transparent;\n",
              "      border-right-color: var(--fill-color);\n",
              "    }\n",
              "    80% {\n",
              "      border-color: transparent;\n",
              "      border-right-color: var(--fill-color);\n",
              "      border-bottom-color: var(--fill-color);\n",
              "    }\n",
              "    90% {\n",
              "      border-color: transparent;\n",
              "      border-bottom-color: var(--fill-color);\n",
              "    }\n",
              "  }\n",
              "</style>\n",
              "\n",
              "  <script>\n",
              "    async function quickchart(key) {\n",
              "      const quickchartButtonEl =\n",
              "        document.querySelector('#' + key + ' button');\n",
              "      quickchartButtonEl.disabled = true;  // To prevent multiple clicks.\n",
              "      quickchartButtonEl.classList.add('colab-df-spinner');\n",
              "      try {\n",
              "        const charts = await google.colab.kernel.invokeFunction(\n",
              "            'suggestCharts', [key], {});\n",
              "      } catch (error) {\n",
              "        console.error('Error during call to suggestCharts:', error);\n",
              "      }\n",
              "      quickchartButtonEl.classList.remove('colab-df-spinner');\n",
              "      quickchartButtonEl.classList.add('colab-df-quickchart-complete');\n",
              "    }\n",
              "    (() => {\n",
              "      let quickchartButtonEl =\n",
              "        document.querySelector('#df-46c6776a-1216-4b68-a6b1-4fecc0f66afa button');\n",
              "      quickchartButtonEl.style.display =\n",
              "        google.colab.kernel.accessAllowed ? 'block' : 'none';\n",
              "    })();\n",
              "  </script>\n",
              "</div>\n",
              "\n",
              "    </div>\n",
              "  </div>\n"
            ],
            "application/vnd.google.colaboratory.intrinsic+json": {
              "type": "dataframe",
              "summary": "{\n  \"name\": \"df\",\n  \"rows\": 33,\n  \"fields\": [\n    {\n      \"column\": \"family\",\n      \"properties\": {\n        \"dtype\": \"string\",\n        \"num_unique_values\": 33,\n        \"samples\": [\n          \"SCHOOL AND OFFICE SUPPLIES\",\n          \"HOME AND KITCHEN I\",\n          \"PET SUPPLIES\"\n        ],\n        \"semantic_type\": \"\",\n        \"description\": \"\"\n      }\n    },\n    {\n      \"column\": \"sales\",\n      \"properties\": {\n        \"dtype\": \"number\",\n        \"std\": 1008.1669291201544,\n        \"min\": 0.2013888888888889,\n        \"max\": 4480.338967842843,\n        \"num_unique_values\": 33,\n        \"samples\": [\n          6.068380880880881,\n          30.96333833833834,\n          7.407751501501502\n        ],\n        \"semantic_type\": \"\",\n        \"description\": \"\"\n      }\n    }\n  ]\n}"
            }
          },
          "metadata": {},
          "execution_count": 89
        }
      ]
    },
    {
      "cell_type": "code",
      "source": [
        "df.groupby('family').agg({'sales': ['mean','median','min','std','var']})"
      ],
      "metadata": {
        "id": "2dnDxdRPyzRu",
        "colab": {
          "base_uri": "https://localhost:8080/",
          "height": 1000
        },
        "outputId": "d7c86937-8163-4d54-ab3a-badd2164c3fc"
      },
      "execution_count": null,
      "outputs": [
        {
          "output_type": "execute_result",
          "data": {
            "text/plain": [
              "                                  sales                                 \\\n",
              "                                   mean       median  min          std   \n",
              "family                                                                   \n",
              "AUTOMOTIVE                     7.073918     6.000000  0.0     6.099437   \n",
              "BABY CARE                      0.247216     0.000000  0.0     0.772637   \n",
              "BEAUTY                         5.198605     3.000000  0.0     5.988038   \n",
              "BEVERAGES                   3306.440159  2584.000000  0.0  2597.835102   \n",
              "BOOKS                          0.201389     0.000000  0.0     0.909890   \n",
              "BREAD/BAKERY                 534.690257   460.259000  0.0   403.434484   \n",
              "CELEBRATION                   13.917073    10.000000  0.0    15.163025   \n",
              "CLEANING                    1192.684653  1010.000000  0.0   743.856473   \n",
              "DAIRY                        889.104511   684.000000  0.0   723.949253   \n",
              "DELI                         300.856381   246.000000  0.0   209.740896   \n",
              "EGGS                         189.385729   143.000000  0.0   173.360466   \n",
              "FROZEN FOODS                 161.930166    97.000000  0.0   290.036735   \n",
              "GROCERY I                   4480.338968  3684.000000  0.0  3158.250564   \n",
              "GROCERY II                    22.714120    13.000000  0.0    31.279975   \n",
              "HARDWARE                       1.292668     1.000000  0.0     1.722477   \n",
              "HOME AND KITCHEN I            30.963338    22.000000  0.0    37.943673   \n",
              "HOME AND KITCHEN II           27.721784    19.000000  0.0    33.058500   \n",
              "HOME APPLIANCES                0.423111     0.000000  0.0     0.931861   \n",
              "HOME CARE                    293.847472   242.000000  0.0   200.105753   \n",
              "LADIESWEAR                    11.531657     6.000000  0.0    15.428179   \n",
              "LAWN AND GARDEN               10.120026     3.000000  0.0    18.282220   \n",
              "LINGERIE                       6.121747     4.000000  0.0    10.111473   \n",
              "LIQUOR,WINE,BEER              94.052271    57.000000  0.0   123.012156   \n",
              "MAGAZINES                      6.351258     3.000000  0.0     7.847338   \n",
              "MEATS                        361.343401   238.048995  0.0   612.256969   \n",
              "PERSONAL CARE                318.871778   258.000000  0.0   246.679195   \n",
              "PET SUPPLIES                   7.407752     4.000000  0.0     9.729777   \n",
              "PLAYERS AND ELECTRONICS       10.608515     7.000000  0.0    11.366534   \n",
              "POULTRY                      387.135622   226.921000  0.0   426.816385   \n",
              "PREPARED FOODS               103.479924    74.231500  0.0    98.940404   \n",
              "PRODUCE                     2299.909514  1481.130000  0.0  2432.301682   \n",
              "SCHOOL AND OFFICE SUPPLIES     6.068381     0.000000  0.0    33.368786   \n",
              "SEAFOOD                       22.808709     9.452500  0.0    32.014427   \n",
              "\n",
              "                                          \n",
              "                                     var  \n",
              "family                                    \n",
              "AUTOMOTIVE                  3.720313e+01  \n",
              "BABY CARE                   5.969673e-01  \n",
              "BEAUTY                      3.585660e+01  \n",
              "BEVERAGES                   6.748747e+06  \n",
              "BOOKS                       8.278993e-01  \n",
              "BREAD/BAKERY                1.627594e+05  \n",
              "CELEBRATION                 2.299173e+02  \n",
              "CLEANING                    5.533225e+05  \n",
              "DAIRY                       5.241025e+05  \n",
              "DELI                        4.399124e+04  \n",
              "EGGS                        3.005385e+04  \n",
              "FROZEN FOODS                8.412131e+04  \n",
              "GROCERY I                   9.974547e+06  \n",
              "GROCERY II                  9.784368e+02  \n",
              "HARDWARE                    2.966928e+00  \n",
              "HOME AND KITCHEN I          1.439722e+03  \n",
              "HOME AND KITCHEN II         1.092864e+03  \n",
              "HOME APPLIANCES             8.683644e-01  \n",
              "HOME CARE                   4.004231e+04  \n",
              "LADIESWEAR                  2.380287e+02  \n",
              "LAWN AND GARDEN             3.342396e+02  \n",
              "LINGERIE                    1.022419e+02  \n",
              "LIQUOR,WINE,BEER            1.513199e+04  \n",
              "MAGAZINES                   6.158072e+01  \n",
              "MEATS                       3.748586e+05  \n",
              "PERSONAL CARE               6.085063e+04  \n",
              "PET SUPPLIES                9.466856e+01  \n",
              "PLAYERS AND ELECTRONICS     1.291981e+02  \n",
              "POULTRY                     1.821722e+05  \n",
              "PREPARED FOODS              9.789204e+03  \n",
              "PRODUCE                     5.916091e+06  \n",
              "SCHOOL AND OFFICE SUPPLIES  1.113476e+03  \n",
              "SEAFOOD                     1.024924e+03  "
            ],
            "text/html": [
              "\n",
              "  <div id=\"df-d181ca18-70f1-44c0-9cff-71ae89740f41\" class=\"colab-df-container\">\n",
              "    <div>\n",
              "<style scoped>\n",
              "    .dataframe tbody tr th:only-of-type {\n",
              "        vertical-align: middle;\n",
              "    }\n",
              "\n",
              "    .dataframe tbody tr th {\n",
              "        vertical-align: top;\n",
              "    }\n",
              "\n",
              "    .dataframe thead tr th {\n",
              "        text-align: left;\n",
              "    }\n",
              "\n",
              "    .dataframe thead tr:last-of-type th {\n",
              "        text-align: right;\n",
              "    }\n",
              "</style>\n",
              "<table border=\"1\" class=\"dataframe\">\n",
              "  <thead>\n",
              "    <tr>\n",
              "      <th></th>\n",
              "      <th colspan=\"5\" halign=\"left\">sales</th>\n",
              "    </tr>\n",
              "    <tr>\n",
              "      <th></th>\n",
              "      <th>mean</th>\n",
              "      <th>median</th>\n",
              "      <th>min</th>\n",
              "      <th>std</th>\n",
              "      <th>var</th>\n",
              "    </tr>\n",
              "    <tr>\n",
              "      <th>family</th>\n",
              "      <th></th>\n",
              "      <th></th>\n",
              "      <th></th>\n",
              "      <th></th>\n",
              "      <th></th>\n",
              "    </tr>\n",
              "  </thead>\n",
              "  <tbody>\n",
              "    <tr>\n",
              "      <th>AUTOMOTIVE</th>\n",
              "      <td>7.073918</td>\n",
              "      <td>6.000000</td>\n",
              "      <td>0.0</td>\n",
              "      <td>6.099437</td>\n",
              "      <td>3.720313e+01</td>\n",
              "    </tr>\n",
              "    <tr>\n",
              "      <th>BABY CARE</th>\n",
              "      <td>0.247216</td>\n",
              "      <td>0.000000</td>\n",
              "      <td>0.0</td>\n",
              "      <td>0.772637</td>\n",
              "      <td>5.969673e-01</td>\n",
              "    </tr>\n",
              "    <tr>\n",
              "      <th>BEAUTY</th>\n",
              "      <td>5.198605</td>\n",
              "      <td>3.000000</td>\n",
              "      <td>0.0</td>\n",
              "      <td>5.988038</td>\n",
              "      <td>3.585660e+01</td>\n",
              "    </tr>\n",
              "    <tr>\n",
              "      <th>BEVERAGES</th>\n",
              "      <td>3306.440159</td>\n",
              "      <td>2584.000000</td>\n",
              "      <td>0.0</td>\n",
              "      <td>2597.835102</td>\n",
              "      <td>6.748747e+06</td>\n",
              "    </tr>\n",
              "    <tr>\n",
              "      <th>BOOKS</th>\n",
              "      <td>0.201389</td>\n",
              "      <td>0.000000</td>\n",
              "      <td>0.0</td>\n",
              "      <td>0.909890</td>\n",
              "      <td>8.278993e-01</td>\n",
              "    </tr>\n",
              "    <tr>\n",
              "      <th>BREAD/BAKERY</th>\n",
              "      <td>534.690257</td>\n",
              "      <td>460.259000</td>\n",
              "      <td>0.0</td>\n",
              "      <td>403.434484</td>\n",
              "      <td>1.627594e+05</td>\n",
              "    </tr>\n",
              "    <tr>\n",
              "      <th>CELEBRATION</th>\n",
              "      <td>13.917073</td>\n",
              "      <td>10.000000</td>\n",
              "      <td>0.0</td>\n",
              "      <td>15.163025</td>\n",
              "      <td>2.299173e+02</td>\n",
              "    </tr>\n",
              "    <tr>\n",
              "      <th>CLEANING</th>\n",
              "      <td>1192.684653</td>\n",
              "      <td>1010.000000</td>\n",
              "      <td>0.0</td>\n",
              "      <td>743.856473</td>\n",
              "      <td>5.533225e+05</td>\n",
              "    </tr>\n",
              "    <tr>\n",
              "      <th>DAIRY</th>\n",
              "      <td>889.104511</td>\n",
              "      <td>684.000000</td>\n",
              "      <td>0.0</td>\n",
              "      <td>723.949253</td>\n",
              "      <td>5.241025e+05</td>\n",
              "    </tr>\n",
              "    <tr>\n",
              "      <th>DELI</th>\n",
              "      <td>300.856381</td>\n",
              "      <td>246.000000</td>\n",
              "      <td>0.0</td>\n",
              "      <td>209.740896</td>\n",
              "      <td>4.399124e+04</td>\n",
              "    </tr>\n",
              "    <tr>\n",
              "      <th>EGGS</th>\n",
              "      <td>189.385729</td>\n",
              "      <td>143.000000</td>\n",
              "      <td>0.0</td>\n",
              "      <td>173.360466</td>\n",
              "      <td>3.005385e+04</td>\n",
              "    </tr>\n",
              "    <tr>\n",
              "      <th>FROZEN FOODS</th>\n",
              "      <td>161.930166</td>\n",
              "      <td>97.000000</td>\n",
              "      <td>0.0</td>\n",
              "      <td>290.036735</td>\n",
              "      <td>8.412131e+04</td>\n",
              "    </tr>\n",
              "    <tr>\n",
              "      <th>GROCERY I</th>\n",
              "      <td>4480.338968</td>\n",
              "      <td>3684.000000</td>\n",
              "      <td>0.0</td>\n",
              "      <td>3158.250564</td>\n",
              "      <td>9.974547e+06</td>\n",
              "    </tr>\n",
              "    <tr>\n",
              "      <th>GROCERY II</th>\n",
              "      <td>22.714120</td>\n",
              "      <td>13.000000</td>\n",
              "      <td>0.0</td>\n",
              "      <td>31.279975</td>\n",
              "      <td>9.784368e+02</td>\n",
              "    </tr>\n",
              "    <tr>\n",
              "      <th>HARDWARE</th>\n",
              "      <td>1.292668</td>\n",
              "      <td>1.000000</td>\n",
              "      <td>0.0</td>\n",
              "      <td>1.722477</td>\n",
              "      <td>2.966928e+00</td>\n",
              "    </tr>\n",
              "    <tr>\n",
              "      <th>HOME AND KITCHEN I</th>\n",
              "      <td>30.963338</td>\n",
              "      <td>22.000000</td>\n",
              "      <td>0.0</td>\n",
              "      <td>37.943673</td>\n",
              "      <td>1.439722e+03</td>\n",
              "    </tr>\n",
              "    <tr>\n",
              "      <th>HOME AND KITCHEN II</th>\n",
              "      <td>27.721784</td>\n",
              "      <td>19.000000</td>\n",
              "      <td>0.0</td>\n",
              "      <td>33.058500</td>\n",
              "      <td>1.092864e+03</td>\n",
              "    </tr>\n",
              "    <tr>\n",
              "      <th>HOME APPLIANCES</th>\n",
              "      <td>0.423111</td>\n",
              "      <td>0.000000</td>\n",
              "      <td>0.0</td>\n",
              "      <td>0.931861</td>\n",
              "      <td>8.683644e-01</td>\n",
              "    </tr>\n",
              "    <tr>\n",
              "      <th>HOME CARE</th>\n",
              "      <td>293.847472</td>\n",
              "      <td>242.000000</td>\n",
              "      <td>0.0</td>\n",
              "      <td>200.105753</td>\n",
              "      <td>4.004231e+04</td>\n",
              "    </tr>\n",
              "    <tr>\n",
              "      <th>LADIESWEAR</th>\n",
              "      <td>11.531657</td>\n",
              "      <td>6.000000</td>\n",
              "      <td>0.0</td>\n",
              "      <td>15.428179</td>\n",
              "      <td>2.380287e+02</td>\n",
              "    </tr>\n",
              "    <tr>\n",
              "      <th>LAWN AND GARDEN</th>\n",
              "      <td>10.120026</td>\n",
              "      <td>3.000000</td>\n",
              "      <td>0.0</td>\n",
              "      <td>18.282220</td>\n",
              "      <td>3.342396e+02</td>\n",
              "    </tr>\n",
              "    <tr>\n",
              "      <th>LINGERIE</th>\n",
              "      <td>6.121747</td>\n",
              "      <td>4.000000</td>\n",
              "      <td>0.0</td>\n",
              "      <td>10.111473</td>\n",
              "      <td>1.022419e+02</td>\n",
              "    </tr>\n",
              "    <tr>\n",
              "      <th>LIQUOR,WINE,BEER</th>\n",
              "      <td>94.052271</td>\n",
              "      <td>57.000000</td>\n",
              "      <td>0.0</td>\n",
              "      <td>123.012156</td>\n",
              "      <td>1.513199e+04</td>\n",
              "    </tr>\n",
              "    <tr>\n",
              "      <th>MAGAZINES</th>\n",
              "      <td>6.351258</td>\n",
              "      <td>3.000000</td>\n",
              "      <td>0.0</td>\n",
              "      <td>7.847338</td>\n",
              "      <td>6.158072e+01</td>\n",
              "    </tr>\n",
              "    <tr>\n",
              "      <th>MEATS</th>\n",
              "      <td>361.343401</td>\n",
              "      <td>238.048995</td>\n",
              "      <td>0.0</td>\n",
              "      <td>612.256969</td>\n",
              "      <td>3.748586e+05</td>\n",
              "    </tr>\n",
              "    <tr>\n",
              "      <th>PERSONAL CARE</th>\n",
              "      <td>318.871778</td>\n",
              "      <td>258.000000</td>\n",
              "      <td>0.0</td>\n",
              "      <td>246.679195</td>\n",
              "      <td>6.085063e+04</td>\n",
              "    </tr>\n",
              "    <tr>\n",
              "      <th>PET SUPPLIES</th>\n",
              "      <td>7.407752</td>\n",
              "      <td>4.000000</td>\n",
              "      <td>0.0</td>\n",
              "      <td>9.729777</td>\n",
              "      <td>9.466856e+01</td>\n",
              "    </tr>\n",
              "    <tr>\n",
              "      <th>PLAYERS AND ELECTRONICS</th>\n",
              "      <td>10.608515</td>\n",
              "      <td>7.000000</td>\n",
              "      <td>0.0</td>\n",
              "      <td>11.366534</td>\n",
              "      <td>1.291981e+02</td>\n",
              "    </tr>\n",
              "    <tr>\n",
              "      <th>POULTRY</th>\n",
              "      <td>387.135622</td>\n",
              "      <td>226.921000</td>\n",
              "      <td>0.0</td>\n",
              "      <td>426.816385</td>\n",
              "      <td>1.821722e+05</td>\n",
              "    </tr>\n",
              "    <tr>\n",
              "      <th>PREPARED FOODS</th>\n",
              "      <td>103.479924</td>\n",
              "      <td>74.231500</td>\n",
              "      <td>0.0</td>\n",
              "      <td>98.940404</td>\n",
              "      <td>9.789204e+03</td>\n",
              "    </tr>\n",
              "    <tr>\n",
              "      <th>PRODUCE</th>\n",
              "      <td>2299.909514</td>\n",
              "      <td>1481.130000</td>\n",
              "      <td>0.0</td>\n",
              "      <td>2432.301682</td>\n",
              "      <td>5.916091e+06</td>\n",
              "    </tr>\n",
              "    <tr>\n",
              "      <th>SCHOOL AND OFFICE SUPPLIES</th>\n",
              "      <td>6.068381</td>\n",
              "      <td>0.000000</td>\n",
              "      <td>0.0</td>\n",
              "      <td>33.368786</td>\n",
              "      <td>1.113476e+03</td>\n",
              "    </tr>\n",
              "    <tr>\n",
              "      <th>SEAFOOD</th>\n",
              "      <td>22.808709</td>\n",
              "      <td>9.452500</td>\n",
              "      <td>0.0</td>\n",
              "      <td>32.014427</td>\n",
              "      <td>1.024924e+03</td>\n",
              "    </tr>\n",
              "  </tbody>\n",
              "</table>\n",
              "</div>\n",
              "    <div class=\"colab-df-buttons\">\n",
              "\n",
              "  <div class=\"colab-df-container\">\n",
              "    <button class=\"colab-df-convert\" onclick=\"convertToInteractive('df-d181ca18-70f1-44c0-9cff-71ae89740f41')\"\n",
              "            title=\"Convert this dataframe to an interactive table.\"\n",
              "            style=\"display:none;\">\n",
              "\n",
              "  <svg xmlns=\"http://www.w3.org/2000/svg\" height=\"24px\" viewBox=\"0 -960 960 960\">\n",
              "    <path d=\"M120-120v-720h720v720H120Zm60-500h600v-160H180v160Zm220 220h160v-160H400v160Zm0 220h160v-160H400v160ZM180-400h160v-160H180v160Zm440 0h160v-160H620v160ZM180-180h160v-160H180v160Zm440 0h160v-160H620v160Z\"/>\n",
              "  </svg>\n",
              "    </button>\n",
              "\n",
              "  <style>\n",
              "    .colab-df-container {\n",
              "      display:flex;\n",
              "      gap: 12px;\n",
              "    }\n",
              "\n",
              "    .colab-df-convert {\n",
              "      background-color: #E8F0FE;\n",
              "      border: none;\n",
              "      border-radius: 50%;\n",
              "      cursor: pointer;\n",
              "      display: none;\n",
              "      fill: #1967D2;\n",
              "      height: 32px;\n",
              "      padding: 0 0 0 0;\n",
              "      width: 32px;\n",
              "    }\n",
              "\n",
              "    .colab-df-convert:hover {\n",
              "      background-color: #E2EBFA;\n",
              "      box-shadow: 0px 1px 2px rgba(60, 64, 67, 0.3), 0px 1px 3px 1px rgba(60, 64, 67, 0.15);\n",
              "      fill: #174EA6;\n",
              "    }\n",
              "\n",
              "    .colab-df-buttons div {\n",
              "      margin-bottom: 4px;\n",
              "    }\n",
              "\n",
              "    [theme=dark] .colab-df-convert {\n",
              "      background-color: #3B4455;\n",
              "      fill: #D2E3FC;\n",
              "    }\n",
              "\n",
              "    [theme=dark] .colab-df-convert:hover {\n",
              "      background-color: #434B5C;\n",
              "      box-shadow: 0px 1px 3px 1px rgba(0, 0, 0, 0.15);\n",
              "      filter: drop-shadow(0px 1px 2px rgba(0, 0, 0, 0.3));\n",
              "      fill: #FFFFFF;\n",
              "    }\n",
              "  </style>\n",
              "\n",
              "    <script>\n",
              "      const buttonEl =\n",
              "        document.querySelector('#df-d181ca18-70f1-44c0-9cff-71ae89740f41 button.colab-df-convert');\n",
              "      buttonEl.style.display =\n",
              "        google.colab.kernel.accessAllowed ? 'block' : 'none';\n",
              "\n",
              "      async function convertToInteractive(key) {\n",
              "        const element = document.querySelector('#df-d181ca18-70f1-44c0-9cff-71ae89740f41');\n",
              "        const dataTable =\n",
              "          await google.colab.kernel.invokeFunction('convertToInteractive',\n",
              "                                                    [key], {});\n",
              "        if (!dataTable) return;\n",
              "\n",
              "        const docLinkHtml = 'Like what you see? Visit the ' +\n",
              "          '<a target=\"_blank\" href=https://colab.research.google.com/notebooks/data_table.ipynb>data table notebook</a>'\n",
              "          + ' to learn more about interactive tables.';\n",
              "        element.innerHTML = '';\n",
              "        dataTable['output_type'] = 'display_data';\n",
              "        await google.colab.output.renderOutput(dataTable, element);\n",
              "        const docLink = document.createElement('div');\n",
              "        docLink.innerHTML = docLinkHtml;\n",
              "        element.appendChild(docLink);\n",
              "      }\n",
              "    </script>\n",
              "  </div>\n",
              "\n",
              "\n",
              "<div id=\"df-ae6fc5ea-21ca-4831-a09e-ab041c858481\">\n",
              "  <button class=\"colab-df-quickchart\" onclick=\"quickchart('df-ae6fc5ea-21ca-4831-a09e-ab041c858481')\"\n",
              "            title=\"Suggest charts\"\n",
              "            style=\"display:none;\">\n",
              "\n",
              "<svg xmlns=\"http://www.w3.org/2000/svg\" height=\"24px\"viewBox=\"0 0 24 24\"\n",
              "     width=\"24px\">\n",
              "    <g>\n",
              "        <path d=\"M19 3H5c-1.1 0-2 .9-2 2v14c0 1.1.9 2 2 2h14c1.1 0 2-.9 2-2V5c0-1.1-.9-2-2-2zM9 17H7v-7h2v7zm4 0h-2V7h2v10zm4 0h-2v-4h2v4z\"/>\n",
              "    </g>\n",
              "</svg>\n",
              "  </button>\n",
              "\n",
              "<style>\n",
              "  .colab-df-quickchart {\n",
              "      --bg-color: #E8F0FE;\n",
              "      --fill-color: #1967D2;\n",
              "      --hover-bg-color: #E2EBFA;\n",
              "      --hover-fill-color: #174EA6;\n",
              "      --disabled-fill-color: #AAA;\n",
              "      --disabled-bg-color: #DDD;\n",
              "  }\n",
              "\n",
              "  [theme=dark] .colab-df-quickchart {\n",
              "      --bg-color: #3B4455;\n",
              "      --fill-color: #D2E3FC;\n",
              "      --hover-bg-color: #434B5C;\n",
              "      --hover-fill-color: #FFFFFF;\n",
              "      --disabled-bg-color: #3B4455;\n",
              "      --disabled-fill-color: #666;\n",
              "  }\n",
              "\n",
              "  .colab-df-quickchart {\n",
              "    background-color: var(--bg-color);\n",
              "    border: none;\n",
              "    border-radius: 50%;\n",
              "    cursor: pointer;\n",
              "    display: none;\n",
              "    fill: var(--fill-color);\n",
              "    height: 32px;\n",
              "    padding: 0;\n",
              "    width: 32px;\n",
              "  }\n",
              "\n",
              "  .colab-df-quickchart:hover {\n",
              "    background-color: var(--hover-bg-color);\n",
              "    box-shadow: 0 1px 2px rgba(60, 64, 67, 0.3), 0 1px 3px 1px rgba(60, 64, 67, 0.15);\n",
              "    fill: var(--button-hover-fill-color);\n",
              "  }\n",
              "\n",
              "  .colab-df-quickchart-complete:disabled,\n",
              "  .colab-df-quickchart-complete:disabled:hover {\n",
              "    background-color: var(--disabled-bg-color);\n",
              "    fill: var(--disabled-fill-color);\n",
              "    box-shadow: none;\n",
              "  }\n",
              "\n",
              "  .colab-df-spinner {\n",
              "    border: 2px solid var(--fill-color);\n",
              "    border-color: transparent;\n",
              "    border-bottom-color: var(--fill-color);\n",
              "    animation:\n",
              "      spin 1s steps(1) infinite;\n",
              "  }\n",
              "\n",
              "  @keyframes spin {\n",
              "    0% {\n",
              "      border-color: transparent;\n",
              "      border-bottom-color: var(--fill-color);\n",
              "      border-left-color: var(--fill-color);\n",
              "    }\n",
              "    20% {\n",
              "      border-color: transparent;\n",
              "      border-left-color: var(--fill-color);\n",
              "      border-top-color: var(--fill-color);\n",
              "    }\n",
              "    30% {\n",
              "      border-color: transparent;\n",
              "      border-left-color: var(--fill-color);\n",
              "      border-top-color: var(--fill-color);\n",
              "      border-right-color: var(--fill-color);\n",
              "    }\n",
              "    40% {\n",
              "      border-color: transparent;\n",
              "      border-right-color: var(--fill-color);\n",
              "      border-top-color: var(--fill-color);\n",
              "    }\n",
              "    60% {\n",
              "      border-color: transparent;\n",
              "      border-right-color: var(--fill-color);\n",
              "    }\n",
              "    80% {\n",
              "      border-color: transparent;\n",
              "      border-right-color: var(--fill-color);\n",
              "      border-bottom-color: var(--fill-color);\n",
              "    }\n",
              "    90% {\n",
              "      border-color: transparent;\n",
              "      border-bottom-color: var(--fill-color);\n",
              "    }\n",
              "  }\n",
              "</style>\n",
              "\n",
              "  <script>\n",
              "    async function quickchart(key) {\n",
              "      const quickchartButtonEl =\n",
              "        document.querySelector('#' + key + ' button');\n",
              "      quickchartButtonEl.disabled = true;  // To prevent multiple clicks.\n",
              "      quickchartButtonEl.classList.add('colab-df-spinner');\n",
              "      try {\n",
              "        const charts = await google.colab.kernel.invokeFunction(\n",
              "            'suggestCharts', [key], {});\n",
              "      } catch (error) {\n",
              "        console.error('Error during call to suggestCharts:', error);\n",
              "      }\n",
              "      quickchartButtonEl.classList.remove('colab-df-spinner');\n",
              "      quickchartButtonEl.classList.add('colab-df-quickchart-complete');\n",
              "    }\n",
              "    (() => {\n",
              "      let quickchartButtonEl =\n",
              "        document.querySelector('#df-ae6fc5ea-21ca-4831-a09e-ab041c858481 button');\n",
              "      quickchartButtonEl.style.display =\n",
              "        google.colab.kernel.accessAllowed ? 'block' : 'none';\n",
              "    })();\n",
              "  </script>\n",
              "</div>\n",
              "\n",
              "    </div>\n",
              "  </div>\n"
            ],
            "application/vnd.google.colaboratory.intrinsic+json": {
              "type": "dataframe",
              "summary": "{\n  \"name\": \"df\",\n  \"rows\": 33,\n  \"fields\": [\n    {\n      \"column\": [\n        \"family\",\n        \"\"\n      ],\n      \"properties\": {\n        \"dtype\": \"string\",\n        \"num_unique_values\": 33,\n        \"samples\": [\n          \"SCHOOL AND OFFICE SUPPLIES\",\n          \"HOME AND KITCHEN I\",\n          \"PET SUPPLIES\"\n        ],\n        \"semantic_type\": \"\",\n        \"description\": \"\"\n      }\n    },\n    {\n      \"column\": [\n        \"sales\",\n        \"mean\"\n      ],\n      \"properties\": {\n        \"dtype\": \"number\",\n        \"std\": 1008.1669291201544,\n        \"min\": 0.2013888888888889,\n        \"max\": 4480.338967842843,\n        \"num_unique_values\": 33,\n        \"samples\": [\n          6.068380880880881,\n          30.96333833833834,\n          7.407751501501502\n        ],\n        \"semantic_type\": \"\",\n        \"description\": \"\"\n      }\n    },\n    {\n      \"column\": [\n        \"sales\",\n        \"median\"\n      ],\n      \"properties\": {\n        \"dtype\": \"number\",\n        \"std\": 798.4646246069317,\n        \"min\": 0.0,\n        \"max\": 3684.0,\n        \"num_unique_values\": 26,\n        \"samples\": [\n          246.0,\n          242.0,\n          6.0\n        ],\n        \"semantic_type\": \"\",\n        \"description\": \"\"\n      }\n    },\n    {\n      \"column\": [\n        \"sales\",\n        \"min\"\n      ],\n      \"properties\": {\n        \"dtype\": \"number\",\n        \"std\": 0.0,\n        \"min\": 0.0,\n        \"max\": 0.0,\n        \"num_unique_values\": 1,\n        \"samples\": [\n          0.0\n        ],\n        \"semantic_type\": \"\",\n        \"description\": \"\"\n      }\n    },\n    {\n      \"column\": [\n        \"sales\",\n        \"std\"\n      ],\n      \"properties\": {\n        \"dtype\": \"number\",\n        \"std\": 787.2067693423738,\n        \"min\": 0.7726365603480289,\n        \"max\": 3158.250563700938,\n        \"num_unique_values\": 33,\n        \"samples\": [\n          33.36878557427753\n        ],\n        \"semantic_type\": \"\",\n        \"description\": \"\"\n      }\n    },\n    {\n      \"column\": [\n        \"sales\",\n        \"var\"\n      ],\n      \"properties\": {\n        \"dtype\": \"number\",\n        \"std\": 2252118.04784943,\n        \"min\": 0.5969672543864333,\n        \"max\": 9974546.623117292,\n        \"num_unique_values\": 33,\n        \"samples\": [\n          1113.4758507021124\n        ],\n        \"semantic_type\": \"\",\n        \"description\": \"\"\n      }\n    }\n  ]\n}"
            }
          },
          "metadata": {},
          "execution_count": 90
        }
      ]
    },
    {
      "cell_type": "code",
      "source": [
        "#every store_nbr -> median sales\n",
        "df.groupby('store_nbr').agg({'sales': 'median'})\n",
        "\n",
        "\n",
        "#which family has maximum varianec in sales data :Grocery I: sales\n",
        "#which family has minimum varianec in sales data :BABY CARE: sales\n",
        "\n",
        "#filter:\n",
        "grocery1 = df[df.family == 'GROCERY I']\n",
        "baby_care = df[df.family == 'BABY CARE']\n",
        "\n",
        "#plot boxplot for both sales data: maximum family & minimum value\n",
        "grocery1 = df[df.family == 'GROCERY I'].sales\n",
        "baby_care = df[df.family == 'BABY CARE'].sort_values\n",
        "\n",
        "import matplotlib.pyplot as plt\n",
        "plt.boxplot([grocery1,baby_care])#jati thulo batta teti variance badi huncha\n",
        "#.sort_values(by = \"sales\", ascending ='False)"
      ],
      "metadata": {
        "id": "aVNQE6UNy7OE",
        "colab": {
          "base_uri": "https://localhost:8080/",
          "height": 811
        },
        "outputId": "16ec222e-bb98-4d4a-b3ef-631138bc6c44"
      },
      "execution_count": null,
      "outputs": [
        {
          "output_type": "stream",
          "name": "stderr",
          "text": [
            "<ipython-input-91-ae8902d8b2d2>:2: FutureWarning: The default of observed=False is deprecated and will be changed to True in a future version of pandas. Pass observed=False to retain current behavior or observed=True to adopt the future default and silence this warning.\n",
            "  df.groupby('store_nbr').agg({'sales': 'median'})\n"
          ]
        },
        {
          "output_type": "error",
          "ename": "TypeError",
          "evalue": "unsupported operand type(s) for /: 'method' and 'int'",
          "traceback": [
            "\u001b[0;31m---------------------------------------------------------------------------\u001b[0m",
            "\u001b[0;31mTypeError\u001b[0m                                 Traceback (most recent call last)",
            "\u001b[0;32m<ipython-input-91-ae8902d8b2d2>\u001b[0m in \u001b[0;36m<cell line: 17>\u001b[0;34m()\u001b[0m\n\u001b[1;32m     15\u001b[0m \u001b[0;34m\u001b[0m\u001b[0m\n\u001b[1;32m     16\u001b[0m \u001b[0;32mimport\u001b[0m \u001b[0mmatplotlib\u001b[0m\u001b[0;34m.\u001b[0m\u001b[0mpyplot\u001b[0m \u001b[0;32mas\u001b[0m \u001b[0mplt\u001b[0m\u001b[0;34m\u001b[0m\u001b[0;34m\u001b[0m\u001b[0m\n\u001b[0;32m---> 17\u001b[0;31m \u001b[0mplt\u001b[0m\u001b[0;34m.\u001b[0m\u001b[0mboxplot\u001b[0m\u001b[0;34m(\u001b[0m\u001b[0;34m[\u001b[0m\u001b[0mgrocery1\u001b[0m\u001b[0;34m,\u001b[0m\u001b[0mbaby_care\u001b[0m\u001b[0;34m]\u001b[0m\u001b[0;34m)\u001b[0m\u001b[0;31m#jati thulo batta teti variance badi huncha\u001b[0m\u001b[0;34m\u001b[0m\u001b[0;34m\u001b[0m\u001b[0m\n\u001b[0m\u001b[1;32m     18\u001b[0m \u001b[0;31m#.sort_values(by = \"sales\", ascending ='False)\u001b[0m\u001b[0;34m\u001b[0m\u001b[0;34m\u001b[0m\u001b[0m\n",
            "\u001b[0;32m/usr/local/lib/python3.10/dist-packages/matplotlib/pyplot.py\u001b[0m in \u001b[0;36mboxplot\u001b[0;34m(x, notch, sym, vert, whis, positions, widths, patch_artist, bootstrap, usermedians, conf_intervals, meanline, showmeans, showcaps, showbox, showfliers, boxprops, labels, flierprops, medianprops, meanprops, capprops, whiskerprops, manage_ticks, autorange, zorder, capwidths, data)\u001b[0m\n\u001b[1;32m   2481\u001b[0m         \u001b[0mwhiskerprops\u001b[0m\u001b[0;34m=\u001b[0m\u001b[0;32mNone\u001b[0m\u001b[0;34m,\u001b[0m \u001b[0mmanage_ticks\u001b[0m\u001b[0;34m=\u001b[0m\u001b[0;32mTrue\u001b[0m\u001b[0;34m,\u001b[0m \u001b[0mautorange\u001b[0m\u001b[0;34m=\u001b[0m\u001b[0;32mFalse\u001b[0m\u001b[0;34m,\u001b[0m\u001b[0;34m\u001b[0m\u001b[0;34m\u001b[0m\u001b[0m\n\u001b[1;32m   2482\u001b[0m         zorder=None, capwidths=None, *, data=None):\n\u001b[0;32m-> 2483\u001b[0;31m     return gca().boxplot(\n\u001b[0m\u001b[1;32m   2484\u001b[0m         \u001b[0mx\u001b[0m\u001b[0;34m,\u001b[0m \u001b[0mnotch\u001b[0m\u001b[0;34m=\u001b[0m\u001b[0mnotch\u001b[0m\u001b[0;34m,\u001b[0m \u001b[0msym\u001b[0m\u001b[0;34m=\u001b[0m\u001b[0msym\u001b[0m\u001b[0;34m,\u001b[0m \u001b[0mvert\u001b[0m\u001b[0;34m=\u001b[0m\u001b[0mvert\u001b[0m\u001b[0;34m,\u001b[0m \u001b[0mwhis\u001b[0m\u001b[0;34m=\u001b[0m\u001b[0mwhis\u001b[0m\u001b[0;34m,\u001b[0m\u001b[0;34m\u001b[0m\u001b[0;34m\u001b[0m\u001b[0m\n\u001b[1;32m   2485\u001b[0m         \u001b[0mpositions\u001b[0m\u001b[0;34m=\u001b[0m\u001b[0mpositions\u001b[0m\u001b[0;34m,\u001b[0m \u001b[0mwidths\u001b[0m\u001b[0;34m=\u001b[0m\u001b[0mwidths\u001b[0m\u001b[0;34m,\u001b[0m \u001b[0mpatch_artist\u001b[0m\u001b[0;34m=\u001b[0m\u001b[0mpatch_artist\u001b[0m\u001b[0;34m,\u001b[0m\u001b[0;34m\u001b[0m\u001b[0;34m\u001b[0m\u001b[0m\n",
            "\u001b[0;32m/usr/local/lib/python3.10/dist-packages/matplotlib/__init__.py\u001b[0m in \u001b[0;36minner\u001b[0;34m(ax, data, *args, **kwargs)\u001b[0m\n\u001b[1;32m   1440\u001b[0m     \u001b[0;32mdef\u001b[0m \u001b[0minner\u001b[0m\u001b[0;34m(\u001b[0m\u001b[0max\u001b[0m\u001b[0;34m,\u001b[0m \u001b[0;34m*\u001b[0m\u001b[0margs\u001b[0m\u001b[0;34m,\u001b[0m \u001b[0mdata\u001b[0m\u001b[0;34m=\u001b[0m\u001b[0;32mNone\u001b[0m\u001b[0;34m,\u001b[0m \u001b[0;34m**\u001b[0m\u001b[0mkwargs\u001b[0m\u001b[0;34m)\u001b[0m\u001b[0;34m:\u001b[0m\u001b[0;34m\u001b[0m\u001b[0;34m\u001b[0m\u001b[0m\n\u001b[1;32m   1441\u001b[0m         \u001b[0;32mif\u001b[0m \u001b[0mdata\u001b[0m \u001b[0;32mis\u001b[0m \u001b[0;32mNone\u001b[0m\u001b[0;34m:\u001b[0m\u001b[0;34m\u001b[0m\u001b[0;34m\u001b[0m\u001b[0m\n\u001b[0;32m-> 1442\u001b[0;31m             \u001b[0;32mreturn\u001b[0m \u001b[0mfunc\u001b[0m\u001b[0;34m(\u001b[0m\u001b[0max\u001b[0m\u001b[0;34m,\u001b[0m \u001b[0;34m*\u001b[0m\u001b[0mmap\u001b[0m\u001b[0;34m(\u001b[0m\u001b[0msanitize_sequence\u001b[0m\u001b[0;34m,\u001b[0m \u001b[0margs\u001b[0m\u001b[0;34m)\u001b[0m\u001b[0;34m,\u001b[0m \u001b[0;34m**\u001b[0m\u001b[0mkwargs\u001b[0m\u001b[0;34m)\u001b[0m\u001b[0;34m\u001b[0m\u001b[0;34m\u001b[0m\u001b[0m\n\u001b[0m\u001b[1;32m   1443\u001b[0m \u001b[0;34m\u001b[0m\u001b[0m\n\u001b[1;32m   1444\u001b[0m         \u001b[0mbound\u001b[0m \u001b[0;34m=\u001b[0m \u001b[0mnew_sig\u001b[0m\u001b[0;34m.\u001b[0m\u001b[0mbind\u001b[0m\u001b[0;34m(\u001b[0m\u001b[0max\u001b[0m\u001b[0;34m,\u001b[0m \u001b[0;34m*\u001b[0m\u001b[0margs\u001b[0m\u001b[0;34m,\u001b[0m \u001b[0;34m**\u001b[0m\u001b[0mkwargs\u001b[0m\u001b[0;34m)\u001b[0m\u001b[0;34m\u001b[0m\u001b[0;34m\u001b[0m\u001b[0m\n",
            "\u001b[0;32m/usr/local/lib/python3.10/dist-packages/matplotlib/axes/_axes.py\u001b[0m in \u001b[0;36mboxplot\u001b[0;34m(self, x, notch, sym, vert, whis, positions, widths, patch_artist, bootstrap, usermedians, conf_intervals, meanline, showmeans, showcaps, showbox, showfliers, boxprops, labels, flierprops, medianprops, meanprops, capprops, whiskerprops, manage_ticks, autorange, zorder, capwidths)\u001b[0m\n\u001b[1;32m   3912\u001b[0m             \u001b[0mbootstrap\u001b[0m \u001b[0;34m=\u001b[0m \u001b[0mmpl\u001b[0m\u001b[0;34m.\u001b[0m\u001b[0mrcParams\u001b[0m\u001b[0;34m[\u001b[0m\u001b[0;34m'boxplot.bootstrap'\u001b[0m\u001b[0;34m]\u001b[0m\u001b[0;34m\u001b[0m\u001b[0;34m\u001b[0m\u001b[0m\n\u001b[1;32m   3913\u001b[0m \u001b[0;34m\u001b[0m\u001b[0m\n\u001b[0;32m-> 3914\u001b[0;31m         bxpstats = cbook.boxplot_stats(x, whis=whis, bootstrap=bootstrap,\n\u001b[0m\u001b[1;32m   3915\u001b[0m                                        labels=labels, autorange=autorange)\n\u001b[1;32m   3916\u001b[0m         \u001b[0;32mif\u001b[0m \u001b[0mnotch\u001b[0m \u001b[0;32mis\u001b[0m \u001b[0;32mNone\u001b[0m\u001b[0;34m:\u001b[0m\u001b[0;34m\u001b[0m\u001b[0;34m\u001b[0m\u001b[0m\n",
            "\u001b[0;32m/usr/local/lib/python3.10/dist-packages/matplotlib/cbook/__init__.py\u001b[0m in \u001b[0;36mboxplot_stats\u001b[0;34m(X, whis, bootstrap, labels, autorange)\u001b[0m\n\u001b[1;32m   1230\u001b[0m \u001b[0;34m\u001b[0m\u001b[0m\n\u001b[1;32m   1231\u001b[0m         \u001b[0;31m# arithmetic mean\u001b[0m\u001b[0;34m\u001b[0m\u001b[0;34m\u001b[0m\u001b[0m\n\u001b[0;32m-> 1232\u001b[0;31m         \u001b[0mstats\u001b[0m\u001b[0;34m[\u001b[0m\u001b[0;34m'mean'\u001b[0m\u001b[0;34m]\u001b[0m \u001b[0;34m=\u001b[0m \u001b[0mnp\u001b[0m\u001b[0;34m.\u001b[0m\u001b[0mmean\u001b[0m\u001b[0;34m(\u001b[0m\u001b[0mx\u001b[0m\u001b[0;34m)\u001b[0m\u001b[0;34m\u001b[0m\u001b[0;34m\u001b[0m\u001b[0m\n\u001b[0m\u001b[1;32m   1233\u001b[0m \u001b[0;34m\u001b[0m\u001b[0m\n\u001b[1;32m   1234\u001b[0m         \u001b[0;31m# medians and quartiles\u001b[0m\u001b[0;34m\u001b[0m\u001b[0;34m\u001b[0m\u001b[0m\n",
            "\u001b[0;32m/usr/local/lib/python3.10/dist-packages/numpy/core/fromnumeric.py\u001b[0m in \u001b[0;36mmean\u001b[0;34m(a, axis, dtype, out, keepdims, where)\u001b[0m\n\u001b[1;32m   3502\u001b[0m             \u001b[0;32mreturn\u001b[0m \u001b[0mmean\u001b[0m\u001b[0;34m(\u001b[0m\u001b[0maxis\u001b[0m\u001b[0;34m=\u001b[0m\u001b[0maxis\u001b[0m\u001b[0;34m,\u001b[0m \u001b[0mdtype\u001b[0m\u001b[0;34m=\u001b[0m\u001b[0mdtype\u001b[0m\u001b[0;34m,\u001b[0m \u001b[0mout\u001b[0m\u001b[0;34m=\u001b[0m\u001b[0mout\u001b[0m\u001b[0;34m,\u001b[0m \u001b[0;34m**\u001b[0m\u001b[0mkwargs\u001b[0m\u001b[0;34m)\u001b[0m\u001b[0;34m\u001b[0m\u001b[0;34m\u001b[0m\u001b[0m\n\u001b[1;32m   3503\u001b[0m \u001b[0;34m\u001b[0m\u001b[0m\n\u001b[0;32m-> 3504\u001b[0;31m     return _methods._mean(a, axis=axis, dtype=dtype,\n\u001b[0m\u001b[1;32m   3505\u001b[0m                           out=out, **kwargs)\n\u001b[1;32m   3506\u001b[0m \u001b[0;34m\u001b[0m\u001b[0m\n",
            "\u001b[0;32m/usr/local/lib/python3.10/dist-packages/numpy/core/_methods.py\u001b[0m in \u001b[0;36m_mean\u001b[0;34m(a, axis, dtype, out, keepdims, where)\u001b[0m\n\u001b[1;32m    129\u001b[0m             \u001b[0mret\u001b[0m \u001b[0;34m=\u001b[0m \u001b[0mret\u001b[0m\u001b[0;34m.\u001b[0m\u001b[0mdtype\u001b[0m\u001b[0;34m.\u001b[0m\u001b[0mtype\u001b[0m\u001b[0;34m(\u001b[0m\u001b[0mret\u001b[0m \u001b[0;34m/\u001b[0m \u001b[0mrcount\u001b[0m\u001b[0;34m)\u001b[0m\u001b[0;34m\u001b[0m\u001b[0;34m\u001b[0m\u001b[0m\n\u001b[1;32m    130\u001b[0m     \u001b[0;32melse\u001b[0m\u001b[0;34m:\u001b[0m\u001b[0;34m\u001b[0m\u001b[0;34m\u001b[0m\u001b[0m\n\u001b[0;32m--> 131\u001b[0;31m         \u001b[0mret\u001b[0m \u001b[0;34m=\u001b[0m \u001b[0mret\u001b[0m \u001b[0;34m/\u001b[0m \u001b[0mrcount\u001b[0m\u001b[0;34m\u001b[0m\u001b[0;34m\u001b[0m\u001b[0m\n\u001b[0m\u001b[1;32m    132\u001b[0m \u001b[0;34m\u001b[0m\u001b[0m\n\u001b[1;32m    133\u001b[0m     \u001b[0;32mreturn\u001b[0m \u001b[0mret\u001b[0m\u001b[0;34m\u001b[0m\u001b[0;34m\u001b[0m\u001b[0m\n",
            "\u001b[0;31mTypeError\u001b[0m: unsupported operand type(s) for /: 'method' and 'int'"
          ]
        },
        {
          "output_type": "display_data",
          "data": {
            "text/plain": [
              "<Figure size 640x480 with 1 Axes>"
            ],
            "image/png": "[encoded data removed]"
          },
          "metadata": {}
        }
      ]
    },
    {
      "cell_type": "code",
      "source": [
        "#next ques\n",
        "df.groupby('family').agg({'sales':'var'}).sort_values(by = 'sales',ascending = False)#dont forget by!"
      ],
      "metadata": {
        "id": "BdZM6Mq4zv_R"
      },
      "execution_count": null,
      "outputs": []
    },
    {
      "cell_type": "code",
      "source": [
        "df"
      ],
      "metadata": {
        "colab": {
          "base_uri": "https://localhost:8080/",
          "height": 423
        },
        "id": "WFq8LRfaxcGa",
        "outputId": "6faae696-8651-46b4-8397-9d0020981f9c"
      },
      "execution_count": null,
      "outputs": [
        {
          "output_type": "execute_result",
          "data": {
            "text/plain": [
              "             id        date  store_nbr                      family    sales  \\\n",
              "0       1945944  2016-01-01        1.0                  AUTOMOTIVE     0.00   \n",
              "1       1945945  2016-01-01        1.0                   BABY CARE     0.00   \n",
              "2       1945946  2016-01-01        1.0                      BEAUTY     0.00   \n",
              "3       1945947  2016-01-01        1.0                   BEVERAGES     0.00   \n",
              "4       1945948  2016-01-01        1.0                       BOOKS     0.00   \n",
              "...         ...         ...        ...                         ...      ...   \n",
              "127409  2073353  2016-03-12       33.0              PREPARED FOODS    36.00   \n",
              "127410  2073354  2016-03-12       33.0                     PRODUCE  1248.72   \n",
              "127411  2073355  2016-03-12       33.0  SCHOOL AND OFFICE SUPPLIES     0.00   \n",
              "127412  2073356  2016-03-12       33.0                     SEAFOOD     2.00   \n",
              "127413  2073357        2016        NaN                         NaN      NaN   \n",
              "\n",
              "        onpromotion  \n",
              "0               0.0  \n",
              "1               0.0  \n",
              "2               0.0  \n",
              "3               0.0  \n",
              "4               0.0  \n",
              "...             ...  \n",
              "127409          0.0  \n",
              "127410          0.0  \n",
              "127411          0.0  \n",
              "127412          1.0  \n",
              "127413          NaN  \n",
              "\n",
              "[127414 rows x 6 columns]"
            ],
            "text/html": [
              "\n",
              "  <div id=\"df-89ab829a-dee5-412a-993c-e5841b254837\" class=\"colab-df-container\">\n",
              "    <div>\n",
              "<style scoped>\n",
              "    .dataframe tbody tr th:only-of-type {\n",
              "        vertical-align: middle;\n",
              "    }\n",
              "\n",
              "    .dataframe tbody tr th {\n",
              "        vertical-align: top;\n",
              "    }\n",
              "\n",
              "    .dataframe thead th {\n",
              "        text-align: right;\n",
              "    }\n",
              "</style>\n",
              "<table border=\"1\" class=\"dataframe\">\n",
              "  <thead>\n",
              "    <tr style=\"text-align: right;\">\n",
              "      <th></th>\n",
              "      <th>id</th>\n",
              "      <th>date</th>\n",
              "      <th>store_nbr</th>\n",
              "      <th>family</th>\n",
              "      <th>sales</th>\n",
              "      <th>onpromotion</th>\n",
              "    </tr>\n",
              "  </thead>\n",
              "  <tbody>\n",
              "    <tr>\n",
              "      <th>0</th>\n",
              "      <td>1945944</td>\n",
              "      <td>2016-01-01</td>\n",
              "      <td>1.0</td>\n",
              "      <td>AUTOMOTIVE</td>\n",
              "      <td>0.00</td>\n",
              "      <td>0.0</td>\n",
              "    </tr>\n",
              "    <tr>\n",
              "      <th>1</th>\n",
              "      <td>1945945</td>\n",
              "      <td>2016-01-01</td>\n",
              "      <td>1.0</td>\n",
              "      <td>BABY CARE</td>\n",
              "      <td>0.00</td>\n",
              "      <td>0.0</td>\n",
              "    </tr>\n",
              "    <tr>\n",
              "      <th>2</th>\n",
              "      <td>1945946</td>\n",
              "      <td>2016-01-01</td>\n",
              "      <td>1.0</td>\n",
              "      <td>BEAUTY</td>\n",
              "      <td>0.00</td>\n",
              "      <td>0.0</td>\n",
              "    </tr>\n",
              "    <tr>\n",
              "      <th>3</th>\n",
              "      <td>1945947</td>\n",
              "      <td>2016-01-01</td>\n",
              "      <td>1.0</td>\n",
              "      <td>BEVERAGES</td>\n",
              "      <td>0.00</td>\n",
              "      <td>0.0</td>\n",
              "    </tr>\n",
              "    <tr>\n",
              "      <th>4</th>\n",
              "      <td>1945948</td>\n",
              "      <td>2016-01-01</td>\n",
              "      <td>1.0</td>\n",
              "      <td>BOOKS</td>\n",
              "      <td>0.00</td>\n",
              "      <td>0.0</td>\n",
              "    </tr>\n",
              "    <tr>\n",
              "      <th>...</th>\n",
              "      <td>...</td>\n",
              "      <td>...</td>\n",
              "      <td>...</td>\n",
              "      <td>...</td>\n",
              "      <td>...</td>\n",
              "      <td>...</td>\n",
              "    </tr>\n",
              "    <tr>\n",
              "      <th>127409</th>\n",
              "      <td>2073353</td>\n",
              "      <td>2016-03-12</td>\n",
              "      <td>33.0</td>\n",
              "      <td>PREPARED FOODS</td>\n",
              "      <td>36.00</td>\n",
              "      <td>0.0</td>\n",
              "    </tr>\n",
              "    <tr>\n",
              "      <th>127410</th>\n",
              "      <td>2073354</td>\n",
              "      <td>2016-03-12</td>\n",
              "      <td>33.0</td>\n",
              "      <td>PRODUCE</td>\n",
              "      <td>1248.72</td>\n",
              "      <td>0.0</td>\n",
              "    </tr>\n",
              "    <tr>\n",
              "      <th>127411</th>\n",
              "      <td>2073355</td>\n",
              "      <td>2016-03-12</td>\n",
              "      <td>33.0</td>\n",
              "      <td>SCHOOL AND OFFICE SUPPLIES</td>\n",
              "      <td>0.00</td>\n",
              "      <td>0.0</td>\n",
              "    </tr>\n",
              "    <tr>\n",
              "      <th>127412</th>\n",
              "      <td>2073356</td>\n",
              "      <td>2016-03-12</td>\n",
              "      <td>33.0</td>\n",
              "      <td>SEAFOOD</td>\n",
              "      <td>2.00</td>\n",
              "      <td>1.0</td>\n",
              "    </tr>\n",
              "    <tr>\n",
              "      <th>127413</th>\n",
              "      <td>2073357</td>\n",
              "      <td>2016</td>\n",
              "      <td>NaN</td>\n",
              "      <td>NaN</td>\n",
              "      <td>NaN</td>\n",
              "      <td>NaN</td>\n",
              "    </tr>\n",
              "  </tbody>\n",
              "</table>\n",
              "<p>127414 rows × 6 columns</p>\n",
              "</div>\n",
              "    <div class=\"colab-df-buttons\">\n",
              "\n",
              "  <div class=\"colab-df-container\">\n",
              "    <button class=\"colab-df-convert\" onclick=\"convertToInteractive('df-89ab829a-dee5-412a-993c-e5841b254837')\"\n",
              "            title=\"Convert this dataframe to an interactive table.\"\n",
              "            style=\"display:none;\">\n",
              "\n",
              "  <svg xmlns=\"http://www.w3.org/2000/svg\" height=\"24px\" viewBox=\"0 -960 960 960\">\n",
              "    <path d=\"M120-120v-720h720v720H120Zm60-500h600v-160H180v160Zm220 220h160v-160H400v160Zm0 220h160v-160H400v160ZM180-400h160v-160H180v160Zm440 0h160v-160H620v160ZM180-180h160v-160H180v160Zm440 0h160v-160H620v160Z\"/>\n",
              "  </svg>\n",
              "    </button>\n",
              "\n",
              "  <style>\n",
              "    .colab-df-container {\n",
              "      display:flex;\n",
              "      gap: 12px;\n",
              "    }\n",
              "\n",
              "    .colab-df-convert {\n",
              "      background-color: #E8F0FE;\n",
              "      border: none;\n",
              "      border-radius: 50%;\n",
              "      cursor: pointer;\n",
              "      display: none;\n",
              "      fill: #1967D2;\n",
              "      height: 32px;\n",
              "      padding: 0 0 0 0;\n",
              "      width: 32px;\n",
              "    }\n",
              "\n",
              "    .colab-df-convert:hover {\n",
              "      background-color: #E2EBFA;\n",
              "      box-shadow: 0px 1px 2px rgba(60, 64, 67, 0.3), 0px 1px 3px 1px rgba(60, 64, 67, 0.15);\n",
              "      fill: #174EA6;\n",
              "    }\n",
              "\n",
              "    .colab-df-buttons div {\n",
              "      margin-bottom: 4px;\n",
              "    }\n",
              "\n",
              "    [theme=dark] .colab-df-convert {\n",
              "      background-color: #3B4455;\n",
              "      fill: #D2E3FC;\n",
              "    }\n",
              "\n",
              "    [theme=dark] .colab-df-convert:hover {\n",
              "      background-color: #434B5C;\n",
              "      box-shadow: 0px 1px 3px 1px rgba(0, 0, 0, 0.15);\n",
              "      filter: drop-shadow(0px 1px 2px rgba(0, 0, 0, 0.3));\n",
              "      fill: #FFFFFF;\n",
              "    }\n",
              "  </style>\n",
              "\n",
              "    <script>\n",
              "      const buttonEl =\n",
              "        document.querySelector('#df-89ab829a-dee5-412a-993c-e5841b254837 button.colab-df-convert');\n",
              "      buttonEl.style.display =\n",
              "        google.colab.kernel.accessAllowed ? 'block' : 'none';\n",
              "\n",
              "      async function convertToInteractive(key) {\n",
              "        const element = document.querySelector('#df-89ab829a-dee5-412a-993c-e5841b254837');\n",
              "        const dataTable =\n",
              "          await google.colab.kernel.invokeFunction('convertToInteractive',\n",
              "                                                    [key], {});\n",
              "        if (!dataTable) return;\n",
              "\n",
              "        const docLinkHtml = 'Like what you see? Visit the ' +\n",
              "          '<a target=\"_blank\" href=https://colab.research.google.com/notebooks/data_table.ipynb>data table notebook</a>'\n",
              "          + ' to learn more about interactive tables.';\n",
              "        element.innerHTML = '';\n",
              "        dataTable['output_type'] = 'display_data';\n",
              "        await google.colab.output.renderOutput(dataTable, element);\n",
              "        const docLink = document.createElement('div');\n",
              "        docLink.innerHTML = docLinkHtml;\n",
              "        element.appendChild(docLink);\n",
              "      }\n",
              "    </script>\n",
              "  </div>\n",
              "\n",
              "\n",
              "<div id=\"df-b3a3bfcb-10df-457e-857a-f7bf5da61413\">\n",
              "  <button class=\"colab-df-quickchart\" onclick=\"quickchart('df-b3a3bfcb-10df-457e-857a-f7bf5da61413')\"\n",
              "            title=\"Suggest charts\"\n",
              "            style=\"display:none;\">\n",
              "\n",
              "<svg xmlns=\"http://www.w3.org/2000/svg\" height=\"24px\"viewBox=\"0 0 24 24\"\n",
              "     width=\"24px\">\n",
              "    <g>\n",
              "        <path d=\"M19 3H5c-1.1 0-2 .9-2 2v14c0 1.1.9 2 2 2h14c1.1 0 2-.9 2-2V5c0-1.1-.9-2-2-2zM9 17H7v-7h2v7zm4 0h-2V7h2v10zm4 0h-2v-4h2v4z\"/>\n",
              "    </g>\n",
              "</svg>\n",
              "  </button>\n",
              "\n",
              "<style>\n",
              "  .colab-df-quickchart {\n",
              "      --bg-color: #E8F0FE;\n",
              "      --fill-color: #1967D2;\n",
              "      --hover-bg-color: #E2EBFA;\n",
              "      --hover-fill-color: #174EA6;\n",
              "      --disabled-fill-color: #AAA;\n",
              "      --disabled-bg-color: #DDD;\n",
              "  }\n",
              "\n",
              "  [theme=dark] .colab-df-quickchart {\n",
              "      --bg-color: #3B4455;\n",
              "      --fill-color: #D2E3FC;\n",
              "      --hover-bg-color: #434B5C;\n",
              "      --hover-fill-color: #FFFFFF;\n",
              "      --disabled-bg-color: #3B4455;\n",
              "      --disabled-fill-color: #666;\n",
              "  }\n",
              "\n",
              "  .colab-df-quickchart {\n",
              "    background-color: var(--bg-color);\n",
              "    border: none;\n",
              "    border-radius: 50%;\n",
              "    cursor: pointer;\n",
              "    display: none;\n",
              "    fill: var(--fill-color);\n",
              "    height: 32px;\n",
              "    padding: 0;\n",
              "    width: 32px;\n",
              "  }\n",
              "\n",
              "  .colab-df-quickchart:hover {\n",
              "    background-color: var(--hover-bg-color);\n",
              "    box-shadow: 0 1px 2px rgba(60, 64, 67, 0.3), 0 1px 3px 1px rgba(60, 64, 67, 0.15);\n",
              "    fill: var(--button-hover-fill-color);\n",
              "  }\n",
              "\n",
              "  .colab-df-quickchart-complete:disabled,\n",
              "  .colab-df-quickchart-complete:disabled:hover {\n",
              "    background-color: var(--disabled-bg-color);\n",
              "    fill: var(--disabled-fill-color);\n",
              "    box-shadow: none;\n",
              "  }\n",
              "\n",
              "  .colab-df-spinner {\n",
              "    border: 2px solid var(--fill-color);\n",
              "    border-color: transparent;\n",
              "    border-bottom-color: var(--fill-color);\n",
              "    animation:\n",
              "      spin 1s steps(1) infinite;\n",
              "  }\n",
              "\n",
              "  @keyframes spin {\n",
              "    0% {\n",
              "      border-color: transparent;\n",
              "      border-bottom-color: var(--fill-color);\n",
              "      border-left-color: var(--fill-color);\n",
              "    }\n",
              "    20% {\n",
              "      border-color: transparent;\n",
              "      border-left-color: var(--fill-color);\n",
              "      border-top-color: var(--fill-color);\n",
              "    }\n",
              "    30% {\n",
              "      border-color: transparent;\n",
              "      border-left-color: var(--fill-color);\n",
              "      border-top-color: var(--fill-color);\n",
              "      border-right-color: var(--fill-color);\n",
              "    }\n",
              "    40% {\n",
              "      border-color: transparent;\n",
              "      border-right-color: var(--fill-color);\n",
              "      border-top-color: var(--fill-color);\n",
              "    }\n",
              "    60% {\n",
              "      border-color: transparent;\n",
              "      border-right-color: var(--fill-color);\n",
              "    }\n",
              "    80% {\n",
              "      border-color: transparent;\n",
              "      border-right-color: var(--fill-color);\n",
              "      border-bottom-color: var(--fill-color);\n",
              "    }\n",
              "    90% {\n",
              "      border-color: transparent;\n",
              "      border-bottom-color: var(--fill-color);\n",
              "    }\n",
              "  }\n",
              "</style>\n",
              "\n",
              "  <script>\n",
              "    async function quickchart(key) {\n",
              "      const quickchartButtonEl =\n",
              "        document.querySelector('#' + key + ' button');\n",
              "      quickchartButtonEl.disabled = true;  // To prevent multiple clicks.\n",
              "      quickchartButtonEl.classList.add('colab-df-spinner');\n",
              "      try {\n",
              "        const charts = await google.colab.kernel.invokeFunction(\n",
              "            'suggestCharts', [key], {});\n",
              "      } catch (error) {\n",
              "        console.error('Error during call to suggestCharts:', error);\n",
              "      }\n",
              "      quickchartButtonEl.classList.remove('colab-df-spinner');\n",
              "      quickchartButtonEl.classList.add('colab-df-quickchart-complete');\n",
              "    }\n",
              "    (() => {\n",
              "      let quickchartButtonEl =\n",
              "        document.querySelector('#df-b3a3bfcb-10df-457e-857a-f7bf5da61413 button');\n",
              "      quickchartButtonEl.style.display =\n",
              "        google.colab.kernel.accessAllowed ? 'block' : 'none';\n",
              "    })();\n",
              "  </script>\n",
              "</div>\n",
              "\n",
              "  <div id=\"id_80953196-1526-43f2-89be-4ed28103d840\">\n",
              "    <style>\n",
              "      .colab-df-generate {\n",
              "        background-color: #E8F0FE;\n",
              "        border: none;\n",
              "        border-radius: 50%;\n",
              "        cursor: pointer;\n",
              "        display: none;\n",
              "        fill: #1967D2;\n",
              "        height: 32px;\n",
              "        padding: 0 0 0 0;\n",
              "        width: 32px;\n",
              "      }\n",
              "\n",
              "      .colab-df-generate:hover {\n",
              "        background-color: #E2EBFA;\n",
              "        box-shadow: 0px 1px 2px rgba(60, 64, 67, 0.3), 0px 1px 3px 1px rgba(60, 64, 67, 0.15);\n",
              "        fill: #174EA6;\n",
              "      }\n",
              "\n",
              "      [theme=dark] .colab-df-generate {\n",
              "        background-color: #3B4455;\n",
              "        fill: #D2E3FC;\n",
              "      }\n",
              "\n",
              "      [theme=dark] .colab-df-generate:hover {\n",
              "        background-color: #434B5C;\n",
              "        box-shadow: 0px 1px 3px 1px rgba(0, 0, 0, 0.15);\n",
              "        filter: drop-shadow(0px 1px 2px rgba(0, 0, 0, 0.3));\n",
              "        fill: #FFFFFF;\n",
              "      }\n",
              "    </style>\n",
              "    <button class=\"colab-df-generate\" onclick=\"generateWithVariable('df')\"\n",
              "            title=\"Generate code using this dataframe.\"\n",
              "            style=\"display:none;\">\n",
              "\n",
              "  <svg xmlns=\"http://www.w3.org/2000/svg\" height=\"24px\"viewBox=\"0 0 24 24\"\n",
              "       width=\"24px\">\n",
              "    <path d=\"M7,19H8.4L18.45,9,17,7.55,7,17.6ZM5,21V16.75L18.45,3.32a2,2,0,0,1,2.83,0l1.4,1.43a1.91,1.91,0,0,1,.58,1.4,1.91,1.91,0,0,1-.58,1.4L9.25,21ZM18.45,9,17,7.55Zm-12,3A5.31,5.31,0,0,0,4.9,8.1,5.31,5.31,0,0,0,1,6.5,5.31,5.31,0,0,0,4.9,4.9,5.31,5.31,0,0,0,6.5,1,5.31,5.31,0,0,0,8.1,4.9,5.31,5.31,0,0,0,12,6.5,5.46,5.46,0,0,0,6.5,12Z\"/>\n",
              "  </svg>\n",
              "    </button>\n",
              "    <script>\n",
              "      (() => {\n",
              "      const buttonEl =\n",
              "        document.querySelector('#id_80953196-1526-43f2-89be-4ed28103d840 button.colab-df-generate');\n",
              "      buttonEl.style.display =\n",
              "        google.colab.kernel.accessAllowed ? 'block' : 'none';\n",
              "\n",
              "      buttonEl.onclick = () => {\n",
              "        google.colab.notebook.generateWithVariable('df');\n",
              "      }\n",
              "      })();\n",
              "    </script>\n",
              "  </div>\n",
              "\n",
              "    </div>\n",
              "  </div>\n"
            ],
            "application/vnd.google.colaboratory.intrinsic+json": {
              "type": "dataframe",
              "variable_name": "df"
            }
          },
          "metadata": {},
          "execution_count": 3
        }
      ]
    },
    {
      "cell_type": "code",
      "source": [
        "df.head()"
      ],
      "metadata": {
        "colab": {
          "base_uri": "https://localhost:8080/",
          "height": 206
        },
        "id": "BOtS-_zax-Ct",
        "outputId": "bd735572-716b-4f1c-e9b9-1c4da7fa84a2"
      },
      "execution_count": null,
      "outputs": [
        {
          "output_type": "execute_result",
          "data": {
            "text/plain": [
              "        id        date  store_nbr      family  sales  onpromotion\n",
              "0  1945944  2016-01-01        1.0  AUTOMOTIVE    0.0          0.0\n",
              "1  1945945  2016-01-01        1.0   BABY CARE    0.0          0.0\n",
              "2  1945946  2016-01-01        1.0      BEAUTY    0.0          0.0\n",
              "3  1945947  2016-01-01        1.0   BEVERAGES    0.0          0.0\n",
              "4  1945948  2016-01-01        1.0       BOOKS    0.0          0.0"
            ],
            "text/html": [
              "\n",
              "  <div id=\"df-88ecd629-f3f1-449d-ac96-a9cfffa1792b\" class=\"colab-df-container\">\n",
              "    <div>\n",
              "<style scoped>\n",
              "    .dataframe tbody tr th:only-of-type {\n",
              "        vertical-align: middle;\n",
              "    }\n",
              "\n",
              "    .dataframe tbody tr th {\n",
              "        vertical-align: top;\n",
              "    }\n",
              "\n",
              "    .dataframe thead th {\n",
              "        text-align: right;\n",
              "    }\n",
              "</style>\n",
              "<table border=\"1\" class=\"dataframe\">\n",
              "  <thead>\n",
              "    <tr style=\"text-align: right;\">\n",
              "      <th></th>\n",
              "      <th>id</th>\n",
              "      <th>date</th>\n",
              "      <th>store_nbr</th>\n",
              "      <th>family</th>\n",
              "      <th>sales</th>\n",
              "      <th>onpromotion</th>\n",
              "    </tr>\n",
              "  </thead>\n",
              "  <tbody>\n",
              "    <tr>\n",
              "      <th>0</th>\n",
              "      <td>1945944</td>\n",
              "      <td>2016-01-01</td>\n",
              "      <td>1.0</td>\n",
              "      <td>AUTOMOTIVE</td>\n",
              "      <td>0.0</td>\n",
              "      <td>0.0</td>\n",
              "    </tr>\n",
              "    <tr>\n",
              "      <th>1</th>\n",
              "      <td>1945945</td>\n",
              "      <td>2016-01-01</td>\n",
              "      <td>1.0</td>\n",
              "      <td>BABY CARE</td>\n",
              "      <td>0.0</td>\n",
              "      <td>0.0</td>\n",
              "    </tr>\n",
              "    <tr>\n",
              "      <th>2</th>\n",
              "      <td>1945946</td>\n",
              "      <td>2016-01-01</td>\n",
              "      <td>1.0</td>\n",
              "      <td>BEAUTY</td>\n",
              "      <td>0.0</td>\n",
              "      <td>0.0</td>\n",
              "    </tr>\n",
              "    <tr>\n",
              "      <th>3</th>\n",
              "      <td>1945947</td>\n",
              "      <td>2016-01-01</td>\n",
              "      <td>1.0</td>\n",
              "      <td>BEVERAGES</td>\n",
              "      <td>0.0</td>\n",
              "      <td>0.0</td>\n",
              "    </tr>\n",
              "    <tr>\n",
              "      <th>4</th>\n",
              "      <td>1945948</td>\n",
              "      <td>2016-01-01</td>\n",
              "      <td>1.0</td>\n",
              "      <td>BOOKS</td>\n",
              "      <td>0.0</td>\n",
              "      <td>0.0</td>\n",
              "    </tr>\n",
              "  </tbody>\n",
              "</table>\n",
              "</div>\n",
              "    <div class=\"colab-df-buttons\">\n",
              "\n",
              "  <div class=\"colab-df-container\">\n",
              "    <button class=\"colab-df-convert\" onclick=\"convertToInteractive('df-88ecd629-f3f1-449d-ac96-a9cfffa1792b')\"\n",
              "            title=\"Convert this dataframe to an interactive table.\"\n",
              "            style=\"display:none;\">\n",
              "\n",
              "  <svg xmlns=\"http://www.w3.org/2000/svg\" height=\"24px\" viewBox=\"0 -960 960 960\">\n",
              "    <path d=\"M120-120v-720h720v720H120Zm60-500h600v-160H180v160Zm220 220h160v-160H400v160Zm0 220h160v-160H400v160ZM180-400h160v-160H180v160Zm440 0h160v-160H620v160ZM180-180h160v-160H180v160Zm440 0h160v-160H620v160Z\"/>\n",
              "  </svg>\n",
              "    </button>\n",
              "\n",
              "  <style>\n",
              "    .colab-df-container {\n",
              "      display:flex;\n",
              "      gap: 12px;\n",
              "    }\n",
              "\n",
              "    .colab-df-convert {\n",
              "      background-color: #E8F0FE;\n",
              "      border: none;\n",
              "      border-radius: 50%;\n",
              "      cursor: pointer;\n",
              "      display: none;\n",
              "      fill: #1967D2;\n",
              "      height: 32px;\n",
              "      padding: 0 0 0 0;\n",
              "      width: 32px;\n",
              "    }\n",
              "\n",
              "    .colab-df-convert:hover {\n",
              "      background-color: #E2EBFA;\n",
              "      box-shadow: 0px 1px 2px rgba(60, 64, 67, 0.3), 0px 1px 3px 1px rgba(60, 64, 67, 0.15);\n",
              "      fill: #174EA6;\n",
              "    }\n",
              "\n",
              "    .colab-df-buttons div {\n",
              "      margin-bottom: 4px;\n",
              "    }\n",
              "\n",
              "    [theme=dark] .colab-df-convert {\n",
              "      background-color: #3B4455;\n",
              "      fill: #D2E3FC;\n",
              "    }\n",
              "\n",
              "    [theme=dark] .colab-df-convert:hover {\n",
              "      background-color: #434B5C;\n",
              "      box-shadow: 0px 1px 3px 1px rgba(0, 0, 0, 0.15);\n",
              "      filter: drop-shadow(0px 1px 2px rgba(0, 0, 0, 0.3));\n",
              "      fill: #FFFFFF;\n",
              "    }\n",
              "  </style>\n",
              "\n",
              "    <script>\n",
              "      const buttonEl =\n",
              "        document.querySelector('#df-88ecd629-f3f1-449d-ac96-a9cfffa1792b button.colab-df-convert');\n",
              "      buttonEl.style.display =\n",
              "        google.colab.kernel.accessAllowed ? 'block' : 'none';\n",
              "\n",
              "      async function convertToInteractive(key) {\n",
              "        const element = document.querySelector('#df-88ecd629-f3f1-449d-ac96-a9cfffa1792b');\n",
              "        const dataTable =\n",
              "          await google.colab.kernel.invokeFunction('convertToInteractive',\n",
              "                                                    [key], {});\n",
              "        if (!dataTable) return;\n",
              "\n",
              "        const docLinkHtml = 'Like what you see? Visit the ' +\n",
              "          '<a target=\"_blank\" href=https://colab.research.google.com/notebooks/data_table.ipynb>data table notebook</a>'\n",
              "          + ' to learn more about interactive tables.';\n",
              "        element.innerHTML = '';\n",
              "        dataTable['output_type'] = 'display_data';\n",
              "        await google.colab.output.renderOutput(dataTable, element);\n",
              "        const docLink = document.createElement('div');\n",
              "        docLink.innerHTML = docLinkHtml;\n",
              "        element.appendChild(docLink);\n",
              "      }\n",
              "    </script>\n",
              "  </div>\n",
              "\n",
              "\n",
              "<div id=\"df-f180fb0b-e37b-436d-96d0-21cd62805cb6\">\n",
              "  <button class=\"colab-df-quickchart\" onclick=\"quickchart('df-f180fb0b-e37b-436d-96d0-21cd62805cb6')\"\n",
              "            title=\"Suggest charts\"\n",
              "            style=\"display:none;\">\n",
              "\n",
              "<svg xmlns=\"http://www.w3.org/2000/svg\" height=\"24px\"viewBox=\"0 0 24 24\"\n",
              "     width=\"24px\">\n",
              "    <g>\n",
              "        <path d=\"M19 3H5c-1.1 0-2 .9-2 2v14c0 1.1.9 2 2 2h14c1.1 0 2-.9 2-2V5c0-1.1-.9-2-2-2zM9 17H7v-7h2v7zm4 0h-2V7h2v10zm4 0h-2v-4h2v4z\"/>\n",
              "    </g>\n",
              "</svg>\n",
              "  </button>\n",
              "\n",
              "<style>\n",
              "  .colab-df-quickchart {\n",
              "      --bg-color: #E8F0FE;\n",
              "      --fill-color: #1967D2;\n",
              "      --hover-bg-color: #E2EBFA;\n",
              "      --hover-fill-color: #174EA6;\n",
              "      --disabled-fill-color: #AAA;\n",
              "      --disabled-bg-color: #DDD;\n",
              "  }\n",
              "\n",
              "  [theme=dark] .colab-df-quickchart {\n",
              "      --bg-color: #3B4455;\n",
              "      --fill-color: #D2E3FC;\n",
              "      --hover-bg-color: #434B5C;\n",
              "      --hover-fill-color: #FFFFFF;\n",
              "      --disabled-bg-color: #3B4455;\n",
              "      --disabled-fill-color: #666;\n",
              "  }\n",
              "\n",
              "  .colab-df-quickchart {\n",
              "    background-color: var(--bg-color);\n",
              "    border: none;\n",
              "    border-radius: 50%;\n",
              "    cursor: pointer;\n",
              "    display: none;\n",
              "    fill: var(--fill-color);\n",
              "    height: 32px;\n",
              "    padding: 0;\n",
              "    width: 32px;\n",
              "  }\n",
              "\n",
              "  .colab-df-quickchart:hover {\n",
              "    background-color: var(--hover-bg-color);\n",
              "    box-shadow: 0 1px 2px rgba(60, 64, 67, 0.3), 0 1px 3px 1px rgba(60, 64, 67, 0.15);\n",
              "    fill: var(--button-hover-fill-color);\n",
              "  }\n",
              "\n",
              "  .colab-df-quickchart-complete:disabled,\n",
              "  .colab-df-quickchart-complete:disabled:hover {\n",
              "    background-color: var(--disabled-bg-color);\n",
              "    fill: var(--disabled-fill-color);\n",
              "    box-shadow: none;\n",
              "  }\n",
              "\n",
              "  .colab-df-spinner {\n",
              "    border: 2px solid var(--fill-color);\n",
              "    border-color: transparent;\n",
              "    border-bottom-color: var(--fill-color);\n",
              "    animation:\n",
              "      spin 1s steps(1) infinite;\n",
              "  }\n",
              "\n",
              "  @keyframes spin {\n",
              "    0% {\n",
              "      border-color: transparent;\n",
              "      border-bottom-color: var(--fill-color);\n",
              "      border-left-color: var(--fill-color);\n",
              "    }\n",
              "    20% {\n",
              "      border-color: transparent;\n",
              "      border-left-color: var(--fill-color);\n",
              "      border-top-color: var(--fill-color);\n",
              "    }\n",
              "    30% {\n",
              "      border-color: transparent;\n",
              "      border-left-color: var(--fill-color);\n",
              "      border-top-color: var(--fill-color);\n",
              "      border-right-color: var(--fill-color);\n",
              "    }\n",
              "    40% {\n",
              "      border-color: transparent;\n",
              "      border-right-color: var(--fill-color);\n",
              "      border-top-color: var(--fill-color);\n",
              "    }\n",
              "    60% {\n",
              "      border-color: transparent;\n",
              "      border-right-color: var(--fill-color);\n",
              "    }\n",
              "    80% {\n",
              "      border-color: transparent;\n",
              "      border-right-color: var(--fill-color);\n",
              "      border-bottom-color: var(--fill-color);\n",
              "    }\n",
              "    90% {\n",
              "      border-color: transparent;\n",
              "      border-bottom-color: var(--fill-color);\n",
              "    }\n",
              "  }\n",
              "</style>\n",
              "\n",
              "  <script>\n",
              "    async function quickchart(key) {\n",
              "      const quickchartButtonEl =\n",
              "        document.querySelector('#' + key + ' button');\n",
              "      quickchartButtonEl.disabled = true;  // To prevent multiple clicks.\n",
              "      quickchartButtonEl.classList.add('colab-df-spinner');\n",
              "      try {\n",
              "        const charts = await google.colab.kernel.invokeFunction(\n",
              "            'suggestCharts', [key], {});\n",
              "      } catch (error) {\n",
              "        console.error('Error during call to suggestCharts:', error);\n",
              "      }\n",
              "      quickchartButtonEl.classList.remove('colab-df-spinner');\n",
              "      quickchartButtonEl.classList.add('colab-df-quickchart-complete');\n",
              "    }\n",
              "    (() => {\n",
              "      let quickchartButtonEl =\n",
              "        document.querySelector('#df-f180fb0b-e37b-436d-96d0-21cd62805cb6 button');\n",
              "      quickchartButtonEl.style.display =\n",
              "        google.colab.kernel.accessAllowed ? 'block' : 'none';\n",
              "    })();\n",
              "  </script>\n",
              "</div>\n",
              "\n",
              "    </div>\n",
              "  </div>\n"
            ],
            "application/vnd.google.colaboratory.intrinsic+json": {
              "type": "dataframe",
              "variable_name": "df"
            }
          },
          "metadata": {},
          "execution_count": 4
        }
      ]
    },
    {
      "cell_type": "code",
      "source": [
        "df.groupby('family').agg({'sales':['mean','median']})"
      ],
      "metadata": {
        "colab": {
          "base_uri": "https://localhost:8080/",
          "height": 1000
        },
        "id": "YX_Yf2g2yCAB",
        "outputId": "5dcc5fe9-1ce9-4072-e8ee-f1e13c989ecc"
      },
      "execution_count": null,
      "outputs": [
        {
          "output_type": "execute_result",
          "data": {
            "text/plain": [
              "                                  sales          \n",
              "                                   mean    median\n",
              "family                                           \n",
              "AUTOMOTIVE                     7.543124     6.000\n",
              "BABY CARE                      0.247345     0.000\n",
              "BEAUTY                         4.263403     3.000\n",
              "BEVERAGES                   3084.847449  2431.000\n",
              "BOOKS                          0.000000     0.000\n",
              "BREAD/BAKERY                 485.545954   425.888\n",
              "CELEBRATION                   14.046620     9.000\n",
              "CLEANING                    1150.636882   985.000\n",
              "DAIRY                        812.476560   569.000\n",
              "DELI                         286.099959   236.846\n",
              "EGGS                         171.393162   130.000\n",
              "FROZEN FOODS                 140.978937    99.000\n",
              "GROCERY I                   4053.872435  3415.000\n",
              "GROCERY II                    20.448847    12.000\n",
              "HARDWARE                       1.233359     1.000\n",
              "HOME AND KITCHEN I            24.436156    18.000\n",
              "HOME AND KITCHEN II           29.078736    19.000\n",
              "HOME APPLIANCES                0.566434     0.000\n",
              "HOME CARE                    276.692826   231.000\n",
              "LADIESWEAR                    10.842010     5.000\n",
              "LAWN AND GARDEN                4.844082     1.000\n",
              "LINGERIE                       5.198912     3.000\n",
              "LIQUOR,WINE,BEER              86.902357    47.000\n",
              "MAGAZINES                      6.128205     3.000\n",
              "MEATS                        352.500961   230.467\n",
              "PERSONAL CARE                319.630666   263.000\n",
              "PET SUPPLIES                   5.970474     3.000\n",
              "PLAYERS AND ELECTRONICS        8.584305     6.000\n",
              "POULTRY                      393.399206   218.859\n",
              "PREPARED FOODS               106.042732    74.000\n",
              "PRODUCE                     2324.188830  1431.751\n",
              "SCHOOL AND OFFICE SUPPLIES     1.873867     0.000\n",
              "SEAFOOD                       23.505138     8.724"
            ],
            "text/html": [
              "\n",
              "  <div id=\"df-f09b57d3-d003-43ee-bb5c-958ebd95e1bc\" class=\"colab-df-container\">\n",
              "    <div>\n",
              "<style scoped>\n",
              "    .dataframe tbody tr th:only-of-type {\n",
              "        vertical-align: middle;\n",
              "    }\n",
              "\n",
              "    .dataframe tbody tr th {\n",
              "        vertical-align: top;\n",
              "    }\n",
              "\n",
              "    .dataframe thead tr th {\n",
              "        text-align: left;\n",
              "    }\n",
              "\n",
              "    .dataframe thead tr:last-of-type th {\n",
              "        text-align: right;\n",
              "    }\n",
              "</style>\n",
              "<table border=\"1\" class=\"dataframe\">\n",
              "  <thead>\n",
              "    <tr>\n",
              "      <th></th>\n",
              "      <th colspan=\"2\" halign=\"left\">sales</th>\n",
              "    </tr>\n",
              "    <tr>\n",
              "      <th></th>\n",
              "      <th>mean</th>\n",
              "      <th>median</th>\n",
              "    </tr>\n",
              "    <tr>\n",
              "      <th>family</th>\n",
              "      <th></th>\n",
              "      <th></th>\n",
              "    </tr>\n",
              "  </thead>\n",
              "  <tbody>\n",
              "    <tr>\n",
              "      <th>AUTOMOTIVE</th>\n",
              "      <td>7.543124</td>\n",
              "      <td>6.000</td>\n",
              "    </tr>\n",
              "    <tr>\n",
              "      <th>BABY CARE</th>\n",
              "      <td>0.247345</td>\n",
              "      <td>0.000</td>\n",
              "    </tr>\n",
              "    <tr>\n",
              "      <th>BEAUTY</th>\n",
              "      <td>4.263403</td>\n",
              "      <td>3.000</td>\n",
              "    </tr>\n",
              "    <tr>\n",
              "      <th>BEVERAGES</th>\n",
              "      <td>3084.847449</td>\n",
              "      <td>2431.000</td>\n",
              "    </tr>\n",
              "    <tr>\n",
              "      <th>BOOKS</th>\n",
              "      <td>0.000000</td>\n",
              "      <td>0.000</td>\n",
              "    </tr>\n",
              "    <tr>\n",
              "      <th>BREAD/BAKERY</th>\n",
              "      <td>485.545954</td>\n",
              "      <td>425.888</td>\n",
              "    </tr>\n",
              "    <tr>\n",
              "      <th>CELEBRATION</th>\n",
              "      <td>14.046620</td>\n",
              "      <td>9.000</td>\n",
              "    </tr>\n",
              "    <tr>\n",
              "      <th>CLEANING</th>\n",
              "      <td>1150.636882</td>\n",
              "      <td>985.000</td>\n",
              "    </tr>\n",
              "    <tr>\n",
              "      <th>DAIRY</th>\n",
              "      <td>812.476560</td>\n",
              "      <td>569.000</td>\n",
              "    </tr>\n",
              "    <tr>\n",
              "      <th>DELI</th>\n",
              "      <td>286.099959</td>\n",
              "      <td>236.846</td>\n",
              "    </tr>\n",
              "    <tr>\n",
              "      <th>EGGS</th>\n",
              "      <td>171.393162</td>\n",
              "      <td>130.000</td>\n",
              "    </tr>\n",
              "    <tr>\n",
              "      <th>FROZEN FOODS</th>\n",
              "      <td>140.978937</td>\n",
              "      <td>99.000</td>\n",
              "    </tr>\n",
              "    <tr>\n",
              "      <th>GROCERY I</th>\n",
              "      <td>4053.872435</td>\n",
              "      <td>3415.000</td>\n",
              "    </tr>\n",
              "    <tr>\n",
              "      <th>GROCERY II</th>\n",
              "      <td>20.448847</td>\n",
              "      <td>12.000</td>\n",
              "    </tr>\n",
              "    <tr>\n",
              "      <th>HARDWARE</th>\n",
              "      <td>1.233359</td>\n",
              "      <td>1.000</td>\n",
              "    </tr>\n",
              "    <tr>\n",
              "      <th>HOME AND KITCHEN I</th>\n",
              "      <td>24.436156</td>\n",
              "      <td>18.000</td>\n",
              "    </tr>\n",
              "    <tr>\n",
              "      <th>HOME AND KITCHEN II</th>\n",
              "      <td>29.078736</td>\n",
              "      <td>19.000</td>\n",
              "    </tr>\n",
              "    <tr>\n",
              "      <th>HOME APPLIANCES</th>\n",
              "      <td>0.566434</td>\n",
              "      <td>0.000</td>\n",
              "    </tr>\n",
              "    <tr>\n",
              "      <th>HOME CARE</th>\n",
              "      <td>276.692826</td>\n",
              "      <td>231.000</td>\n",
              "    </tr>\n",
              "    <tr>\n",
              "      <th>LADIESWEAR</th>\n",
              "      <td>10.842010</td>\n",
              "      <td>5.000</td>\n",
              "    </tr>\n",
              "    <tr>\n",
              "      <th>LAWN AND GARDEN</th>\n",
              "      <td>4.844082</td>\n",
              "      <td>1.000</td>\n",
              "    </tr>\n",
              "    <tr>\n",
              "      <th>LINGERIE</th>\n",
              "      <td>5.198912</td>\n",
              "      <td>3.000</td>\n",
              "    </tr>\n",
              "    <tr>\n",
              "      <th>LIQUOR,WINE,BEER</th>\n",
              "      <td>86.902357</td>\n",
              "      <td>47.000</td>\n",
              "    </tr>\n",
              "    <tr>\n",
              "      <th>MAGAZINES</th>\n",
              "      <td>6.128205</td>\n",
              "      <td>3.000</td>\n",
              "    </tr>\n",
              "    <tr>\n",
              "      <th>MEATS</th>\n",
              "      <td>352.500961</td>\n",
              "      <td>230.467</td>\n",
              "    </tr>\n",
              "    <tr>\n",
              "      <th>PERSONAL CARE</th>\n",
              "      <td>319.630666</td>\n",
              "      <td>263.000</td>\n",
              "    </tr>\n",
              "    <tr>\n",
              "      <th>PET SUPPLIES</th>\n",
              "      <td>5.970474</td>\n",
              "      <td>3.000</td>\n",
              "    </tr>\n",
              "    <tr>\n",
              "      <th>PLAYERS AND ELECTRONICS</th>\n",
              "      <td>8.584305</td>\n",
              "      <td>6.000</td>\n",
              "    </tr>\n",
              "    <tr>\n",
              "      <th>POULTRY</th>\n",
              "      <td>393.399206</td>\n",
              "      <td>218.859</td>\n",
              "    </tr>\n",
              "    <tr>\n",
              "      <th>PREPARED FOODS</th>\n",
              "      <td>106.042732</td>\n",
              "      <td>74.000</td>\n",
              "    </tr>\n",
              "    <tr>\n",
              "      <th>PRODUCE</th>\n",
              "      <td>2324.188830</td>\n",
              "      <td>1431.751</td>\n",
              "    </tr>\n",
              "    <tr>\n",
              "      <th>SCHOOL AND OFFICE SUPPLIES</th>\n",
              "      <td>1.873867</td>\n",
              "      <td>0.000</td>\n",
              "    </tr>\n",
              "    <tr>\n",
              "      <th>SEAFOOD</th>\n",
              "      <td>23.505138</td>\n",
              "      <td>8.724</td>\n",
              "    </tr>\n",
              "  </tbody>\n",
              "</table>\n",
              "</div>\n",
              "    <div class=\"colab-df-buttons\">\n",
              "\n",
              "  <div class=\"colab-df-container\">\n",
              "    <button class=\"colab-df-convert\" onclick=\"convertToInteractive('df-f09b57d3-d003-43ee-bb5c-958ebd95e1bc')\"\n",
              "            title=\"Convert this dataframe to an interactive table.\"\n",
              "            style=\"display:none;\">\n",
              "\n",
              "  <svg xmlns=\"http://www.w3.org/2000/svg\" height=\"24px\" viewBox=\"0 -960 960 960\">\n",
              "    <path d=\"M120-120v-720h720v720H120Zm60-500h600v-160H180v160Zm220 220h160v-160H400v160Zm0 220h160v-160H400v160ZM180-400h160v-160H180v160Zm440 0h160v-160H620v160ZM180-180h160v-160H180v160Zm440 0h160v-160H620v160Z\"/>\n",
              "  </svg>\n",
              "    </button>\n",
              "\n",
              "  <style>\n",
              "    .colab-df-container {\n",
              "      display:flex;\n",
              "      gap: 12px;\n",
              "    }\n",
              "\n",
              "    .colab-df-convert {\n",
              "      background-color: #E8F0FE;\n",
              "      border: none;\n",
              "      border-radius: 50%;\n",
              "      cursor: pointer;\n",
              "      display: none;\n",
              "      fill: #1967D2;\n",
              "      height: 32px;\n",
              "      padding: 0 0 0 0;\n",
              "      width: 32px;\n",
              "    }\n",
              "\n",
              "    .colab-df-convert:hover {\n",
              "      background-color: #E2EBFA;\n",
              "      box-shadow: 0px 1px 2px rgba(60, 64, 67, 0.3), 0px 1px 3px 1px rgba(60, 64, 67, 0.15);\n",
              "      fill: #174EA6;\n",
              "    }\n",
              "\n",
              "    .colab-df-buttons div {\n",
              "      margin-bottom: 4px;\n",
              "    }\n",
              "\n",
              "    [theme=dark] .colab-df-convert {\n",
              "      background-color: #3B4455;\n",
              "      fill: #D2E3FC;\n",
              "    }\n",
              "\n",
              "    [theme=dark] .colab-df-convert:hover {\n",
              "      background-color: #434B5C;\n",
              "      box-shadow: 0px 1px 3px 1px rgba(0, 0, 0, 0.15);\n",
              "      filter: drop-shadow(0px 1px 2px rgba(0, 0, 0, 0.3));\n",
              "      fill: #FFFFFF;\n",
              "    }\n",
              "  </style>\n",
              "\n",
              "    <script>\n",
              "      const buttonEl =\n",
              "        document.querySelector('#df-f09b57d3-d003-43ee-bb5c-958ebd95e1bc button.colab-df-convert');\n",
              "      buttonEl.style.display =\n",
              "        google.colab.kernel.accessAllowed ? 'block' : 'none';\n",
              "\n",
              "      async function convertToInteractive(key) {\n",
              "        const element = document.querySelector('#df-f09b57d3-d003-43ee-bb5c-958ebd95e1bc');\n",
              "        const dataTable =\n",
              "          await google.colab.kernel.invokeFunction('convertToInteractive',\n",
              "                                                    [key], {});\n",
              "        if (!dataTable) return;\n",
              "\n",
              "        const docLinkHtml = 'Like what you see? Visit the ' +\n",
              "          '<a target=\"_blank\" href=https://colab.research.google.com/notebooks/data_table.ipynb>data table notebook</a>'\n",
              "          + ' to learn more about interactive tables.';\n",
              "        element.innerHTML = '';\n",
              "        dataTable['output_type'] = 'display_data';\n",
              "        await google.colab.output.renderOutput(dataTable, element);\n",
              "        const docLink = document.createElement('div');\n",
              "        docLink.innerHTML = docLinkHtml;\n",
              "        element.appendChild(docLink);\n",
              "      }\n",
              "    </script>\n",
              "  </div>\n",
              "\n",
              "\n",
              "<div id=\"df-9bc7f5b6-8216-4485-8d5d-5b75a779422a\">\n",
              "  <button class=\"colab-df-quickchart\" onclick=\"quickchart('df-9bc7f5b6-8216-4485-8d5d-5b75a779422a')\"\n",
              "            title=\"Suggest charts\"\n",
              "            style=\"display:none;\">\n",
              "\n",
              "<svg xmlns=\"http://www.w3.org/2000/svg\" height=\"24px\"viewBox=\"0 0 24 24\"\n",
              "     width=\"24px\">\n",
              "    <g>\n",
              "        <path d=\"M19 3H5c-1.1 0-2 .9-2 2v14c0 1.1.9 2 2 2h14c1.1 0 2-.9 2-2V5c0-1.1-.9-2-2-2zM9 17H7v-7h2v7zm4 0h-2V7h2v10zm4 0h-2v-4h2v4z\"/>\n",
              "    </g>\n",
              "</svg>\n",
              "  </button>\n",
              "\n",
              "<style>\n",
              "  .colab-df-quickchart {\n",
              "      --bg-color: #E8F0FE;\n",
              "      --fill-color: #1967D2;\n",
              "      --hover-bg-color: #E2EBFA;\n",
              "      --hover-fill-color: #174EA6;\n",
              "      --disabled-fill-color: #AAA;\n",
              "      --disabled-bg-color: #DDD;\n",
              "  }\n",
              "\n",
              "  [theme=dark] .colab-df-quickchart {\n",
              "      --bg-color: #3B4455;\n",
              "      --fill-color: #D2E3FC;\n",
              "      --hover-bg-color: #434B5C;\n",
              "      --hover-fill-color: #FFFFFF;\n",
              "      --disabled-bg-color: #3B4455;\n",
              "      --disabled-fill-color: #666;\n",
              "  }\n",
              "\n",
              "  .colab-df-quickchart {\n",
              "    background-color: var(--bg-color);\n",
              "    border: none;\n",
              "    border-radius: 50%;\n",
              "    cursor: pointer;\n",
              "    display: none;\n",
              "    fill: var(--fill-color);\n",
              "    height: 32px;\n",
              "    padding: 0;\n",
              "    width: 32px;\n",
              "  }\n",
              "\n",
              "  .colab-df-quickchart:hover {\n",
              "    background-color: var(--hover-bg-color);\n",
              "    box-shadow: 0 1px 2px rgba(60, 64, 67, 0.3), 0 1px 3px 1px rgba(60, 64, 67, 0.15);\n",
              "    fill: var(--button-hover-fill-color);\n",
              "  }\n",
              "\n",
              "  .colab-df-quickchart-complete:disabled,\n",
              "  .colab-df-quickchart-complete:disabled:hover {\n",
              "    background-color: var(--disabled-bg-color);\n",
              "    fill: var(--disabled-fill-color);\n",
              "    box-shadow: none;\n",
              "  }\n",
              "\n",
              "  .colab-df-spinner {\n",
              "    border: 2px solid var(--fill-color);\n",
              "    border-color: transparent;\n",
              "    border-bottom-color: var(--fill-color);\n",
              "    animation:\n",
              "      spin 1s steps(1) infinite;\n",
              "  }\n",
              "\n",
              "  @keyframes spin {\n",
              "    0% {\n",
              "      border-color: transparent;\n",
              "      border-bottom-color: var(--fill-color);\n",
              "      border-left-color: var(--fill-color);\n",
              "    }\n",
              "    20% {\n",
              "      border-color: transparent;\n",
              "      border-left-color: var(--fill-color);\n",
              "      border-top-color: var(--fill-color);\n",
              "    }\n",
              "    30% {\n",
              "      border-color: transparent;\n",
              "      border-left-color: var(--fill-color);\n",
              "      border-top-color: var(--fill-color);\n",
              "      border-right-color: var(--fill-color);\n",
              "    }\n",
              "    40% {\n",
              "      border-color: transparent;\n",
              "      border-right-color: var(--fill-color);\n",
              "      border-top-color: var(--fill-color);\n",
              "    }\n",
              "    60% {\n",
              "      border-color: transparent;\n",
              "      border-right-color: var(--fill-color);\n",
              "    }\n",
              "    80% {\n",
              "      border-color: transparent;\n",
              "      border-right-color: var(--fill-color);\n",
              "      border-bottom-color: var(--fill-color);\n",
              "    }\n",
              "    90% {\n",
              "      border-color: transparent;\n",
              "      border-bottom-color: var(--fill-color);\n",
              "    }\n",
              "  }\n",
              "</style>\n",
              "\n",
              "  <script>\n",
              "    async function quickchart(key) {\n",
              "      const quickchartButtonEl =\n",
              "        document.querySelector('#' + key + ' button');\n",
              "      quickchartButtonEl.disabled = true;  // To prevent multiple clicks.\n",
              "      quickchartButtonEl.classList.add('colab-df-spinner');\n",
              "      try {\n",
              "        const charts = await google.colab.kernel.invokeFunction(\n",
              "            'suggestCharts', [key], {});\n",
              "      } catch (error) {\n",
              "        console.error('Error during call to suggestCharts:', error);\n",
              "      }\n",
              "      quickchartButtonEl.classList.remove('colab-df-spinner');\n",
              "      quickchartButtonEl.classList.add('colab-df-quickchart-complete');\n",
              "    }\n",
              "    (() => {\n",
              "      let quickchartButtonEl =\n",
              "        document.querySelector('#df-9bc7f5b6-8216-4485-8d5d-5b75a779422a button');\n",
              "      quickchartButtonEl.style.display =\n",
              "        google.colab.kernel.accessAllowed ? 'block' : 'none';\n",
              "    })();\n",
              "  </script>\n",
              "</div>\n",
              "\n",
              "    </div>\n",
              "  </div>\n"
            ],
            "application/vnd.google.colaboratory.intrinsic+json": {
              "type": "dataframe",
              "summary": "{\n  \"name\": \"df\",\n  \"rows\": 33,\n  \"fields\": [\n    {\n      \"column\": [\n        \"family\",\n        \"\"\n      ],\n      \"properties\": {\n        \"dtype\": \"string\",\n        \"num_unique_values\": 33,\n        \"samples\": [\n          \"SCHOOL AND OFFICE SUPPLIES\",\n          \"HOME AND KITCHEN I\",\n          \"PET SUPPLIES\"\n        ],\n        \"semantic_type\": \"\",\n        \"description\": \"\"\n      }\n    },\n    {\n      \"column\": [\n        \"sales\",\n        \"mean\"\n      ],\n      \"properties\": {\n        \"dtype\": \"number\",\n        \"std\": 936.4182497862851,\n        \"min\": 0.0,\n        \"max\": 4053.872435379435,\n        \"num_unique_values\": 33,\n        \"samples\": [\n          1.8738668738668738,\n          24.436156436156438,\n          5.970473970473971\n        ],\n        \"semantic_type\": \"\",\n        \"description\": \"\"\n      }\n    },\n    {\n      \"column\": [\n        \"sales\",\n        \"median\"\n      ],\n      \"properties\": {\n        \"dtype\": \"number\",\n        \"std\": 746.2752769228107,\n        \"min\": 0.0,\n        \"max\": 3415.0,\n        \"num_unique_values\": 25,\n        \"samples\": [\n          236.846,\n          231.0,\n          6.0\n        ],\n        \"semantic_type\": \"\",\n        \"description\": \"\"\n      }\n    }\n  ]\n}"
            }
          },
          "metadata": {},
          "execution_count": 5
        }
      ]
    },
    {
      "cell_type": "code",
      "source": [
        "df = pd.DataFrame({\n",
        "    'MEATS': [1, 2, 3],\n",
        "    'MAGAZINES': [4, 5, 6]})"
      ],
      "metadata": {
        "colab": {
          "base_uri": "https://localhost:8080/",
          "height": 106
        },
        "id": "1gi7w9Qivrkj",
        "outputId": "4f954c76-9cfd-4ef8-b6ac-642c45f679c7"
      },
      "execution_count": null,
      "outputs": [
        {
          "output_type": "error",
          "ename": "SyntaxError",
          "evalue": "incomplete input (<ipython-input-87-4055c4292ca1>, line 3)",
          "traceback": [
            "\u001b[0;36m  File \u001b[0;32m\"<ipython-input-87-4055c4292ca1>\"\u001b[0;36m, line \u001b[0;32m3\u001b[0m\n\u001b[0;31m    'MAGAZINES': [4, 5, 6]\u001b[0m\n\u001b[0m                          ^\u001b[0m\n\u001b[0;31mSyntaxError\u001b[0m\u001b[0;31m:\u001b[0m incomplete input\n"
          ]
        }
      ]
    },
    {
      "cell_type": "code",
      "source": [
        "pandas.core.frame."
      ],
      "metadata": {
        "id": "LvUk4IJvyR6U"
      },
      "execution_count": null,
      "outputs": []
    },
    {
      "cell_type": "code",
      "source": [
        "df.groupby('family').agg({'sales':['mean','median']}).loc['BABY CARE']"
      ],
      "metadata": {
        "colab": {
          "base_uri": "https://localhost:8080/",
          "height": 146
        },
        "id": "P24npzopyYik",
        "outputId": "e3ce0638-fd48-4a99-f22f-90b1fa53f03c"
      },
      "execution_count": null,
      "outputs": [
        {
          "output_type": "execute_result",
          "data": {
            "text/plain": [
              "sales  mean      0.247345\n",
              "       median    0.000000\n",
              "Name: BABY CARE, dtype: float64"
            ],
            "text/html": [
              "<div>\n",
              "<style scoped>\n",
              "    .dataframe tbody tr th:only-of-type {\n",
              "        vertical-align: middle;\n",
              "    }\n",
              "\n",
              "    .dataframe tbody tr th {\n",
              "        vertical-align: top;\n",
              "    }\n",
              "\n",
              "    .dataframe thead th {\n",
              "        text-align: right;\n",
              "    }\n",
              "</style>\n",
              "<table border=\"1\" class=\"dataframe\">\n",
              "  <thead>\n",
              "    <tr style=\"text-align: right;\">\n",
              "      <th></th>\n",
              "      <th></th>\n",
              "      <th>BABY CARE</th>\n",
              "    </tr>\n",
              "  </thead>\n",
              "  <tbody>\n",
              "    <tr>\n",
              "      <th rowspan=\"2\" valign=\"top\">sales</th>\n",
              "      <th>mean</th>\n",
              "      <td>0.247345</td>\n",
              "    </tr>\n",
              "    <tr>\n",
              "      <th>median</th>\n",
              "      <td>0.000000</td>\n",
              "    </tr>\n",
              "  </tbody>\n",
              "</table>\n",
              "</div><br><label><b>dtype:</b> float64</label>"
            ]
          },
          "metadata": {},
          "execution_count": 6
        }
      ]
    },
    {
      "cell_type": "code",
      "source": [
        "#MULTIPLE DIMESION GROUPBY"
      ],
      "metadata": {
        "id": "xwJJCvoPycaC"
      },
      "execution_count": null,
      "outputs": []
    },
    {
      "cell_type": "code",
      "source": [
        "df.groupby(['family','store_nbr']).agg({'sales':'mean'})"
      ],
      "metadata": {
        "colab": {
          "base_uri": "https://localhost:8080/",
          "height": 455
        },
        "id": "ZpTlfo7Gypy4",
        "outputId": "353ac37c-422b-4aba-f9ad-75439297facc"
      },
      "execution_count": null,
      "outputs": [
        {
          "output_type": "execute_result",
          "data": {
            "text/plain": [
              "                          sales\n",
              "family     store_nbr           \n",
              "AUTOMOTIVE 1.0         4.847222\n",
              "           2.0         7.055556\n",
              "           3.0        12.972222\n",
              "           4.0         4.352113\n",
              "           5.0         6.676056\n",
              "...                         ...\n",
              "SEAFOOD    50.0       21.563620\n",
              "           51.0       66.729662\n",
              "           52.0        0.000000\n",
              "           53.0        3.561634\n",
              "           54.0        1.169014\n",
              "\n",
              "[1782 rows x 1 columns]"
            ],
            "text/html": [
              "\n",
              "  <div id=\"df-b3883594-aceb-4eb0-85b5-ed74ef065512\" class=\"colab-df-container\">\n",
              "    <div>\n",
              "<style scoped>\n",
              "    .dataframe tbody tr th:only-of-type {\n",
              "        vertical-align: middle;\n",
              "    }\n",
              "\n",
              "    .dataframe tbody tr th {\n",
              "        vertical-align: top;\n",
              "    }\n",
              "\n",
              "    .dataframe thead th {\n",
              "        text-align: right;\n",
              "    }\n",
              "</style>\n",
              "<table border=\"1\" class=\"dataframe\">\n",
              "  <thead>\n",
              "    <tr style=\"text-align: right;\">\n",
              "      <th></th>\n",
              "      <th></th>\n",
              "      <th>sales</th>\n",
              "    </tr>\n",
              "    <tr>\n",
              "      <th>family</th>\n",
              "      <th>store_nbr</th>\n",
              "      <th></th>\n",
              "    </tr>\n",
              "  </thead>\n",
              "  <tbody>\n",
              "    <tr>\n",
              "      <th rowspan=\"5\" valign=\"top\">AUTOMOTIVE</th>\n",
              "      <th>1.0</th>\n",
              "      <td>4.847222</td>\n",
              "    </tr>\n",
              "    <tr>\n",
              "      <th>2.0</th>\n",
              "      <td>7.055556</td>\n",
              "    </tr>\n",
              "    <tr>\n",
              "      <th>3.0</th>\n",
              "      <td>12.972222</td>\n",
              "    </tr>\n",
              "    <tr>\n",
              "      <th>4.0</th>\n",
              "      <td>4.352113</td>\n",
              "    </tr>\n",
              "    <tr>\n",
              "      <th>5.0</th>\n",
              "      <td>6.676056</td>\n",
              "    </tr>\n",
              "    <tr>\n",
              "      <th>...</th>\n",
              "      <th>...</th>\n",
              "      <td>...</td>\n",
              "    </tr>\n",
              "    <tr>\n",
              "      <th rowspan=\"5\" valign=\"top\">SEAFOOD</th>\n",
              "      <th>50.0</th>\n",
              "      <td>21.563620</td>\n",
              "    </tr>\n",
              "    <tr>\n",
              "      <th>51.0</th>\n",
              "      <td>66.729662</td>\n",
              "    </tr>\n",
              "    <tr>\n",
              "      <th>52.0</th>\n",
              "      <td>0.000000</td>\n",
              "    </tr>\n",
              "    <tr>\n",
              "      <th>53.0</th>\n",
              "      <td>3.561634</td>\n",
              "    </tr>\n",
              "    <tr>\n",
              "      <th>54.0</th>\n",
              "      <td>1.169014</td>\n",
              "    </tr>\n",
              "  </tbody>\n",
              "</table>\n",
              "<p>1782 rows × 1 columns</p>\n",
              "</div>\n",
              "    <div class=\"colab-df-buttons\">\n",
              "\n",
              "  <div class=\"colab-df-container\">\n",
              "    <button class=\"colab-df-convert\" onclick=\"convertToInteractive('df-b3883594-aceb-4eb0-85b5-ed74ef065512')\"\n",
              "            title=\"Convert this dataframe to an interactive table.\"\n",
              "            style=\"display:none;\">\n",
              "\n",
              "  <svg xmlns=\"http://www.w3.org/2000/svg\" height=\"24px\" viewBox=\"0 -960 960 960\">\n",
              "    <path d=\"M120-120v-720h720v720H120Zm60-500h600v-160H180v160Zm220 220h160v-160H400v160Zm0 220h160v-160H400v160ZM180-400h160v-160H180v160Zm440 0h160v-160H620v160ZM180-180h160v-160H180v160Zm440 0h160v-160H620v160Z\"/>\n",
              "  </svg>\n",
              "    </button>\n",
              "\n",
              "  <style>\n",
              "    .colab-df-container {\n",
              "      display:flex;\n",
              "      gap: 12px;\n",
              "    }\n",
              "\n",
              "    .colab-df-convert {\n",
              "      background-color: #E8F0FE;\n",
              "      border: none;\n",
              "      border-radius: 50%;\n",
              "      cursor: pointer;\n",
              "      display: none;\n",
              "      fill: #1967D2;\n",
              "      height: 32px;\n",
              "      padding: 0 0 0 0;\n",
              "      width: 32px;\n",
              "    }\n",
              "\n",
              "    .colab-df-convert:hover {\n",
              "      background-color: #E2EBFA;\n",
              "      box-shadow: 0px 1px 2px rgba(60, 64, 67, 0.3), 0px 1px 3px 1px rgba(60, 64, 67, 0.15);\n",
              "      fill: #174EA6;\n",
              "    }\n",
              "\n",
              "    .colab-df-buttons div {\n",
              "      margin-bottom: 4px;\n",
              "    }\n",
              "\n",
              "    [theme=dark] .colab-df-convert {\n",
              "      background-color: #3B4455;\n",
              "      fill: #D2E3FC;\n",
              "    }\n",
              "\n",
              "    [theme=dark] .colab-df-convert:hover {\n",
              "      background-color: #434B5C;\n",
              "      box-shadow: 0px 1px 3px 1px rgba(0, 0, 0, 0.15);\n",
              "      filter: drop-shadow(0px 1px 2px rgba(0, 0, 0, 0.3));\n",
              "      fill: #FFFFFF;\n",
              "    }\n",
              "  </style>\n",
              "\n",
              "    <script>\n",
              "      const buttonEl =\n",
              "        document.querySelector('#df-b3883594-aceb-4eb0-85b5-ed74ef065512 button.colab-df-convert');\n",
              "      buttonEl.style.display =\n",
              "        google.colab.kernel.accessAllowed ? 'block' : 'none';\n",
              "\n",
              "      async function convertToInteractive(key) {\n",
              "        const element = document.querySelector('#df-b3883594-aceb-4eb0-85b5-ed74ef065512');\n",
              "        const dataTable =\n",
              "          await google.colab.kernel.invokeFunction('convertToInteractive',\n",
              "                                                    [key], {});\n",
              "        if (!dataTable) return;\n",
              "\n",
              "        const docLinkHtml = 'Like what you see? Visit the ' +\n",
              "          '<a target=\"_blank\" href=https://colab.research.google.com/notebooks/data_table.ipynb>data table notebook</a>'\n",
              "          + ' to learn more about interactive tables.';\n",
              "        element.innerHTML = '';\n",
              "        dataTable['output_type'] = 'display_data';\n",
              "        await google.colab.output.renderOutput(dataTable, element);\n",
              "        const docLink = document.createElement('div');\n",
              "        docLink.innerHTML = docLinkHtml;\n",
              "        element.appendChild(docLink);\n",
              "      }\n",
              "    </script>\n",
              "  </div>\n",
              "\n",
              "\n",
              "<div id=\"df-8ae9a092-b2cc-4625-99a1-a771df98e0b3\">\n",
              "  <button class=\"colab-df-quickchart\" onclick=\"quickchart('df-8ae9a092-b2cc-4625-99a1-a771df98e0b3')\"\n",
              "            title=\"Suggest charts\"\n",
              "            style=\"display:none;\">\n",
              "\n",
              "<svg xmlns=\"http://www.w3.org/2000/svg\" height=\"24px\"viewBox=\"0 0 24 24\"\n",
              "     width=\"24px\">\n",
              "    <g>\n",
              "        <path d=\"M19 3H5c-1.1 0-2 .9-2 2v14c0 1.1.9 2 2 2h14c1.1 0 2-.9 2-2V5c0-1.1-.9-2-2-2zM9 17H7v-7h2v7zm4 0h-2V7h2v10zm4 0h-2v-4h2v4z\"/>\n",
              "    </g>\n",
              "</svg>\n",
              "  </button>\n",
              "\n",
              "<style>\n",
              "  .colab-df-quickchart {\n",
              "      --bg-color: #E8F0FE;\n",
              "      --fill-color: #1967D2;\n",
              "      --hover-bg-color: #E2EBFA;\n",
              "      --hover-fill-color: #174EA6;\n",
              "      --disabled-fill-color: #AAA;\n",
              "      --disabled-bg-color: #DDD;\n",
              "  }\n",
              "\n",
              "  [theme=dark] .colab-df-quickchart {\n",
              "      --bg-color: #3B4455;\n",
              "      --fill-color: #D2E3FC;\n",
              "      --hover-bg-color: #434B5C;\n",
              "      --hover-fill-color: #FFFFFF;\n",
              "      --disabled-bg-color: #3B4455;\n",
              "      --disabled-fill-color: #666;\n",
              "  }\n",
              "\n",
              "  .colab-df-quickchart {\n",
              "    background-color: var(--bg-color);\n",
              "    border: none;\n",
              "    border-radius: 50%;\n",
              "    cursor: pointer;\n",
              "    display: none;\n",
              "    fill: var(--fill-color);\n",
              "    height: 32px;\n",
              "    padding: 0;\n",
              "    width: 32px;\n",
              "  }\n",
              "\n",
              "  .colab-df-quickchart:hover {\n",
              "    background-color: var(--hover-bg-color);\n",
              "    box-shadow: 0 1px 2px rgba(60, 64, 67, 0.3), 0 1px 3px 1px rgba(60, 64, 67, 0.15);\n",
              "    fill: var(--button-hover-fill-color);\n",
              "  }\n",
              "\n",
              "  .colab-df-quickchart-complete:disabled,\n",
              "  .colab-df-quickchart-complete:disabled:hover {\n",
              "    background-color: var(--disabled-bg-color);\n",
              "    fill: var(--disabled-fill-color);\n",
              "    box-shadow: none;\n",
              "  }\n",
              "\n",
              "  .colab-df-spinner {\n",
              "    border: 2px solid var(--fill-color);\n",
              "    border-color: transparent;\n",
              "    border-bottom-color: var(--fill-color);\n",
              "    animation:\n",
              "      spin 1s steps(1) infinite;\n",
              "  }\n",
              "\n",
              "  @keyframes spin {\n",
              "    0% {\n",
              "      border-color: transparent;\n",
              "      border-bottom-color: var(--fill-color);\n",
              "      border-left-color: var(--fill-color);\n",
              "    }\n",
              "    20% {\n",
              "      border-color: transparent;\n",
              "      border-left-color: var(--fill-color);\n",
              "      border-top-color: var(--fill-color);\n",
              "    }\n",
              "    30% {\n",
              "      border-color: transparent;\n",
              "      border-left-color: var(--fill-color);\n",
              "      border-top-color: var(--fill-color);\n",
              "      border-right-color: var(--fill-color);\n",
              "    }\n",
              "    40% {\n",
              "      border-color: transparent;\n",
              "      border-right-color: var(--fill-color);\n",
              "      border-top-color: var(--fill-color);\n",
              "    }\n",
              "    60% {\n",
              "      border-color: transparent;\n",
              "      border-right-color: var(--fill-color);\n",
              "    }\n",
              "    80% {\n",
              "      border-color: transparent;\n",
              "      border-right-color: var(--fill-color);\n",
              "      border-bottom-color: var(--fill-color);\n",
              "    }\n",
              "    90% {\n",
              "      border-color: transparent;\n",
              "      border-bottom-color: var(--fill-color);\n",
              "    }\n",
              "  }\n",
              "</style>\n",
              "\n",
              "  <script>\n",
              "    async function quickchart(key) {\n",
              "      const quickchartButtonEl =\n",
              "        document.querySelector('#' + key + ' button');\n",
              "      quickchartButtonEl.disabled = true;  // To prevent multiple clicks.\n",
              "      quickchartButtonEl.classList.add('colab-df-spinner');\n",
              "      try {\n",
              "        const charts = await google.colab.kernel.invokeFunction(\n",
              "            'suggestCharts', [key], {});\n",
              "      } catch (error) {\n",
              "        console.error('Error during call to suggestCharts:', error);\n",
              "      }\n",
              "      quickchartButtonEl.classList.remove('colab-df-spinner');\n",
              "      quickchartButtonEl.classList.add('colab-df-quickchart-complete');\n",
              "    }\n",
              "    (() => {\n",
              "      let quickchartButtonEl =\n",
              "        document.querySelector('#df-8ae9a092-b2cc-4625-99a1-a771df98e0b3 button');\n",
              "      quickchartButtonEl.style.display =\n",
              "        google.colab.kernel.accessAllowed ? 'block' : 'none';\n",
              "    })();\n",
              "  </script>\n",
              "</div>\n",
              "\n",
              "    </div>\n",
              "  </div>\n"
            ],
            "application/vnd.google.colaboratory.intrinsic+json": {
              "type": "dataframe",
              "summary": "{\n  \"name\": \"df\",\n  \"rows\": 1782,\n  \"fields\": [\n    {\n      \"column\": \"sales\",\n      \"properties\": {\n        \"dtype\": \"number\",\n        \"std\": 1158.7339945052229,\n        \"min\": 0.0,\n        \"max\": 10853.313232394366,\n        \"num_unique_values\": 1488,\n        \"samples\": [\n          156.93170397183098,\n          8.569444444444445,\n          185.48611111111111\n        ],\n        \"semantic_type\": \"\",\n        \"description\": \"\"\n      }\n    }\n  ]\n}"
            }
          },
          "metadata": {},
          "execution_count": 8
        }
      ]
    },
    {
      "cell_type": "code",
      "source": [
        "df.groupby(['family','store_nbr']).agg({'sales':'mean'}).loc['AUTOMOTIVE'].sort_values(by = 'sales', ascending = False)"
      ],
      "metadata": {
        "colab": {
          "base_uri": "https://localhost:8080/",
          "height": 1000
        },
        "id": "_kx8Besty0KC",
        "outputId": "1e897d3a-6bb9-403e-d5db-6dbef69c2f5b"
      },
      "execution_count": null,
      "outputs": [
        {
          "output_type": "execute_result",
          "data": {
            "text/plain": [
              "               sales\n",
              "store_nbr           \n",
              "44.0       17.394366\n",
              "47.0       17.281690\n",
              "46.0       17.056338\n",
              "9.0        16.774648\n",
              "45.0       16.521127\n",
              "48.0       15.577465\n",
              "31.0       13.041667\n",
              "3.0        12.972222\n",
              "49.0       11.000000\n",
              "50.0       10.591549\n",
              "20.0       10.152778\n",
              "21.0        9.750000\n",
              "43.0        9.478873\n",
              "33.0        9.263889\n",
              "39.0        9.112676\n",
              "28.0        8.722222\n",
              "11.0        8.527778\n",
              "19.0        8.333333\n",
              "16.0        7.902778\n",
              "27.0        7.444444\n",
              "29.0        7.402778\n",
              "54.0        7.281690\n",
              "38.0        7.084507\n",
              "2.0         7.055556\n",
              "35.0        6.943662\n",
              "51.0        6.887324\n",
              "12.0        6.694444\n",
              "5.0         6.676056\n",
              "6.0         6.647887\n",
              "53.0        6.042254\n",
              "8.0         6.014085\n",
              "37.0        5.788732\n",
              "13.0        5.777778\n",
              "36.0        5.521127\n",
              "41.0        5.464789\n",
              "7.0         5.338028\n",
              "22.0        5.111111\n",
              "26.0        5.000000\n",
              "1.0         4.847222\n",
              "40.0        4.845070\n",
              "18.0        4.819444\n",
              "10.0        4.805556\n",
              "17.0        4.513889\n",
              "4.0         4.352113\n",
              "24.0        4.125000\n",
              "14.0        4.111111\n",
              "30.0        3.791667\n",
              "34.0        3.704225\n",
              "42.0        3.676056\n",
              "15.0        3.430556\n",
              "25.0        2.888889\n",
              "32.0        2.486111\n",
              "23.0        1.708333\n",
              "52.0        0.000000"
            ],
            "text/html": [
              "\n",
              "  <div id=\"df-d87e8b77-3e15-47c5-9427-4a43b77a3f96\" class=\"colab-df-container\">\n",
              "    <div>\n",
              "<style scoped>\n",
              "    .dataframe tbody tr th:only-of-type {\n",
              "        vertical-align: middle;\n",
              "    }\n",
              "\n",
              "    .dataframe tbody tr th {\n",
              "        vertical-align: top;\n",
              "    }\n",
              "\n",
              "    .dataframe thead th {\n",
              "        text-align: right;\n",
              "    }\n",
              "</style>\n",
              "<table border=\"1\" class=\"dataframe\">\n",
              "  <thead>\n",
              "    <tr style=\"text-align: right;\">\n",
              "      <th></th>\n",
              "      <th>sales</th>\n",
              "    </tr>\n",
              "    <tr>\n",
              "      <th>store_nbr</th>\n",
              "      <th></th>\n",
              "    </tr>\n",
              "  </thead>\n",
              "  <tbody>\n",
              "    <tr>\n",
              "      <th>44.0</th>\n",
              "      <td>17.394366</td>\n",
              "    </tr>\n",
              "    <tr>\n",
              "      <th>47.0</th>\n",
              "      <td>17.281690</td>\n",
              "    </tr>\n",
              "    <tr>\n",
              "      <th>46.0</th>\n",
              "      <td>17.056338</td>\n",
              "    </tr>\n",
              "    <tr>\n",
              "      <th>9.0</th>\n",
              "      <td>16.774648</td>\n",
              "    </tr>\n",
              "    <tr>\n",
              "      <th>45.0</th>\n",
              "      <td>16.521127</td>\n",
              "    </tr>\n",
              "    <tr>\n",
              "      <th>48.0</th>\n",
              "      <td>15.577465</td>\n",
              "    </tr>\n",
              "    <tr>\n",
              "      <th>31.0</th>\n",
              "      <td>13.041667</td>\n",
              "    </tr>\n",
              "    <tr>\n",
              "      <th>3.0</th>\n",
              "      <td>12.972222</td>\n",
              "    </tr>\n",
              "    <tr>\n",
              "      <th>49.0</th>\n",
              "      <td>11.000000</td>\n",
              "    </tr>\n",
              "    <tr>\n",
              "      <th>50.0</th>\n",
              "      <td>10.591549</td>\n",
              "    </tr>\n",
              "    <tr>\n",
              "      <th>20.0</th>\n",
              "      <td>10.152778</td>\n",
              "    </tr>\n",
              "    <tr>\n",
              "      <th>21.0</th>\n",
              "      <td>9.750000</td>\n",
              "    </tr>\n",
              "    <tr>\n",
              "      <th>43.0</th>\n",
              "      <td>9.478873</td>\n",
              "    </tr>\n",
              "    <tr>\n",
              "      <th>33.0</th>\n",
              "      <td>9.263889</td>\n",
              "    </tr>\n",
              "    <tr>\n",
              "      <th>39.0</th>\n",
              "      <td>9.112676</td>\n",
              "    </tr>\n",
              "    <tr>\n",
              "      <th>28.0</th>\n",
              "      <td>8.722222</td>\n",
              "    </tr>\n",
              "    <tr>\n",
              "      <th>11.0</th>\n",
              "      <td>8.527778</td>\n",
              "    </tr>\n",
              "    <tr>\n",
              "      <th>19.0</th>\n",
              "      <td>8.333333</td>\n",
              "    </tr>\n",
              "    <tr>\n",
              "      <th>16.0</th>\n",
              "      <td>7.902778</td>\n",
              "    </tr>\n",
              "    <tr>\n",
              "      <th>27.0</th>\n",
              "      <td>7.444444</td>\n",
              "    </tr>\n",
              "    <tr>\n",
              "      <th>29.0</th>\n",
              "      <td>7.402778</td>\n",
              "    </tr>\n",
              "    <tr>\n",
              "      <th>54.0</th>\n",
              "      <td>7.281690</td>\n",
              "    </tr>\n",
              "    <tr>\n",
              "      <th>38.0</th>\n",
              "      <td>7.084507</td>\n",
              "    </tr>\n",
              "    <tr>\n",
              "      <th>2.0</th>\n",
              "      <td>7.055556</td>\n",
              "    </tr>\n",
              "    <tr>\n",
              "      <th>35.0</th>\n",
              "      <td>6.943662</td>\n",
              "    </tr>\n",
              "    <tr>\n",
              "      <th>51.0</th>\n",
              "      <td>6.887324</td>\n",
              "    </tr>\n",
              "    <tr>\n",
              "      <th>12.0</th>\n",
              "      <td>6.694444</td>\n",
              "    </tr>\n",
              "    <tr>\n",
              "      <th>5.0</th>\n",
              "      <td>6.676056</td>\n",
              "    </tr>\n",
              "    <tr>\n",
              "      <th>6.0</th>\n",
              "      <td>6.647887</td>\n",
              "    </tr>\n",
              "    <tr>\n",
              "      <th>53.0</th>\n",
              "      <td>6.042254</td>\n",
              "    </tr>\n",
              "    <tr>\n",
              "      <th>8.0</th>\n",
              "      <td>6.014085</td>\n",
              "    </tr>\n",
              "    <tr>\n",
              "      <th>37.0</th>\n",
              "      <td>5.788732</td>\n",
              "    </tr>\n",
              "    <tr>\n",
              "      <th>13.0</th>\n",
              "      <td>5.777778</td>\n",
              "    </tr>\n",
              "    <tr>\n",
              "      <th>36.0</th>\n",
              "      <td>5.521127</td>\n",
              "    </tr>\n",
              "    <tr>\n",
              "      <th>41.0</th>\n",
              "      <td>5.464789</td>\n",
              "    </tr>\n",
              "    <tr>\n",
              "      <th>7.0</th>\n",
              "      <td>5.338028</td>\n",
              "    </tr>\n",
              "    <tr>\n",
              "      <th>22.0</th>\n",
              "      <td>5.111111</td>\n",
              "    </tr>\n",
              "    <tr>\n",
              "      <th>26.0</th>\n",
              "      <td>5.000000</td>\n",
              "    </tr>\n",
              "    <tr>\n",
              "      <th>1.0</th>\n",
              "      <td>4.847222</td>\n",
              "    </tr>\n",
              "    <tr>\n",
              "      <th>40.0</th>\n",
              "      <td>4.845070</td>\n",
              "    </tr>\n",
              "    <tr>\n",
              "      <th>18.0</th>\n",
              "      <td>4.819444</td>\n",
              "    </tr>\n",
              "    <tr>\n",
              "      <th>10.0</th>\n",
              "      <td>4.805556</td>\n",
              "    </tr>\n",
              "    <tr>\n",
              "      <th>17.0</th>\n",
              "      <td>4.513889</td>\n",
              "    </tr>\n",
              "    <tr>\n",
              "      <th>4.0</th>\n",
              "      <td>4.352113</td>\n",
              "    </tr>\n",
              "    <tr>\n",
              "      <th>24.0</th>\n",
              "      <td>4.125000</td>\n",
              "    </tr>\n",
              "    <tr>\n",
              "      <th>14.0</th>\n",
              "      <td>4.111111</td>\n",
              "    </tr>\n",
              "    <tr>\n",
              "      <th>30.0</th>\n",
              "      <td>3.791667</td>\n",
              "    </tr>\n",
              "    <tr>\n",
              "      <th>34.0</th>\n",
              "      <td>3.704225</td>\n",
              "    </tr>\n",
              "    <tr>\n",
              "      <th>42.0</th>\n",
              "      <td>3.676056</td>\n",
              "    </tr>\n",
              "    <tr>\n",
              "      <th>15.0</th>\n",
              "      <td>3.430556</td>\n",
              "    </tr>\n",
              "    <tr>\n",
              "      <th>25.0</th>\n",
              "      <td>2.888889</td>\n",
              "    </tr>\n",
              "    <tr>\n",
              "      <th>32.0</th>\n",
              "      <td>2.486111</td>\n",
              "    </tr>\n",
              "    <tr>\n",
              "      <th>23.0</th>\n",
              "      <td>1.708333</td>\n",
              "    </tr>\n",
              "    <tr>\n",
              "      <th>52.0</th>\n",
              "      <td>0.000000</td>\n",
              "    </tr>\n",
              "  </tbody>\n",
              "</table>\n",
              "</div>\n",
              "    <div class=\"colab-df-buttons\">\n",
              "\n",
              "  <div class=\"colab-df-container\">\n",
              "    <button class=\"colab-df-convert\" onclick=\"convertToInteractive('df-d87e8b77-3e15-47c5-9427-4a43b77a3f96')\"\n",
              "            title=\"Convert this dataframe to an interactive table.\"\n",
              "            style=\"display:none;\">\n",
              "\n",
              "  <svg xmlns=\"http://www.w3.org/2000/svg\" height=\"24px\" viewBox=\"0 -960 960 960\">\n",
              "    <path d=\"M120-120v-720h720v720H120Zm60-500h600v-160H180v160Zm220 220h160v-160H400v160Zm0 220h160v-160H400v160ZM180-400h160v-160H180v160Zm440 0h160v-160H620v160ZM180-180h160v-160H180v160Zm440 0h160v-160H620v160Z\"/>\n",
              "  </svg>\n",
              "    </button>\n",
              "\n",
              "  <style>\n",
              "    .colab-df-container {\n",
              "      display:flex;\n",
              "      gap: 12px;\n",
              "    }\n",
              "\n",
              "    .colab-df-convert {\n",
              "      background-color: #E8F0FE;\n",
              "      border: none;\n",
              "      border-radius: 50%;\n",
              "      cursor: pointer;\n",
              "      display: none;\n",
              "      fill: #1967D2;\n",
              "      height: 32px;\n",
              "      padding: 0 0 0 0;\n",
              "      width: 32px;\n",
              "    }\n",
              "\n",
              "    .colab-df-convert:hover {\n",
              "      background-color: #E2EBFA;\n",
              "      box-shadow: 0px 1px 2px rgba(60, 64, 67, 0.3), 0px 1px 3px 1px rgba(60, 64, 67, 0.15);\n",
              "      fill: #174EA6;\n",
              "    }\n",
              "\n",
              "    .colab-df-buttons div {\n",
              "      margin-bottom: 4px;\n",
              "    }\n",
              "\n",
              "    [theme=dark] .colab-df-convert {\n",
              "      background-color: #3B4455;\n",
              "      fill: #D2E3FC;\n",
              "    }\n",
              "\n",
              "    [theme=dark] .colab-df-convert:hover {\n",
              "      background-color: #434B5C;\n",
              "      box-shadow: 0px 1px 3px 1px rgba(0, 0, 0, 0.15);\n",
              "      filter: drop-shadow(0px 1px 2px rgba(0, 0, 0, 0.3));\n",
              "      fill: #FFFFFF;\n",
              "    }\n",
              "  </style>\n",
              "\n",
              "    <script>\n",
              "      const buttonEl =\n",
              "        document.querySelector('#df-d87e8b77-3e15-47c5-9427-4a43b77a3f96 button.colab-df-convert');\n",
              "      buttonEl.style.display =\n",
              "        google.colab.kernel.accessAllowed ? 'block' : 'none';\n",
              "\n",
              "      async function convertToInteractive(key) {\n",
              "        const element = document.querySelector('#df-d87e8b77-3e15-47c5-9427-4a43b77a3f96');\n",
              "        const dataTable =\n",
              "          await google.colab.kernel.invokeFunction('convertToInteractive',\n",
              "                                                    [key], {});\n",
              "        if (!dataTable) return;\n",
              "\n",
              "        const docLinkHtml = 'Like what you see? Visit the ' +\n",
              "          '<a target=\"_blank\" href=https://colab.research.google.com/notebooks/data_table.ipynb>data table notebook</a>'\n",
              "          + ' to learn more about interactive tables.';\n",
              "        element.innerHTML = '';\n",
              "        dataTable['output_type'] = 'display_data';\n",
              "        await google.colab.output.renderOutput(dataTable, element);\n",
              "        const docLink = document.createElement('div');\n",
              "        docLink.innerHTML = docLinkHtml;\n",
              "        element.appendChild(docLink);\n",
              "      }\n",
              "    </script>\n",
              "  </div>\n",
              "\n",
              "\n",
              "<div id=\"df-e8f4f872-b3c6-48f0-b3af-eaa568ef5145\">\n",
              "  <button class=\"colab-df-quickchart\" onclick=\"quickchart('df-e8f4f872-b3c6-48f0-b3af-eaa568ef5145')\"\n",
              "            title=\"Suggest charts\"\n",
              "            style=\"display:none;\">\n",
              "\n",
              "<svg xmlns=\"http://www.w3.org/2000/svg\" height=\"24px\"viewBox=\"0 0 24 24\"\n",
              "     width=\"24px\">\n",
              "    <g>\n",
              "        <path d=\"M19 3H5c-1.1 0-2 .9-2 2v14c0 1.1.9 2 2 2h14c1.1 0 2-.9 2-2V5c0-1.1-.9-2-2-2zM9 17H7v-7h2v7zm4 0h-2V7h2v10zm4 0h-2v-4h2v4z\"/>\n",
              "    </g>\n",
              "</svg>\n",
              "  </button>\n",
              "\n",
              "<style>\n",
              "  .colab-df-quickchart {\n",
              "      --bg-color: #E8F0FE;\n",
              "      --fill-color: #1967D2;\n",
              "      --hover-bg-color: #E2EBFA;\n",
              "      --hover-fill-color: #174EA6;\n",
              "      --disabled-fill-color: #AAA;\n",
              "      --disabled-bg-color: #DDD;\n",
              "  }\n",
              "\n",
              "  [theme=dark] .colab-df-quickchart {\n",
              "      --bg-color: #3B4455;\n",
              "      --fill-color: #D2E3FC;\n",
              "      --hover-bg-color: #434B5C;\n",
              "      --hover-fill-color: #FFFFFF;\n",
              "      --disabled-bg-color: #3B4455;\n",
              "      --disabled-fill-color: #666;\n",
              "  }\n",
              "\n",
              "  .colab-df-quickchart {\n",
              "    background-color: var(--bg-color);\n",
              "    border: none;\n",
              "    border-radius: 50%;\n",
              "    cursor: pointer;\n",
              "    display: none;\n",
              "    fill: var(--fill-color);\n",
              "    height: 32px;\n",
              "    padding: 0;\n",
              "    width: 32px;\n",
              "  }\n",
              "\n",
              "  .colab-df-quickchart:hover {\n",
              "    background-color: var(--hover-bg-color);\n",
              "    box-shadow: 0 1px 2px rgba(60, 64, 67, 0.3), 0 1px 3px 1px rgba(60, 64, 67, 0.15);\n",
              "    fill: var(--button-hover-fill-color);\n",
              "  }\n",
              "\n",
              "  .colab-df-quickchart-complete:disabled,\n",
              "  .colab-df-quickchart-complete:disabled:hover {\n",
              "    background-color: var(--disabled-bg-color);\n",
              "    fill: var(--disabled-fill-color);\n",
              "    box-shadow: none;\n",
              "  }\n",
              "\n",
              "  .colab-df-spinner {\n",
              "    border: 2px solid var(--fill-color);\n",
              "    border-color: transparent;\n",
              "    border-bottom-color: var(--fill-color);\n",
              "    animation:\n",
              "      spin 1s steps(1) infinite;\n",
              "  }\n",
              "\n",
              "  @keyframes spin {\n",
              "    0% {\n",
              "      border-color: transparent;\n",
              "      border-bottom-color: var(--fill-color);\n",
              "      border-left-color: var(--fill-color);\n",
              "    }\n",
              "    20% {\n",
              "      border-color: transparent;\n",
              "      border-left-color: var(--fill-color);\n",
              "      border-top-color: var(--fill-color);\n",
              "    }\n",
              "    30% {\n",
              "      border-color: transparent;\n",
              "      border-left-color: var(--fill-color);\n",
              "      border-top-color: var(--fill-color);\n",
              "      border-right-color: var(--fill-color);\n",
              "    }\n",
              "    40% {\n",
              "      border-color: transparent;\n",
              "      border-right-color: var(--fill-color);\n",
              "      border-top-color: var(--fill-color);\n",
              "    }\n",
              "    60% {\n",
              "      border-color: transparent;\n",
              "      border-right-color: var(--fill-color);\n",
              "    }\n",
              "    80% {\n",
              "      border-color: transparent;\n",
              "      border-right-color: var(--fill-color);\n",
              "      border-bottom-color: var(--fill-color);\n",
              "    }\n",
              "    90% {\n",
              "      border-color: transparent;\n",
              "      border-bottom-color: var(--fill-color);\n",
              "    }\n",
              "  }\n",
              "</style>\n",
              "\n",
              "  <script>\n",
              "    async function quickchart(key) {\n",
              "      const quickchartButtonEl =\n",
              "        document.querySelector('#' + key + ' button');\n",
              "      quickchartButtonEl.disabled = true;  // To prevent multiple clicks.\n",
              "      quickchartButtonEl.classList.add('colab-df-spinner');\n",
              "      try {\n",
              "        const charts = await google.colab.kernel.invokeFunction(\n",
              "            'suggestCharts', [key], {});\n",
              "      } catch (error) {\n",
              "        console.error('Error during call to suggestCharts:', error);\n",
              "      }\n",
              "      quickchartButtonEl.classList.remove('colab-df-spinner');\n",
              "      quickchartButtonEl.classList.add('colab-df-quickchart-complete');\n",
              "    }\n",
              "    (() => {\n",
              "      let quickchartButtonEl =\n",
              "        document.querySelector('#df-e8f4f872-b3c6-48f0-b3af-eaa568ef5145 button');\n",
              "      quickchartButtonEl.style.display =\n",
              "        google.colab.kernel.accessAllowed ? 'block' : 'none';\n",
              "    })();\n",
              "  </script>\n",
              "</div>\n",
              "\n",
              "    </div>\n",
              "  </div>\n"
            ],
            "application/vnd.google.colaboratory.intrinsic+json": {
              "type": "dataframe",
              "summary": "{\n  \"name\": \"df\",\n  \"rows\": 54,\n  \"fields\": [\n    {\n      \"column\": \"store_nbr\",\n      \"properties\": {\n        \"dtype\": \"number\",\n        \"std\": 15.732132722552274,\n        \"min\": 1.0,\n        \"max\": 54.0,\n        \"num_unique_values\": 54,\n        \"samples\": [\n          27.0,\n          15.0,\n          42.0\n        ],\n        \"semantic_type\": \"\",\n        \"description\": \"\"\n      }\n    },\n    {\n      \"column\": \"sales\",\n      \"properties\": {\n        \"dtype\": \"number\",\n        \"std\": 4.186372870316622,\n        \"min\": 0.0,\n        \"max\": 17.3943661971831,\n        \"num_unique_values\": 54,\n        \"samples\": [\n          7.444444444444445,\n          3.4305555555555554,\n          3.676056338028169\n        ],\n        \"semantic_type\": \"\",\n        \"description\": \"\"\n      }\n    }\n  ]\n}"
            }
          },
          "metadata": {},
          "execution_count": 10
        }
      ]
    },
    {
      "cell_type": "code",
      "source": [
        "df.groupby(['family','store_nbr']).agg({'sales':'mean'}).reset_index()"
      ],
      "metadata": {
        "colab": {
          "base_uri": "https://localhost:8080/",
          "height": 423
        },
        "id": "CyP2Hqx2zHn5",
        "outputId": "60ab831d-af2b-44d7-bfe1-2b75ab27242b"
      },
      "execution_count": null,
      "outputs": [
        {
          "output_type": "execute_result",
          "data": {
            "text/plain": [
              "          family  store_nbr      sales\n",
              "0     AUTOMOTIVE        1.0   4.847222\n",
              "1     AUTOMOTIVE        2.0   7.055556\n",
              "2     AUTOMOTIVE        3.0  12.972222\n",
              "3     AUTOMOTIVE        4.0   4.352113\n",
              "4     AUTOMOTIVE        5.0   6.676056\n",
              "...          ...        ...        ...\n",
              "1777     SEAFOOD       50.0  21.563620\n",
              "1778     SEAFOOD       51.0  66.729662\n",
              "1779     SEAFOOD       52.0   0.000000\n",
              "1780     SEAFOOD       53.0   3.561634\n",
              "1781     SEAFOOD       54.0   1.169014\n",
              "\n",
              "[1782 rows x 3 columns]"
            ],
            "text/html": [
              "\n",
              "  <div id=\"df-bceb565f-d872-44e0-b37c-dfeb78e09977\" class=\"colab-df-container\">\n",
              "    <div>\n",
              "<style scoped>\n",
              "    .dataframe tbody tr th:only-of-type {\n",
              "        vertical-align: middle;\n",
              "    }\n",
              "\n",
              "    .dataframe tbody tr th {\n",
              "        vertical-align: top;\n",
              "    }\n",
              "\n",
              "    .dataframe thead th {\n",
              "        text-align: right;\n",
              "    }\n",
              "</style>\n",
              "<table border=\"1\" class=\"dataframe\">\n",
              "  <thead>\n",
              "    <tr style=\"text-align: right;\">\n",
              "      <th></th>\n",
              "      <th>family</th>\n",
              "      <th>store_nbr</th>\n",
              "      <th>sales</th>\n",
              "    </tr>\n",
              "  </thead>\n",
              "  <tbody>\n",
              "    <tr>\n",
              "      <th>0</th>\n",
              "      <td>AUTOMOTIVE</td>\n",
              "      <td>1.0</td>\n",
              "      <td>4.847222</td>\n",
              "    </tr>\n",
              "    <tr>\n",
              "      <th>1</th>\n",
              "      <td>AUTOMOTIVE</td>\n",
              "      <td>2.0</td>\n",
              "      <td>7.055556</td>\n",
              "    </tr>\n",
              "    <tr>\n",
              "      <th>2</th>\n",
              "      <td>AUTOMOTIVE</td>\n",
              "      <td>3.0</td>\n",
              "      <td>12.972222</td>\n",
              "    </tr>\n",
              "    <tr>\n",
              "      <th>3</th>\n",
              "      <td>AUTOMOTIVE</td>\n",
              "      <td>4.0</td>\n",
              "      <td>4.352113</td>\n",
              "    </tr>\n",
              "    <tr>\n",
              "      <th>4</th>\n",
              "      <td>AUTOMOTIVE</td>\n",
              "      <td>5.0</td>\n",
              "      <td>6.676056</td>\n",
              "    </tr>\n",
              "    <tr>\n",
              "      <th>...</th>\n",
              "      <td>...</td>\n",
              "      <td>...</td>\n",
              "      <td>...</td>\n",
              "    </tr>\n",
              "    <tr>\n",
              "      <th>1777</th>\n",
              "      <td>SEAFOOD</td>\n",
              "      <td>50.0</td>\n",
              "      <td>21.563620</td>\n",
              "    </tr>\n",
              "    <tr>\n",
              "      <th>1778</th>\n",
              "      <td>SEAFOOD</td>\n",
              "      <td>51.0</td>\n",
              "      <td>66.729662</td>\n",
              "    </tr>\n",
              "    <tr>\n",
              "      <th>1779</th>\n",
              "      <td>SEAFOOD</td>\n",
              "      <td>52.0</td>\n",
              "      <td>0.000000</td>\n",
              "    </tr>\n",
              "    <tr>\n",
              "      <th>1780</th>\n",
              "      <td>SEAFOOD</td>\n",
              "      <td>53.0</td>\n",
              "      <td>3.561634</td>\n",
              "    </tr>\n",
              "    <tr>\n",
              "      <th>1781</th>\n",
              "      <td>SEAFOOD</td>\n",
              "      <td>54.0</td>\n",
              "      <td>1.169014</td>\n",
              "    </tr>\n",
              "  </tbody>\n",
              "</table>\n",
              "<p>1782 rows × 3 columns</p>\n",
              "</div>\n",
              "    <div class=\"colab-df-buttons\">\n",
              "\n",
              "  <div class=\"colab-df-container\">\n",
              "    <button class=\"colab-df-convert\" onclick=\"convertToInteractive('df-bceb565f-d872-44e0-b37c-dfeb78e09977')\"\n",
              "            title=\"Convert this dataframe to an interactive table.\"\n",
              "            style=\"display:none;\">\n",
              "\n",
              "  <svg xmlns=\"http://www.w3.org/2000/svg\" height=\"24px\" viewBox=\"0 -960 960 960\">\n",
              "    <path d=\"M120-120v-720h720v720H120Zm60-500h600v-160H180v160Zm220 220h160v-160H400v160Zm0 220h160v-160H400v160ZM180-400h160v-160H180v160Zm440 0h160v-160H620v160ZM180-180h160v-160H180v160Zm440 0h160v-160H620v160Z\"/>\n",
              "  </svg>\n",
              "    </button>\n",
              "\n",
              "  <style>\n",
              "    .colab-df-container {\n",
              "      display:flex;\n",
              "      gap: 12px;\n",
              "    }\n",
              "\n",
              "    .colab-df-convert {\n",
              "      background-color: #E8F0FE;\n",
              "      border: none;\n",
              "      border-radius: 50%;\n",
              "      cursor: pointer;\n",
              "      display: none;\n",
              "      fill: #1967D2;\n",
              "      height: 32px;\n",
              "      padding: 0 0 0 0;\n",
              "      width: 32px;\n",
              "    }\n",
              "\n",
              "    .colab-df-convert:hover {\n",
              "      background-color: #E2EBFA;\n",
              "      box-shadow: 0px 1px 2px rgba(60, 64, 67, 0.3), 0px 1px 3px 1px rgba(60, 64, 67, 0.15);\n",
              "      fill: #174EA6;\n",
              "    }\n",
              "\n",
              "    .colab-df-buttons div {\n",
              "      margin-bottom: 4px;\n",
              "    }\n",
              "\n",
              "    [theme=dark] .colab-df-convert {\n",
              "      background-color: #3B4455;\n",
              "      fill: #D2E3FC;\n",
              "    }\n",
              "\n",
              "    [theme=dark] .colab-df-convert:hover {\n",
              "      background-color: #434B5C;\n",
              "      box-shadow: 0px 1px 3px 1px rgba(0, 0, 0, 0.15);\n",
              "      filter: drop-shadow(0px 1px 2px rgba(0, 0, 0, 0.3));\n",
              "      fill: #FFFFFF;\n",
              "    }\n",
              "  </style>\n",
              "\n",
              "    <script>\n",
              "      const buttonEl =\n",
              "        document.querySelector('#df-bceb565f-d872-44e0-b37c-dfeb78e09977 button.colab-df-convert');\n",
              "      buttonEl.style.display =\n",
              "        google.colab.kernel.accessAllowed ? 'block' : 'none';\n",
              "\n",
              "      async function convertToInteractive(key) {\n",
              "        const element = document.querySelector('#df-bceb565f-d872-44e0-b37c-dfeb78e09977');\n",
              "        const dataTable =\n",
              "          await google.colab.kernel.invokeFunction('convertToInteractive',\n",
              "                                                    [key], {});\n",
              "        if (!dataTable) return;\n",
              "\n",
              "        const docLinkHtml = 'Like what you see? Visit the ' +\n",
              "          '<a target=\"_blank\" href=https://colab.research.google.com/notebooks/data_table.ipynb>data table notebook</a>'\n",
              "          + ' to learn more about interactive tables.';\n",
              "        element.innerHTML = '';\n",
              "        dataTable['output_type'] = 'display_data';\n",
              "        await google.colab.output.renderOutput(dataTable, element);\n",
              "        const docLink = document.createElement('div');\n",
              "        docLink.innerHTML = docLinkHtml;\n",
              "        element.appendChild(docLink);\n",
              "      }\n",
              "    </script>\n",
              "  </div>\n",
              "\n",
              "\n",
              "<div id=\"df-26f2ca9e-c7d6-403b-b191-5425aaa83d5b\">\n",
              "  <button class=\"colab-df-quickchart\" onclick=\"quickchart('df-26f2ca9e-c7d6-403b-b191-5425aaa83d5b')\"\n",
              "            title=\"Suggest charts\"\n",
              "            style=\"display:none;\">\n",
              "\n",
              "<svg xmlns=\"http://www.w3.org/2000/svg\" height=\"24px\"viewBox=\"0 0 24 24\"\n",
              "     width=\"24px\">\n",
              "    <g>\n",
              "        <path d=\"M19 3H5c-1.1 0-2 .9-2 2v14c0 1.1.9 2 2 2h14c1.1 0 2-.9 2-2V5c0-1.1-.9-2-2-2zM9 17H7v-7h2v7zm4 0h-2V7h2v10zm4 0h-2v-4h2v4z\"/>\n",
              "    </g>\n",
              "</svg>\n",
              "  </button>\n",
              "\n",
              "<style>\n",
              "  .colab-df-quickchart {\n",
              "      --bg-color: #E8F0FE;\n",
              "      --fill-color: #1967D2;\n",
              "      --hover-bg-color: #E2EBFA;\n",
              "      --hover-fill-color: #174EA6;\n",
              "      --disabled-fill-color: #AAA;\n",
              "      --disabled-bg-color: #DDD;\n",
              "  }\n",
              "\n",
              "  [theme=dark] .colab-df-quickchart {\n",
              "      --bg-color: #3B4455;\n",
              "      --fill-color: #D2E3FC;\n",
              "      --hover-bg-color: #434B5C;\n",
              "      --hover-fill-color: #FFFFFF;\n",
              "      --disabled-bg-color: #3B4455;\n",
              "      --disabled-fill-color: #666;\n",
              "  }\n",
              "\n",
              "  .colab-df-quickchart {\n",
              "    background-color: var(--bg-color);\n",
              "    border: none;\n",
              "    border-radius: 50%;\n",
              "    cursor: pointer;\n",
              "    display: none;\n",
              "    fill: var(--fill-color);\n",
              "    height: 32px;\n",
              "    padding: 0;\n",
              "    width: 32px;\n",
              "  }\n",
              "\n",
              "  .colab-df-quickchart:hover {\n",
              "    background-color: var(--hover-bg-color);\n",
              "    box-shadow: 0 1px 2px rgba(60, 64, 67, 0.3), 0 1px 3px 1px rgba(60, 64, 67, 0.15);\n",
              "    fill: var(--button-hover-fill-color);\n",
              "  }\n",
              "\n",
              "  .colab-df-quickchart-complete:disabled,\n",
              "  .colab-df-quickchart-complete:disabled:hover {\n",
              "    background-color: var(--disabled-bg-color);\n",
              "    fill: var(--disabled-fill-color);\n",
              "    box-shadow: none;\n",
              "  }\n",
              "\n",
              "  .colab-df-spinner {\n",
              "    border: 2px solid var(--fill-color);\n",
              "    border-color: transparent;\n",
              "    border-bottom-color: var(--fill-color);\n",
              "    animation:\n",
              "      spin 1s steps(1) infinite;\n",
              "  }\n",
              "\n",
              "  @keyframes spin {\n",
              "    0% {\n",
              "      border-color: transparent;\n",
              "      border-bottom-color: var(--fill-color);\n",
              "      border-left-color: var(--fill-color);\n",
              "    }\n",
              "    20% {\n",
              "      border-color: transparent;\n",
              "      border-left-color: var(--fill-color);\n",
              "      border-top-color: var(--fill-color);\n",
              "    }\n",
              "    30% {\n",
              "      border-color: transparent;\n",
              "      border-left-color: var(--fill-color);\n",
              "      border-top-color: var(--fill-color);\n",
              "      border-right-color: var(--fill-color);\n",
              "    }\n",
              "    40% {\n",
              "      border-color: transparent;\n",
              "      border-right-color: var(--fill-color);\n",
              "      border-top-color: var(--fill-color);\n",
              "    }\n",
              "    60% {\n",
              "      border-color: transparent;\n",
              "      border-right-color: var(--fill-color);\n",
              "    }\n",
              "    80% {\n",
              "      border-color: transparent;\n",
              "      border-right-color: var(--fill-color);\n",
              "      border-bottom-color: var(--fill-color);\n",
              "    }\n",
              "    90% {\n",
              "      border-color: transparent;\n",
              "      border-bottom-color: var(--fill-color);\n",
              "    }\n",
              "  }\n",
              "</style>\n",
              "\n",
              "  <script>\n",
              "    async function quickchart(key) {\n",
              "      const quickchartButtonEl =\n",
              "        document.querySelector('#' + key + ' button');\n",
              "      quickchartButtonEl.disabled = true;  // To prevent multiple clicks.\n",
              "      quickchartButtonEl.classList.add('colab-df-spinner');\n",
              "      try {\n",
              "        const charts = await google.colab.kernel.invokeFunction(\n",
              "            'suggestCharts', [key], {});\n",
              "      } catch (error) {\n",
              "        console.error('Error during call to suggestCharts:', error);\n",
              "      }\n",
              "      quickchartButtonEl.classList.remove('colab-df-spinner');\n",
              "      quickchartButtonEl.classList.add('colab-df-quickchart-complete');\n",
              "    }\n",
              "    (() => {\n",
              "      let quickchartButtonEl =\n",
              "        document.querySelector('#df-26f2ca9e-c7d6-403b-b191-5425aaa83d5b button');\n",
              "      quickchartButtonEl.style.display =\n",
              "        google.colab.kernel.accessAllowed ? 'block' : 'none';\n",
              "    })();\n",
              "  </script>\n",
              "</div>\n",
              "\n",
              "    </div>\n",
              "  </div>\n"
            ],
            "application/vnd.google.colaboratory.intrinsic+json": {
              "type": "dataframe",
              "summary": "{\n  \"name\": \"df\",\n  \"rows\": 1782,\n  \"fields\": [\n    {\n      \"column\": \"family\",\n      \"properties\": {\n        \"dtype\": \"category\",\n        \"num_unique_values\": 33,\n        \"samples\": [\n          \"SCHOOL AND OFFICE SUPPLIES\",\n          \"HOME AND KITCHEN I\",\n          \"PET SUPPLIES\"\n        ],\n        \"semantic_type\": \"\",\n        \"description\": \"\"\n      }\n    },\n    {\n      \"column\": \"store_nbr\",\n      \"properties\": {\n        \"dtype\": \"number\",\n        \"std\": 15.590159078040465,\n        \"min\": 1.0,\n        \"max\": 54.0,\n        \"num_unique_values\": 54,\n        \"samples\": [\n          20.0,\n          50.0,\n          49.0\n        ],\n        \"semantic_type\": \"\",\n        \"description\": \"\"\n      }\n    },\n    {\n      \"column\": \"sales\",\n      \"properties\": {\n        \"dtype\": \"number\",\n        \"std\": 1158.7339945052229,\n        \"min\": 0.0,\n        \"max\": 10853.313232394366,\n        \"num_unique_values\": 1488,\n        \"samples\": [\n          156.93170397183098,\n          8.569444444444445,\n          185.48611111111111\n        ],\n        \"semantic_type\": \"\",\n        \"description\": \"\"\n      }\n    }\n  ]\n}"
            }
          },
          "metadata": {},
          "execution_count": 11
        }
      ]
    },
    {
      "cell_type": "code",
      "source": [
        "pd.DataFrame({'name':['sagar','susant','lochan']}).iloc[[1,2]].reset_index(drop = True)\n",
        "#reset index le 0 bata suru garcha index otherwise 1 bata huncha"
      ],
      "metadata": {
        "colab": {
          "base_uri": "https://localhost:8080/",
          "height": 112
        },
        "id": "jlGOvjQGz0zs",
        "outputId": "b38ace20-c023-431c-dde9-51239a42b52b"
      },
      "execution_count": null,
      "outputs": [
        {
          "output_type": "execute_result",
          "data": {
            "text/plain": [
              "     name\n",
              "0  susant\n",
              "1  lochan"
            ],
            "text/html": [
              "\n",
              "  <div id=\"df-37ec8d78-650e-4991-82b4-e032caa76a25\" class=\"colab-df-container\">\n",
              "    <div>\n",
              "<style scoped>\n",
              "    .dataframe tbody tr th:only-of-type {\n",
              "        vertical-align: middle;\n",
              "    }\n",
              "\n",
              "    .dataframe tbody tr th {\n",
              "        vertical-align: top;\n",
              "    }\n",
              "\n",
              "    .dataframe thead th {\n",
              "        text-align: right;\n",
              "    }\n",
              "</style>\n",
              "<table border=\"1\" class=\"dataframe\">\n",
              "  <thead>\n",
              "    <tr style=\"text-align: right;\">\n",
              "      <th></th>\n",
              "      <th>name</th>\n",
              "    </tr>\n",
              "  </thead>\n",
              "  <tbody>\n",
              "    <tr>\n",
              "      <th>0</th>\n",
              "      <td>susant</td>\n",
              "    </tr>\n",
              "    <tr>\n",
              "      <th>1</th>\n",
              "      <td>lochan</td>\n",
              "    </tr>\n",
              "  </tbody>\n",
              "</table>\n",
              "</div>\n",
              "    <div class=\"colab-df-buttons\">\n",
              "\n",
              "  <div class=\"colab-df-container\">\n",
              "    <button class=\"colab-df-convert\" onclick=\"convertToInteractive('df-37ec8d78-650e-4991-82b4-e032caa76a25')\"\n",
              "            title=\"Convert this dataframe to an interactive table.\"\n",
              "            style=\"display:none;\">\n",
              "\n",
              "  <svg xmlns=\"http://www.w3.org/2000/svg\" height=\"24px\" viewBox=\"0 -960 960 960\">\n",
              "    <path d=\"M120-120v-720h720v720H120Zm60-500h600v-160H180v160Zm220 220h160v-160H400v160Zm0 220h160v-160H400v160ZM180-400h160v-160H180v160Zm440 0h160v-160H620v160ZM180-180h160v-160H180v160Zm440 0h160v-160H620v160Z\"/>\n",
              "  </svg>\n",
              "    </button>\n",
              "\n",
              "  <style>\n",
              "    .colab-df-container {\n",
              "      display:flex;\n",
              "      gap: 12px;\n",
              "    }\n",
              "\n",
              "    .colab-df-convert {\n",
              "      background-color: #E8F0FE;\n",
              "      border: none;\n",
              "      border-radius: 50%;\n",
              "      cursor: pointer;\n",
              "      display: none;\n",
              "      fill: #1967D2;\n",
              "      height: 32px;\n",
              "      padding: 0 0 0 0;\n",
              "      width: 32px;\n",
              "    }\n",
              "\n",
              "    .colab-df-convert:hover {\n",
              "      background-color: #E2EBFA;\n",
              "      box-shadow: 0px 1px 2px rgba(60, 64, 67, 0.3), 0px 1px 3px 1px rgba(60, 64, 67, 0.15);\n",
              "      fill: #174EA6;\n",
              "    }\n",
              "\n",
              "    .colab-df-buttons div {\n",
              "      margin-bottom: 4px;\n",
              "    }\n",
              "\n",
              "    [theme=dark] .colab-df-convert {\n",
              "      background-color: #3B4455;\n",
              "      fill: #D2E3FC;\n",
              "    }\n",
              "\n",
              "    [theme=dark] .colab-df-convert:hover {\n",
              "      background-color: #434B5C;\n",
              "      box-shadow: 0px 1px 3px 1px rgba(0, 0, 0, 0.15);\n",
              "      filter: drop-shadow(0px 1px 2px rgba(0, 0, 0, 0.3));\n",
              "      fill: #FFFFFF;\n",
              "    }\n",
              "  </style>\n",
              "\n",
              "    <script>\n",
              "      const buttonEl =\n",
              "        document.querySelector('#df-37ec8d78-650e-4991-82b4-e032caa76a25 button.colab-df-convert');\n",
              "      buttonEl.style.display =\n",
              "        google.colab.kernel.accessAllowed ? 'block' : 'none';\n",
              "\n",
              "      async function convertToInteractive(key) {\n",
              "        const element = document.querySelector('#df-37ec8d78-650e-4991-82b4-e032caa76a25');\n",
              "        const dataTable =\n",
              "          await google.colab.kernel.invokeFunction('convertToInteractive',\n",
              "                                                    [key], {});\n",
              "        if (!dataTable) return;\n",
              "\n",
              "        const docLinkHtml = 'Like what you see? Visit the ' +\n",
              "          '<a target=\"_blank\" href=https://colab.research.google.com/notebooks/data_table.ipynb>data table notebook</a>'\n",
              "          + ' to learn more about interactive tables.';\n",
              "        element.innerHTML = '';\n",
              "        dataTable['output_type'] = 'display_data';\n",
              "        await google.colab.output.renderOutput(dataTable, element);\n",
              "        const docLink = document.createElement('div');\n",
              "        docLink.innerHTML = docLinkHtml;\n",
              "        element.appendChild(docLink);\n",
              "      }\n",
              "    </script>\n",
              "  </div>\n",
              "\n",
              "\n",
              "<div id=\"df-d5d95119-40af-48e2-81d9-abb9194ddaa6\">\n",
              "  <button class=\"colab-df-quickchart\" onclick=\"quickchart('df-d5d95119-40af-48e2-81d9-abb9194ddaa6')\"\n",
              "            title=\"Suggest charts\"\n",
              "            style=\"display:none;\">\n",
              "\n",
              "<svg xmlns=\"http://www.w3.org/2000/svg\" height=\"24px\"viewBox=\"0 0 24 24\"\n",
              "     width=\"24px\">\n",
              "    <g>\n",
              "        <path d=\"M19 3H5c-1.1 0-2 .9-2 2v14c0 1.1.9 2 2 2h14c1.1 0 2-.9 2-2V5c0-1.1-.9-2-2-2zM9 17H7v-7h2v7zm4 0h-2V7h2v10zm4 0h-2v-4h2v4z\"/>\n",
              "    </g>\n",
              "</svg>\n",
              "  </button>\n",
              "\n",
              "<style>\n",
              "  .colab-df-quickchart {\n",
              "      --bg-color: #E8F0FE;\n",
              "      --fill-color: #1967D2;\n",
              "      --hover-bg-color: #E2EBFA;\n",
              "      --hover-fill-color: #174EA6;\n",
              "      --disabled-fill-color: #AAA;\n",
              "      --disabled-bg-color: #DDD;\n",
              "  }\n",
              "\n",
              "  [theme=dark] .colab-df-quickchart {\n",
              "      --bg-color: #3B4455;\n",
              "      --fill-color: #D2E3FC;\n",
              "      --hover-bg-color: #434B5C;\n",
              "      --hover-fill-color: #FFFFFF;\n",
              "      --disabled-bg-color: #3B4455;\n",
              "      --disabled-fill-color: #666;\n",
              "  }\n",
              "\n",
              "  .colab-df-quickchart {\n",
              "    background-color: var(--bg-color);\n",
              "    border: none;\n",
              "    border-radius: 50%;\n",
              "    cursor: pointer;\n",
              "    display: none;\n",
              "    fill: var(--fill-color);\n",
              "    height: 32px;\n",
              "    padding: 0;\n",
              "    width: 32px;\n",
              "  }\n",
              "\n",
              "  .colab-df-quickchart:hover {\n",
              "    background-color: var(--hover-bg-color);\n",
              "    box-shadow: 0 1px 2px rgba(60, 64, 67, 0.3), 0 1px 3px 1px rgba(60, 64, 67, 0.15);\n",
              "    fill: var(--button-hover-fill-color);\n",
              "  }\n",
              "\n",
              "  .colab-df-quickchart-complete:disabled,\n",
              "  .colab-df-quickchart-complete:disabled:hover {\n",
              "    background-color: var(--disabled-bg-color);\n",
              "    fill: var(--disabled-fill-color);\n",
              "    box-shadow: none;\n",
              "  }\n",
              "\n",
              "  .colab-df-spinner {\n",
              "    border: 2px solid var(--fill-color);\n",
              "    border-color: transparent;\n",
              "    border-bottom-color: var(--fill-color);\n",
              "    animation:\n",
              "      spin 1s steps(1) infinite;\n",
              "  }\n",
              "\n",
              "  @keyframes spin {\n",
              "    0% {\n",
              "      border-color: transparent;\n",
              "      border-bottom-color: var(--fill-color);\n",
              "      border-left-color: var(--fill-color);\n",
              "    }\n",
              "    20% {\n",
              "      border-color: transparent;\n",
              "      border-left-color: var(--fill-color);\n",
              "      border-top-color: var(--fill-color);\n",
              "    }\n",
              "    30% {\n",
              "      border-color: transparent;\n",
              "      border-left-color: var(--fill-color);\n",
              "      border-top-color: var(--fill-color);\n",
              "      border-right-color: var(--fill-color);\n",
              "    }\n",
              "    40% {\n",
              "      border-color: transparent;\n",
              "      border-right-color: var(--fill-color);\n",
              "      border-top-color: var(--fill-color);\n",
              "    }\n",
              "    60% {\n",
              "      border-color: transparent;\n",
              "      border-right-color: var(--fill-color);\n",
              "    }\n",
              "    80% {\n",
              "      border-color: transparent;\n",
              "      border-right-color: var(--fill-color);\n",
              "      border-bottom-color: var(--fill-color);\n",
              "    }\n",
              "    90% {\n",
              "      border-color: transparent;\n",
              "      border-bottom-color: var(--fill-color);\n",
              "    }\n",
              "  }\n",
              "</style>\n",
              "\n",
              "  <script>\n",
              "    async function quickchart(key) {\n",
              "      const quickchartButtonEl =\n",
              "        document.querySelector('#' + key + ' button');\n",
              "      quickchartButtonEl.disabled = true;  // To prevent multiple clicks.\n",
              "      quickchartButtonEl.classList.add('colab-df-spinner');\n",
              "      try {\n",
              "        const charts = await google.colab.kernel.invokeFunction(\n",
              "            'suggestCharts', [key], {});\n",
              "      } catch (error) {\n",
              "        console.error('Error during call to suggestCharts:', error);\n",
              "      }\n",
              "      quickchartButtonEl.classList.remove('colab-df-spinner');\n",
              "      quickchartButtonEl.classList.add('colab-df-quickchart-complete');\n",
              "    }\n",
              "    (() => {\n",
              "      let quickchartButtonEl =\n",
              "        document.querySelector('#df-d5d95119-40af-48e2-81d9-abb9194ddaa6 button');\n",
              "      quickchartButtonEl.style.display =\n",
              "        google.colab.kernel.accessAllowed ? 'block' : 'none';\n",
              "    })();\n",
              "  </script>\n",
              "</div>\n",
              "\n",
              "    </div>\n",
              "  </div>\n"
            ],
            "application/vnd.google.colaboratory.intrinsic+json": {
              "type": "dataframe",
              "summary": "{\n  \"name\": \"#reset index le 0 bata suru garcha index otherwise 1 bata huncha\",\n  \"rows\": 2,\n  \"fields\": [\n    {\n      \"column\": \"name\",\n      \"properties\": {\n        \"dtype\": \"string\",\n        \"num_unique_values\": 2,\n        \"samples\": [\n          \"lochan\",\n          \"susant\"\n        ],\n        \"semantic_type\": \"\",\n        \"description\": \"\"\n      }\n    }\n  ]\n}"
            }
          },
          "metadata": {},
          "execution_count": 15
        }
      ]
    },
    {
      "cell_type": "code",
      "source": [
        "#WAP to find averge sales of family: AUTOMOTIVE and BEAUTY"
      ],
      "metadata": {
        "id": "sWO7gfnC0VSa"
      },
      "execution_count": null,
      "outputs": []
    },
    {
      "cell_type": "code",
      "source": [
        "df.groupby('family').agg({'sales':'mean'}).loc[['BEAUTY','AUTOMOTIVE']]#multiple ko lagi list baaunu patcha"
      ],
      "metadata": {
        "colab": {
          "base_uri": "https://localhost:8080/",
          "height": 143
        },
        "id": "d1YgQNtn0yua",
        "outputId": "422c8252-d5da-4dda-de48-51e625b782d4"
      },
      "execution_count": null,
      "outputs": [
        {
          "output_type": "execute_result",
          "data": {
            "text/plain": [
              "               sales\n",
              "family              \n",
              "BEAUTY      4.263403\n",
              "AUTOMOTIVE  7.543124"
            ],
            "text/html": [
              "\n",
              "  <div id=\"df-a0667f80-5d00-4049-9283-f6cbdb011d08\" class=\"colab-df-container\">\n",
              "    <div>\n",
              "<style scoped>\n",
              "    .dataframe tbody tr th:only-of-type {\n",
              "        vertical-align: middle;\n",
              "    }\n",
              "\n",
              "    .dataframe tbody tr th {\n",
              "        vertical-align: top;\n",
              "    }\n",
              "\n",
              "    .dataframe thead th {\n",
              "        text-align: right;\n",
              "    }\n",
              "</style>\n",
              "<table border=\"1\" class=\"dataframe\">\n",
              "  <thead>\n",
              "    <tr style=\"text-align: right;\">\n",
              "      <th></th>\n",
              "      <th>sales</th>\n",
              "    </tr>\n",
              "    <tr>\n",
              "      <th>family</th>\n",
              "      <th></th>\n",
              "    </tr>\n",
              "  </thead>\n",
              "  <tbody>\n",
              "    <tr>\n",
              "      <th>BEAUTY</th>\n",
              "      <td>4.263403</td>\n",
              "    </tr>\n",
              "    <tr>\n",
              "      <th>AUTOMOTIVE</th>\n",
              "      <td>7.543124</td>\n",
              "    </tr>\n",
              "  </tbody>\n",
              "</table>\n",
              "</div>\n",
              "    <div class=\"colab-df-buttons\">\n",
              "\n",
              "  <div class=\"colab-df-container\">\n",
              "    <button class=\"colab-df-convert\" onclick=\"convertToInteractive('df-a0667f80-5d00-4049-9283-f6cbdb011d08')\"\n",
              "            title=\"Convert this dataframe to an interactive table.\"\n",
              "            style=\"display:none;\">\n",
              "\n",
              "  <svg xmlns=\"http://www.w3.org/2000/svg\" height=\"24px\" viewBox=\"0 -960 960 960\">\n",
              "    <path d=\"M120-120v-720h720v720H120Zm60-500h600v-160H180v160Zm220 220h160v-160H400v160Zm0 220h160v-160H400v160ZM180-400h160v-160H180v160Zm440 0h160v-160H620v160ZM180-180h160v-160H180v160Zm440 0h160v-160H620v160Z\"/>\n",
              "  </svg>\n",
              "    </button>\n",
              "\n",
              "  <style>\n",
              "    .colab-df-container {\n",
              "      display:flex;\n",
              "      gap: 12px;\n",
              "    }\n",
              "\n",
              "    .colab-df-convert {\n",
              "      background-color: #E8F0FE;\n",
              "      border: none;\n",
              "      border-radius: 50%;\n",
              "      cursor: pointer;\n",
              "      display: none;\n",
              "      fill: #1967D2;\n",
              "      height: 32px;\n",
              "      padding: 0 0 0 0;\n",
              "      width: 32px;\n",
              "    }\n",
              "\n",
              "    .colab-df-convert:hover {\n",
              "      background-color: #E2EBFA;\n",
              "      box-shadow: 0px 1px 2px rgba(60, 64, 67, 0.3), 0px 1px 3px 1px rgba(60, 64, 67, 0.15);\n",
              "      fill: #174EA6;\n",
              "    }\n",
              "\n",
              "    .colab-df-buttons div {\n",
              "      margin-bottom: 4px;\n",
              "    }\n",
              "\n",
              "    [theme=dark] .colab-df-convert {\n",
              "      background-color: #3B4455;\n",
              "      fill: #D2E3FC;\n",
              "    }\n",
              "\n",
              "    [theme=dark] .colab-df-convert:hover {\n",
              "      background-color: #434B5C;\n",
              "      box-shadow: 0px 1px 3px 1px rgba(0, 0, 0, 0.15);\n",
              "      filter: drop-shadow(0px 1px 2px rgba(0, 0, 0, 0.3));\n",
              "      fill: #FFFFFF;\n",
              "    }\n",
              "  </style>\n",
              "\n",
              "    <script>\n",
              "      const buttonEl =\n",
              "        document.querySelector('#df-a0667f80-5d00-4049-9283-f6cbdb011d08 button.colab-df-convert');\n",
              "      buttonEl.style.display =\n",
              "        google.colab.kernel.accessAllowed ? 'block' : 'none';\n",
              "\n",
              "      async function convertToInteractive(key) {\n",
              "        const element = document.querySelector('#df-a0667f80-5d00-4049-9283-f6cbdb011d08');\n",
              "        const dataTable =\n",
              "          await google.colab.kernel.invokeFunction('convertToInteractive',\n",
              "                                                    [key], {});\n",
              "        if (!dataTable) return;\n",
              "\n",
              "        const docLinkHtml = 'Like what you see? Visit the ' +\n",
              "          '<a target=\"_blank\" href=https://colab.research.google.com/notebooks/data_table.ipynb>data table notebook</a>'\n",
              "          + ' to learn more about interactive tables.';\n",
              "        element.innerHTML = '';\n",
              "        dataTable['output_type'] = 'display_data';\n",
              "        await google.colab.output.renderOutput(dataTable, element);\n",
              "        const docLink = document.createElement('div');\n",
              "        docLink.innerHTML = docLinkHtml;\n",
              "        element.appendChild(docLink);\n",
              "      }\n",
              "    </script>\n",
              "  </div>\n",
              "\n",
              "\n",
              "<div id=\"df-c58828b3-2a80-43b2-bcee-48e3305cb778\">\n",
              "  <button class=\"colab-df-quickchart\" onclick=\"quickchart('df-c58828b3-2a80-43b2-bcee-48e3305cb778')\"\n",
              "            title=\"Suggest charts\"\n",
              "            style=\"display:none;\">\n",
              "\n",
              "<svg xmlns=\"http://www.w3.org/2000/svg\" height=\"24px\"viewBox=\"0 0 24 24\"\n",
              "     width=\"24px\">\n",
              "    <g>\n",
              "        <path d=\"M19 3H5c-1.1 0-2 .9-2 2v14c0 1.1.9 2 2 2h14c1.1 0 2-.9 2-2V5c0-1.1-.9-2-2-2zM9 17H7v-7h2v7zm4 0h-2V7h2v10zm4 0h-2v-4h2v4z\"/>\n",
              "    </g>\n",
              "</svg>\n",
              "  </button>\n",
              "\n",
              "<style>\n",
              "  .colab-df-quickchart {\n",
              "      --bg-color: #E8F0FE;\n",
              "      --fill-color: #1967D2;\n",
              "      --hover-bg-color: #E2EBFA;\n",
              "      --hover-fill-color: #174EA6;\n",
              "      --disabled-fill-color: #AAA;\n",
              "      --disabled-bg-color: #DDD;\n",
              "  }\n",
              "\n",
              "  [theme=dark] .colab-df-quickchart {\n",
              "      --bg-color: #3B4455;\n",
              "      --fill-color: #D2E3FC;\n",
              "      --hover-bg-color: #434B5C;\n",
              "      --hover-fill-color: #FFFFFF;\n",
              "      --disabled-bg-color: #3B4455;\n",
              "      --disabled-fill-color: #666;\n",
              "  }\n",
              "\n",
              "  .colab-df-quickchart {\n",
              "    background-color: var(--bg-color);\n",
              "    border: none;\n",
              "    border-radius: 50%;\n",
              "    cursor: pointer;\n",
              "    display: none;\n",
              "    fill: var(--fill-color);\n",
              "    height: 32px;\n",
              "    padding: 0;\n",
              "    width: 32px;\n",
              "  }\n",
              "\n",
              "  .colab-df-quickchart:hover {\n",
              "    background-color: var(--hover-bg-color);\n",
              "    box-shadow: 0 1px 2px rgba(60, 64, 67, 0.3), 0 1px 3px 1px rgba(60, 64, 67, 0.15);\n",
              "    fill: var(--button-hover-fill-color);\n",
              "  }\n",
              "\n",
              "  .colab-df-quickchart-complete:disabled,\n",
              "  .colab-df-quickchart-complete:disabled:hover {\n",
              "    background-color: var(--disabled-bg-color);\n",
              "    fill: var(--disabled-fill-color);\n",
              "    box-shadow: none;\n",
              "  }\n",
              "\n",
              "  .colab-df-spinner {\n",
              "    border: 2px solid var(--fill-color);\n",
              "    border-color: transparent;\n",
              "    border-bottom-color: var(--fill-color);\n",
              "    animation:\n",
              "      spin 1s steps(1) infinite;\n",
              "  }\n",
              "\n",
              "  @keyframes spin {\n",
              "    0% {\n",
              "      border-color: transparent;\n",
              "      border-bottom-color: var(--fill-color);\n",
              "      border-left-color: var(--fill-color);\n",
              "    }\n",
              "    20% {\n",
              "      border-color: transparent;\n",
              "      border-left-color: var(--fill-color);\n",
              "      border-top-color: var(--fill-color);\n",
              "    }\n",
              "    30% {\n",
              "      border-color: transparent;\n",
              "      border-left-color: var(--fill-color);\n",
              "      border-top-color: var(--fill-color);\n",
              "      border-right-color: var(--fill-color);\n",
              "    }\n",
              "    40% {\n",
              "      border-color: transparent;\n",
              "      border-right-color: var(--fill-color);\n",
              "      border-top-color: var(--fill-color);\n",
              "    }\n",
              "    60% {\n",
              "      border-color: transparent;\n",
              "      border-right-color: var(--fill-color);\n",
              "    }\n",
              "    80% {\n",
              "      border-color: transparent;\n",
              "      border-right-color: var(--fill-color);\n",
              "      border-bottom-color: var(--fill-color);\n",
              "    }\n",
              "    90% {\n",
              "      border-color: transparent;\n",
              "      border-bottom-color: var(--fill-color);\n",
              "    }\n",
              "  }\n",
              "</style>\n",
              "\n",
              "  <script>\n",
              "    async function quickchart(key) {\n",
              "      const quickchartButtonEl =\n",
              "        document.querySelector('#' + key + ' button');\n",
              "      quickchartButtonEl.disabled = true;  // To prevent multiple clicks.\n",
              "      quickchartButtonEl.classList.add('colab-df-spinner');\n",
              "      try {\n",
              "        const charts = await google.colab.kernel.invokeFunction(\n",
              "            'suggestCharts', [key], {});\n",
              "      } catch (error) {\n",
              "        console.error('Error during call to suggestCharts:', error);\n",
              "      }\n",
              "      quickchartButtonEl.classList.remove('colab-df-spinner');\n",
              "      quickchartButtonEl.classList.add('colab-df-quickchart-complete');\n",
              "    }\n",
              "    (() => {\n",
              "      let quickchartButtonEl =\n",
              "        document.querySelector('#df-c58828b3-2a80-43b2-bcee-48e3305cb778 button');\n",
              "      quickchartButtonEl.style.display =\n",
              "        google.colab.kernel.accessAllowed ? 'block' : 'none';\n",
              "    })();\n",
              "  </script>\n",
              "</div>\n",
              "\n",
              "    </div>\n",
              "  </div>\n"
            ],
            "application/vnd.google.colaboratory.intrinsic+json": {
              "type": "dataframe",
              "summary": "{\n  \"name\": \"df\",\n  \"rows\": 2,\n  \"fields\": [\n    {\n      \"column\": \"family\",\n      \"properties\": {\n        \"dtype\": \"string\",\n        \"num_unique_values\": 2,\n        \"samples\": [\n          \"AUTOMOTIVE\",\n          \"BEAUTY\"\n        ],\n        \"semantic_type\": \"\",\n        \"description\": \"\"\n      }\n    },\n    {\n      \"column\": \"sales\",\n      \"properties\": {\n        \"dtype\": \"number\",\n        \"std\": 2.3191124501852505,\n        \"min\": 4.263403263403263,\n        \"max\": 7.543123543123543,\n        \"num_unique_values\": 2,\n        \"samples\": [\n          7.543123543123543,\n          4.263403263403263\n        ],\n        \"semantic_type\": \"\",\n        \"description\": \"\"\n      }\n    }\n  ]\n}"
            }
          },
          "metadata": {},
          "execution_count": 24
        }
      ]
    },
    {
      "cell_type": "code",
      "source": [
        "new_df=df.groupby('family').agg({'sales':'mean'}).loc[['BEAUTY','AUTOMOTIVE']]\n",
        "#data.function_name()"
      ],
      "metadata": {
        "id": "YFTiuGI71H-0"
      },
      "execution_count": null,
      "outputs": []
    },
    {
      "cell_type": "code",
      "source": [
        "new_df.plot(kind = 'bar')#shift tab for options"
      ],
      "metadata": {
        "colab": {
          "base_uri": "https://localhost:8080/",
          "height": 545
        },
        "id": "svccXufx15wL",
        "outputId": "66c58a3a-a0e4-4db1-face-c7ba4ce5d3a7"
      },
      "execution_count": null,
      "outputs": [
        {
          "output_type": "execute_result",
          "data": {
            "text/plain": [
              "<Axes: xlabel='family'>"
            ]
          },
          "metadata": {},
          "execution_count": 28
        },
        {
          "output_type": "display_data",
          "data": {
            "text/plain": [
              "<Figure size 640x480 with 1 Axes>"
            ],
            "image/png": "[encoded data removed]"
          },
          "metadata": {}
        }
      ]
    },
    {
      "cell_type": "code",
      "source": [
        "new_df.plot(kind = 'bar', logy = True, yticks=[5,6,7,8],ylim = (0,8))"
      ],
      "metadata": {
        "colab": {
          "base_uri": "https://localhost:8080/",
          "height": 608
        },
        "id": "LIELbX1B2AHq",
        "outputId": "37cec6a0-08e9-4cbc-d494-da31b33d16d6"
      },
      "execution_count": null,
      "outputs": [
        {
          "output_type": "stream",
          "name": "stderr",
          "text": [
            "/usr/local/lib/python3.10/dist-packages/pandas/plotting/_matplotlib/core.py:699: UserWarning: Attempt to set non-positive ylim on a log-scaled axis will be ignored.\n",
            "  ax.set_ylim(self.ylim)\n"
          ]
        },
        {
          "output_type": "execute_result",
          "data": {
            "text/plain": [
              "<Axes: xlabel='family'>"
            ]
          },
          "metadata": {},
          "execution_count": 32
        },
        {
          "output_type": "display_data",
          "data": {
            "text/plain": [
              "<Figure size 640x480 with 1 Axes>"
            ],
            "image/png": "[encoded data removed]"
          },
          "metadata": {}
        }
      ]
    },
    {
      "cell_type": "code",
      "source": [
        "new_df.plot(kind = 'line')"
      ],
      "metadata": {
        "colab": {
          "base_uri": "https://localhost:8080/",
          "height": 466
        },
        "id": "jCJGLmeI2ffz",
        "outputId": "208c972d-abd9-47c6-b025-fb2118a492e6"
      },
      "execution_count": null,
      "outputs": [
        {
          "output_type": "execute_result",
          "data": {
            "text/plain": [
              "<Axes: xlabel='family'>"
            ]
          },
          "metadata": {},
          "execution_count": 33
        },
        {
          "output_type": "display_data",
          "data": {
            "text/plain": [
              "<Figure size 640x480 with 1 Axes>"
            ],
            "image/png": "[encoded data removed]"
          },
          "metadata": {}
        }
      ]
    },
    {
      "cell_type": "code",
      "source": [
        "#onpromotion -> category"
      ],
      "metadata": {
        "id": "6Uh_wn4D3CuI"
      },
      "execution_count": null,
      "outputs": []
    },
    {
      "cell_type": "code",
      "source": [
        "df.onpromotion.nunique()\n",
        "df = df.astype({'onpromotion': 'category'})"
      ],
      "metadata": {
        "id": "ymX7BmhC3V-b"
      },
      "execution_count": null,
      "outputs": []
    },
    {
      "cell_type": "code",
      "source": [
        "#family->'AUTOMOTIVE',onpromotion= 34 or 1 ,sales average"
      ],
      "metadata": {
        "id": "xWIX_eSL3afd"
      },
      "execution_count": null,
      "outputs": []
    },
    {
      "cell_type": "code",
      "source": [
        "df.loc[(df.family == 'AUTOMOTIVE') & (df.onpromotion == 34)].sales.mean()"
      ],
      "metadata": {
        "colab": {
          "base_uri": "https://localhost:8080/"
        },
        "id": "MZhFHN-h3m0C",
        "outputId": "9f0764f6-4563-4aa9-ce67-4dca948e425f"
      },
      "execution_count": null,
      "outputs": [
        {
          "output_type": "execute_result",
          "data": {
            "text/plain": [
              "nan"
            ]
          },
          "metadata": {},
          "execution_count": 42
        }
      ]
    },
    {
      "cell_type": "code",
      "source": [
        "#crosstab"
      ],
      "metadata": {
        "id": "3JcjYOEA34ZS"
      },
      "execution_count": null,
      "outputs": []
    },
    {
      "cell_type": "code",
      "source": [
        "pd.crosstab(df.family, df.store_nbr, values = df.sales,aggfunc = 'mean')"
      ],
      "metadata": {
        "colab": {
          "base_uri": "https://localhost:8080/",
          "height": 1000
        },
        "id": "LnSnutpE5JfM",
        "outputId": "de6d0a61-d0a6-43cc-cda8-60e3f956e651"
      },
      "execution_count": null,
      "outputs": [
        {
          "output_type": "execute_result",
          "data": {
            "text/plain": [
              "store_nbr                          1.0          2.0          3.0   \\\n",
              "family                                                              \n",
              "AUTOMOTIVE                     4.847222     7.055556    12.972222   \n",
              "BABY CARE                      0.000000     0.000000     0.000000   \n",
              "BEAUTY                         1.819444     5.777778     9.944444   \n",
              "BEVERAGES                   1993.569444  3162.333333  8535.861111   \n",
              "BOOKS                          0.000000     0.000000     0.000000   \n",
              "BREAD/BAKERY                 363.210319   671.649250  1319.324724   \n",
              "CELEBRATION                   14.652778    13.833333    45.486111   \n",
              "CLEANING                     658.194444   983.944444  2181.819444   \n",
              "DAIRY                        722.402778   981.111111  2427.444444   \n",
              "DELI                         125.338222   244.400959   407.143320   \n",
              "EGGS                         143.472222   185.486111   522.375000   \n",
              "FROZEN FOODS                 114.438097   153.153250   401.066222   \n",
              "GROCERY I                   2329.069444  4047.430556  8077.714597   \n",
              "GROCERY II                    19.527778    32.902778    76.694444   \n",
              "HARDWARE                       1.111111     1.763889     3.513889   \n",
              "HOME AND KITCHEN I            16.361111    19.597222    48.152778   \n",
              "HOME AND KITCHEN II           22.958333    35.111111    75.930556   \n",
              "HOME APPLIANCES                0.430556     0.666667     2.236111   \n",
              "HOME CARE                    161.944444   275.763889   498.263889   \n",
              "LADIESWEAR                    14.708333    29.750000    49.791667   \n",
              "LAWN AND GARDEN                7.375000     5.930556    20.250000   \n",
              "LINGERIE                       3.277778     5.083333    23.944444   \n",
              "LIQUOR,WINE,BEER             103.097222    93.305556   206.166667   \n",
              "MAGAZINES                      7.458333     7.847222    25.680556   \n",
              "MEATS                        291.089654   469.533611   850.007359   \n",
              "PERSONAL CARE                149.736111   284.555556   580.472222   \n",
              "PET SUPPLIES                   5.208333     7.402778    18.263889   \n",
              "PLAYERS AND ELECTRONICS        9.375000     6.611111    22.013889   \n",
              "POULTRY                      287.343028   547.087806  1260.593221   \n",
              "PREPARED FOODS                87.664375   145.803277   374.445112   \n",
              "PRODUCE                     2510.849247  2928.906890  8999.845236   \n",
              "SCHOOL AND OFFICE SUPPLIES     0.097222     1.083333     1.041667   \n",
              "SEAFOOD                       27.584333    36.482542   107.043584   \n",
              "\n",
              "store_nbr                          4.0          5.0          6.0   \\\n",
              "family                                                              \n",
              "AUTOMOTIVE                     4.352113     6.676056     6.647887   \n",
              "BABY CARE                      0.000000     0.000000     0.000000   \n",
              "BEAUTY                         4.901408     6.211268     8.028169   \n",
              "BEVERAGES                   2880.732394  1767.056338  4175.028169   \n",
              "BOOKS                          0.000000     0.000000     0.000000   \n",
              "BREAD/BAKERY                 425.408874   347.358549   597.333057   \n",
              "CELEBRATION                   10.647887    27.915493    15.647887   \n",
              "CLEANING                     912.591549   906.605634  1299.816901   \n",
              "DAIRY                        922.633803   486.535211  1106.915493   \n",
              "DELI                         228.654423   225.715239   363.002761   \n",
              "EGGS                         175.366197    95.295775   200.267606   \n",
              "FROZEN FOODS                 124.496803   123.868648   195.254141   \n",
              "GROCERY I                   3604.619718  2934.181662  4979.225352   \n",
              "GROCERY II                    17.436620    16.915493    34.281690   \n",
              "HARDWARE                       1.225352     0.802817     1.239437   \n",
              "HOME AND KITCHEN I            17.000000    21.535211    19.774648   \n",
              "HOME AND KITCHEN II           17.915493    21.366197    71.830986   \n",
              "HOME APPLIANCES                0.563380     0.676056     0.281690   \n",
              "HOME CARE                    245.422535   202.281690   313.098592   \n",
              "LADIESWEAR                    25.126761    12.323944    31.323944   \n",
              "LAWN AND GARDEN                7.971831     1.239437     7.478873   \n",
              "LINGERIE                       4.619718    10.352113     5.591549   \n",
              "LIQUOR,WINE,BEER              67.507042    57.647887    84.802817   \n",
              "MAGAZINES                      7.647887     8.056338     8.521127   \n",
              "MEATS                        390.263211   256.245985   508.715465   \n",
              "PERSONAL CARE                262.647887   272.169014   366.887324   \n",
              "PET SUPPLIES                   6.521127     2.845070     9.464789   \n",
              "PLAYERS AND ELECTRONICS        7.732394     7.422535     8.704225   \n",
              "POULTRY                      503.819718   235.116198   693.736365   \n",
              "PREPARED FOODS               101.868944    74.034901   138.506239   \n",
              "PRODUCE                     2769.192621  1543.772479  2994.076676   \n",
              "SCHOOL AND OFFICE SUPPLIES     0.450704     0.042254     0.859155   \n",
              "SEAFOOD                       35.842831    12.279155    45.460183   \n",
              "\n",
              "store_nbr                          7.0          8.0          9.0   \\\n",
              "family                                                              \n",
              "AUTOMOTIVE                     5.338028     6.014085    16.774648   \n",
              "BABY CARE                      0.000000     0.000000     0.422535   \n",
              "BEAUTY                         4.169014     7.366197     5.450704   \n",
              "BEVERAGES                   4319.732394  4520.323944  3773.239437   \n",
              "BOOKS                          0.000000     0.000000     0.000000   \n",
              "BREAD/BAKERY                 727.698015   811.978746   525.788732   \n",
              "CELEBRATION                   21.098592    25.450704    19.521127   \n",
              "CLEANING                    1153.450704  1265.802817  1831.197183   \n",
              "DAIRY                       1492.915493  1614.929577   854.830986   \n",
              "DELI                         168.919239   281.966211   642.801465   \n",
              "EGGS                         297.169014   318.732394   181.605634   \n",
              "FROZEN FOODS                 246.342690   199.794718   121.517380   \n",
              "GROCERY I                   4016.887324  4810.929577  6562.414831   \n",
              "GROCERY II                    44.450704    35.690141     9.169014   \n",
              "HARDWARE                       2.802817     3.098592     1.859155   \n",
              "HOME AND KITCHEN I            17.000000    34.591549    31.366197   \n",
              "HOME AND KITCHEN II           20.676056    62.042254    23.070423   \n",
              "HOME APPLIANCES                1.140845     1.478873     0.704225   \n",
              "HOME CARE                    242.028169   369.549296   465.915493   \n",
              "LADIESWEAR                     9.887324    34.267606    14.239437   \n",
              "LAWN AND GARDEN               15.563380    14.070423     4.169014   \n",
              "LINGERIE                       6.943662    15.887324     3.577465   \n",
              "LIQUOR,WINE,BEER             156.478873   140.225352    45.225352   \n",
              "MAGAZINES                     13.126761    17.000000     3.661972   \n",
              "MEATS                        521.404225   510.438310   406.976057   \n",
              "PERSONAL CARE                252.394366   382.816901   517.676056   \n",
              "PET SUPPLIES                   5.436620    16.338028     5.253521   \n",
              "PLAYERS AND ELECTRONICS        8.774648    15.225352     8.352113   \n",
              "POULTRY                      713.719549   665.078125   485.523506   \n",
              "PREPARED FOODS               201.690648   195.809380    99.461268   \n",
              "PRODUCE                     6021.507238  5225.644028  1686.106027   \n",
              "SCHOOL AND OFFICE SUPPLIES     0.535211     0.492958     5.338028   \n",
              "SEAFOOD                       65.233366    57.647606    16.439873   \n",
              "\n",
              "store_nbr                          10.0  ...          45.0         46.0  \\\n",
              "family                                   ...                              \n",
              "AUTOMOTIVE                     4.805556  ...     16.521127    17.056338   \n",
              "BABY CARE                      0.152778  ...      0.000000     0.000000   \n",
              "BEAUTY                         2.097222  ...     12.690141    11.577465   \n",
              "BEVERAGES                   1117.125000  ...   8739.971831  5726.732394   \n",
              "BOOKS                          0.000000  ...      0.000000     0.000000   \n",
              "BREAD/BAKERY                 106.902778  ...   1211.647183   733.961325   \n",
              "CELEBRATION                    4.569444  ...     39.281690    25.605634   \n",
              "CLEANING                     745.138889  ...   2701.774648  2303.253521   \n",
              "DAIRY                        261.194444  ...   2382.338028  1553.028169   \n",
              "DELI                         272.791667  ...    626.511577   817.843352   \n",
              "EGGS                          49.958333  ...    392.070423   148.816901   \n",
              "FROZEN FOODS                  42.770417  ...    435.578338   281.922916   \n",
              "GROCERY I                   2550.486111  ...  10099.202197  8661.000000   \n",
              "GROCERY II                     3.125000  ...     69.577465    34.239437   \n",
              "HARDWARE                       0.291667  ...      0.985915     1.732394   \n",
              "HOME AND KITCHEN I             8.555556  ...     67.619718    29.098592   \n",
              "HOME AND KITCHEN II            7.111111  ...    118.929577   103.985915   \n",
              "HOME APPLIANCES                0.152778  ...      1.605634     1.535211   \n",
              "HOME CARE                    183.916667  ...    621.394366   628.605634   \n",
              "LADIESWEAR                     3.833333  ...     22.436620    28.042254   \n",
              "LAWN AND GARDEN                0.000000  ...     15.661972     6.985915   \n",
              "LINGERIE                       1.361111  ...      3.887324     5.915493   \n",
              "LIQUOR,WINE,BEER              10.027778  ...    272.352113   104.873239   \n",
              "MAGAZINES                      0.430556  ...     17.154930     9.647887   \n",
              "MEATS                        172.646083  ...   1260.293183  1105.708480   \n",
              "PERSONAL CARE                202.875000  ...    726.366197   812.915493   \n",
              "PET SUPPLIES                   0.319444  ...     19.633803    19.563380   \n",
              "PLAYERS AND ELECTRONICS        4.805556  ...     26.732394    15.197183   \n",
              "POULTRY                      173.404959  ...   1408.554632  1070.541072   \n",
              "PREPARED FOODS                30.388889  ...    340.181789   181.860675   \n",
              "PRODUCE                      244.650667  ...   7008.929982  3254.381030   \n",
              "SCHOOL AND OFFICE SUPPLIES     0.000000  ...     10.394366     7.704225   \n",
              "SEAFOOD                        3.763889  ...    102.438155    55.699606   \n",
              "\n",
              "store_nbr                          47.0         48.0         49.0  \\\n",
              "family                                                              \n",
              "AUTOMOTIVE                    17.281690    15.577465    11.000000   \n",
              "BABY CARE                      0.000000     0.000000     0.000000   \n",
              "BEAUTY                        16.169014    13.436620     8.338028   \n",
              "BEVERAGES                   8147.929577  4728.676056  6956.929577   \n",
              "BOOKS                          0.000000     0.000000     0.000000   \n",
              "BREAD/BAKERY                1179.257085   686.519127  1175.068549   \n",
              "CELEBRATION                   32.492958    22.704225    36.971831   \n",
              "CLEANING                    2379.816901  2192.154930  1906.197183   \n",
              "DAIRY                       2320.098592  1313.169014  2420.014085   \n",
              "DELI                         642.945451   655.070211   389.287380   \n",
              "EGGS                         341.549296   132.239437   475.788732   \n",
              "FROZEN FOODS                 339.524676   217.257760   411.827408   \n",
              "GROCERY I                   9705.126761  8132.140845  7336.605634   \n",
              "GROCERY II                    66.408451    39.098592    63.112676   \n",
              "HARDWARE                       2.352113     0.985915     1.943662   \n",
              "HOME AND KITCHEN I            38.887324    35.056338    42.732394   \n",
              "HOME AND KITCHEN II           53.070423    31.478873    42.239437   \n",
              "HOME APPLIANCES                2.859155     0.676056     1.225352   \n",
              "HOME CARE                    652.633803   596.450704   450.140845   \n",
              "LADIESWEAR                    30.126761    26.704225    16.647887   \n",
              "LAWN AND GARDEN               11.774648     5.183099    15.788732   \n",
              "LINGERIE                       3.718310     3.309859     7.014085   \n",
              "LIQUOR,WINE,BEER             148.704225    86.577465   226.760563   \n",
              "MAGAZINES                     17.661972     6.788732    17.718310   \n",
              "MEATS                        957.137255  1020.790394   858.345775   \n",
              "PERSONAL CARE                826.169014   808.366197   487.591549   \n",
              "PET SUPPLIES                  21.098592    12.845070    15.507042   \n",
              "PLAYERS AND ELECTRONICS       22.549296    14.971831    25.000000   \n",
              "POULTRY                     1277.198194   953.164631  1061.236832   \n",
              "PREPARED FOODS               312.664760   139.990873   324.908212   \n",
              "PRODUCE                     6678.160590  2421.564003  8572.587955   \n",
              "SCHOOL AND OFFICE SUPPLIES    10.126761     5.619718     6.028169   \n",
              "SEAFOOD                       97.426803    32.288732    96.255901   \n",
              "\n",
              "store_nbr                          50.0         51.0  52.0         53.0  \\\n",
              "family                                                                    \n",
              "AUTOMOTIVE                    10.591549     6.887324   0.0     6.042254   \n",
              "BABY CARE                      0.000000     0.000000   0.0     0.000000   \n",
              "BEAUTY                        10.661972     5.253521   0.0     4.338028   \n",
              "BEVERAGES                   3928.901408  4577.943662   0.0  1465.718310   \n",
              "BOOKS                          0.000000     0.000000   0.0     0.000000   \n",
              "BREAD/BAKERY                 644.330169   840.283055   0.0   348.783831   \n",
              "CELEBRATION                   37.507042    18.816901   0.0     7.042254   \n",
              "CLEANING                    1608.014085  1519.422535   0.0   729.169014   \n",
              "DAIRY                       1087.140845  1554.436620   0.0   371.929577   \n",
              "DELI                         448.423324   223.707451   0.0   156.319845   \n",
              "EGGS                         106.211268   321.943662   0.0    81.394366   \n",
              "FROZEN FOODS                 167.828803   294.368986   0.0   146.735972   \n",
              "GROCERY I                   5992.661972  4849.056338   0.0  2091.802817   \n",
              "GROCERY II                    46.718310    30.985915   0.0    10.014085   \n",
              "HARDWARE                       1.394366     1.408451   0.0     0.957746   \n",
              "HOME AND KITCHEN I            55.070423    22.154930   0.0    14.845070   \n",
              "HOME AND KITCHEN II           85.718310    22.267606   0.0    18.535211   \n",
              "HOME APPLIANCES                0.774648     1.549296   0.0     0.183099   \n",
              "HOME CARE                    427.154930   321.253521   0.0   150.366197   \n",
              "LADIESWEAR                    21.873239     3.633803   0.0     4.126761   \n",
              "LAWN AND GARDEN                4.183099    13.281690   0.0     2.309859   \n",
              "LINGERIE                       3.281690     3.478873   0.0     2.647887   \n",
              "LIQUOR,WINE,BEER             109.647887   127.859155   0.0    82.042254   \n",
              "MAGAZINES                     10.028169    11.492958   0.0     3.366197   \n",
              "MEATS                        509.380113   638.753002   0.0   196.749563   \n",
              "PERSONAL CARE                572.971831   299.084507   0.0   195.887324   \n",
              "PET SUPPLIES                   8.690141    19.295775   0.0     2.014085   \n",
              "PLAYERS AND ELECTRONICS       23.098592     8.183099   0.0     4.478873   \n",
              "POULTRY                      441.675579   936.058450   0.0   156.931704   \n",
              "PREPARED FOODS               112.725803   159.059676   0.0    61.048817   \n",
              "PRODUCE                     2476.965130  5463.992293   0.0  1627.596621   \n",
              "SCHOOL AND OFFICE SUPPLIES     4.070423     2.394366   0.0     0.338028   \n",
              "SEAFOOD                       21.563620    66.729662   0.0     3.561634   \n",
              "\n",
              "store_nbr                          54.0  \n",
              "family                                   \n",
              "AUTOMOTIVE                     7.281690  \n",
              "BABY CARE                      1.211268  \n",
              "BEAUTY                         0.267606  \n",
              "BEVERAGES                   1440.957746  \n",
              "BOOKS                          0.000000  \n",
              "BREAD/BAKERY                 205.718310  \n",
              "CELEBRATION                    4.422535  \n",
              "CLEANING                    1093.901408  \n",
              "DAIRY                        183.492958  \n",
              "DELI                         183.647887  \n",
              "EGGS                          80.338028  \n",
              "FROZEN FOODS                  36.282000  \n",
              "GROCERY I                   2719.154930  \n",
              "GROCERY II                    10.563380  \n",
              "HARDWARE                       0.915493  \n",
              "HOME AND KITCHEN I            17.957746  \n",
              "HOME AND KITCHEN II            8.901408  \n",
              "HOME APPLIANCES                0.211268  \n",
              "HOME CARE                    206.000000  \n",
              "LADIESWEAR                     0.000000  \n",
              "LAWN AND GARDEN                0.000000  \n",
              "LINGERIE                       2.661972  \n",
              "LIQUOR,WINE,BEER              22.084507  \n",
              "MAGAZINES                      0.802817  \n",
              "MEATS                         52.197789  \n",
              "PERSONAL CARE                207.436620  \n",
              "PET SUPPLIES                   0.000000  \n",
              "PLAYERS AND ELECTRONICS        3.056338  \n",
              "POULTRY                       52.611535  \n",
              "PREPARED FOODS                56.225352  \n",
              "PRODUCE                      570.996338  \n",
              "SCHOOL AND OFFICE SUPPLIES     0.154930  \n",
              "SEAFOOD                        1.169014  \n",
              "\n",
              "[33 rows x 54 columns]"
            ],
            "text/html": [
              "\n",
              "  <div id=\"df-a4e69169-1df7-4412-ad8d-c771e5e94f1d\" class=\"colab-df-container\">\n",
              "    <div>\n",
              "<style scoped>\n",
              "    .dataframe tbody tr th:only-of-type {\n",
              "        vertical-align: middle;\n",
              "    }\n",
              "\n",
              "    .dataframe tbody tr th {\n",
              "        vertical-align: top;\n",
              "    }\n",
              "\n",
              "    .dataframe thead th {\n",
              "        text-align: right;\n",
              "    }\n",
              "</style>\n",
              "<table border=\"1\" class=\"dataframe\">\n",
              "  <thead>\n",
              "    <tr style=\"text-align: right;\">\n",
              "      <th>store_nbr</th>\n",
              "      <th>1.0</th>\n",
              "      <th>2.0</th>\n",
              "      <th>3.0</th>\n",
              "      <th>4.0</th>\n",
              "      <th>5.0</th>\n",
              "      <th>6.0</th>\n",
              "      <th>7.0</th>\n",
              "      <th>8.0</th>\n",
              "      <th>9.0</th>\n",
              "      <th>10.0</th>\n",
              "      <th>...</th>\n",
              "      <th>45.0</th>\n",
              "      <th>46.0</th>\n",
              "      <th>47.0</th>\n",
              "      <th>48.0</th>\n",
              "      <th>49.0</th>\n",
              "      <th>50.0</th>\n",
              "      <th>51.0</th>\n",
              "      <th>52.0</th>\n",
              "      <th>53.0</th>\n",
              "      <th>54.0</th>\n",
              "    </tr>\n",
              "    <tr>\n",
              "      <th>family</th>\n",
              "      <th></th>\n",
              "      <th></th>\n",
              "      <th></th>\n",
              "      <th></th>\n",
              "      <th></th>\n",
              "      <th></th>\n",
              "      <th></th>\n",
              "      <th></th>\n",
              "      <th></th>\n",
              "      <th></th>\n",
              "      <th></th>\n",
              "      <th></th>\n",
              "      <th></th>\n",
              "      <th></th>\n",
              "      <th></th>\n",
              "      <th></th>\n",
              "      <th></th>\n",
              "      <th></th>\n",
              "      <th></th>\n",
              "      <th></th>\n",
              "      <th></th>\n",
              "    </tr>\n",
              "  </thead>\n",
              "  <tbody>\n",
              "    <tr>\n",
              "      <th>AUTOMOTIVE</th>\n",
              "      <td>4.847222</td>\n",
              "      <td>7.055556</td>\n",
              "      <td>12.972222</td>\n",
              "      <td>4.352113</td>\n",
              "      <td>6.676056</td>\n",
              "      <td>6.647887</td>\n",
              "      <td>5.338028</td>\n",
              "      <td>6.014085</td>\n",
              "      <td>16.774648</td>\n",
              "      <td>4.805556</td>\n",
              "      <td>...</td>\n",
              "      <td>16.521127</td>\n",
              "      <td>17.056338</td>\n",
              "      <td>17.281690</td>\n",
              "      <td>15.577465</td>\n",
              "      <td>11.000000</td>\n",
              "      <td>10.591549</td>\n",
              "      <td>6.887324</td>\n",
              "      <td>0.0</td>\n",
              "      <td>6.042254</td>\n",
              "      <td>7.281690</td>\n",
              "    </tr>\n",
              "    <tr>\n",
              "      <th>BABY CARE</th>\n",
              "      <td>0.000000</td>\n",
              "      <td>0.000000</td>\n",
              "      <td>0.000000</td>\n",
              "      <td>0.000000</td>\n",
              "      <td>0.000000</td>\n",
              "      <td>0.000000</td>\n",
              "      <td>0.000000</td>\n",
              "      <td>0.000000</td>\n",
              "      <td>0.422535</td>\n",
              "      <td>0.152778</td>\n",
              "      <td>...</td>\n",
              "      <td>0.000000</td>\n",
              "      <td>0.000000</td>\n",
              "      <td>0.000000</td>\n",
              "      <td>0.000000</td>\n",
              "      <td>0.000000</td>\n",
              "      <td>0.000000</td>\n",
              "      <td>0.000000</td>\n",
              "      <td>0.0</td>\n",
              "      <td>0.000000</td>\n",
              "      <td>1.211268</td>\n",
              "    </tr>\n",
              "    <tr>\n",
              "      <th>BEAUTY</th>\n",
              "      <td>1.819444</td>\n",
              "      <td>5.777778</td>\n",
              "      <td>9.944444</td>\n",
              "      <td>4.901408</td>\n",
              "      <td>6.211268</td>\n",
              "      <td>8.028169</td>\n",
              "      <td>4.169014</td>\n",
              "      <td>7.366197</td>\n",
              "      <td>5.450704</td>\n",
              "      <td>2.097222</td>\n",
              "      <td>...</td>\n",
              "      <td>12.690141</td>\n",
              "      <td>11.577465</td>\n",
              "      <td>16.169014</td>\n",
              "      <td>13.436620</td>\n",
              "      <td>8.338028</td>\n",
              "      <td>10.661972</td>\n",
              "      <td>5.253521</td>\n",
              "      <td>0.0</td>\n",
              "      <td>4.338028</td>\n",
              "      <td>0.267606</td>\n",
              "    </tr>\n",
              "    <tr>\n",
              "      <th>BEVERAGES</th>\n",
              "      <td>1993.569444</td>\n",
              "      <td>3162.333333</td>\n",
              "      <td>8535.861111</td>\n",
              "      <td>2880.732394</td>\n",
              "      <td>1767.056338</td>\n",
              "      <td>4175.028169</td>\n",
              "      <td>4319.732394</td>\n",
              "      <td>4520.323944</td>\n",
              "      <td>3773.239437</td>\n",
              "      <td>1117.125000</td>\n",
              "      <td>...</td>\n",
              "      <td>8739.971831</td>\n",
              "      <td>5726.732394</td>\n",
              "      <td>8147.929577</td>\n",
              "      <td>4728.676056</td>\n",
              "      <td>6956.929577</td>\n",
              "      <td>3928.901408</td>\n",
              "      <td>4577.943662</td>\n",
              "      <td>0.0</td>\n",
              "      <td>1465.718310</td>\n",
              "      <td>1440.957746</td>\n",
              "    </tr>\n",
              "    <tr>\n",
              "      <th>BOOKS</th>\n",
              "      <td>0.000000</td>\n",
              "      <td>0.000000</td>\n",
              "      <td>0.000000</td>\n",
              "      <td>0.000000</td>\n",
              "      <td>0.000000</td>\n",
              "      <td>0.000000</td>\n",
              "      <td>0.000000</td>\n",
              "      <td>0.000000</td>\n",
              "      <td>0.000000</td>\n",
              "      <td>0.000000</td>\n",
              "      <td>...</td>\n",
              "      <td>0.000000</td>\n",
              "      <td>0.000000</td>\n",
              "      <td>0.000000</td>\n",
              "      <td>0.000000</td>\n",
              "      <td>0.000000</td>\n",
              "      <td>0.000000</td>\n",
              "      <td>0.000000</td>\n",
              "      <td>0.0</td>\n",
              "      <td>0.000000</td>\n",
              "      <td>0.000000</td>\n",
              "    </tr>\n",
              "    <tr>\n",
              "      <th>BREAD/BAKERY</th>\n",
              "      <td>363.210319</td>\n",
              "      <td>671.649250</td>\n",
              "      <td>1319.324724</td>\n",
              "      <td>425.408874</td>\n",
              "      <td>347.358549</td>\n",
              "      <td>597.333057</td>\n",
              "      <td>727.698015</td>\n",
              "      <td>811.978746</td>\n",
              "      <td>525.788732</td>\n",
              "      <td>106.902778</td>\n",
              "      <td>...</td>\n",
              "      <td>1211.647183</td>\n",
              "      <td>733.961325</td>\n",
              "      <td>1179.257085</td>\n",
              "      <td>686.519127</td>\n",
              "      <td>1175.068549</td>\n",
              "      <td>644.330169</td>\n",
              "      <td>840.283055</td>\n",
              "      <td>0.0</td>\n",
              "      <td>348.783831</td>\n",
              "      <td>205.718310</td>\n",
              "    </tr>\n",
              "    <tr>\n",
              "      <th>CELEBRATION</th>\n",
              "      <td>14.652778</td>\n",
              "      <td>13.833333</td>\n",
              "      <td>45.486111</td>\n",
              "      <td>10.647887</td>\n",
              "      <td>27.915493</td>\n",
              "      <td>15.647887</td>\n",
              "      <td>21.098592</td>\n",
              "      <td>25.450704</td>\n",
              "      <td>19.521127</td>\n",
              "      <td>4.569444</td>\n",
              "      <td>...</td>\n",
              "      <td>39.281690</td>\n",
              "      <td>25.605634</td>\n",
              "      <td>32.492958</td>\n",
              "      <td>22.704225</td>\n",
              "      <td>36.971831</td>\n",
              "      <td>37.507042</td>\n",
              "      <td>18.816901</td>\n",
              "      <td>0.0</td>\n",
              "      <td>7.042254</td>\n",
              "      <td>4.422535</td>\n",
              "    </tr>\n",
              "    <tr>\n",
              "      <th>CLEANING</th>\n",
              "      <td>658.194444</td>\n",
              "      <td>983.944444</td>\n",
              "      <td>2181.819444</td>\n",
              "      <td>912.591549</td>\n",
              "      <td>906.605634</td>\n",
              "      <td>1299.816901</td>\n",
              "      <td>1153.450704</td>\n",
              "      <td>1265.802817</td>\n",
              "      <td>1831.197183</td>\n",
              "      <td>745.138889</td>\n",
              "      <td>...</td>\n",
              "      <td>2701.774648</td>\n",
              "      <td>2303.253521</td>\n",
              "      <td>2379.816901</td>\n",
              "      <td>2192.154930</td>\n",
              "      <td>1906.197183</td>\n",
              "      <td>1608.014085</td>\n",
              "      <td>1519.422535</td>\n",
              "      <td>0.0</td>\n",
              "      <td>729.169014</td>\n",
              "      <td>1093.901408</td>\n",
              "    </tr>\n",
              "    <tr>\n",
              "      <th>DAIRY</th>\n",
              "      <td>722.402778</td>\n",
              "      <td>981.111111</td>\n",
              "      <td>2427.444444</td>\n",
              "      <td>922.633803</td>\n",
              "      <td>486.535211</td>\n",
              "      <td>1106.915493</td>\n",
              "      <td>1492.915493</td>\n",
              "      <td>1614.929577</td>\n",
              "      <td>854.830986</td>\n",
              "      <td>261.194444</td>\n",
              "      <td>...</td>\n",
              "      <td>2382.338028</td>\n",
              "      <td>1553.028169</td>\n",
              "      <td>2320.098592</td>\n",
              "      <td>1313.169014</td>\n",
              "      <td>2420.014085</td>\n",
              "      <td>1087.140845</td>\n",
              "      <td>1554.436620</td>\n",
              "      <td>0.0</td>\n",
              "      <td>371.929577</td>\n",
              "      <td>183.492958</td>\n",
              "    </tr>\n",
              "    <tr>\n",
              "      <th>DELI</th>\n",
              "      <td>125.338222</td>\n",
              "      <td>244.400959</td>\n",
              "      <td>407.143320</td>\n",
              "      <td>228.654423</td>\n",
              "      <td>225.715239</td>\n",
              "      <td>363.002761</td>\n",
              "      <td>168.919239</td>\n",
              "      <td>281.966211</td>\n",
              "      <td>642.801465</td>\n",
              "      <td>272.791667</td>\n",
              "      <td>...</td>\n",
              "      <td>626.511577</td>\n",
              "      <td>817.843352</td>\n",
              "      <td>642.945451</td>\n",
              "      <td>655.070211</td>\n",
              "      <td>389.287380</td>\n",
              "      <td>448.423324</td>\n",
              "      <td>223.707451</td>\n",
              "      <td>0.0</td>\n",
              "      <td>156.319845</td>\n",
              "      <td>183.647887</td>\n",
              "    </tr>\n",
              "    <tr>\n",
              "      <th>EGGS</th>\n",
              "      <td>143.472222</td>\n",
              "      <td>185.486111</td>\n",
              "      <td>522.375000</td>\n",
              "      <td>175.366197</td>\n",
              "      <td>95.295775</td>\n",
              "      <td>200.267606</td>\n",
              "      <td>297.169014</td>\n",
              "      <td>318.732394</td>\n",
              "      <td>181.605634</td>\n",
              "      <td>49.958333</td>\n",
              "      <td>...</td>\n",
              "      <td>392.070423</td>\n",
              "      <td>148.816901</td>\n",
              "      <td>341.549296</td>\n",
              "      <td>132.239437</td>\n",
              "      <td>475.788732</td>\n",
              "      <td>106.211268</td>\n",
              "      <td>321.943662</td>\n",
              "      <td>0.0</td>\n",
              "      <td>81.394366</td>\n",
              "      <td>80.338028</td>\n",
              "    </tr>\n",
              "    <tr>\n",
              "      <th>FROZEN FOODS</th>\n",
              "      <td>114.438097</td>\n",
              "      <td>153.153250</td>\n",
              "      <td>401.066222</td>\n",
              "      <td>124.496803</td>\n",
              "      <td>123.868648</td>\n",
              "      <td>195.254141</td>\n",
              "      <td>246.342690</td>\n",
              "      <td>199.794718</td>\n",
              "      <td>121.517380</td>\n",
              "      <td>42.770417</td>\n",
              "      <td>...</td>\n",
              "      <td>435.578338</td>\n",
              "      <td>281.922916</td>\n",
              "      <td>339.524676</td>\n",
              "      <td>217.257760</td>\n",
              "      <td>411.827408</td>\n",
              "      <td>167.828803</td>\n",
              "      <td>294.368986</td>\n",
              "      <td>0.0</td>\n",
              "      <td>146.735972</td>\n",
              "      <td>36.282000</td>\n",
              "    </tr>\n",
              "    <tr>\n",
              "      <th>GROCERY I</th>\n",
              "      <td>2329.069444</td>\n",
              "      <td>4047.430556</td>\n",
              "      <td>8077.714597</td>\n",
              "      <td>3604.619718</td>\n",
              "      <td>2934.181662</td>\n",
              "      <td>4979.225352</td>\n",
              "      <td>4016.887324</td>\n",
              "      <td>4810.929577</td>\n",
              "      <td>6562.414831</td>\n",
              "      <td>2550.486111</td>\n",
              "      <td>...</td>\n",
              "      <td>10099.202197</td>\n",
              "      <td>8661.000000</td>\n",
              "      <td>9705.126761</td>\n",
              "      <td>8132.140845</td>\n",
              "      <td>7336.605634</td>\n",
              "      <td>5992.661972</td>\n",
              "      <td>4849.056338</td>\n",
              "      <td>0.0</td>\n",
              "      <td>2091.802817</td>\n",
              "      <td>2719.154930</td>\n",
              "    </tr>\n",
              "    <tr>\n",
              "      <th>GROCERY II</th>\n",
              "      <td>19.527778</td>\n",
              "      <td>32.902778</td>\n",
              "      <td>76.694444</td>\n",
              "      <td>17.436620</td>\n",
              "      <td>16.915493</td>\n",
              "      <td>34.281690</td>\n",
              "      <td>44.450704</td>\n",
              "      <td>35.690141</td>\n",
              "      <td>9.169014</td>\n",
              "      <td>3.125000</td>\n",
              "      <td>...</td>\n",
              "      <td>69.577465</td>\n",
              "      <td>34.239437</td>\n",
              "      <td>66.408451</td>\n",
              "      <td>39.098592</td>\n",
              "      <td>63.112676</td>\n",
              "      <td>46.718310</td>\n",
              "      <td>30.985915</td>\n",
              "      <td>0.0</td>\n",
              "      <td>10.014085</td>\n",
              "      <td>10.563380</td>\n",
              "    </tr>\n",
              "    <tr>\n",
              "      <th>HARDWARE</th>\n",
              "      <td>1.111111</td>\n",
              "      <td>1.763889</td>\n",
              "      <td>3.513889</td>\n",
              "      <td>1.225352</td>\n",
              "      <td>0.802817</td>\n",
              "      <td>1.239437</td>\n",
              "      <td>2.802817</td>\n",
              "      <td>3.098592</td>\n",
              "      <td>1.859155</td>\n",
              "      <td>0.291667</td>\n",
              "      <td>...</td>\n",
              "      <td>0.985915</td>\n",
              "      <td>1.732394</td>\n",
              "      <td>2.352113</td>\n",
              "      <td>0.985915</td>\n",
              "      <td>1.943662</td>\n",
              "      <td>1.394366</td>\n",
              "      <td>1.408451</td>\n",
              "      <td>0.0</td>\n",
              "      <td>0.957746</td>\n",
              "      <td>0.915493</td>\n",
              "    </tr>\n",
              "    <tr>\n",
              "      <th>HOME AND KITCHEN I</th>\n",
              "      <td>16.361111</td>\n",
              "      <td>19.597222</td>\n",
              "      <td>48.152778</td>\n",
              "      <td>17.000000</td>\n",
              "      <td>21.535211</td>\n",
              "      <td>19.774648</td>\n",
              "      <td>17.000000</td>\n",
              "      <td>34.591549</td>\n",
              "      <td>31.366197</td>\n",
              "      <td>8.555556</td>\n",
              "      <td>...</td>\n",
              "      <td>67.619718</td>\n",
              "      <td>29.098592</td>\n",
              "      <td>38.887324</td>\n",
              "      <td>35.056338</td>\n",
              "      <td>42.732394</td>\n",
              "      <td>55.070423</td>\n",
              "      <td>22.154930</td>\n",
              "      <td>0.0</td>\n",
              "      <td>14.845070</td>\n",
              "      <td>17.957746</td>\n",
              "    </tr>\n",
              "    <tr>\n",
              "      <th>HOME AND KITCHEN II</th>\n",
              "      <td>22.958333</td>\n",
              "      <td>35.111111</td>\n",
              "      <td>75.930556</td>\n",
              "      <td>17.915493</td>\n",
              "      <td>21.366197</td>\n",
              "      <td>71.830986</td>\n",
              "      <td>20.676056</td>\n",
              "      <td>62.042254</td>\n",
              "      <td>23.070423</td>\n",
              "      <td>7.111111</td>\n",
              "      <td>...</td>\n",
              "      <td>118.929577</td>\n",
              "      <td>103.985915</td>\n",
              "      <td>53.070423</td>\n",
              "      <td>31.478873</td>\n",
              "      <td>42.239437</td>\n",
              "      <td>85.718310</td>\n",
              "      <td>22.267606</td>\n",
              "      <td>0.0</td>\n",
              "      <td>18.535211</td>\n",
              "      <td>8.901408</td>\n",
              "    </tr>\n",
              "    <tr>\n",
              "      <th>HOME APPLIANCES</th>\n",
              "      <td>0.430556</td>\n",
              "      <td>0.666667</td>\n",
              "      <td>2.236111</td>\n",
              "      <td>0.563380</td>\n",
              "      <td>0.676056</td>\n",
              "      <td>0.281690</td>\n",
              "      <td>1.140845</td>\n",
              "      <td>1.478873</td>\n",
              "      <td>0.704225</td>\n",
              "      <td>0.152778</td>\n",
              "      <td>...</td>\n",
              "      <td>1.605634</td>\n",
              "      <td>1.535211</td>\n",
              "      <td>2.859155</td>\n",
              "      <td>0.676056</td>\n",
              "      <td>1.225352</td>\n",
              "      <td>0.774648</td>\n",
              "      <td>1.549296</td>\n",
              "      <td>0.0</td>\n",
              "      <td>0.183099</td>\n",
              "      <td>0.211268</td>\n",
              "    </tr>\n",
              "    <tr>\n",
              "      <th>HOME CARE</th>\n",
              "      <td>161.944444</td>\n",
              "      <td>275.763889</td>\n",
              "      <td>498.263889</td>\n",
              "      <td>245.422535</td>\n",
              "      <td>202.281690</td>\n",
              "      <td>313.098592</td>\n",
              "      <td>242.028169</td>\n",
              "      <td>369.549296</td>\n",
              "      <td>465.915493</td>\n",
              "      <td>183.916667</td>\n",
              "      <td>...</td>\n",
              "      <td>621.394366</td>\n",
              "      <td>628.605634</td>\n",
              "      <td>652.633803</td>\n",
              "      <td>596.450704</td>\n",
              "      <td>450.140845</td>\n",
              "      <td>427.154930</td>\n",
              "      <td>321.253521</td>\n",
              "      <td>0.0</td>\n",
              "      <td>150.366197</td>\n",
              "      <td>206.000000</td>\n",
              "    </tr>\n",
              "    <tr>\n",
              "      <th>LADIESWEAR</th>\n",
              "      <td>14.708333</td>\n",
              "      <td>29.750000</td>\n",
              "      <td>49.791667</td>\n",
              "      <td>25.126761</td>\n",
              "      <td>12.323944</td>\n",
              "      <td>31.323944</td>\n",
              "      <td>9.887324</td>\n",
              "      <td>34.267606</td>\n",
              "      <td>14.239437</td>\n",
              "      <td>3.833333</td>\n",
              "      <td>...</td>\n",
              "      <td>22.436620</td>\n",
              "      <td>28.042254</td>\n",
              "      <td>30.126761</td>\n",
              "      <td>26.704225</td>\n",
              "      <td>16.647887</td>\n",
              "      <td>21.873239</td>\n",
              "      <td>3.633803</td>\n",
              "      <td>0.0</td>\n",
              "      <td>4.126761</td>\n",
              "      <td>0.000000</td>\n",
              "    </tr>\n",
              "    <tr>\n",
              "      <th>LAWN AND GARDEN</th>\n",
              "      <td>7.375000</td>\n",
              "      <td>5.930556</td>\n",
              "      <td>20.250000</td>\n",
              "      <td>7.971831</td>\n",
              "      <td>1.239437</td>\n",
              "      <td>7.478873</td>\n",
              "      <td>15.563380</td>\n",
              "      <td>14.070423</td>\n",
              "      <td>4.169014</td>\n",
              "      <td>0.000000</td>\n",
              "      <td>...</td>\n",
              "      <td>15.661972</td>\n",
              "      <td>6.985915</td>\n",
              "      <td>11.774648</td>\n",
              "      <td>5.183099</td>\n",
              "      <td>15.788732</td>\n",
              "      <td>4.183099</td>\n",
              "      <td>13.281690</td>\n",
              "      <td>0.0</td>\n",
              "      <td>2.309859</td>\n",
              "      <td>0.000000</td>\n",
              "    </tr>\n",
              "    <tr>\n",
              "      <th>LINGERIE</th>\n",
              "      <td>3.277778</td>\n",
              "      <td>5.083333</td>\n",
              "      <td>23.944444</td>\n",
              "      <td>4.619718</td>\n",
              "      <td>10.352113</td>\n",
              "      <td>5.591549</td>\n",
              "      <td>6.943662</td>\n",
              "      <td>15.887324</td>\n",
              "      <td>3.577465</td>\n",
              "      <td>1.361111</td>\n",
              "      <td>...</td>\n",
              "      <td>3.887324</td>\n",
              "      <td>5.915493</td>\n",
              "      <td>3.718310</td>\n",
              "      <td>3.309859</td>\n",
              "      <td>7.014085</td>\n",
              "      <td>3.281690</td>\n",
              "      <td>3.478873</td>\n",
              "      <td>0.0</td>\n",
              "      <td>2.647887</td>\n",
              "      <td>2.661972</td>\n",
              "    </tr>\n",
              "    <tr>\n",
              "      <th>LIQUOR,WINE,BEER</th>\n",
              "      <td>103.097222</td>\n",
              "      <td>93.305556</td>\n",
              "      <td>206.166667</td>\n",
              "      <td>67.507042</td>\n",
              "      <td>57.647887</td>\n",
              "      <td>84.802817</td>\n",
              "      <td>156.478873</td>\n",
              "      <td>140.225352</td>\n",
              "      <td>45.225352</td>\n",
              "      <td>10.027778</td>\n",
              "      <td>...</td>\n",
              "      <td>272.352113</td>\n",
              "      <td>104.873239</td>\n",
              "      <td>148.704225</td>\n",
              "      <td>86.577465</td>\n",
              "      <td>226.760563</td>\n",
              "      <td>109.647887</td>\n",
              "      <td>127.859155</td>\n",
              "      <td>0.0</td>\n",
              "      <td>82.042254</td>\n",
              "      <td>22.084507</td>\n",
              "    </tr>\n",
              "    <tr>\n",
              "      <th>MAGAZINES</th>\n",
              "      <td>7.458333</td>\n",
              "      <td>7.847222</td>\n",
              "      <td>25.680556</td>\n",
              "      <td>7.647887</td>\n",
              "      <td>8.056338</td>\n",
              "      <td>8.521127</td>\n",
              "      <td>13.126761</td>\n",
              "      <td>17.000000</td>\n",
              "      <td>3.661972</td>\n",
              "      <td>0.430556</td>\n",
              "      <td>...</td>\n",
              "      <td>17.154930</td>\n",
              "      <td>9.647887</td>\n",
              "      <td>17.661972</td>\n",
              "      <td>6.788732</td>\n",
              "      <td>17.718310</td>\n",
              "      <td>10.028169</td>\n",
              "      <td>11.492958</td>\n",
              "      <td>0.0</td>\n",
              "      <td>3.366197</td>\n",
              "      <td>0.802817</td>\n",
              "    </tr>\n",
              "    <tr>\n",
              "      <th>MEATS</th>\n",
              "      <td>291.089654</td>\n",
              "      <td>469.533611</td>\n",
              "      <td>850.007359</td>\n",
              "      <td>390.263211</td>\n",
              "      <td>256.245985</td>\n",
              "      <td>508.715465</td>\n",
              "      <td>521.404225</td>\n",
              "      <td>510.438310</td>\n",
              "      <td>406.976057</td>\n",
              "      <td>172.646083</td>\n",
              "      <td>...</td>\n",
              "      <td>1260.293183</td>\n",
              "      <td>1105.708480</td>\n",
              "      <td>957.137255</td>\n",
              "      <td>1020.790394</td>\n",
              "      <td>858.345775</td>\n",
              "      <td>509.380113</td>\n",
              "      <td>638.753002</td>\n",
              "      <td>0.0</td>\n",
              "      <td>196.749563</td>\n",
              "      <td>52.197789</td>\n",
              "    </tr>\n",
              "    <tr>\n",
              "      <th>PERSONAL CARE</th>\n",
              "      <td>149.736111</td>\n",
              "      <td>284.555556</td>\n",
              "      <td>580.472222</td>\n",
              "      <td>262.647887</td>\n",
              "      <td>272.169014</td>\n",
              "      <td>366.887324</td>\n",
              "      <td>252.394366</td>\n",
              "      <td>382.816901</td>\n",
              "      <td>517.676056</td>\n",
              "      <td>202.875000</td>\n",
              "      <td>...</td>\n",
              "      <td>726.366197</td>\n",
              "      <td>812.915493</td>\n",
              "      <td>826.169014</td>\n",
              "      <td>808.366197</td>\n",
              "      <td>487.591549</td>\n",
              "      <td>572.971831</td>\n",
              "      <td>299.084507</td>\n",
              "      <td>0.0</td>\n",
              "      <td>195.887324</td>\n",
              "      <td>207.436620</td>\n",
              "    </tr>\n",
              "    <tr>\n",
              "      <th>PET SUPPLIES</th>\n",
              "      <td>5.208333</td>\n",
              "      <td>7.402778</td>\n",
              "      <td>18.263889</td>\n",
              "      <td>6.521127</td>\n",
              "      <td>2.845070</td>\n",
              "      <td>9.464789</td>\n",
              "      <td>5.436620</td>\n",
              "      <td>16.338028</td>\n",
              "      <td>5.253521</td>\n",
              "      <td>0.319444</td>\n",
              "      <td>...</td>\n",
              "      <td>19.633803</td>\n",
              "      <td>19.563380</td>\n",
              "      <td>21.098592</td>\n",
              "      <td>12.845070</td>\n",
              "      <td>15.507042</td>\n",
              "      <td>8.690141</td>\n",
              "      <td>19.295775</td>\n",
              "      <td>0.0</td>\n",
              "      <td>2.014085</td>\n",
              "      <td>0.000000</td>\n",
              "    </tr>\n",
              "    <tr>\n",
              "      <th>PLAYERS AND ELECTRONICS</th>\n",
              "      <td>9.375000</td>\n",
              "      <td>6.611111</td>\n",
              "      <td>22.013889</td>\n",
              "      <td>7.732394</td>\n",
              "      <td>7.422535</td>\n",
              "      <td>8.704225</td>\n",
              "      <td>8.774648</td>\n",
              "      <td>15.225352</td>\n",
              "      <td>8.352113</td>\n",
              "      <td>4.805556</td>\n",
              "      <td>...</td>\n",
              "      <td>26.732394</td>\n",
              "      <td>15.197183</td>\n",
              "      <td>22.549296</td>\n",
              "      <td>14.971831</td>\n",
              "      <td>25.000000</td>\n",
              "      <td>23.098592</td>\n",
              "      <td>8.183099</td>\n",
              "      <td>0.0</td>\n",
              "      <td>4.478873</td>\n",
              "      <td>3.056338</td>\n",
              "    </tr>\n",
              "    <tr>\n",
              "      <th>POULTRY</th>\n",
              "      <td>287.343028</td>\n",
              "      <td>547.087806</td>\n",
              "      <td>1260.593221</td>\n",
              "      <td>503.819718</td>\n",
              "      <td>235.116198</td>\n",
              "      <td>693.736365</td>\n",
              "      <td>713.719549</td>\n",
              "      <td>665.078125</td>\n",
              "      <td>485.523506</td>\n",
              "      <td>173.404959</td>\n",
              "      <td>...</td>\n",
              "      <td>1408.554632</td>\n",
              "      <td>1070.541072</td>\n",
              "      <td>1277.198194</td>\n",
              "      <td>953.164631</td>\n",
              "      <td>1061.236832</td>\n",
              "      <td>441.675579</td>\n",
              "      <td>936.058450</td>\n",
              "      <td>0.0</td>\n",
              "      <td>156.931704</td>\n",
              "      <td>52.611535</td>\n",
              "    </tr>\n",
              "    <tr>\n",
              "      <th>PREPARED FOODS</th>\n",
              "      <td>87.664375</td>\n",
              "      <td>145.803277</td>\n",
              "      <td>374.445112</td>\n",
              "      <td>101.868944</td>\n",
              "      <td>74.034901</td>\n",
              "      <td>138.506239</td>\n",
              "      <td>201.690648</td>\n",
              "      <td>195.809380</td>\n",
              "      <td>99.461268</td>\n",
              "      <td>30.388889</td>\n",
              "      <td>...</td>\n",
              "      <td>340.181789</td>\n",
              "      <td>181.860675</td>\n",
              "      <td>312.664760</td>\n",
              "      <td>139.990873</td>\n",
              "      <td>324.908212</td>\n",
              "      <td>112.725803</td>\n",
              "      <td>159.059676</td>\n",
              "      <td>0.0</td>\n",
              "      <td>61.048817</td>\n",
              "      <td>56.225352</td>\n",
              "    </tr>\n",
              "    <tr>\n",
              "      <th>PRODUCE</th>\n",
              "      <td>2510.849247</td>\n",
              "      <td>2928.906890</td>\n",
              "      <td>8999.845236</td>\n",
              "      <td>2769.192621</td>\n",
              "      <td>1543.772479</td>\n",
              "      <td>2994.076676</td>\n",
              "      <td>6021.507238</td>\n",
              "      <td>5225.644028</td>\n",
              "      <td>1686.106027</td>\n",
              "      <td>244.650667</td>\n",
              "      <td>...</td>\n",
              "      <td>7008.929982</td>\n",
              "      <td>3254.381030</td>\n",
              "      <td>6678.160590</td>\n",
              "      <td>2421.564003</td>\n",
              "      <td>8572.587955</td>\n",
              "      <td>2476.965130</td>\n",
              "      <td>5463.992293</td>\n",
              "      <td>0.0</td>\n",
              "      <td>1627.596621</td>\n",
              "      <td>570.996338</td>\n",
              "    </tr>\n",
              "    <tr>\n",
              "      <th>SCHOOL AND OFFICE SUPPLIES</th>\n",
              "      <td>0.097222</td>\n",
              "      <td>1.083333</td>\n",
              "      <td>1.041667</td>\n",
              "      <td>0.450704</td>\n",
              "      <td>0.042254</td>\n",
              "      <td>0.859155</td>\n",
              "      <td>0.535211</td>\n",
              "      <td>0.492958</td>\n",
              "      <td>5.338028</td>\n",
              "      <td>0.000000</td>\n",
              "      <td>...</td>\n",
              "      <td>10.394366</td>\n",
              "      <td>7.704225</td>\n",
              "      <td>10.126761</td>\n",
              "      <td>5.619718</td>\n",
              "      <td>6.028169</td>\n",
              "      <td>4.070423</td>\n",
              "      <td>2.394366</td>\n",
              "      <td>0.0</td>\n",
              "      <td>0.338028</td>\n",
              "      <td>0.154930</td>\n",
              "    </tr>\n",
              "    <tr>\n",
              "      <th>SEAFOOD</th>\n",
              "      <td>27.584333</td>\n",
              "      <td>36.482542</td>\n",
              "      <td>107.043584</td>\n",
              "      <td>35.842831</td>\n",
              "      <td>12.279155</td>\n",
              "      <td>45.460183</td>\n",
              "      <td>65.233366</td>\n",
              "      <td>57.647606</td>\n",
              "      <td>16.439873</td>\n",
              "      <td>3.763889</td>\n",
              "      <td>...</td>\n",
              "      <td>102.438155</td>\n",
              "      <td>55.699606</td>\n",
              "      <td>97.426803</td>\n",
              "      <td>32.288732</td>\n",
              "      <td>96.255901</td>\n",
              "      <td>21.563620</td>\n",
              "      <td>66.729662</td>\n",
              "      <td>0.0</td>\n",
              "      <td>3.561634</td>\n",
              "      <td>1.169014</td>\n",
              "    </tr>\n",
              "  </tbody>\n",
              "</table>\n",
              "<p>33 rows × 54 columns</p>\n",
              "</div>\n",
              "    <div class=\"colab-df-buttons\">\n",
              "\n",
              "  <div class=\"colab-df-container\">\n",
              "    <button class=\"colab-df-convert\" onclick=\"convertToInteractive('df-a4e69169-1df7-4412-ad8d-c771e5e94f1d')\"\n",
              "            title=\"Convert this dataframe to an interactive table.\"\n",
              "            style=\"display:none;\">\n",
              "\n",
              "  <svg xmlns=\"http://www.w3.org/2000/svg\" height=\"24px\" viewBox=\"0 -960 960 960\">\n",
              "    <path d=\"M120-120v-720h720v720H120Zm60-500h600v-160H180v160Zm220 220h160v-160H400v160Zm0 220h160v-160H400v160ZM180-400h160v-160H180v160Zm440 0h160v-160H620v160ZM180-180h160v-160H180v160Zm440 0h160v-160H620v160Z\"/>\n",
              "  </svg>\n",
              "    </button>\n",
              "\n",
              "  <style>\n",
              "    .colab-df-container {\n",
              "      display:flex;\n",
              "      gap: 12px;\n",
              "    }\n",
              "\n",
              "    .colab-df-convert {\n",
              "      background-color: #E8F0FE;\n",
              "      border: none;\n",
              "      border-radius: 50%;\n",
              "      cursor: pointer;\n",
              "      display: none;\n",
              "      fill: #1967D2;\n",
              "      height: 32px;\n",
              "      padding: 0 0 0 0;\n",
              "      width: 32px;\n",
              "    }\n",
              "\n",
              "    .colab-df-convert:hover {\n",
              "      background-color: #E2EBFA;\n",
              "      box-shadow: 0px 1px 2px rgba(60, 64, 67, 0.3), 0px 1px 3px 1px rgba(60, 64, 67, 0.15);\n",
              "      fill: #174EA6;\n",
              "    }\n",
              "\n",
              "    .colab-df-buttons div {\n",
              "      margin-bottom: 4px;\n",
              "    }\n",
              "\n",
              "    [theme=dark] .colab-df-convert {\n",
              "      background-color: #3B4455;\n",
              "      fill: #D2E3FC;\n",
              "    }\n",
              "\n",
              "    [theme=dark] .colab-df-convert:hover {\n",
              "      background-color: #434B5C;\n",
              "      box-shadow: 0px 1px 3px 1px rgba(0, 0, 0, 0.15);\n",
              "      filter: drop-shadow(0px 1px 2px rgba(0, 0, 0, 0.3));\n",
              "      fill: #FFFFFF;\n",
              "    }\n",
              "  </style>\n",
              "\n",
              "    <script>\n",
              "      const buttonEl =\n",
              "        document.querySelector('#df-a4e69169-1df7-4412-ad8d-c771e5e94f1d button.colab-df-convert');\n",
              "      buttonEl.style.display =\n",
              "        google.colab.kernel.accessAllowed ? 'block' : 'none';\n",
              "\n",
              "      async function convertToInteractive(key) {\n",
              "        const element = document.querySelector('#df-a4e69169-1df7-4412-ad8d-c771e5e94f1d');\n",
              "        const dataTable =\n",
              "          await google.colab.kernel.invokeFunction('convertToInteractive',\n",
              "                                                    [key], {});\n",
              "        if (!dataTable) return;\n",
              "\n",
              "        const docLinkHtml = 'Like what you see? Visit the ' +\n",
              "          '<a target=\"_blank\" href=https://colab.research.google.com/notebooks/data_table.ipynb>data table notebook</a>'\n",
              "          + ' to learn more about interactive tables.';\n",
              "        element.innerHTML = '';\n",
              "        dataTable['output_type'] = 'display_data';\n",
              "        await google.colab.output.renderOutput(dataTable, element);\n",
              "        const docLink = document.createElement('div');\n",
              "        docLink.innerHTML = docLinkHtml;\n",
              "        element.appendChild(docLink);\n",
              "      }\n",
              "    </script>\n",
              "  </div>\n",
              "\n",
              "\n",
              "<div id=\"df-9ec883b3-7480-4d86-b040-937b7cf2b726\">\n",
              "  <button class=\"colab-df-quickchart\" onclick=\"quickchart('df-9ec883b3-7480-4d86-b040-937b7cf2b726')\"\n",
              "            title=\"Suggest charts\"\n",
              "            style=\"display:none;\">\n",
              "\n",
              "<svg xmlns=\"http://www.w3.org/2000/svg\" height=\"24px\"viewBox=\"0 0 24 24\"\n",
              "     width=\"24px\">\n",
              "    <g>\n",
              "        <path d=\"M19 3H5c-1.1 0-2 .9-2 2v14c0 1.1.9 2 2 2h14c1.1 0 2-.9 2-2V5c0-1.1-.9-2-2-2zM9 17H7v-7h2v7zm4 0h-2V7h2v10zm4 0h-2v-4h2v4z\"/>\n",
              "    </g>\n",
              "</svg>\n",
              "  </button>\n",
              "\n",
              "<style>\n",
              "  .colab-df-quickchart {\n",
              "      --bg-color: #E8F0FE;\n",
              "      --fill-color: #1967D2;\n",
              "      --hover-bg-color: #E2EBFA;\n",
              "      --hover-fill-color: #174EA6;\n",
              "      --disabled-fill-color: #AAA;\n",
              "      --disabled-bg-color: #DDD;\n",
              "  }\n",
              "\n",
              "  [theme=dark] .colab-df-quickchart {\n",
              "      --bg-color: #3B4455;\n",
              "      --fill-color: #D2E3FC;\n",
              "      --hover-bg-color: #434B5C;\n",
              "      --hover-fill-color: #FFFFFF;\n",
              "      --disabled-bg-color: #3B4455;\n",
              "      --disabled-fill-color: #666;\n",
              "  }\n",
              "\n",
              "  .colab-df-quickchart {\n",
              "    background-color: var(--bg-color);\n",
              "    border: none;\n",
              "    border-radius: 50%;\n",
              "    cursor: pointer;\n",
              "    display: none;\n",
              "    fill: var(--fill-color);\n",
              "    height: 32px;\n",
              "    padding: 0;\n",
              "    width: 32px;\n",
              "  }\n",
              "\n",
              "  .colab-df-quickchart:hover {\n",
              "    background-color: var(--hover-bg-color);\n",
              "    box-shadow: 0 1px 2px rgba(60, 64, 67, 0.3), 0 1px 3px 1px rgba(60, 64, 67, 0.15);\n",
              "    fill: var(--button-hover-fill-color);\n",
              "  }\n",
              "\n",
              "  .colab-df-quickchart-complete:disabled,\n",
              "  .colab-df-quickchart-complete:disabled:hover {\n",
              "    background-color: var(--disabled-bg-color);\n",
              "    fill: var(--disabled-fill-color);\n",
              "    box-shadow: none;\n",
              "  }\n",
              "\n",
              "  .colab-df-spinner {\n",
              "    border: 2px solid var(--fill-color);\n",
              "    border-color: transparent;\n",
              "    border-bottom-color: var(--fill-color);\n",
              "    animation:\n",
              "      spin 1s steps(1) infinite;\n",
              "  }\n",
              "\n",
              "  @keyframes spin {\n",
              "    0% {\n",
              "      border-color: transparent;\n",
              "      border-bottom-color: var(--fill-color);\n",
              "      border-left-color: var(--fill-color);\n",
              "    }\n",
              "    20% {\n",
              "      border-color: transparent;\n",
              "      border-left-color: var(--fill-color);\n",
              "      border-top-color: var(--fill-color);\n",
              "    }\n",
              "    30% {\n",
              "      border-color: transparent;\n",
              "      border-left-color: var(--fill-color);\n",
              "      border-top-color: var(--fill-color);\n",
              "      border-right-color: var(--fill-color);\n",
              "    }\n",
              "    40% {\n",
              "      border-color: transparent;\n",
              "      border-right-color: var(--fill-color);\n",
              "      border-top-color: var(--fill-color);\n",
              "    }\n",
              "    60% {\n",
              "      border-color: transparent;\n",
              "      border-right-color: var(--fill-color);\n",
              "    }\n",
              "    80% {\n",
              "      border-color: transparent;\n",
              "      border-right-color: var(--fill-color);\n",
              "      border-bottom-color: var(--fill-color);\n",
              "    }\n",
              "    90% {\n",
              "      border-color: transparent;\n",
              "      border-bottom-color: var(--fill-color);\n",
              "    }\n",
              "  }\n",
              "</style>\n",
              "\n",
              "  <script>\n",
              "    async function quickchart(key) {\n",
              "      const quickchartButtonEl =\n",
              "        document.querySelector('#' + key + ' button');\n",
              "      quickchartButtonEl.disabled = true;  // To prevent multiple clicks.\n",
              "      quickchartButtonEl.classList.add('colab-df-spinner');\n",
              "      try {\n",
              "        const charts = await google.colab.kernel.invokeFunction(\n",
              "            'suggestCharts', [key], {});\n",
              "      } catch (error) {\n",
              "        console.error('Error during call to suggestCharts:', error);\n",
              "      }\n",
              "      quickchartButtonEl.classList.remove('colab-df-spinner');\n",
              "      quickchartButtonEl.classList.add('colab-df-quickchart-complete');\n",
              "    }\n",
              "    (() => {\n",
              "      let quickchartButtonEl =\n",
              "        document.querySelector('#df-9ec883b3-7480-4d86-b040-937b7cf2b726 button');\n",
              "      quickchartButtonEl.style.display =\n",
              "        google.colab.kernel.accessAllowed ? 'block' : 'none';\n",
              "    })();\n",
              "  </script>\n",
              "</div>\n",
              "\n",
              "    </div>\n",
              "  </div>\n"
            ],
            "application/vnd.google.colaboratory.intrinsic+json": {
              "type": "dataframe"
            }
          },
          "metadata": {},
          "execution_count": 46
        }
      ]
    },
    {
      "cell_type": "code",
      "source": [
        "#heatmap"
      ],
      "metadata": {
        "id": "GUsgv1UQ5Uuk"
      },
      "execution_count": null,
      "outputs": []
    },
    {
      "cell_type": "code",
      "source": [],
      "metadata": {
        "id": "0yjm9wq48uCN"
      },
      "execution_count": null,
      "outputs": []
    }
  ],
  "metadata": {
    "colab": {
      "provenance": []
    },
    "kernelspec": {
      "display_name": "Python 3",
      "name": "python3"
    },
    "language_info": {
      "name": "python"
    }
  },
  "nbformat": 4,
  "nbformat_minor": 0
}